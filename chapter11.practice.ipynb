{
 "cells": [
  {
   "cell_type": "markdown",
   "metadata": {},
   "source": [
    "### 1) Data Preparing"
   ]
  },
  {
   "cell_type": "code",
   "execution_count": 1,
   "metadata": {},
   "outputs": [],
   "source": [
    "import tensorflow as tf\n",
    "from tensorflow import keras\n",
    "import numpy as np\n",
    "import pandas as pd\n",
    "from  sklearn.model_selection import train_test_split"
   ]
  },
  {
   "cell_type": "code",
   "execution_count": 2,
   "metadata": {},
   "outputs": [],
   "source": [
    "#기초 데이터 수립\n",
    "(train_data, train_label), (holdout_data, holdout_label) = keras.datasets.cifar10.load_data()"
   ]
  },
  {
   "cell_type": "code",
   "execution_count": 3,
   "metadata": {},
   "outputs": [
    {
     "name": "stdout",
     "output_type": "stream",
     "text": [
      "Variable           Type        Data/Info\n",
      "----------------------------------------\n",
      "holdout_data       ndarray     10000x32x32x3: 30720000 elems, type `uint8`, 30720000 bytes (29.296875 Mb)\n",
      "holdout_label      ndarray     10000x1: 10000 elems, type `uint8`, 10000 bytes\n",
      "keras              module      <module 'tensorflow.keras<...>low\\\\keras\\\\__init__.py'>\n",
      "np                 module      <module 'numpy' from 'C:\\<...>ges\\\\numpy\\\\__init__.py'>\n",
      "pd                 module      <module 'pandas' from 'C:<...>es\\\\pandas\\\\__init__.py'>\n",
      "tf                 module      <module 'tensorflow' from<...>tensorflow\\\\__init__.py'>\n",
      "train_data         ndarray     50000x32x32x3: 153600000 elems, type `uint8`, 153600000 bytes (146.484375 Mb)\n",
      "train_label        ndarray     50000x1: 50000 elems, type `uint8`, 50000 bytes\n",
      "train_test_split   function    <function train_test_split at 0x0000013D67E8F1F0>\n"
     ]
    }
   ],
   "source": [
    "%whos"
   ]
  },
  {
   "cell_type": "code",
   "execution_count": 4,
   "metadata": {},
   "outputs": [],
   "source": [
    "train_set, valid_set, train_label, valid_label = train_test_split(train_data, train_label, test_size = 0.3)"
   ]
  },
  {
   "cell_type": "code",
   "execution_count": 5,
   "metadata": {},
   "outputs": [
    {
     "name": "stdout",
     "output_type": "stream",
     "text": [
      "Variable           Type        Data/Info\n",
      "----------------------------------------\n",
      "holdout_data       ndarray     10000x32x32x3: 30720000 elems, type `uint8`, 30720000 bytes (29.296875 Mb)\n",
      "holdout_label      ndarray     10000x1: 10000 elems, type `uint8`, 10000 bytes\n",
      "keras              module      <module 'tensorflow.keras<...>low\\\\keras\\\\__init__.py'>\n",
      "np                 module      <module 'numpy' from 'C:\\<...>ges\\\\numpy\\\\__init__.py'>\n",
      "pd                 module      <module 'pandas' from 'C:<...>es\\\\pandas\\\\__init__.py'>\n",
      "tf                 module      <module 'tensorflow' from<...>tensorflow\\\\__init__.py'>\n",
      "train_data         ndarray     50000x32x32x3: 153600000 elems, type `uint8`, 153600000 bytes (146.484375 Mb)\n",
      "train_label        ndarray     35000x1: 35000 elems, type `uint8`, 35000 bytes\n",
      "train_set          ndarray     35000x32x32x3: 107520000 elems, type `uint8`, 107520000 bytes (102.5390625 Mb)\n",
      "train_test_split   function    <function train_test_split at 0x0000013D67E8F1F0>\n",
      "valid_label        ndarray     15000x1: 15000 elems, type `uint8`, 15000 bytes\n",
      "valid_set          ndarray     15000x32x32x3: 46080000 elems, type `uint8`, 46080000 bytes (43.9453125 Mb)\n"
     ]
    }
   ],
   "source": [
    "%whos"
   ]
  },
  {
   "cell_type": "markdown",
   "metadata": {},
   "source": [
    "### a) 100개의 뉴런과 은닉층 20개로 심층 신경망 구축"
   ]
  },
  {
   "cell_type": "code",
   "execution_count": 24,
   "metadata": {},
   "outputs": [],
   "source": [
    "np.random.seed(1234)\n",
    "\n",
    "#모형 만들기\n",
    "model1 = keras.models.Sequential()\n",
    "\n",
    "#입력층 추가\n",
    "model1.add(keras.layers.Flatten(input_shape = [32,32,3]))\n",
    "\n",
    "#은닉층 추가\n",
    "for i in range(20) : \n",
    "    model1.add(keras.layers.Dense(units = 100, activation = 'elu', kernel_initializer = 'he_normal'))\n",
    "    "
   ]
  },
  {
   "cell_type": "markdown",
   "metadata": {},
   "source": [
    "### b) Nadam 옵티마이저와 조기 종료를 사용하여 데이터를 훈련하세요. 모델 구조와 하이퍼파라미터를 바꿀때마다 적절한 학습률을 찾아야합니다."
   ]
  },
  {
   "cell_type": "markdown",
   "metadata": {},
   "source": [
    "Bayesian으로 학습률을 찾아볼 필요도 있다"
   ]
  },
  {
   "cell_type": "code",
   "execution_count": 34,
   "metadata": {},
   "outputs": [
    {
     "name": "stdout",
     "output_type": "stream",
     "text": [
      "Trial 1 Complete [00h 01m 03s]\n",
      "val_loss: 1.869254469871521\n",
      "\n",
      "Best val_loss So Far: 1.6460872888565063\n",
      "Total elapsed time: 00h 01m 03s\n",
      "INFO:tensorflow:Oracle triggered exit\n",
      "learning_rate : 0.0001\n"
     ]
    }
   ],
   "source": [
    "import kerastuner as kt\n",
    "\n",
    "def model_builder(hp, input_shape = [32,32,3]):\n",
    "    \n",
    "    #Sequential API\n",
    "    model1 = keras.Sequential()\n",
    "    \n",
    "    #입력층 - 우리의 데이터에 맞게 넣는다.\n",
    "    model1.add(keras.layers.Flatten(input_shape= input_shape))\n",
    "\n",
    "  ##은닉층 추가\n",
    "    for _ in range(20) : \n",
    "        model1.add(keras.layers.Dense(units = 100, activation = 'elu', kernel_initializer = 'he_normal'))\n",
    "        \n",
    "    #출력층 추가\n",
    "    model1.add(keras.layers.Dense(units = 10, activation = 'softmax'))\n",
    "\n",
    "  # Tune the learning rate for the optimizer \n",
    "  # Choose an optimal value from 0.01, 0.001, or 0.0001\n",
    "    hp_learning_rate = hp.Choice('learning_rate', values = [1e-2, 1e-3, 1e-4])\n",
    "\n",
    "    model1.compile(optimizer = keras.optimizers.Nadam(learning_rate = hp_learning_rate,\n",
    "                                                    beta_1=0.9, beta_2=0.999, epsilon=1e-07, name='Nadam'), loss = 'SparseCategoricalCrossentropy', metrics = ['accuracy'])\n",
    "\n",
    "    return model1\n",
    "\n",
    "np.random.seed(1234)\n",
    "\n",
    "#베이지안으로 설정 후\n",
    "tuner_bayes = kt.BayesianOptimization(hypermodel = model_builder, objective = 'val_loss', max_trials = 10, \n",
    "                                      project_name='practice',  directory = 'keras_parameter_dir')\n",
    "\n",
    "#최적의 학습률 탐색 \n",
    "tuner_bayes.search(train_set, train_label, epochs = 10, \n",
    "             validation_data = (valid_set, valid_label))\n",
    "\n",
    "\n",
    "#최적의 파라미터는?\n",
    "best_hps_bayes = tuner_bayes.get_best_hyperparameters(num_trials = 1)[0]\n",
    "print(\"learning_rate : {0}\".format(best_hps_bayes.get('learning_rate')) )"
   ]
  },
  {
   "cell_type": "code",
   "execution_count": 38,
   "metadata": {},
   "outputs": [
    {
     "name": "stdout",
     "output_type": "stream",
     "text": [
      "Epoch 1/100\n",
      "1094/1094 [==============================] - 15s 11ms/step - loss: 10.5454 - accuracy: 0.1426 - val_loss: 2.1071 - val_accuracy: 0.2340\n",
      "Epoch 2/100\n",
      "1094/1094 [==============================] - 12s 11ms/step - loss: 2.0801 - accuracy: 0.2350 - val_loss: 1.9605 - val_accuracy: 0.2807\n",
      "Epoch 3/100\n",
      "1094/1094 [==============================] - 12s 11ms/step - loss: 1.9627 - accuracy: 0.2806 - val_loss: 1.8839 - val_accuracy: 0.3093\n",
      "Epoch 4/100\n",
      "1094/1094 [==============================] - 11s 11ms/step - loss: 1.8873 - accuracy: 0.3076 - val_loss: 1.8731 - val_accuracy: 0.3091\n",
      "Epoch 5/100\n",
      "1094/1094 [==============================] - 12s 11ms/step - loss: 1.8254 - accuracy: 0.3386 - val_loss: 1.8386 - val_accuracy: 0.3359\n",
      "Epoch 6/100\n",
      "1094/1094 [==============================] - 12s 11ms/step - loss: 1.7808 - accuracy: 0.3540 - val_loss: 1.7808 - val_accuracy: 0.3540\n",
      "Epoch 7/100\n",
      "1094/1094 [==============================] - 12s 11ms/step - loss: 1.7350 - accuracy: 0.3703 - val_loss: 1.7315 - val_accuracy: 0.3657\n",
      "Epoch 8/100\n",
      "1094/1094 [==============================] - 12s 11ms/step - loss: 1.7039 - accuracy: 0.3886 - val_loss: 1.7224 - val_accuracy: 0.3678\n",
      "Epoch 9/100\n",
      "1094/1094 [==============================] - 13s 12ms/step - loss: 1.6565 - accuracy: 0.4021 - val_loss: 1.7107 - val_accuracy: 0.3823\n",
      "Epoch 10/100\n",
      "1094/1094 [==============================] - 12s 11ms/step - loss: 1.6249 - accuracy: 0.4127 - val_loss: 1.7038 - val_accuracy: 0.3829\n",
      "Epoch 11/100\n",
      "1094/1094 [==============================] - 12s 11ms/step - loss: 1.5868 - accuracy: 0.4316 - val_loss: 1.6410 - val_accuracy: 0.4015\n",
      "Epoch 12/100\n",
      "1094/1094 [==============================] - 13s 12ms/step - loss: 1.5721 - accuracy: 0.4373 - val_loss: 1.6177 - val_accuracy: 0.4201\n",
      "Epoch 13/100\n",
      "1094/1094 [==============================] - 12s 11ms/step - loss: 1.5574 - accuracy: 0.4381 - val_loss: 1.6281 - val_accuracy: 0.4107\n",
      "Epoch 14/100\n",
      "1094/1094 [==============================] - 13s 12ms/step - loss: 1.5302 - accuracy: 0.4485 - val_loss: 1.6051 - val_accuracy: 0.4219\n",
      "Epoch 15/100\n",
      "1094/1094 [==============================] - 13s 12ms/step - loss: 1.5071 - accuracy: 0.4595 - val_loss: 1.5992 - val_accuracy: 0.4286\n",
      "Epoch 16/100\n",
      "1094/1094 [==============================] - 14s 12ms/step - loss: 1.4963 - accuracy: 0.4631 - val_loss: 1.5562 - val_accuracy: 0.4485\n",
      "Epoch 17/100\n",
      "1094/1094 [==============================] - 14s 12ms/step - loss: 1.4707 - accuracy: 0.4707 - val_loss: 1.5612 - val_accuracy: 0.4419\n",
      "Epoch 18/100\n",
      "1094/1094 [==============================] - 14s 13ms/step - loss: 1.4619 - accuracy: 0.4728 - val_loss: 1.5628 - val_accuracy: 0.4425\n",
      "Epoch 19/100\n",
      "1094/1094 [==============================] - 13s 12ms/step - loss: 1.4412 - accuracy: 0.4828 - val_loss: 1.5759 - val_accuracy: 0.4410\n",
      "Epoch 20/100\n",
      "1094/1094 [==============================] - 13s 12ms/step - loss: 1.4251 - accuracy: 0.4871 - val_loss: 1.5650 - val_accuracy: 0.4447\n",
      "Epoch 21/100\n",
      "1094/1094 [==============================] - 13s 12ms/step - loss: 1.4185 - accuracy: 0.4919 - val_loss: 1.5750 - val_accuracy: 0.4429\n",
      "Epoch 22/100\n",
      "1094/1094 [==============================] - 13s 12ms/step - loss: 1.3940 - accuracy: 0.4988 - val_loss: 1.5679 - val_accuracy: 0.4379\n",
      "Epoch 23/100\n",
      "1094/1094 [==============================] - 13s 12ms/step - loss: 1.3961 - accuracy: 0.4989 - val_loss: 1.5459 - val_accuracy: 0.4514\n",
      "Epoch 24/100\n",
      "1094/1094 [==============================] - 13s 12ms/step - loss: 1.3805 - accuracy: 0.4988 - val_loss: 1.5421 - val_accuracy: 0.4557\n",
      "Epoch 25/100\n",
      "1094/1094 [==============================] - 13s 12ms/step - loss: 1.3523 - accuracy: 0.5157 - val_loss: 1.5888 - val_accuracy: 0.4423\n",
      "Epoch 26/100\n",
      "1094/1094 [==============================] - 12s 11ms/step - loss: 1.3411 - accuracy: 0.5163 - val_loss: 1.5674 - val_accuracy: 0.4525\n",
      "Epoch 27/100\n",
      "1094/1094 [==============================] - 13s 12ms/step - loss: 1.3431 - accuracy: 0.5184 - val_loss: 1.5477 - val_accuracy: 0.4505\n",
      "Epoch 28/100\n",
      "1094/1094 [==============================] - 13s 12ms/step - loss: 1.3224 - accuracy: 0.5254 - val_loss: 1.5465 - val_accuracy: 0.4549\n",
      "Epoch 29/100\n",
      "1094/1094 [==============================] - 12s 11ms/step - loss: 1.3150 - accuracy: 0.5295 - val_loss: 1.5399 - val_accuracy: 0.4587\n",
      "Epoch 30/100\n",
      "1094/1094 [==============================] - 12s 11ms/step - loss: 1.3156 - accuracy: 0.5279 - val_loss: 1.5434 - val_accuracy: 0.4603\n",
      "Epoch 31/100\n",
      "1094/1094 [==============================] - 12s 11ms/step - loss: 1.2836 - accuracy: 0.5391 - val_loss: 1.5357 - val_accuracy: 0.4671\n",
      "Epoch 32/100\n",
      "1094/1094 [==============================] - 12s 11ms/step - loss: 1.2785 - accuracy: 0.5419 - val_loss: 1.5261 - val_accuracy: 0.4671\n",
      "Epoch 33/100\n",
      "1094/1094 [==============================] - 12s 11ms/step - loss: 1.2745 - accuracy: 0.5384 - val_loss: 1.5409 - val_accuracy: 0.4665\n",
      "Epoch 34/100\n",
      "1094/1094 [==============================] - 12s 11ms/step - loss: 1.2640 - accuracy: 0.5455 - val_loss: 1.5428 - val_accuracy: 0.4615\n",
      "Epoch 35/100\n",
      "1094/1094 [==============================] - 13s 12ms/step - loss: 1.2621 - accuracy: 0.5491 - val_loss: 1.5607 - val_accuracy: 0.4583\n",
      "Epoch 36/100\n",
      "1094/1094 [==============================] - 14s 13ms/step - loss: 1.2444 - accuracy: 0.5520 - val_loss: 1.5381 - val_accuracy: 0.4615\n",
      "Epoch 37/100\n",
      "1094/1094 [==============================] - 14s 13ms/step - loss: 1.2344 - accuracy: 0.5562 - val_loss: 1.5807 - val_accuracy: 0.4555\n",
      "Epoch 38/100\n",
      "1094/1094 [==============================] - 12s 11ms/step - loss: 1.2282 - accuracy: 0.5550 - val_loss: 1.5390 - val_accuracy: 0.4660\n",
      "Epoch 39/100\n",
      "1094/1094 [==============================] - 12s 11ms/step - loss: 1.2259 - accuracy: 0.5582 - val_loss: 1.5225 - val_accuracy: 0.4710\n",
      "Epoch 40/100\n",
      "1094/1094 [==============================] - 11s 10ms/step - loss: 1.2184 - accuracy: 0.5600 - val_loss: 1.5748 - val_accuracy: 0.4631\n",
      "Epoch 41/100\n",
      "1094/1094 [==============================] - 12s 11ms/step - loss: 1.1974 - accuracy: 0.5701 - val_loss: 1.5608 - val_accuracy: 0.4605\n",
      "Epoch 42/100\n",
      "1094/1094 [==============================] - 12s 11ms/step - loss: 1.1959 - accuracy: 0.5684 - val_loss: 1.5305 - val_accuracy: 0.4712\n",
      "Epoch 43/100\n",
      "1094/1094 [==============================] - 12s 11ms/step - loss: 1.1929 - accuracy: 0.5721 - val_loss: 1.6110 - val_accuracy: 0.4618\n",
      "Epoch 44/100\n",
      "1094/1094 [==============================] - 12s 11ms/step - loss: 1.1751 - accuracy: 0.5769 - val_loss: 1.5732 - val_accuracy: 0.4692\n",
      "Epoch 45/100\n",
      "1094/1094 [==============================] - 13s 12ms/step - loss: 1.1764 - accuracy: 0.5753 - val_loss: 1.5600 - val_accuracy: 0.4691\n",
      "Epoch 46/100\n",
      "1094/1094 [==============================] - 12s 11ms/step - loss: 1.1451 - accuracy: 0.5882 - val_loss: 1.5802 - val_accuracy: 0.4669\n",
      "Epoch 47/100\n",
      "1094/1094 [==============================] - 12s 11ms/step - loss: 1.1522 - accuracy: 0.5889 - val_loss: 1.5975 - val_accuracy: 0.4696\n",
      "Epoch 48/100\n",
      "1094/1094 [==============================] - 12s 11ms/step - loss: 1.1452 - accuracy: 0.5890 - val_loss: 1.5642 - val_accuracy: 0.4693\n",
      "Epoch 49/100\n",
      "1094/1094 [==============================] - 12s 11ms/step - loss: 1.1269 - accuracy: 0.5898 - val_loss: 1.5641 - val_accuracy: 0.4769\n"
     ]
    },
    {
     "data": {
      "image/png": "[encoded data removed]",
      "text/plain": [
       "<Figure size 1440x720 with 1 Axes>"
      ]
     },
     "metadata": {
      "needs_background": "light"
     },
     "output_type": "display_data"
    }
   ],
   "source": [
    "from sklearn import metrics\n",
    "\n",
    "#early stopping rounds 설정\n",
    "early_stopping_cb = keras.callbacks.EarlyStopping(patience = 10, restore_best_weights=True)\n",
    "\n",
    "#최적의 파라미터를 가지고 모형을 전체 재적합!\n",
    "np.random.seed(1234)\n",
    "model_1 = tuner_bayes.hypermodel.build(best_hps_bayes)\n",
    "history_1  = model_1.fit(train_set, train_label, epochs = 100, validation_data = (valid_set, valid_label), verbose = 1,\n",
    "           callbacks = [early_stopping_cb])\n",
    "\n",
    "import matplotlib.pyplot as plt\n",
    "#학습 그래프 생성\n",
    "pd.DataFrame(history_1.history).plot(figsize = (20,10))\n",
    "plt.grid(True)\n",
    "plt.show()"
   ]
  },
  {
   "cell_type": "code",
   "execution_count": 53,
   "metadata": {},
   "outputs": [
    {
     "data": {
      "text/html": [
       "<div>\n",
       "<style scoped>\n",
       "    .dataframe tbody tr th:only-of-type {\n",
       "        vertical-align: middle;\n",
       "    }\n",
       "\n",
       "    .dataframe tbody tr th {\n",
       "        vertical-align: top;\n",
       "    }\n",
       "\n",
       "    .dataframe thead th {\n",
       "        text-align: right;\n",
       "    }\n",
       "</style>\n",
       "<table border=\"1\" class=\"dataframe\">\n",
       "  <thead>\n",
       "    <tr style=\"text-align: right;\">\n",
       "      <th></th>\n",
       "      <th>loss</th>\n",
       "      <th>accuracy</th>\n",
       "      <th>val_loss</th>\n",
       "      <th>val_accuracy</th>\n",
       "    </tr>\n",
       "  </thead>\n",
       "  <tbody>\n",
       "    <tr>\n",
       "      <th>48</th>\n",
       "      <td>1.137017</td>\n",
       "      <td>0.591686</td>\n",
       "      <td>1.564107</td>\n",
       "      <td>0.476933</td>\n",
       "    </tr>\n",
       "  </tbody>\n",
       "</table>\n",
       "</div>"
      ],
      "text/plain": [
       "        loss  accuracy  val_loss  val_accuracy\n",
       "48  1.137017  0.591686  1.564107      0.476933"
      ]
     },
     "execution_count": 53,
     "metadata": {},
     "output_type": "execute_result"
    }
   ],
   "source": [
    "#validation에 대한 성과\n",
    "pd.DataFrame(history_1.history)[-1:]"
   ]
  },
  {
   "cell_type": "markdown",
   "metadata": {},
   "source": [
    "### c) 배치 정규화를 추가하고 학습 곡선을 비교하라 - 이전보다 더 빠르게 수렴하는지, 더 좋은 모델이 만들어지는지, 훈련 속도에 영향을 미치는 지?"
   ]
  },
  {
   "cell_type": "code",
   "execution_count": 54,
   "metadata": {},
   "outputs": [
    {
     "name": "stdout",
     "output_type": "stream",
     "text": [
      "Trial 10 Complete [00h 02m 09s]\n",
      "val_loss: 1.701399564743042\n",
      "\n",
      "Best val_loss So Far: 1.6613517999649048\n",
      "Total elapsed time: 00h 21m 09s\n",
      "INFO:tensorflow:Oracle triggered exit\n",
      "learning_rate : 0.0001\n",
      "Epoch 1/100\n",
      "1094/1094 [==============================] - 16s 12ms/step - loss: 18.1444 - accuracy: 0.1385 - val_loss: 2.1380 - val_accuracy: 0.2207\n",
      "Epoch 2/100\n",
      "1094/1094 [==============================] - 13s 12ms/step - loss: 2.0560 - accuracy: 0.2504 - val_loss: 1.9539 - val_accuracy: 0.2851\n",
      "Epoch 3/100\n",
      "1094/1094 [==============================] - 13s 12ms/step - loss: 1.9425 - accuracy: 0.2886 - val_loss: 1.9090 - val_accuracy: 0.3005\n",
      "Epoch 4/100\n",
      "1094/1094 [==============================] - 13s 12ms/step - loss: 1.8727 - accuracy: 0.3156 - val_loss: 1.8480 - val_accuracy: 0.3283\n",
      "Epoch 5/100\n",
      "1094/1094 [==============================] - 13s 12ms/step - loss: 1.8144 - accuracy: 0.3401 - val_loss: 1.8467 - val_accuracy: 0.3267\n",
      "Epoch 6/100\n",
      "1094/1094 [==============================] - 13s 12ms/step - loss: 1.7889 - accuracy: 0.3503 - val_loss: 1.7925 - val_accuracy: 0.3491\n",
      "Epoch 7/100\n",
      "1094/1094 [==============================] - 13s 12ms/step - loss: 1.7345 - accuracy: 0.3727 - val_loss: 1.7471 - val_accuracy: 0.3710\n",
      "Epoch 8/100\n",
      "1094/1094 [==============================] - 13s 12ms/step - loss: 1.6981 - accuracy: 0.3892 - val_loss: 1.7834 - val_accuracy: 0.3630\n",
      "Epoch 9/100\n",
      "1094/1094 [==============================] - 13s 12ms/step - loss: 1.6755 - accuracy: 0.3983 - val_loss: 1.6868 - val_accuracy: 0.3939\n",
      "Epoch 10/100\n",
      "1094/1094 [==============================] - 13s 12ms/step - loss: 1.6387 - accuracy: 0.4089 - val_loss: 1.7172 - val_accuracy: 0.3856\n",
      "Epoch 11/100\n",
      "1094/1094 [==============================] - 13s 12ms/step - loss: 1.6212 - accuracy: 0.4145 - val_loss: 1.6467 - val_accuracy: 0.4089\n",
      "Epoch 12/100\n",
      "1094/1094 [==============================] - 13s 12ms/step - loss: 1.5827 - accuracy: 0.4304 - val_loss: 1.6433 - val_accuracy: 0.4119\n",
      "Epoch 13/100\n",
      "1094/1094 [==============================] - 13s 12ms/step - loss: 1.5686 - accuracy: 0.4297 - val_loss: 1.6268 - val_accuracy: 0.4202\n",
      "Epoch 14/100\n",
      "1094/1094 [==============================] - 13s 12ms/step - loss: 1.5544 - accuracy: 0.4419 - val_loss: 1.6182 - val_accuracy: 0.4165\n",
      "Epoch 15/100\n",
      "1094/1094 [==============================] - 13s 12ms/step - loss: 1.5390 - accuracy: 0.4446 - val_loss: 1.6119 - val_accuracy: 0.4173\n",
      "Epoch 16/100\n",
      "1094/1094 [==============================] - 13s 12ms/step - loss: 1.5166 - accuracy: 0.4532 - val_loss: 1.6154 - val_accuracy: 0.4233\n",
      "Epoch 17/100\n",
      "1094/1094 [==============================] - 13s 12ms/step - loss: 1.5000 - accuracy: 0.4630 - val_loss: 1.6077 - val_accuracy: 0.4291\n",
      "Epoch 18/100\n",
      "1094/1094 [==============================] - 13s 12ms/step - loss: 1.4947 - accuracy: 0.4642 - val_loss: 1.6006 - val_accuracy: 0.4295\n",
      "Epoch 19/100\n",
      "1094/1094 [==============================] - 13s 12ms/step - loss: 1.4766 - accuracy: 0.4690 - val_loss: 1.6057 - val_accuracy: 0.4278\n",
      "Epoch 20/100\n",
      "1094/1094 [==============================] - 13s 12ms/step - loss: 1.4567 - accuracy: 0.4755 - val_loss: 1.6001 - val_accuracy: 0.4369\n",
      "Epoch 21/100\n",
      "1094/1094 [==============================] - 13s 12ms/step - loss: 1.4436 - accuracy: 0.4809 - val_loss: 1.5717 - val_accuracy: 0.4355\n",
      "Epoch 22/100\n",
      "1094/1094 [==============================] - 13s 12ms/step - loss: 1.4244 - accuracy: 0.4863 - val_loss: 1.5569 - val_accuracy: 0.4485\n",
      "Epoch 23/100\n",
      "1094/1094 [==============================] - 13s 12ms/step - loss: 1.4137 - accuracy: 0.4917 - val_loss: 1.5622 - val_accuracy: 0.4497\n",
      "Epoch 24/100\n",
      "1094/1094 [==============================] - 13s 12ms/step - loss: 1.4074 - accuracy: 0.4923 - val_loss: 1.5786 - val_accuracy: 0.4467\n",
      "Epoch 25/100\n",
      "1094/1094 [==============================] - 13s 12ms/step - loss: 1.4072 - accuracy: 0.4949 - val_loss: 1.5794 - val_accuracy: 0.4409\n",
      "Epoch 26/100\n",
      "1094/1094 [==============================] - 13s 12ms/step - loss: 1.3797 - accuracy: 0.5061 - val_loss: 1.5669 - val_accuracy: 0.4433\n",
      "Epoch 27/100\n",
      "1094/1094 [==============================] - 13s 12ms/step - loss: 1.3845 - accuracy: 0.5038 - val_loss: 1.5665 - val_accuracy: 0.4483\n",
      "Epoch 28/100\n",
      "1094/1094 [==============================] - 14s 13ms/step - loss: 1.3588 - accuracy: 0.5105 - val_loss: 1.5752 - val_accuracy: 0.4447\n",
      "Epoch 29/100\n",
      "1094/1094 [==============================] - 13s 12ms/step - loss: 1.3559 - accuracy: 0.5070 - val_loss: 1.5553 - val_accuracy: 0.4497\n",
      "Epoch 30/100\n",
      "1094/1094 [==============================] - 13s 12ms/step - loss: 1.3440 - accuracy: 0.5186 - val_loss: 1.5577 - val_accuracy: 0.4525\n",
      "Epoch 31/100\n",
      "1094/1094 [==============================] - 13s 12ms/step - loss: 1.3279 - accuracy: 0.5212 - val_loss: 1.5541 - val_accuracy: 0.4571\n",
      "Epoch 32/100\n",
      "1094/1094 [==============================] - 13s 12ms/step - loss: 1.3108 - accuracy: 0.5333 - val_loss: 1.5611 - val_accuracy: 0.4514\n",
      "Epoch 33/100\n",
      "1094/1094 [==============================] - 13s 12ms/step - loss: 1.3071 - accuracy: 0.5262 - val_loss: 1.5515 - val_accuracy: 0.4573\n",
      "Epoch 34/100\n",
      "1094/1094 [==============================] - 13s 12ms/step - loss: 1.2944 - accuracy: 0.5340 - val_loss: 1.6185 - val_accuracy: 0.4422\n",
      "Epoch 35/100\n",
      "1094/1094 [==============================] - 13s 12ms/step - loss: 1.2956 - accuracy: 0.5339 - val_loss: 1.6007 - val_accuracy: 0.4484\n",
      "Epoch 36/100\n",
      "1094/1094 [==============================] - 13s 12ms/step - loss: 1.2803 - accuracy: 0.5377 - val_loss: 1.5922 - val_accuracy: 0.4519\n",
      "Epoch 37/100\n",
      "1094/1094 [==============================] - 13s 12ms/step - loss: 1.2748 - accuracy: 0.5408 - val_loss: 1.5520 - val_accuracy: 0.4663\n",
      "Epoch 38/100\n",
      "1094/1094 [==============================] - 13s 12ms/step - loss: 1.2620 - accuracy: 0.5432 - val_loss: 1.5740 - val_accuracy: 0.4559\n",
      "Epoch 39/100\n",
      "1094/1094 [==============================] - 13s 12ms/step - loss: 1.2535 - accuracy: 0.5498 - val_loss: 1.5693 - val_accuracy: 0.4565\n",
      "Epoch 40/100\n",
      "1094/1094 [==============================] - 13s 12ms/step - loss: 1.2413 - accuracy: 0.5508 - val_loss: 1.5613 - val_accuracy: 0.4539\n",
      "Epoch 41/100\n",
      "1094/1094 [==============================] - 13s 12ms/step - loss: 1.2409 - accuracy: 0.5540 - val_loss: 1.5538 - val_accuracy: 0.4623\n",
      "Epoch 42/100\n",
      "1094/1094 [==============================] - 13s 12ms/step - loss: 1.2113 - accuracy: 0.5629 - val_loss: 1.5728 - val_accuracy: 0.4599\n",
      "Epoch 43/100\n",
      "1094/1094 [==============================] - 13s 12ms/step - loss: 1.2090 - accuracy: 0.5621 - val_loss: 1.5753 - val_accuracy: 0.4591\n"
     ]
    },
    {
     "data": {
      "image/png": "[encoded data removed]",
      "text/plain": [
       "<Figure size 1440x720 with 1 Axes>"
      ]
     },
     "metadata": {
      "needs_background": "light"
     },
     "output_type": "display_data"
    },
    {
     "name": "stdout",
     "output_type": "stream",
     "text": [
      "        loss  accuracy  val_loss  val_accuracy\n",
      "42  1.221144  0.557686   1.57534      0.459133\n"
     ]
    }
   ],
   "source": [
    "import kerastuner as kt\n",
    "\n",
    "def model_builder_batch(hp, input_shape = [32,32,3]):\n",
    "    \n",
    "    #Sequential API\n",
    "    model = keras.Sequential()\n",
    "    \n",
    "    #입력층 - 우리의 데이터에 맞게 넣는다.\n",
    "    model.add(keras.layers.Flatten(input_shape= input_shape))\n",
    "    model.add(keras.layers.BatchNormalization())\n",
    "  ##은닉층 추가\n",
    "    for _ in range(20) : \n",
    "        model.add(keras.layers.Dense(units = 100, activation = 'elu', kernel_initializer = 'he_normal'))\n",
    "        model.add(model.add(keras.layers.BatchNormalization()))\n",
    "        \n",
    "    #출력층 추가\n",
    "    model.add(keras.layers.Dense(units = 10, activation = 'softmax'))\n",
    "\n",
    "  # Tune the learning rate for the optimizer \n",
    "  # Choose an optimal value from 0.01, 0.001, or 0.0001\n",
    "    hp_learning_rate = hp.Choice('learning_rate', values = [1e-2, 1e-3, 1e-4])\n",
    "\n",
    "    model.compile(optimizer = keras.optimizers.Nadam(learning_rate = hp_learning_rate,\n",
    "                                                    beta_1=0.9, beta_2=0.999, epsilon=1e-07, name='Nadam'), loss = 'SparseCategoricalCrossentropy', metrics = ['accuracy'])\n",
    "\n",
    "    return model\n",
    "\n",
    "np.random.seed(1234)\n",
    "\n",
    "#베이지안으로 설정 후\n",
    "tuner_bayes_batch = kt.BayesianOptimization(hypermodel = model_builder, objective = 'val_loss', max_trials = 10, \n",
    "                                      project_name='practice_batch',  directory = 'keras_parameter_dir')\n",
    "\n",
    "#최적의 학습률 탐색 \n",
    "tuner_bayes_batch.search(train_set, train_label, epochs = 10, \n",
    "             validation_data = (valid_set, valid_label))\n",
    "\n",
    "\n",
    "#최적의 파라미터는?\n",
    "best_hps_bayes_batch = tuner_bayes_batch.get_best_hyperparameters(num_trials = 1)[0]\n",
    "print(\"learning_rate : {0}\".format(best_hps_bayes_batch.get('learning_rate')) )\n",
    "\n",
    "from sklearn import metrics\n",
    "\n",
    "#early stopping rounds 설정\n",
    "early_stopping_cb = keras.callbacks.EarlyStopping(patience = 10, restore_best_weights=True)\n",
    "\n",
    "#최적의 파라미터를 가지고 모형을 전체 재적합!\n",
    "np.random.seed(1234)\n",
    "model_2 = tuner_bayes_batch.hypermodel.build(best_hps_bayes_batch)\n",
    "history_2  = model_2.fit(train_set, train_label, epochs = 100, validation_data = (valid_set, valid_label), verbose = 1,\n",
    "           callbacks = [early_stopping_cb])\n",
    "\n",
    "import matplotlib.pyplot as plt\n",
    "#학습 그래프 생성\n",
    "pd.DataFrame(history_2.history).plot(figsize = (20,10))\n",
    "plt.grid(True)\n",
    "plt.show()\n",
    "\n",
    "#validation에 대한 성과\n",
    "print(pd.DataFrame(history_2.history)[-1:])"
   ]
  },
  {
   "cell_type": "markdown",
   "metadata": {},
   "source": [
    "> 모형이 수렴하는 속도는 더 빨라졌지만 성능은 더 좋지 않게 나오는 듯 싶다"
   ]
  },
  {
   "cell_type": "markdown",
   "metadata": {},
   "source": [
    "### d) 배치정규화를 SELU로 교체. 자기 정규화 하기 위해 필요한 변경사항을 적용해보라\n",
    "\n",
    "(입력 특성 표준화, 르쿤 정규분포 초기화, 완전 연결 층만 순차적으로 쌓은 심층신경망)"
   ]
  },
  {
   "cell_type": "code",
   "execution_count": 61,
   "metadata": {},
   "outputs": [
    {
     "name": "stdout",
     "output_type": "stream",
     "text": [
      "Epoch 1/100\n",
      "1094/1094 [==============================] - 15s 11ms/step - loss: 2.1320 - accuracy: 0.2190 - val_loss: 1.9114 - val_accuracy: 0.2951\n",
      "Epoch 2/100\n",
      "1094/1094 [==============================] - 12s 11ms/step - loss: 1.8294 - accuracy: 0.3280 - val_loss: 1.8079 - val_accuracy: 0.3426\n",
      "Epoch 3/100\n",
      "1094/1094 [==============================] - 12s 11ms/step - loss: 1.7520 - accuracy: 0.3634 - val_loss: 1.7535 - val_accuracy: 0.3541\n",
      "Epoch 4/100\n",
      "1094/1094 [==============================] - 11s 10ms/step - loss: 1.6914 - accuracy: 0.3901 - val_loss: 1.6909 - val_accuracy: 0.3923\n",
      "Epoch 5/100\n",
      "1094/1094 [==============================] - 11s 10ms/step - loss: 1.6551 - accuracy: 0.4041 - val_loss: 1.6660 - val_accuracy: 0.3969\n",
      "Epoch 6/100\n",
      "1094/1094 [==============================] - 11s 10ms/step - loss: 1.6093 - accuracy: 0.4197 - val_loss: 1.6441 - val_accuracy: 0.4084\n",
      "Epoch 7/100\n",
      "1094/1094 [==============================] - 11s 10ms/step - loss: 1.5722 - accuracy: 0.4344 - val_loss: 1.5960 - val_accuracy: 0.4246\n",
      "Epoch 8/100\n",
      "1094/1094 [==============================] - 11s 10ms/step - loss: 1.5358 - accuracy: 0.4474 - val_loss: 1.6389 - val_accuracy: 0.4100\n",
      "Epoch 9/100\n",
      "1094/1094 [==============================] - 11s 10ms/step - loss: 1.5100 - accuracy: 0.4537 - val_loss: 1.5967 - val_accuracy: 0.4264\n",
      "Epoch 10/100\n",
      "1094/1094 [==============================] - 11s 10ms/step - loss: 1.4983 - accuracy: 0.4619 - val_loss: 1.5747 - val_accuracy: 0.4336\n",
      "Epoch 11/100\n",
      " 384/1094 [=========>....................] - ETA: 6s - loss: 1.4630 - accuracy: 0.4732"
     ]
    },
    {
     "ename": "KeyboardInterrupt",
     "evalue": "",
     "output_type": "error",
     "traceback": [
      "\u001b[1;31m---------------------------------------------------------------------------\u001b[0m",
      "\u001b[1;31mKeyboardInterrupt\u001b[0m                         Traceback (most recent call last)",
      "\u001b[1;32m<ipython-input-61-d42db9e4f8c7>\u001b[0m in \u001b[0;36m<module>\u001b[1;34m\u001b[0m\n\u001b[0;32m     27\u001b[0m \u001b[0mnp\u001b[0m\u001b[1;33m.\u001b[0m\u001b[0mrandom\u001b[0m\u001b[1;33m.\u001b[0m\u001b[0mseed\u001b[0m\u001b[1;33m(\u001b[0m\u001b[1;36m1234\u001b[0m\u001b[1;33m)\u001b[0m\u001b[1;33m\u001b[0m\u001b[1;33m\u001b[0m\u001b[0m\n\u001b[0;32m     28\u001b[0m \u001b[1;33m\u001b[0m\u001b[0m\n\u001b[1;32m---> 29\u001b[1;33m history_snn  = model_snn.fit(train_set, train_label, epochs = 100, validation_data = (valid_set, valid_label), verbose = 1,\n\u001b[0m\u001b[0;32m     30\u001b[0m            callbacks = [early_stopping_cb])\n\u001b[0;32m     31\u001b[0m \u001b[1;33m\u001b[0m\u001b[0m\n",
      "\u001b[1;32m~\\anaconda3\\lib\\site-packages\\tensorflow\\python\\keras\\engine\\training.py\u001b[0m in \u001b[0;36mfit\u001b[1;34m(self, x, y, batch_size, epochs, verbose, callbacks, validation_split, validation_data, shuffle, class_weight, sample_weight, initial_epoch, steps_per_epoch, validation_steps, validation_batch_size, validation_freq, max_queue_size, workers, use_multiprocessing)\u001b[0m\n\u001b[0;32m   1098\u001b[0m                 _r=1):\n\u001b[0;32m   1099\u001b[0m               \u001b[0mcallbacks\u001b[0m\u001b[1;33m.\u001b[0m\u001b[0mon_train_batch_begin\u001b[0m\u001b[1;33m(\u001b[0m\u001b[0mstep\u001b[0m\u001b[1;33m)\u001b[0m\u001b[1;33m\u001b[0m\u001b[1;33m\u001b[0m\u001b[0m\n\u001b[1;32m-> 1100\u001b[1;33m               \u001b[0mtmp_logs\u001b[0m \u001b[1;33m=\u001b[0m \u001b[0mself\u001b[0m\u001b[1;33m.\u001b[0m\u001b[0mtrain_function\u001b[0m\u001b[1;33m(\u001b[0m\u001b[0miterator\u001b[0m\u001b[1;33m)\u001b[0m\u001b[1;33m\u001b[0m\u001b[1;33m\u001b[0m\u001b[0m\n\u001b[0m\u001b[0;32m   1101\u001b[0m               \u001b[1;32mif\u001b[0m \u001b[0mdata_handler\u001b[0m\u001b[1;33m.\u001b[0m\u001b[0mshould_sync\u001b[0m\u001b[1;33m:\u001b[0m\u001b[1;33m\u001b[0m\u001b[1;33m\u001b[0m\u001b[0m\n\u001b[0;32m   1102\u001b[0m                 \u001b[0mcontext\u001b[0m\u001b[1;33m.\u001b[0m\u001b[0masync_wait\u001b[0m\u001b[1;33m(\u001b[0m\u001b[1;33m)\u001b[0m\u001b[1;33m\u001b[0m\u001b[1;33m\u001b[0m\u001b[0m\n",
      "\u001b[1;32m~\\anaconda3\\lib\\site-packages\\tensorflow\\python\\eager\\def_function.py\u001b[0m in \u001b[0;36m__call__\u001b[1;34m(self, *args, **kwds)\u001b[0m\n\u001b[0;32m    826\u001b[0m     \u001b[0mtracing_count\u001b[0m \u001b[1;33m=\u001b[0m \u001b[0mself\u001b[0m\u001b[1;33m.\u001b[0m\u001b[0mexperimental_get_tracing_count\u001b[0m\u001b[1;33m(\u001b[0m\u001b[1;33m)\u001b[0m\u001b[1;33m\u001b[0m\u001b[1;33m\u001b[0m\u001b[0m\n\u001b[0;32m    827\u001b[0m     \u001b[1;32mwith\u001b[0m \u001b[0mtrace\u001b[0m\u001b[1;33m.\u001b[0m\u001b[0mTrace\u001b[0m\u001b[1;33m(\u001b[0m\u001b[0mself\u001b[0m\u001b[1;33m.\u001b[0m\u001b[0m_name\u001b[0m\u001b[1;33m)\u001b[0m \u001b[1;32mas\u001b[0m \u001b[0mtm\u001b[0m\u001b[1;33m:\u001b[0m\u001b[1;33m\u001b[0m\u001b[1;33m\u001b[0m\u001b[0m\n\u001b[1;32m--> 828\u001b[1;33m       \u001b[0mresult\u001b[0m \u001b[1;33m=\u001b[0m \u001b[0mself\u001b[0m\u001b[1;33m.\u001b[0m\u001b[0m_call\u001b[0m\u001b[1;33m(\u001b[0m\u001b[1;33m*\u001b[0m\u001b[0margs\u001b[0m\u001b[1;33m,\u001b[0m \u001b[1;33m**\u001b[0m\u001b[0mkwds\u001b[0m\u001b[1;33m)\u001b[0m\u001b[1;33m\u001b[0m\u001b[1;33m\u001b[0m\u001b[0m\n\u001b[0m\u001b[0;32m    829\u001b[0m       \u001b[0mcompiler\u001b[0m \u001b[1;33m=\u001b[0m \u001b[1;34m\"xla\"\u001b[0m \u001b[1;32mif\u001b[0m \u001b[0mself\u001b[0m\u001b[1;33m.\u001b[0m\u001b[0m_experimental_compile\u001b[0m \u001b[1;32melse\u001b[0m \u001b[1;34m\"nonXla\"\u001b[0m\u001b[1;33m\u001b[0m\u001b[1;33m\u001b[0m\u001b[0m\n\u001b[0;32m    830\u001b[0m       \u001b[0mnew_tracing_count\u001b[0m \u001b[1;33m=\u001b[0m \u001b[0mself\u001b[0m\u001b[1;33m.\u001b[0m\u001b[0mexperimental_get_tracing_count\u001b[0m\u001b[1;33m(\u001b[0m\u001b[1;33m)\u001b[0m\u001b[1;33m\u001b[0m\u001b[1;33m\u001b[0m\u001b[0m\n",
      "\u001b[1;32m~\\anaconda3\\lib\\site-packages\\tensorflow\\python\\eager\\def_function.py\u001b[0m in \u001b[0;36m_call\u001b[1;34m(self, *args, **kwds)\u001b[0m\n\u001b[0;32m    853\u001b[0m       \u001b[1;31m# In this case we have created variables on the first call, so we run the\u001b[0m\u001b[1;33m\u001b[0m\u001b[1;33m\u001b[0m\u001b[1;33m\u001b[0m\u001b[0m\n\u001b[0;32m    854\u001b[0m       \u001b[1;31m# defunned version which is guaranteed to never create variables.\u001b[0m\u001b[1;33m\u001b[0m\u001b[1;33m\u001b[0m\u001b[1;33m\u001b[0m\u001b[0m\n\u001b[1;32m--> 855\u001b[1;33m       \u001b[1;32mreturn\u001b[0m \u001b[0mself\u001b[0m\u001b[1;33m.\u001b[0m\u001b[0m_stateless_fn\u001b[0m\u001b[1;33m(\u001b[0m\u001b[1;33m*\u001b[0m\u001b[0margs\u001b[0m\u001b[1;33m,\u001b[0m \u001b[1;33m**\u001b[0m\u001b[0mkwds\u001b[0m\u001b[1;33m)\u001b[0m  \u001b[1;31m# pylint: disable=not-callable\u001b[0m\u001b[1;33m\u001b[0m\u001b[1;33m\u001b[0m\u001b[0m\n\u001b[0m\u001b[0;32m    856\u001b[0m     \u001b[1;32melif\u001b[0m \u001b[0mself\u001b[0m\u001b[1;33m.\u001b[0m\u001b[0m_stateful_fn\u001b[0m \u001b[1;32mis\u001b[0m \u001b[1;32mnot\u001b[0m \u001b[1;32mNone\u001b[0m\u001b[1;33m:\u001b[0m\u001b[1;33m\u001b[0m\u001b[1;33m\u001b[0m\u001b[0m\n\u001b[0;32m    857\u001b[0m       \u001b[1;31m# Release the lock early so that multiple threads can perform the call\u001b[0m\u001b[1;33m\u001b[0m\u001b[1;33m\u001b[0m\u001b[1;33m\u001b[0m\u001b[0m\n",
      "\u001b[1;32m~\\anaconda3\\lib\\site-packages\\tensorflow\\python\\eager\\function.py\u001b[0m in \u001b[0;36m__call__\u001b[1;34m(self, *args, **kwargs)\u001b[0m\n\u001b[0;32m   2940\u001b[0m       (graph_function,\n\u001b[0;32m   2941\u001b[0m        filtered_flat_args) = self._maybe_define_function(args, kwargs)\n\u001b[1;32m-> 2942\u001b[1;33m     return graph_function._call_flat(\n\u001b[0m\u001b[0;32m   2943\u001b[0m         filtered_flat_args, captured_inputs=graph_function.captured_inputs)  # pylint: disable=protected-access\n\u001b[0;32m   2944\u001b[0m \u001b[1;33m\u001b[0m\u001b[0m\n",
      "\u001b[1;32m~\\anaconda3\\lib\\site-packages\\tensorflow\\python\\eager\\function.py\u001b[0m in \u001b[0;36m_call_flat\u001b[1;34m(self, args, captured_inputs, cancellation_manager)\u001b[0m\n\u001b[0;32m   1916\u001b[0m         and executing_eagerly):\n\u001b[0;32m   1917\u001b[0m       \u001b[1;31m# No tape is watching; skip to running the function.\u001b[0m\u001b[1;33m\u001b[0m\u001b[1;33m\u001b[0m\u001b[1;33m\u001b[0m\u001b[0m\n\u001b[1;32m-> 1918\u001b[1;33m       return self._build_call_outputs(self._inference_function.call(\n\u001b[0m\u001b[0;32m   1919\u001b[0m           ctx, args, cancellation_manager=cancellation_manager))\n\u001b[0;32m   1920\u001b[0m     forward_backward = self._select_forward_and_backward_functions(\n",
      "\u001b[1;32m~\\anaconda3\\lib\\site-packages\\tensorflow\\python\\eager\\function.py\u001b[0m in \u001b[0;36mcall\u001b[1;34m(self, ctx, args, cancellation_manager)\u001b[0m\n\u001b[0;32m    553\u001b[0m       \u001b[1;32mwith\u001b[0m \u001b[0m_InterpolateFunctionError\u001b[0m\u001b[1;33m(\u001b[0m\u001b[0mself\u001b[0m\u001b[1;33m)\u001b[0m\u001b[1;33m:\u001b[0m\u001b[1;33m\u001b[0m\u001b[1;33m\u001b[0m\u001b[0m\n\u001b[0;32m    554\u001b[0m         \u001b[1;32mif\u001b[0m \u001b[0mcancellation_manager\u001b[0m \u001b[1;32mis\u001b[0m \u001b[1;32mNone\u001b[0m\u001b[1;33m:\u001b[0m\u001b[1;33m\u001b[0m\u001b[1;33m\u001b[0m\u001b[0m\n\u001b[1;32m--> 555\u001b[1;33m           outputs = execute.execute(\n\u001b[0m\u001b[0;32m    556\u001b[0m               \u001b[0mstr\u001b[0m\u001b[1;33m(\u001b[0m\u001b[0mself\u001b[0m\u001b[1;33m.\u001b[0m\u001b[0msignature\u001b[0m\u001b[1;33m.\u001b[0m\u001b[0mname\u001b[0m\u001b[1;33m)\u001b[0m\u001b[1;33m,\u001b[0m\u001b[1;33m\u001b[0m\u001b[1;33m\u001b[0m\u001b[0m\n\u001b[0;32m    557\u001b[0m               \u001b[0mnum_outputs\u001b[0m\u001b[1;33m=\u001b[0m\u001b[0mself\u001b[0m\u001b[1;33m.\u001b[0m\u001b[0m_num_outputs\u001b[0m\u001b[1;33m,\u001b[0m\u001b[1;33m\u001b[0m\u001b[1;33m\u001b[0m\u001b[0m\n",
      "\u001b[1;32m~\\anaconda3\\lib\\site-packages\\tensorflow\\python\\eager\\execute.py\u001b[0m in \u001b[0;36mquick_execute\u001b[1;34m(op_name, num_outputs, inputs, attrs, ctx, name)\u001b[0m\n\u001b[0;32m     57\u001b[0m   \u001b[1;32mtry\u001b[0m\u001b[1;33m:\u001b[0m\u001b[1;33m\u001b[0m\u001b[1;33m\u001b[0m\u001b[0m\n\u001b[0;32m     58\u001b[0m     \u001b[0mctx\u001b[0m\u001b[1;33m.\u001b[0m\u001b[0mensure_initialized\u001b[0m\u001b[1;33m(\u001b[0m\u001b[1;33m)\u001b[0m\u001b[1;33m\u001b[0m\u001b[1;33m\u001b[0m\u001b[0m\n\u001b[1;32m---> 59\u001b[1;33m     tensors = pywrap_tfe.TFE_Py_Execute(ctx._handle, device_name, op_name,\n\u001b[0m\u001b[0;32m     60\u001b[0m                                         inputs, attrs, num_outputs)\n\u001b[0;32m     61\u001b[0m   \u001b[1;32mexcept\u001b[0m \u001b[0mcore\u001b[0m\u001b[1;33m.\u001b[0m\u001b[0m_NotOkStatusException\u001b[0m \u001b[1;32mas\u001b[0m \u001b[0me\u001b[0m\u001b[1;33m:\u001b[0m\u001b[1;33m\u001b[0m\u001b[1;33m\u001b[0m\u001b[0m\n",
      "\u001b[1;31mKeyboardInterrupt\u001b[0m: "
     ]
    }
   ],
   "source": [
    "import kerastuner as kt\n",
    "import tensorflow as tf\n",
    "from tensorflow import keras\n",
    "\n",
    "\n",
    "#모델 구축\n",
    "model_snn = keras.Sequential()\n",
    "\n",
    "#입력층\n",
    "model_snn.add(keras.layers.Flatten(input_shape= [32,32,3]))\n",
    "\n",
    "#은닉층 추가(20개)\n",
    "for _ in range(20) : \n",
    "    model_snn.add(keras.layers.Dense(units = 100, activation = 'selu', kernel_initializer = 'lecun_normal',bias_initializer='zeros'))\n",
    "        \n",
    "#출력층 추가\n",
    "model_snn.add(keras.layers.Dense(units = 10, activation = 'softmax'))\n",
    "\n",
    "#model compile\n",
    "model_snn.compile(optimizer = keras.optimizers.Nadam(learning_rate = 0.0001,\n",
    "                                                     beta_1=0.9, beta_2=0.999, epsilon=1e-07, name='Nadam'), loss = 'SparseCategoricalCrossentropy', metrics = ['accuracy'])\n",
    "\n",
    "#early stopping rounds 설정\n",
    "early_stopping_cb = keras.callbacks.EarlyStopping(patience = 10, restore_best_weights=True)\n",
    "\n",
    "#모형 학습 \n",
    "np.random.seed(1234)\n",
    "\n",
    "history_snn  = model_snn.fit(train_set, train_label, epochs = 100, validation_data = (valid_set, valid_label), verbose = 1,\n",
    "           callbacks = [early_stopping_cb])\n",
    "\n",
    "import matplotlib.pyplot as plt\n",
    "#학습 그래프 생성\n",
    "pd.DataFrame(history_snn.history).plot(figsize = (20,10))\n",
    "plt.grid(True)\n",
    "plt.show()\n",
    "\n",
    "#validation에 대한 성과\n",
    "print(pd.DataFrame(history_snn.history)[-1:])"
   ]
  },
  {
   "cell_type": "markdown",
   "metadata": {},
   "source": [
    "(드롭아웃을 먹였더니 성능이 아주 안 좋게 나왔다)"
   ]
  },
  {
   "cell_type": "code",
   "execution_count": null,
   "metadata": {},
   "outputs": [],
   "source": []
  }
 ],
 "metadata": {
  "kernelspec": {
   "display_name": "Python 3",
   "language": "python",
   "name": "python3"
  },
  "language_info": {
   "codemirror_mode": {
    "name": "ipython",
    "version": 3
   },
   "file_extension": ".py",
   "mimetype": "text/x-python",
   "name": "python",
   "nbconvert_exporter": "python",
   "pygments_lexer": "ipython3",
   "version": "3.8.5"
  }
 },
 "nbformat": 4,
 "nbformat_minor": 4
}
