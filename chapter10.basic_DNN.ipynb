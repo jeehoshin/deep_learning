{
 "cells": [
  {
   "cell_type": "code",
   "execution_count": 1,
   "metadata": {},
   "outputs": [],
   "source": [
    "import numpy as np\n",
    "from sklearn.datasets import load_iris\n",
    "from sklearn.linear_model import Perceptron"
   ]
  },
  {
   "cell_type": "code",
   "execution_count": 2,
   "metadata": {},
   "outputs": [],
   "source": [
    "iris = load_iris()\n",
    "x = iris.data[:, (2,3)]\n",
    "y = (iris.target == 0).astype(np.int) #Setosa\n",
    "\n",
    "per_clf = Perceptron()\n",
    "per_clf.fit(x,y)\n",
    "\n",
    "y_pred = per_clf.predict([[2, 0.5]])"
   ]
  },
  {
   "cell_type": "markdown",
   "metadata": {},
   "source": [
    "## 10.2.2 시퀀셜 API --> 이미지 분류기 생성"
   ]
  },
  {
   "cell_type": "code",
   "execution_count": 3,
   "metadata": {},
   "outputs": [],
   "source": [
    "import tensorflow as tf\n",
    "from tensorflow import keras\n",
    "import pydot"
   ]
  },
  {
   "cell_type": "code",
   "execution_count": 4,
   "metadata": {},
   "outputs": [
    {
     "data": {
      "text/plain": [
       "'2.4.1'"
      ]
     },
     "execution_count": 4,
     "metadata": {},
     "output_type": "execute_result"
    }
   ],
   "source": [
    "tf.__version__"
   ]
  },
  {
   "cell_type": "code",
   "execution_count": 5,
   "metadata": {},
   "outputs": [
    {
     "data": {
      "text/plain": [
       "'2.4.0'"
      ]
     },
     "execution_count": 5,
     "metadata": {},
     "output_type": "execute_result"
    }
   ],
   "source": [
    "keras.__version__"
   ]
  },
  {
   "cell_type": "markdown",
   "metadata": {},
   "source": [
    "### 데이터 셋 적재"
   ]
  },
  {
   "cell_type": "code",
   "execution_count": 6,
   "metadata": {},
   "outputs": [],
   "source": [
    "fashion_mnist = keras.datasets.fashion_mnist\n",
    "(x_train_full, y_train_full), (x_test, y_test) = fashion_mnist.load_data()"
   ]
  },
  {
   "cell_type": "code",
   "execution_count": 7,
   "metadata": {},
   "outputs": [
    {
     "data": {
      "text/plain": [
       "(60000, 28, 28)"
      ]
     },
     "execution_count": 7,
     "metadata": {},
     "output_type": "execute_result"
    }
   ],
   "source": [
    "x_train_full.shape"
   ]
  },
  {
   "cell_type": "markdown",
   "metadata": {},
   "source": [
    "28 x 28 픽셀의 6만장의 이미지가 들어가 있다고 생각하면 될 듯.\n",
    "\n",
    "픽셀 강도는 0에서 255까지 표현되어 있다고 한다."
   ]
  },
  {
   "cell_type": "code",
   "execution_count": 8,
   "metadata": {},
   "outputs": [
    {
     "data": {
      "text/plain": [
       "array([[[0, 0, 0, ..., 0, 0, 0],\n",
       "        [0, 0, 0, ..., 0, 0, 0],\n",
       "        [0, 0, 0, ..., 0, 0, 0],\n",
       "        ...,\n",
       "        [0, 0, 0, ..., 0, 0, 0],\n",
       "        [0, 0, 0, ..., 0, 0, 0],\n",
       "        [0, 0, 0, ..., 0, 0, 0]],\n",
       "\n",
       "       [[0, 0, 0, ..., 0, 0, 0],\n",
       "        [0, 0, 0, ..., 0, 0, 0],\n",
       "        [0, 0, 0, ..., 0, 0, 0],\n",
       "        ...,\n",
       "        [0, 0, 0, ..., 0, 0, 0],\n",
       "        [0, 0, 0, ..., 0, 0, 0],\n",
       "        [0, 0, 0, ..., 0, 0, 0]],\n",
       "\n",
       "       [[0, 0, 0, ..., 0, 0, 0],\n",
       "        [0, 0, 0, ..., 0, 0, 0],\n",
       "        [0, 0, 0, ..., 0, 0, 0],\n",
       "        ...,\n",
       "        [0, 0, 0, ..., 0, 0, 0],\n",
       "        [0, 0, 0, ..., 0, 0, 0],\n",
       "        [0, 0, 0, ..., 0, 0, 0]],\n",
       "\n",
       "       ...,\n",
       "\n",
       "       [[0, 0, 0, ..., 0, 0, 0],\n",
       "        [0, 0, 0, ..., 0, 0, 0],\n",
       "        [0, 0, 0, ..., 0, 0, 0],\n",
       "        ...,\n",
       "        [0, 0, 0, ..., 0, 0, 0],\n",
       "        [0, 0, 0, ..., 0, 0, 0],\n",
       "        [0, 0, 0, ..., 0, 0, 0]],\n",
       "\n",
       "       [[0, 0, 0, ..., 0, 0, 0],\n",
       "        [0, 0, 0, ..., 0, 0, 0],\n",
       "        [0, 0, 0, ..., 0, 0, 0],\n",
       "        ...,\n",
       "        [0, 0, 0, ..., 0, 0, 0],\n",
       "        [0, 0, 0, ..., 0, 0, 0],\n",
       "        [0, 0, 0, ..., 0, 0, 0]],\n",
       "\n",
       "       [[0, 0, 0, ..., 0, 0, 0],\n",
       "        [0, 0, 0, ..., 0, 0, 0],\n",
       "        [0, 0, 0, ..., 0, 0, 0],\n",
       "        ...,\n",
       "        [0, 0, 0, ..., 0, 0, 0],\n",
       "        [0, 0, 0, ..., 0, 0, 0],\n",
       "        [0, 0, 0, ..., 0, 0, 0]]], dtype=uint8)"
      ]
     },
     "execution_count": 8,
     "metadata": {},
     "output_type": "execute_result"
    }
   ],
   "source": [
    "x_train_full"
   ]
  },
  {
   "cell_type": "markdown",
   "metadata": {},
   "source": [
    "- 검증 셋 생성"
   ]
  },
  {
   "cell_type": "code",
   "execution_count": 9,
   "metadata": {},
   "outputs": [],
   "source": [
    "x_valid, x_train = x_train_full[:5000]/255.0, x_train_full[5000:]/255.0 #x train \n",
    "y_valid, y_train = y_train_full[:5000], y_train_full[5000:]\n",
    "x_test = x_test / 255.0 \n",
    "\n",
    "#근데 저렇게 255.0으로 나눠주는 이유는 잘 모르겠다."
   ]
  },
  {
   "cell_type": "markdown",
   "metadata": {},
   "source": [
    "- 클래스 이름의 리스트를 만들어야 함"
   ]
  },
  {
   "cell_type": "code",
   "execution_count": 10,
   "metadata": {},
   "outputs": [],
   "source": [
    "class_names = ['T-shirt/top', 'Trouser', 'Pullover', 'Dress', 'Coat', 'Sandal', 'Shirt', 'Sneaker', 'Bag', 'Ankle Boot']"
   ]
  },
  {
   "cell_type": "code",
   "execution_count": 11,
   "metadata": {},
   "outputs": [
    {
     "data": {
      "text/plain": [
       "'Coat'"
      ]
     },
     "execution_count": 11,
     "metadata": {},
     "output_type": "execute_result"
    }
   ],
   "source": [
    "class_names[y_train[0]]"
   ]
  },
  {
   "cell_type": "markdown",
   "metadata": {},
   "source": [
    "### 시퀀셜 API를 사용하여 모델 구축"
   ]
  },
  {
   "cell_type": "markdown",
   "metadata": {},
   "source": [
    "- 두 개의 은닉층을 가진 분류용 다층 퍼셉트론"
   ]
  },
  {
   "cell_type": "code",
   "execution_count": 12,
   "metadata": {},
   "outputs": [],
   "source": [
    "model = keras.models.Sequential() #순서대로 층을 쌓아서 구성한다고 한다. 이게 시퀀셜 API\n",
    "model.add(keras.layers.Flatten(input_shape = [28,28])) #이미지를 1D 배열로 변환 \n",
    "model.add(keras.layers.Dense(300, activation = 'relu')) #뉴런 300개를 가진 층. 활성화함수는 relu\n",
    "model.add(keras.layers.Dense(100, activation = 'relu')) #뉴런 100개를 가진 층. 활성화함수는 relu\n",
    "model.add(keras.layers.Dense(10, activation = 'softmax')) #뉴런 10개를 가진 층. 활성화함수는 softmax\n",
    "\n",
    "#<Tip>\n",
    "#activation = 'relu' 와 activation = keras.activations.relu는 같다"
   ]
  },
  {
   "cell_type": "markdown",
   "metadata": {},
   "source": [
    "- Sequential을 만들 때 매 층의 리스트를 전달할 수 있다!"
   ]
  },
  {
   "cell_type": "code",
   "execution_count": 13,
   "metadata": {},
   "outputs": [],
   "source": [
    "model = keras.models.Sequential([\n",
    "    keras.layers.Flatten(input_shape = [28,28]),\n",
    "    keras.layers.Dense(300, activation = 'relu'),\n",
    "    keras.layers.Dense(100, activation = 'relu'),\n",
    "    keras.layers.Dense(10, activation = 'softmax')\n",
    "])"
   ]
  },
  {
   "cell_type": "markdown",
   "metadata": {},
   "source": [
    "소프트맥스로 다중분류를 진행하는 것이다"
   ]
  },
  {
   "cell_type": "code",
   "execution_count": 14,
   "metadata": {},
   "outputs": [
    {
     "name": "stdout",
     "output_type": "stream",
     "text": [
      "Model: \"sequential_1\"\n",
      "_________________________________________________________________\n",
      "Layer (type)                 Output Shape              Param #   \n",
      "=================================================================\n",
      "flatten_1 (Flatten)          (None, 784)               0         \n",
      "_________________________________________________________________\n",
      "dense_3 (Dense)              (None, 300)               235500    \n",
      "_________________________________________________________________\n",
      "dense_4 (Dense)              (None, 100)               30100     \n",
      "_________________________________________________________________\n",
      "dense_5 (Dense)              (None, 10)                1010      \n",
      "=================================================================\n",
      "Total params: 266,610\n",
      "Trainable params: 266,610\n",
      "Non-trainable params: 0\n",
      "_________________________________________________________________\n"
     ]
    }
   ],
   "source": [
    "model.summary()"
   ]
  },
  {
   "cell_type": "code",
   "execution_count": 15,
   "metadata": {},
   "outputs": [
    {
     "data": {
      "image/png": "[encoded data removed]",
      "text/plain": [
       "<IPython.core.display.Image object>"
      ]
     },
     "execution_count": 15,
     "metadata": {},
     "output_type": "execute_result"
    }
   ],
   "source": [
    "#이렇게 하면 모델 구조를 이미지로 출력이 가능하다\n",
    "keras.utils.plot_model(model = model)"
   ]
  },
  {
   "cell_type": "code",
   "execution_count": 16,
   "metadata": {},
   "outputs": [
    {
     "data": {
      "text/plain": [
       "[<tensorflow.python.keras.layers.core.Flatten at 0x1ecb388b940>,\n",
       " <tensorflow.python.keras.layers.core.Dense at 0x1ecb388b460>,\n",
       " <tensorflow.python.keras.layers.core.Dense at 0x1ecba646bb0>,\n",
       " <tensorflow.python.keras.layers.core.Dense at 0x1ecba646f70>]"
      ]
     },
     "execution_count": 16,
     "metadata": {},
     "output_type": "execute_result"
    }
   ],
   "source": [
    "model.layers"
   ]
  },
  {
   "cell_type": "code",
   "execution_count": 17,
   "metadata": {},
   "outputs": [],
   "source": [
    "hidden1 = model.layers[1]"
   ]
  },
  {
   "cell_type": "code",
   "execution_count": 18,
   "metadata": {},
   "outputs": [
    {
     "data": {
      "text/plain": [
       "'dense_3'"
      ]
     },
     "execution_count": 18,
     "metadata": {},
     "output_type": "execute_result"
    }
   ],
   "source": [
    "hidden1.name"
   ]
  },
  {
   "cell_type": "markdown",
   "metadata": {},
   "source": [
    "파라미터는 get_weights() 메서드와 set_weights() 메서드를 사용하여 접근할 수 있다."
   ]
  },
  {
   "cell_type": "code",
   "execution_count": 19,
   "metadata": {},
   "outputs": [
    {
     "name": "stdout",
     "output_type": "stream",
     "text": [
      "[[ 0.0024398  -0.06316719 -0.04827747 ... -0.00110519  0.0455807\n",
      "  -0.05581113]\n",
      " [ 0.07027765 -0.04545637  0.05266657 ...  0.00559402 -0.07429979\n",
      "  -0.00379019]\n",
      " [ 0.0233745   0.01643875  0.04743613 ...  0.04742641 -0.0244611\n",
      "  -0.02427645]\n",
      " ...\n",
      " [ 0.05651143 -0.05630855 -0.00991859 ... -0.02457278 -0.02685426\n",
      "   0.03867081]\n",
      " [-0.01979803  0.05968675 -0.03511517 ...  0.03002142  0.02707467\n",
      "  -0.00889505]\n",
      " [ 0.03053873  0.02516851  0.05322169 ...  0.00826491 -0.06320181\n",
      "   0.07149203]]\n",
      "(784, 300)\n"
     ]
    }
   ],
   "source": [
    "weights, biases = hidden1.get_weights()\n",
    "print(weights)\n",
    "print(weights.shape)"
   ]
  },
  {
   "cell_type": "markdown",
   "metadata": {},
   "source": [
    "input 이었던 784개에 대해 각 300개의 뉴런에 대응하는 가중치가 있다! 한 뉴런에는 784개의 가중치 값이 있고, 이러한 뉴런이 300개가 있으니 784 x 300의 array가 생기는 형식"
   ]
  },
  {
   "cell_type": "code",
   "execution_count": 20,
   "metadata": {},
   "outputs": [
    {
     "data": {
      "text/plain": [
       "array([0., 0., 0., 0., 0., 0., 0., 0., 0., 0., 0., 0., 0., 0., 0., 0., 0.,\n",
       "       0., 0., 0., 0., 0., 0., 0., 0., 0., 0., 0., 0., 0., 0., 0., 0., 0.,\n",
       "       0., 0., 0., 0., 0., 0., 0., 0., 0., 0., 0., 0., 0., 0., 0., 0., 0.,\n",
       "       0., 0., 0., 0., 0., 0., 0., 0., 0., 0., 0., 0., 0., 0., 0., 0., 0.,\n",
       "       0., 0., 0., 0., 0., 0., 0., 0., 0., 0., 0., 0., 0., 0., 0., 0., 0.,\n",
       "       0., 0., 0., 0., 0., 0., 0., 0., 0., 0., 0., 0., 0., 0., 0., 0., 0.,\n",
       "       0., 0., 0., 0., 0., 0., 0., 0., 0., 0., 0., 0., 0., 0., 0., 0., 0.,\n",
       "       0., 0., 0., 0., 0., 0., 0., 0., 0., 0., 0., 0., 0., 0., 0., 0., 0.,\n",
       "       0., 0., 0., 0., 0., 0., 0., 0., 0., 0., 0., 0., 0., 0., 0., 0., 0.,\n",
       "       0., 0., 0., 0., 0., 0., 0., 0., 0., 0., 0., 0., 0., 0., 0., 0., 0.,\n",
       "       0., 0., 0., 0., 0., 0., 0., 0., 0., 0., 0., 0., 0., 0., 0., 0., 0.,\n",
       "       0., 0., 0., 0., 0., 0., 0., 0., 0., 0., 0., 0., 0., 0., 0., 0., 0.,\n",
       "       0., 0., 0., 0., 0., 0., 0., 0., 0., 0., 0., 0., 0., 0., 0., 0., 0.,\n",
       "       0., 0., 0., 0., 0., 0., 0., 0., 0., 0., 0., 0., 0., 0., 0., 0., 0.,\n",
       "       0., 0., 0., 0., 0., 0., 0., 0., 0., 0., 0., 0., 0., 0., 0., 0., 0.,\n",
       "       0., 0., 0., 0., 0., 0., 0., 0., 0., 0., 0., 0., 0., 0., 0., 0., 0.,\n",
       "       0., 0., 0., 0., 0., 0., 0., 0., 0., 0., 0., 0., 0., 0., 0., 0., 0.,\n",
       "       0., 0., 0., 0., 0., 0., 0., 0., 0., 0., 0.], dtype=float32)"
      ]
     },
     "execution_count": 20,
     "metadata": {},
     "output_type": "execute_result"
    }
   ],
   "source": [
    "biases"
   ]
  },
  {
   "cell_type": "code",
   "execution_count": 21,
   "metadata": {},
   "outputs": [
    {
     "data": {
      "text/plain": [
       "(300,)"
      ]
     },
     "execution_count": 21,
     "metadata": {},
     "output_type": "execute_result"
    }
   ],
   "source": [
    "biases.shape"
   ]
  },
  {
   "cell_type": "markdown",
   "metadata": {},
   "source": [
    "Dense의 첫번째 층은 대칭성을 깨뜨리기 위해 연결 가중치를 무작위로 섞음! 그래서 weight가 무작위로 선정돼 있는 것이다.(모두 1이면 같은 뉴런이 된다)\n",
    "bias는 0으로 초기화 됨 "
   ]
  },
  {
   "cell_type": "markdown",
   "metadata": {},
   "source": [
    "### model compile"
   ]
  },
  {
   "cell_type": "markdown",
   "metadata": {},
   "source": [
    "compile 매서드를 통해 손실 함수와 옵티마이저를 지정해야 함"
   ]
  },
  {
   "cell_type": "code",
   "execution_count": 22,
   "metadata": {},
   "outputs": [],
   "source": [
    "model.compile(loss = 'sparse_categorical_crossentropy', \n",
    "             optimizer = 'sgd', #stocastic gradient descent\n",
    "              metrics = ['accuracy'] #훈련과 평가 시에 정확도를 측정하기 위해 accuracy를 사용!\n",
    "             )"
   ]
  },
  {
   "cell_type": "markdown",
   "metadata": {},
   "source": [
    "### model train and validation"
   ]
  },
  {
   "cell_type": "code",
   "execution_count": 23,
   "metadata": {},
   "outputs": [],
   "source": [
    "import numpy as np\n",
    "\n",
    "np.random.seed(1234)\n",
    "history = model.fit(x = x_train, y = y_train, epochs = 30 #30번 반복?\n",
    "                   , validation_data = (x_valid, y_valid) #이렇게 검증 셋을 지정해줄 수 있음\n",
    "                   ,verbose = 0) # 더이상 결과가 창에 뜨지 않는다!"
   ]
  },
  {
   "cell_type": "markdown",
   "metadata": {},
   "source": [
    "|\n",
    "> 상당히 크리티컬한 내용 : 클래스가 편중돼 있을 경우, 클래스에 가중치를 부여할 수 있다. class_weight를 통해서 적게 등장하는 클래스에 높은 가중치를 부여하고, 많이 등장하는 클래스에 낮은 가중치를 부여하면 된다"
   ]
  },
  {
   "cell_type": "markdown",
   "metadata": {},
   "source": [
    "- fit 메서드가 반환하는 객체\n",
    "\n",
    "1)훈련 파라미터, 2)수행된 에포크 리스트, <span style=\"color:lightblue\">**3)에포크가 끝날때마다 훈련 세트와 검증 세트에 대한 손실과 측정한 지표를 담은 딕셔너리**</span>\n",
    "\n"
   ]
  },
  {
   "cell_type": "code",
   "execution_count": 24,
   "metadata": {},
   "outputs": [
    {
     "data": {
      "image/png": "[encoded data removed]",
      "text/plain": [
       "<Figure size 576x360 with 1 Axes>"
      ]
     },
     "metadata": {
      "needs_background": "light"
     },
     "output_type": "display_data"
    }
   ],
   "source": [
    "import pandas as pd\n",
    "import matplotlib.pyplot as plt\n",
    "\n",
    "pd.DataFrame(history.history).plot(figsize = (8,5))\n",
    "plt.grid(True)\n",
    "plt.gca().set_ylim(0,1)\n",
    "plt.show()\n"
   ]
  },
  {
   "cell_type": "markdown",
   "metadata": {},
   "source": [
    "> 검승 손실은 에포크가 끝난 후에 계산되고, 훈련 손실은 에포크가 진행되는 동안 계산되기 때문에, 훈련 곡선은 에포크의 절반만큼 왼쪽으로 이동해야 한다.\n",
    "\n",
    "> train을 계속하고 싶다면 fit() 메서드를 이용하면, 중지되었던 곳부터 다시 시작하게 될 것이다.\n",
    "\n",
    "> **가장 먼저 튜닝해야할 hyperparameter는 학습률!!**"
   ]
  },
  {
   "cell_type": "markdown",
   "metadata": {},
   "source": [
    "- holdout set 예측\n",
    "\n",
    "모델 상용화 이전에 모델의 일반화 오차를 추정할 수 있다."
   ]
  },
  {
   "cell_type": "code",
   "execution_count": 25,
   "metadata": {},
   "outputs": [
    {
     "name": "stdout",
     "output_type": "stream",
     "text": [
      "313/313 [==============================] - 0s 1ms/step - loss: 0.3242 - accuracy: 0.8857\n"
     ]
    },
    {
     "data": {
      "text/plain": [
       "[0.3242146372795105, 0.885699987411499]"
      ]
     },
     "execution_count": 25,
     "metadata": {},
     "output_type": "execute_result"
    }
   ],
   "source": [
    "model.evaluate(x_test, y_test)"
   ]
  },
  {
   "cell_type": "markdown",
   "metadata": {},
   "source": [
    "### Predict"
   ]
  },
  {
   "cell_type": "markdown",
   "metadata": {},
   "source": [
    "새로운 샘플에 대해 예측을 진행할 수 있다"
   ]
  },
  {
   "cell_type": "code",
   "execution_count": 26,
   "metadata": {},
   "outputs": [
    {
     "data": {
      "text/plain": [
       "array([[0.  , 0.  , 0.  , 0.  , 0.  , 0.  , 0.  , 0.01, 0.  , 0.98],\n",
       "       [0.  , 0.  , 0.99, 0.  , 0.01, 0.  , 0.  , 0.  , 0.  , 0.  ],\n",
       "       [0.  , 1.  , 0.  , 0.  , 0.  , 0.  , 0.  , 0.  , 0.  , 0.  ]],\n",
       "      dtype=float32)"
      ]
     },
     "execution_count": 26,
     "metadata": {},
     "output_type": "execute_result"
    }
   ],
   "source": [
    "x_new = x_test[:3]\n",
    "y_proba = model.predict(x_new)\n",
    "\n",
    "y_proba.round(2)"
   ]
  },
  {
   "cell_type": "markdown",
   "metadata": {},
   "source": [
    "> class : ['T-shirt/top', 'Trouser', 'Pullover', 'Dress', 'Coat', 'Sandal', 'Shirt', 'Sneaker', 'Bag', 'Ankle Boot']"
   ]
  },
  {
   "cell_type": "markdown",
   "metadata": {},
   "source": [
    "> 해석 : 첫번째 이미지에 대해서는 9클래스(ankle boot)일 확률이 99%, 7클래스(sneaker)일 확률이 1%라고 예측한 것이다."
   ]
  },
  {
   "cell_type": "markdown",
   "metadata": {},
   "source": [
    "predict_classes()라는 메서드를 통해 클래스만 분류할 수 있다."
   ]
  },
  {
   "cell_type": "code",
   "execution_count": 27,
   "metadata": {},
   "outputs": [
    {
     "data": {
      "text/plain": [
       "array(['Ankle Boot', 'Pullover', 'Trouser'], dtype='<U11')"
      ]
     },
     "execution_count": 27,
     "metadata": {},
     "output_type": "execute_result"
    }
   ],
   "source": [
    "import warnings\n",
    "\n",
    "warnings.filterwarnings(action='ignore')\n",
    "\n",
    "import numpy as np\n",
    "\n",
    "y_pred = model.predict_classes(x_new)\n",
    "y_pred\n",
    "\n",
    "np.array(class_names)[y_pred]"
   ]
  },
  {
   "cell_type": "code",
   "execution_count": 28,
   "metadata": {},
   "outputs": [
    {
     "data": {
      "text/plain": [
       "array([9, 2, 1], dtype=uint8)"
      ]
     },
     "execution_count": 28,
     "metadata": {},
     "output_type": "execute_result"
    }
   ],
   "source": [
    "y_new = y_test[:3]\n",
    "\n",
    "y_new"
   ]
  },
  {
   "cell_type": "markdown",
   "metadata": {},
   "source": [
    "## 10.2.3 회귀용 다층 퍼셉트론 생성 "
   ]
  },
  {
   "cell_type": "code",
   "execution_count": 29,
   "metadata": {},
   "outputs": [],
   "source": [
    "from sklearn.datasets import fetch_california_housing\n",
    "from sklearn.model_selection import train_test_split\n",
    "from sklearn.preprocessing import StandardScaler\n",
    "from sklearn import metrics\n",
    "import numpy as np\n",
    "#데이터 적재\n",
    "housing = fetch_california_housing()\n",
    "\n",
    "#train test 데이터 분할\n",
    "x_train_full, x_test, y_train_full, y_test = train_test_split(housing.data, housing.target)\n",
    "\n",
    "#train - valid 데이터 분할\n",
    "x_train, x_valid, y_train, y_valid = train_test_split(x_train_full, y_train_full)\n",
    "\n",
    "#표준화 작업을 거쳐주는 것 같다.\n",
    "scaler = StandardScaler()\n",
    "x_train = scaler.fit_transform(x_train)\n",
    "x_valid = scaler.fit_transform(x_valid)\n",
    "x_test = scaler.fit_transform(x_test)"
   ]
  },
  {
   "cell_type": "code",
   "execution_count": 30,
   "metadata": {},
   "outputs": [
    {
     "name": "stdout",
     "output_type": "stream",
     "text": [
      "['MedInc', 'HouseAge', 'AveRooms', 'AveBedrms', 'Population', 'AveOccup', 'Latitude', 'Longitude']\n",
      " *데이터 : [ 8.30140000e+00  2.10000000e+01  6.23813708e+00  9.71880492e-01\n",
      "  2.40100000e+03  2.10984183e+00  3.78600000e+01 -1.22220000e+02] \n",
      " *예측변수 : 3.585 \n"
     ]
    }
   ],
   "source": [
    "#housing은 무슨 데이터인가\n",
    "print(housing['feature_names']) \n",
    "\n",
    "print(\" *데이터 : {0} \\n *예측변수 : {1} \".format(housing['data'][1], housing['target'][1]))"
   ]
  },
  {
   "cell_type": "code",
   "execution_count": 31,
   "metadata": {},
   "outputs": [
    {
     "data": {
      "text/plain": [
       "(15480, 8)"
      ]
     },
     "execution_count": 31,
     "metadata": {},
     "output_type": "execute_result"
    }
   ],
   "source": [
    "x_train_full.shape"
   ]
  },
  {
   "cell_type": "markdown",
   "metadata": {},
   "source": [
    "총 8개의 변수를 가진 15480 obs의 데이터 "
   ]
  },
  {
   "cell_type": "markdown",
   "metadata": {},
   "source": [
    "- 모델 구축"
   ]
  },
  {
   "cell_type": "code",
   "execution_count": 32,
   "metadata": {},
   "outputs": [],
   "source": [
    "np.random.seed(100)\n",
    "model_reg = keras.models.Sequential([\n",
    "    keras.layers.Dense(30, activation = 'relu', input_shape = x_train.shape[1:]), #30개의 뉴런! relu를 활성화로 가짐\n",
    "    keras.layers.Dense(1)    #출력은 활성화함수가 없는 하나의 뉴런이다.\n",
    "])\n",
    "\n",
    "#모델을 학습하자\n",
    "model_reg.compile(loss = 'mean_squared_error', optimizer = 'sgd')\n",
    "history = model_reg.fit(x_train, y_train, epochs = 30,\n",
    "                   validation_data = (x_valid, y_valid), verbose = 0)\n",
    "\n",
    "#사실 층이 1층이라서 연산시간이 생각보다 짧다"
   ]
  },
  {
   "cell_type": "code",
   "execution_count": 33,
   "metadata": {},
   "outputs": [
    {
     "data": {
      "image/png": "[encoded data removed]",
      "text/plain": [
       "<Figure size 576x360 with 1 Axes>"
      ]
     },
     "metadata": {
      "needs_background": "light"
     },
     "output_type": "display_data"
    }
   ],
   "source": [
    "import pandas as pd\n",
    "import matplotlib.pyplot as plt\n",
    "\n",
    "pd.DataFrame(history.history).plot(figsize = (8,5))\n",
    "plt.grid(True)\n",
    "plt.gca().set_ylim(0,1)\n",
    "plt.show()\n",
    "\n",
    "#이상하게도 validation에 대해서도 상당한 과적합이 나와버린다... 이상한 방향으로 학습을 진행하고 있는 것 같음\n",
    "#즉 epochs가 한 2~3정도가 적절한 파라미터임을 보여주는 것이다."
   ]
  },
  {
   "cell_type": "code",
   "execution_count": 34,
   "metadata": {},
   "outputs": [
    {
     "name": "stdout",
     "output_type": "stream",
     "text": [
      "162/162 [==============================] - 0s 732us/step - loss: 0.3715\n"
     ]
    }
   ],
   "source": [
    "#hold out에 대한 예측\n",
    "mse_test = model_reg.evaluate(x_test, y_test)"
   ]
  },
  {
   "cell_type": "code",
   "execution_count": 35,
   "metadata": {},
   "outputs": [
    {
     "data": {
      "text/plain": [
       "1.4066467412957089"
      ]
     },
     "execution_count": 35,
     "metadata": {},
     "output_type": "execute_result"
    }
   ],
   "source": [
    "from sklearn import metrics\n",
    "#새로운 데이터에 대해 예측\n",
    "x_new = x_test[:3]\n",
    "y_pred = model_reg.predict(x_new)\n",
    "metrics.mean_squared_error(y_pred, y_test[:3])"
   ]
  },
  {
   "cell_type": "markdown",
   "metadata": {},
   "source": [
    "대충 정리하자면 Keras Sequential API를 이용한 모형 구축은\n",
    "\n",
    "> 1) kreas.models.Sequential 을 이용하여 모델 구축 \n",
    "\n",
    "> 2) 모델 compile - 손실함수와 옵티마이저(ex 경사하강법) , 부가적으로 훈련과 평가시 계산할 지표 또한 지정 가능(metrics), 이는 단순히 측정 지표이다\n",
    "\n",
    "> 3) fit()메서드를 통해 모델 훈련 및 predict를 통한 값 에측"
   ]
  },
  {
   "cell_type": "markdown",
   "metadata": {},
   "source": [
    "## 10.2.4 함수형 API를 사용하여 복잡한 모델 구축"
   ]
  },
  {
   "cell_type": "code",
   "execution_count": 36,
   "metadata": {},
   "outputs": [],
   "source": [
    "#input 객체 생성 - shape과 dtype을 이용하여 input을 구축\n",
    "input_ = keras.layers.Input(shape = x_train.shape[1:])\n",
    "\n",
    "#Dense층 생성\n",
    "hidden1 = keras.layers.Dense(30, activation = 'relu')(input_)\n",
    "hidden2 = keras.layers.Dense(30, activation = 'relu')(hidden1) #뒤에 이렇게 함수처럼 넣을 객체를 지정해준다.\n",
    "#함수처럼이 무슨 의미냐면 sum()처럼 만들자마자 위의 값을 함수처럼 넣는다는 의미\n",
    "\n",
    "#concatenate층으로 *두번째 은닉층과 input층을 연결해준다.*\n",
    "concat = keras.layers.Concatenate()([input_, hidden2])\n",
    "#이게 왜 생긴거냐면 와이드 경로는 입력의 일부 또는 전체가 바로 출력층으로 전달! 그래서 와이드 신경망을 구축하기 위해 넣은 것이라 생각하면 된다.\n",
    "\n",
    "#출력층 만들기 - concat을 받는다는 것은 input의 값과 hidden2의 출력값을 여기서 출력해준다는 의미다.\n",
    "output = keras.layers.Dense(1)(concat)\n",
    "\n",
    "#input과 output을 만들어 케라스 모델을 구축한다\n",
    "model = keras.Model(inputs = [input_], outputs = [output])"
   ]
  },
  {
   "cell_type": "markdown",
   "metadata": {},
   "source": [
    "- 입력층 두개 만들기"
   ]
  },
  {
   "cell_type": "code",
   "execution_count": 37,
   "metadata": {},
   "outputs": [],
   "source": [
    "#5개의 특성은 짧은 경로로 보내고, 6개의 특성은 깊은 경로로 보낸다고 가정\n",
    "\n",
    "#input층 만들기\n",
    "input_A = keras.layers.Input(shape = [5], name = 'wide_input')\n",
    "input_B = keras.layers.Input(shape = [6], name = 'deep_input')\n",
    "\n",
    "#Dense층 만들기\n",
    "hidden1 = keras.layers.Dense(30, activation = 'relu')(input_B)\n",
    "hidden2 = keras.layers.Dense(30, activation = 'relu')(hidden1) \n",
    "\n",
    "#concatenate층 만들기\n",
    "concat = keras.layers.Concatenate()([input_A, hidden2])\n",
    "\n",
    "#output층 만들기\n",
    "output = keras.layers.Dense(1, name = 'output')(concat)\n",
    "\n",
    "#input과 output을 통해 케라스 모델 구축\n",
    "model2 = keras.Model(inputs = [input_A, input_B], outputs = [output])"
   ]
  },
  {
   "cell_type": "markdown",
   "metadata": {},
   "source": [
    "위 경우 학습할 때 튜플 형태인 x_train_A, x_train_B 이렇게 보내줘야 한다. "
   ]
  },
  {
   "cell_type": "code",
   "execution_count": 38,
   "metadata": {},
   "outputs": [],
   "source": [
    "np.random.seed(1234)\n",
    "\n",
    "#model complie - 손실함수와 옵티마이저 구축 \n",
    "model2.compile(loss = 'mse', optimizer = keras.optimizers.SGD(lr = 0.001))\n",
    "\n",
    "#train, valid, test셋 나누기\n",
    "x_train_A,  x_train_B = x_train[:,:5], x_train[:, 2:] #0에서 4번까지의 특성은 A로, 2번에서 7번까지의 특성은 B로 보낸다. 여기서 특성은 변수인 것 같다.\n",
    "x_valid_A,  x_valid_B = x_valid[:,:5], x_valid[:, 2:] \n",
    "x_test_A,  x_test_B = x_test[:,:5], x_test[:, 2:]\n",
    "x_new_A, x_new_B = x_test_A[:3], x_test_B[:3]\n",
    "\n",
    "#model fit 하기\n",
    "history2 = model2.fit((x_train_A, x_train_B), y_train, epochs = 30,\n",
    "                     validation_data = ((x_valid_A, x_valid_B), y_valid), verbose = 0)\n"
   ]
  },
  {
   "cell_type": "code",
   "execution_count": 39,
   "metadata": {},
   "outputs": [
    {
     "name": "stdout",
     "output_type": "stream",
     "text": [
      "162/162 [==============================] - 0s 811us/step - loss: 0.4563\n"
     ]
    }
   ],
   "source": [
    "#holdout에 대한 결과!\n",
    "mse_test = model2.evaluate((x_test_A, x_test_B), y_test)\n"
   ]
  },
  {
   "cell_type": "code",
   "execution_count": 40,
   "metadata": {},
   "outputs": [
    {
     "data": {
      "text/plain": [
       "2.6299900293329754"
      ]
     },
     "execution_count": 40,
     "metadata": {},
     "output_type": "execute_result"
    }
   ],
   "source": [
    "from sklearn import metrics\n",
    "\n",
    "#새로운 데이터 예측\n",
    "y_pred = model2.predict((x_new_A, x_new_B))\n",
    "\n",
    "#예측한 데이터 평가\n",
    "metrics.mean_squared_error(y_true = y_test[:3], y_pred = y_pred)"
   ]
  },
  {
   "cell_type": "markdown",
   "metadata": {},
   "source": [
    "- 출력 여러개 만들기"
   ]
  },
  {
   "cell_type": "markdown",
   "metadata": {},
   "source": [
    "에를 들어 얼굴 사진을 분류할때 한 출력은 사람의 얼굴 표정(기쁨, 슬픔 등)을 분류하고 다른 출력은 안경을 썼는지 구별한다면, 아주 편한 모델을 구축할 수 있다"
   ]
  },
  {
   "cell_type": "code",
   "execution_count": 41,
   "metadata": {},
   "outputs": [],
   "source": [
    "#5개의 특성은 짧은 경로로 보내고, 6개의 특성은 깊은 경로로 보낸다고 가정 + 출력을 두개로 나눈다고 해보자.\n",
    "\n",
    "#input층 만들기\n",
    "input_A = keras.layers.Input(shape = [5], name = 'wide_input')\n",
    "input_B = keras.layers.Input(shape = [6], name = 'deep_input')\n",
    "\n",
    "#Dense층 만들기\n",
    "hidden1 = keras.layers.Dense(30, activation = 'relu')(input_B)\n",
    "hidden2 = keras.layers.Dense(30, activation = 'relu')(hidden1) \n",
    "\n",
    "#concatenate층 만들기\n",
    "concat = keras.layers.Concatenate()([input_A, hidden2])\n",
    "\n",
    "#이전까지는 위와 동일\n",
    "output = keras.layers.Dense(1, name = 'output')(concat)\n",
    "aux_output = keras.layers.Dense(1, name = 'aux_output')(hidden2) #hidden2만 사용해서!\n",
    "\n",
    "#모형 구축 - output을 두개 넣어주면 된다.\n",
    "model3 = keras.Model(inputs = [input_A, input_B], outputs = [output, aux_output])\n"
   ]
  },
  {
   "cell_type": "code",
   "execution_count": 42,
   "metadata": {},
   "outputs": [],
   "source": [
    "#각 출력은 자신만의 손실함수가 필요 + 각 출력에 가중치를 다르게 할당할 수 있다\n",
    "model3.compile(loss = ['mse', 'mse'], loss_weights = [0.9, 0.1], optimizer = 'sgd')"
   ]
  },
  {
   "cell_type": "code",
   "execution_count": 43,
   "metadata": {},
   "outputs": [],
   "source": [
    "# 각 출력에 대한 레이블을 제공해야 한다. 여기서는 주 출력과 보조출력이 같은 것을 예측해야 하므로 동일한 레이블을 사용한다.\n",
    "history3 = model3.fit(\n",
    "x = ([x_train_A, x_train_B]), y = ([y_train, y_train]), epochs= 30,\n",
    "    validation_data = ([x_valid_A, x_valid_B], [y_valid, y_valid]), verbose = 0\n",
    ")"
   ]
  },
  {
   "cell_type": "code",
   "execution_count": 44,
   "metadata": {},
   "outputs": [
    {
     "data": {
      "image/png": "[encoded data removed]",
      "text/plain": [
       "<Figure size 1440x720 with 1 Axes>"
      ]
     },
     "metadata": {
      "needs_background": "light"
     },
     "output_type": "display_data"
    }
   ],
   "source": [
    "import matplotlib.pyplot as plt\n",
    "\n",
    "pd.DataFrame(history3.history).plot(figsize = (20,10))\n",
    "plt.grid(True)\n",
    "plt.show()"
   ]
  },
  {
   "cell_type": "code",
   "execution_count": 45,
   "metadata": {},
   "outputs": [
    {
     "name": "stdout",
     "output_type": "stream",
     "text": [
      "162/162 [==============================] - 0s 855us/step - loss: 0.3819 - output_loss: 0.3662 - aux_output_loss: 0.5233\n"
     ]
    }
   ],
   "source": [
    "#holdout에 대한 예측\n",
    "total_loss, main_loss, aux_loss = model3.evaluate(\n",
    "    [x_test_A, x_test_B], [y_test, y_test]\n",
    ")"
   ]
  },
  {
   "cell_type": "code",
   "execution_count": 46,
   "metadata": {},
   "outputs": [],
   "source": [
    "y_pred_main, y_pred_aux = model3.predict([x_new_A, x_new_B])"
   ]
  },
  {
   "cell_type": "markdown",
   "metadata": {},
   "source": [
    "함수형 API를 이용하면 상당히 유연한 모델을 구축할 수 있는 것으로 사료된다."
   ]
  },
  {
   "cell_type": "markdown",
   "metadata": {},
   "source": [
    "만약 여기에 분류 모형을 구축하려면? 당연히 output Dense에 활성화함수를 'softmax'나 'sigmoid'로 해주면 된다."
   ]
  },
  {
   "cell_type": "markdown",
   "metadata": {},
   "source": [
    "## 10.2.5 서브클래싱 API로 동적 모델 구축"
   ]
  },
  {
   "cell_type": "markdown",
   "metadata": {},
   "source": [
    "함수형 API는 먼저 연결방식을 정의한 뒤에 모델에 데이터를 주입하여 훈련이나 추론을 시작하게 된다. \n",
    "\n",
    "반복문을 포함하고 다양한 크기를 다루어야 하며, 조건문을 가지기 위해서는 동적인 구조가 필요! 이때는 서브클래싱 API를 사용해야 한다."
   ]
  },
  {
   "cell_type": "code",
   "execution_count": 47,
   "metadata": {},
   "outputs": [
    {
     "ename": "TypeError",
     "evalue": "__init__() missing 2 required positional arguments: 'units' and 'activation'",
     "output_type": "error",
     "traceback": [
      "\u001b[1;31m---------------------------------------------------------------------------\u001b[0m",
      "\u001b[1;31mTypeError\u001b[0m                                 Traceback (most recent call last)",
      "\u001b[1;32m<ipython-input-47-31fb402ff1d2>\u001b[0m in \u001b[0;36m<module>\u001b[1;34m\u001b[0m\n\u001b[0;32m     19\u001b[0m         \u001b[1;32mreturn\u001b[0m \u001b[0mmain_output\u001b[0m\u001b[1;33m,\u001b[0m \u001b[0maux_output\u001b[0m\u001b[1;33m\u001b[0m\u001b[1;33m\u001b[0m\u001b[0m\n\u001b[0;32m     20\u001b[0m \u001b[1;33m\u001b[0m\u001b[0m\n\u001b[1;32m---> 21\u001b[1;33m \u001b[0mmodel\u001b[0m \u001b[1;33m=\u001b[0m \u001b[0mWideAndDeepModel\u001b[0m\u001b[1;33m(\u001b[0m\u001b[1;33m)\u001b[0m\u001b[1;33m\u001b[0m\u001b[1;33m\u001b[0m\u001b[0m\n\u001b[0m",
      "\u001b[1;31mTypeError\u001b[0m: __init__() missing 2 required positional arguments: 'units' and 'activation'"
     ]
    }
   ],
   "source": [
    "class WideAndDeepModel(keras.Model) : \n",
    "    \n",
    "    def __init__(self, units, activation, **kwargs) : \n",
    "        \n",
    "        super().__init(**kwargs) #class에서 넣은 keras.Model을 상속받는다! 이 함수는 초기화를 재사용한다는 것이다!\n",
    "        \n",
    "        self.hidden1 = keras.layers.Dense(units, activation = activation) #hidden1 레이어 초기화\n",
    "        self.hidden2 = keras.layers.Dense(units, activation = activation) #hidden2 레이어 초기화\n",
    "        self.main_output = keras.layers.Dense(1) #main_output 초기화\n",
    "        self.aux_output = keras.layers.Dense(1) #보조 output 초기화\n",
    "        \n",
    "    def call(self, inputs) : \n",
    "        input_A, input_B = inputs\n",
    "        hidden1 = self.hidden(input_B)\n",
    "        hidden2 = self.hidden2(hidden1)\n",
    "        concat = keras.layers.concatenate([input_A, hidden2])\n",
    "        main_output = self.main_output(concat)\n",
    "        aux_output = self.aux_output(hidden2)\n",
    "        return main_output, aux_output\n",
    "    \n",
    "model = WideAndDeepModel()"
   ]
  },
  {
   "cell_type": "markdown",
   "metadata": {},
   "source": [
    "위 코드를 실행하지는 않겠지만 해당 방식으로 유연하게 만들 수 있다는 것 같다.\n",
    "\n",
    "call 메서드의 input 매개변수를 활용할 수 있다!\n",
    "\n",
    "call 메서드 내에서 for문 if문 등 다양한 연산을 활용할 수 있다는 것이 강점!"
   ]
  },
  {
   "cell_type": "markdown",
   "metadata": {},
   "source": [
    "## 10.2.6 모델 저장과 복원"
   ]
  },
  {
   "cell_type": "code",
   "execution_count": 48,
   "metadata": {},
   "outputs": [
    {
     "data": {
      "text/plain": [
       "<tensorflow.python.keras.callbacks.History at 0x1ecbb26bbb0>"
      ]
     },
     "execution_count": 48,
     "metadata": {},
     "output_type": "execute_result"
    }
   ],
   "source": [
    "#위에서 만들었던 2개의 input과 보조출력을 함께 출력하는 모델을 저장해보자\n",
    "#input층 만들기\n",
    "input_A = keras.layers.Input(shape = [5], name = 'wide_input')\n",
    "input_B = keras.layers.Input(shape = [6], name = 'deep_input')\n",
    "\n",
    "#Dense층 만들기\n",
    "hidden1 = keras.layers.Dense(30, activation = 'relu')(input_B)\n",
    "hidden2 = keras.layers.Dense(30, activation = 'relu')(hidden1) \n",
    "\n",
    "#concatenate층 만들기\n",
    "concat = keras.layers.Concatenate()([input_A, hidden2])\n",
    "\n",
    "#이전까지는 위와 동일\n",
    "output = keras.layers.Dense(1, name = 'output')(concat)\n",
    "aux_output = keras.layers.Dense(1, name = 'aux_output')(hidden2) #hidden2만 사용해서!\n",
    "\n",
    "#모형 구축 - output을 두개 넣어주면 된다.\n",
    "model3 = keras.Model(inputs = [input_A, input_B], outputs = [output, aux_output])\n",
    "\n",
    "#각 출력은 자신만의 손실함수가 필요 + 각 출력에 가중치를 다르게 할당할 수 있다\n",
    "model3.compile(loss = ['mse', 'mse'], loss_weights = [0.9, 0.1], optimizer = 'sgd')\n",
    "\n",
    "# 각 출력에 대한 레이블을 제공해야 한다. 여기서는 주 출력과 보조출력이 같은 것을 예측해야 하므로 동일한 레이블을 사용한다.\n",
    "model3.fit(\n",
    "x = ([x_train_A, x_train_B]), y = ([y_train, y_train]), epochs= 20,\n",
    "    validation_data = ([x_valid_A, x_valid_B], [y_valid, y_valid])\n",
    ",verbose = 0)"
   ]
  },
  {
   "cell_type": "code",
   "execution_count": 49,
   "metadata": {},
   "outputs": [],
   "source": [
    "model3.save(\"my_keras_model.h5\")"
   ]
  },
  {
   "cell_type": "code",
   "execution_count": 50,
   "metadata": {},
   "outputs": [],
   "source": [
    "model = keras.models.load_model('my_keras_model.h5')"
   ]
  },
  {
   "cell_type": "markdown",
   "metadata": {},
   "source": [
    "## 10.2.7 콜백 사용하기"
   ]
  },
  {
   "cell_type": "code",
   "execution_count": 51,
   "metadata": {},
   "outputs": [
    {
     "name": "stdout",
     "output_type": "stream",
     "text": [
      "Epoch 1/100\n",
      "363/363 [==============================] - 1s 2ms/step - loss: 1.5949 - output_loss: 1.4702 - aux_output_loss: 2.7173 - val_loss: 0.5807 - val_output_loss: 0.5148 - val_aux_output_loss: 1.1735\n",
      "Epoch 2/100\n",
      "363/363 [==============================] - 0s 1ms/step - loss: 0.5764 - output_loss: 0.5117 - aux_output_loss: 1.1585 - val_loss: 0.4776 - val_output_loss: 0.4302 - val_aux_output_loss: 0.9037\n",
      "Epoch 3/100\n",
      "363/363 [==============================] - 1s 1ms/step - loss: 0.5387 - output_loss: 0.4935 - aux_output_loss: 0.9455 - val_loss: 0.4613 - val_output_loss: 0.4284 - val_aux_output_loss: 0.7571\n",
      "Epoch 4/100\n",
      "363/363 [==============================] - 1s 1ms/step - loss: 0.4946 - output_loss: 0.4621 - aux_output_loss: 0.7871 - val_loss: 0.4613 - val_output_loss: 0.4369 - val_aux_output_loss: 0.6809\n",
      "Epoch 5/100\n",
      "363/363 [==============================] - 1s 1ms/step - loss: 0.4703 - output_loss: 0.4441 - aux_output_loss: 0.7064 - val_loss: 0.5102 - val_output_loss: 0.4902 - val_aux_output_loss: 0.6899\n",
      "Epoch 6/100\n",
      "363/363 [==============================] - 1s 1ms/step - loss: 0.4677 - output_loss: 0.4445 - aux_output_loss: 0.6766 - val_loss: 0.4672 - val_output_loss: 0.4448 - val_aux_output_loss: 0.6686\n",
      "Epoch 7/100\n",
      "363/363 [==============================] - 1s 1ms/step - loss: 0.4609 - output_loss: 0.4406 - aux_output_loss: 0.6431 - val_loss: 0.5346 - val_output_loss: 0.5129 - val_aux_output_loss: 0.7299\n",
      "Epoch 8/100\n",
      "363/363 [==============================] - 1s 1ms/step - loss: 0.4422 - output_loss: 0.4235 - aux_output_loss: 0.6106 - val_loss: 0.5311 - val_output_loss: 0.5070 - val_aux_output_loss: 0.7475\n",
      "Epoch 9/100\n",
      "363/363 [==============================] - 1s 1ms/step - loss: 0.4639 - output_loss: 0.4470 - aux_output_loss: 0.6159 - val_loss: 0.6416 - val_output_loss: 0.6168 - val_aux_output_loss: 0.8654\n",
      "Epoch 10/100\n",
      "363/363 [==============================] - 1s 1ms/step - loss: 0.4351 - output_loss: 0.4174 - aux_output_loss: 0.5937 - val_loss: 0.6925 - val_output_loss: 0.6671 - val_aux_output_loss: 0.9214\n",
      "Epoch 11/100\n",
      "363/363 [==============================] - 1s 1ms/step - loss: 0.4444 - output_loss: 0.4271 - aux_output_loss: 0.6004 - val_loss: 0.7398 - val_output_loss: 0.7130 - val_aux_output_loss: 0.9802\n",
      "Epoch 12/100\n",
      "363/363 [==============================] - 1s 1ms/step - loss: 0.4188 - output_loss: 0.4037 - aux_output_loss: 0.5547 - val_loss: 0.8998 - val_output_loss: 0.8743 - val_aux_output_loss: 1.1285\n",
      "Epoch 13/100\n",
      "363/363 [==============================] - 1s 1ms/step - loss: 0.4045 - output_loss: 0.3882 - aux_output_loss: 0.5518 - val_loss: 1.1305 - val_output_loss: 1.1044 - val_aux_output_loss: 1.3650\n",
      "Epoch 14/100\n",
      "363/363 [==============================] - 1s 1ms/step - loss: 0.4155 - output_loss: 0.4003 - aux_output_loss: 0.5518 - val_loss: 1.1203 - val_output_loss: 1.0906 - val_aux_output_loss: 1.3878\n"
     ]
    }
   ],
   "source": [
    "#모델 만들고 컴파일 \n",
    "input_A = keras.layers.Input(shape = [5], name = 'wide_input')\n",
    "input_B = keras.layers.Input(shape = [6], name = 'deep_input')\n",
    "hidden1 = keras.layers.Dense(30, activation = 'relu')(input_B)\n",
    "hidden2 = keras.layers.Dense(30, activation = 'relu')(hidden1) \n",
    "concat = keras.layers.Concatenate()([input_A, hidden2])\n",
    "output = keras.layers.Dense(1, name = 'output')(concat)\n",
    "aux_output = keras.layers.Dense(1, name = 'aux_output')(hidden2) #hidden2만 사용해서!\n",
    "model3 = keras.Model(inputs = [input_A, input_B], outputs = [output, aux_output])\n",
    "model3.compile(loss = ['mse', 'mse'], loss_weights = [0.9, 0.1], optimizer = 'sgd')\n",
    "\n",
    "#call백으로 긴 학습시간에 갑자기 꺼지는 것을 우려하지 않아도 된다.\n",
    "checkpoint_cb = keras.callbacks.ModelCheckpoint('my_keras_model.h5', save_best_only = True) #최상의 검증세트에서만 모델을 저장함\n",
    "early_stopping_cb = keras.callbacks.EarlyStopping(patience = 10, restore_best_weights=True) #성이 향상되지 않으면 훈련을 멈추고 저장한다!\n",
    "                                                  \n",
    "                                                  \n",
    "#훈련을 진행!\n",
    "history = model3.fit(\n",
    "x = ([x_train_A, x_train_B]), y = ([y_train, y_train]), epochs= 100,\n",
    "    validation_data = ([x_valid_A, x_valid_B], [y_valid, y_valid]), callbacks = [checkpoint_cb, early_stopping_cb])"
   ]
  },
  {
   "cell_type": "code",
   "execution_count": 52,
   "metadata": {},
   "outputs": [],
   "source": [
    "model_good = keras.models.load_model('my_keras_model.h5')"
   ]
  },
  {
   "cell_type": "markdown",
   "metadata": {},
   "source": [
    "## 10.2.8 텐서보드를 활용해 시각화"
   ]
  },
  {
   "cell_type": "code",
   "execution_count": 53,
   "metadata": {},
   "outputs": [],
   "source": [
    "#텐서보드 로그를 위해 사용할 루트 로그 디렉터리를 정의\n",
    "import os\n",
    "root_logdir = os.path.join(os.curdir, 'my_logs') #현재 dir에 my_logs라는 폴더를 만들고 이를 root_logdir에 저장한다\n",
    "\n",
    "#실행할때마다 다른 서브디렉터리 경로를 생성하는 |함수도 생성 \n",
    "def get_run_log_dir() : \n",
    "    import time\n",
    "    run_id = time.strftime('run_%Y_%m_%d-%H_%M_%S')\n",
    "    return os.path.join(root_logdir, run_id) #실행할때마다 현재시점의 폴더를 생성한다. \n",
    "\n",
    "run_logdir = get_run_log_dir()"
   ]
  },
  {
   "cell_type": "code",
   "execution_count": 54,
   "metadata": {},
   "outputs": [],
   "source": [
    "np.random.seed(1234)\n",
    "\n",
    "#모델 만들고 컴파일 \n",
    "input_A = keras.layers.Input(shape = [5], name = 'wide_input')\n",
    "input_B = keras.layers.Input(shape = [6], name = 'deep_input')\n",
    "hidden1 = keras.layers.Dense(30, activation = 'relu')(input_B)\n",
    "hidden2 = keras.layers.Dense(30, activation = 'relu')(hidden1) \n",
    "concat = keras.layers.Concatenate()([input_A, hidden2])\n",
    "output = keras.layers.Dense(1, name = 'output')(concat)\n",
    "aux_output = keras.layers.Dense(1, name = 'aux_output')(hidden2) #hidden2만 사용해서!\n",
    "model3 = keras.Model(inputs = [input_A, input_B], outputs = [output, aux_output])\n",
    "model3.compile(loss = ['mse', 'mse'], loss_weights = [0.9, 0.1], optimizer = 'sgd')\n",
    "\n",
    "#텐서보드 시행\n",
    "tensorboard_cb = keras.callbacks.TensorBoard(run_logdir)\n",
    "history = model3.fit(\n",
    "x = ([x_train_A, x_train_B]), y = ([y_train, y_train]), epochs= 100,\n",
    "    validation_data = ([x_valid_A, x_valid_B], [y_valid, y_valid]), callbacks = [tensorboard_cb]\n",
    ",verbose = 0)"
   ]
  },
  {
   "cell_type": "markdown",
   "metadata": {},
   "source": [
    "> 현재 파이썬을 실행시킨 디렉토리 (나의 경우 deep_learning폴더)에서 tensorboard --logdir=./my_logs --port=6006을 실행시키고\n",
    "\n",
    "> http://localhost:6006 을 쳐주면 된다"
   ]
  },
  {
   "cell_type": "markdown",
   "metadata": {},
   "source": [
    "텐서보드는 주피터 내에서도 볼 수 있다"
   ]
  },
  {
   "cell_type": "code",
   "execution_count": 55,
   "metadata": {},
   "outputs": [
    {
     "data": {
      "text/plain": [
       "Launching TensorBoard..."
      ]
     },
     "metadata": {},
     "output_type": "display_data"
    },
    {
     "ename": "KeyboardInterrupt",
     "evalue": "",
     "output_type": "error",
     "traceback": [
      "\u001b[1;31m---------------------------------------------------------------------------\u001b[0m",
      "\u001b[1;31mKeyboardInterrupt\u001b[0m                         Traceback (most recent call last)",
      "\u001b[1;32m<ipython-input-55-fc21116b3e4c>\u001b[0m in \u001b[0;36m<module>\u001b[1;34m\u001b[0m\n\u001b[0;32m      1\u001b[0m \u001b[0mget_ipython\u001b[0m\u001b[1;33m(\u001b[0m\u001b[1;33m)\u001b[0m\u001b[1;33m.\u001b[0m\u001b[0mrun_line_magic\u001b[0m\u001b[1;33m(\u001b[0m\u001b[1;34m'load_ext'\u001b[0m\u001b[1;33m,\u001b[0m \u001b[1;34m'tensorboard'\u001b[0m\u001b[1;33m)\u001b[0m\u001b[1;33m\u001b[0m\u001b[1;33m\u001b[0m\u001b[0m\n\u001b[1;32m----> 2\u001b[1;33m \u001b[0mget_ipython\u001b[0m\u001b[1;33m(\u001b[0m\u001b[1;33m)\u001b[0m\u001b[1;33m.\u001b[0m\u001b[0mrun_line_magic\u001b[0m\u001b[1;33m(\u001b[0m\u001b[1;34m'tensorboard'\u001b[0m\u001b[1;33m,\u001b[0m \u001b[1;34m'--logdir=./my_logs --port=6006'\u001b[0m\u001b[1;33m)\u001b[0m\u001b[1;33m\u001b[0m\u001b[1;33m\u001b[0m\u001b[0m\n\u001b[0m",
      "\u001b[1;32m~\\anaconda3\\lib\\site-packages\\IPython\\core\\interactiveshell.py\u001b[0m in \u001b[0;36mrun_line_magic\u001b[1;34m(self, magic_name, line, _stack_depth)\u001b[0m\n\u001b[0;32m   2325\u001b[0m                 \u001b[0mkwargs\u001b[0m\u001b[1;33m[\u001b[0m\u001b[1;34m'local_ns'\u001b[0m\u001b[1;33m]\u001b[0m \u001b[1;33m=\u001b[0m \u001b[0mself\u001b[0m\u001b[1;33m.\u001b[0m\u001b[0mget_local_scope\u001b[0m\u001b[1;33m(\u001b[0m\u001b[0mstack_depth\u001b[0m\u001b[1;33m)\u001b[0m\u001b[1;33m\u001b[0m\u001b[1;33m\u001b[0m\u001b[0m\n\u001b[0;32m   2326\u001b[0m             \u001b[1;32mwith\u001b[0m \u001b[0mself\u001b[0m\u001b[1;33m.\u001b[0m\u001b[0mbuiltin_trap\u001b[0m\u001b[1;33m:\u001b[0m\u001b[1;33m\u001b[0m\u001b[1;33m\u001b[0m\u001b[0m\n\u001b[1;32m-> 2327\u001b[1;33m                 \u001b[0mresult\u001b[0m \u001b[1;33m=\u001b[0m \u001b[0mfn\u001b[0m\u001b[1;33m(\u001b[0m\u001b[1;33m*\u001b[0m\u001b[0margs\u001b[0m\u001b[1;33m,\u001b[0m \u001b[1;33m**\u001b[0m\u001b[0mkwargs\u001b[0m\u001b[1;33m)\u001b[0m\u001b[1;33m\u001b[0m\u001b[1;33m\u001b[0m\u001b[0m\n\u001b[0m\u001b[0;32m   2328\u001b[0m             \u001b[1;32mreturn\u001b[0m \u001b[0mresult\u001b[0m\u001b[1;33m\u001b[0m\u001b[1;33m\u001b[0m\u001b[0m\n\u001b[0;32m   2329\u001b[0m \u001b[1;33m\u001b[0m\u001b[0m\n",
      "\u001b[1;32m~\\anaconda3\\lib\\site-packages\\tensorboard\\notebook.py\u001b[0m in \u001b[0;36m_start_magic\u001b[1;34m(line)\u001b[0m\n\u001b[0;32m    126\u001b[0m \u001b[1;32mdef\u001b[0m \u001b[0m_start_magic\u001b[0m\u001b[1;33m(\u001b[0m\u001b[0mline\u001b[0m\u001b[1;33m)\u001b[0m\u001b[1;33m:\u001b[0m\u001b[1;33m\u001b[0m\u001b[1;33m\u001b[0m\u001b[0m\n\u001b[0;32m    127\u001b[0m     \u001b[1;34m\"\"\"Implementation of the `%tensorboard` line magic.\"\"\"\u001b[0m\u001b[1;33m\u001b[0m\u001b[1;33m\u001b[0m\u001b[0m\n\u001b[1;32m--> 128\u001b[1;33m     \u001b[1;32mreturn\u001b[0m \u001b[0mstart\u001b[0m\u001b[1;33m(\u001b[0m\u001b[0mline\u001b[0m\u001b[1;33m)\u001b[0m\u001b[1;33m\u001b[0m\u001b[1;33m\u001b[0m\u001b[0m\n\u001b[0m\u001b[0;32m    129\u001b[0m \u001b[1;33m\u001b[0m\u001b[0m\n\u001b[0;32m    130\u001b[0m \u001b[1;33m\u001b[0m\u001b[0m\n",
      "\u001b[1;32m~\\anaconda3\\lib\\site-packages\\tensorboard\\notebook.py\u001b[0m in \u001b[0;36mstart\u001b[1;34m(args_string)\u001b[0m\n\u001b[0;32m    160\u001b[0m \u001b[1;33m\u001b[0m\u001b[0m\n\u001b[0;32m    161\u001b[0m     \u001b[0mparsed_args\u001b[0m \u001b[1;33m=\u001b[0m \u001b[0mshlex\u001b[0m\u001b[1;33m.\u001b[0m\u001b[0msplit\u001b[0m\u001b[1;33m(\u001b[0m\u001b[0margs_string\u001b[0m\u001b[1;33m,\u001b[0m \u001b[0mcomments\u001b[0m\u001b[1;33m=\u001b[0m\u001b[1;32mTrue\u001b[0m\u001b[1;33m,\u001b[0m \u001b[0mposix\u001b[0m\u001b[1;33m=\u001b[0m\u001b[1;32mTrue\u001b[0m\u001b[1;33m)\u001b[0m\u001b[1;33m\u001b[0m\u001b[1;33m\u001b[0m\u001b[0m\n\u001b[1;32m--> 162\u001b[1;33m     \u001b[0mstart_result\u001b[0m \u001b[1;33m=\u001b[0m \u001b[0mmanager\u001b[0m\u001b[1;33m.\u001b[0m\u001b[0mstart\u001b[0m\u001b[1;33m(\u001b[0m\u001b[0mparsed_args\u001b[0m\u001b[1;33m)\u001b[0m\u001b[1;33m\u001b[0m\u001b[1;33m\u001b[0m\u001b[0m\n\u001b[0m\u001b[0;32m    163\u001b[0m \u001b[1;33m\u001b[0m\u001b[0m\n\u001b[0;32m    164\u001b[0m     \u001b[1;32mif\u001b[0m \u001b[0misinstance\u001b[0m\u001b[1;33m(\u001b[0m\u001b[0mstart_result\u001b[0m\u001b[1;33m,\u001b[0m \u001b[0mmanager\u001b[0m\u001b[1;33m.\u001b[0m\u001b[0mStartLaunched\u001b[0m\u001b[1;33m)\u001b[0m\u001b[1;33m:\u001b[0m\u001b[1;33m\u001b[0m\u001b[1;33m\u001b[0m\u001b[0m\n",
      "\u001b[1;32m~\\anaconda3\\lib\\site-packages\\tensorboard\\manager.py\u001b[0m in \u001b[0;36mstart\u001b[1;34m(arguments, timeout)\u001b[0m\n\u001b[0;32m    423\u001b[0m     \u001b[0mend_time_seconds\u001b[0m \u001b[1;33m=\u001b[0m \u001b[0mstart_time_seconds\u001b[0m \u001b[1;33m+\u001b[0m \u001b[0mtimeout\u001b[0m\u001b[1;33m.\u001b[0m\u001b[0mtotal_seconds\u001b[0m\u001b[1;33m(\u001b[0m\u001b[1;33m)\u001b[0m\u001b[1;33m\u001b[0m\u001b[1;33m\u001b[0m\u001b[0m\n\u001b[0;32m    424\u001b[0m     \u001b[1;32mwhile\u001b[0m \u001b[0mtime\u001b[0m\u001b[1;33m.\u001b[0m\u001b[0mtime\u001b[0m\u001b[1;33m(\u001b[0m\u001b[1;33m)\u001b[0m \u001b[1;33m<\u001b[0m \u001b[0mend_time_seconds\u001b[0m\u001b[1;33m:\u001b[0m\u001b[1;33m\u001b[0m\u001b[1;33m\u001b[0m\u001b[0m\n\u001b[1;32m--> 425\u001b[1;33m         \u001b[0mtime\u001b[0m\u001b[1;33m.\u001b[0m\u001b[0msleep\u001b[0m\u001b[1;33m(\u001b[0m\u001b[0mpoll_interval_seconds\u001b[0m\u001b[1;33m)\u001b[0m\u001b[1;33m\u001b[0m\u001b[1;33m\u001b[0m\u001b[0m\n\u001b[0m\u001b[0;32m    426\u001b[0m         \u001b[0msubprocess_result\u001b[0m \u001b[1;33m=\u001b[0m \u001b[0mp\u001b[0m\u001b[1;33m.\u001b[0m\u001b[0mpoll\u001b[0m\u001b[1;33m(\u001b[0m\u001b[1;33m)\u001b[0m\u001b[1;33m\u001b[0m\u001b[1;33m\u001b[0m\u001b[0m\n\u001b[0;32m    427\u001b[0m         \u001b[1;32mif\u001b[0m \u001b[0msubprocess_result\u001b[0m \u001b[1;32mis\u001b[0m \u001b[1;32mnot\u001b[0m \u001b[1;32mNone\u001b[0m\u001b[1;33m:\u001b[0m\u001b[1;33m\u001b[0m\u001b[1;33m\u001b[0m\u001b[0m\n",
      "\u001b[1;31mKeyboardInterrupt\u001b[0m: "
     ]
    }
   ],
   "source": [
    "%load_ext tensorboard\n",
    "%tensorboard --logdir=./my_logs --port=6006"
   ]
  },
  {
   "cell_type": "markdown",
   "metadata": {},
   "source": [
    "tensorboard를 잘 활용하면 좋은 도구가 될 수 있다고 한다."
   ]
  },
  {
   "cell_type": "code",
   "execution_count": 56,
   "metadata": {},
   "outputs": [
    {
     "ename": "KeyboardInterrupt",
     "evalue": "",
     "output_type": "error",
     "traceback": [
      "\u001b[1;31m---------------------------------------------------------------------------\u001b[0m",
      "\u001b[1;31mKeyboardInterrupt\u001b[0m                         Traceback (most recent call last)",
      "\u001b[1;32m<ipython-input-56-e3807817e9c1>\u001b[0m in \u001b[0;36m<module>\u001b[1;34m\u001b[0m\n\u001b[0;32m     20\u001b[0m         \u001b[0msine_wave\u001b[0m \u001b[1;33m=\u001b[0m \u001b[0mtf\u001b[0m\u001b[1;33m.\u001b[0m\u001b[0mmath\u001b[0m\u001b[1;33m.\u001b[0m\u001b[0msin\u001b[0m\u001b[1;33m(\u001b[0m\u001b[0mtf\u001b[0m\u001b[1;33m.\u001b[0m\u001b[0mrange\u001b[0m\u001b[1;33m(\u001b[0m\u001b[1;36m12000\u001b[0m\u001b[1;33m)\u001b[0m\u001b[1;33m/\u001b[0m\u001b[1;36m48000\u001b[0m\u001b[1;33m*\u001b[0m\u001b[1;36m2\u001b[0m\u001b[1;33m*\u001b[0m\u001b[0mnp\u001b[0m\u001b[1;33m.\u001b[0m\u001b[0mpi\u001b[0m\u001b[1;33m*\u001b[0m\u001b[0mstep\u001b[0m\u001b[1;33m)\u001b[0m\u001b[1;33m\u001b[0m\u001b[1;33m\u001b[0m\u001b[0m\n\u001b[0;32m     21\u001b[0m         \u001b[0maudio\u001b[0m \u001b[1;33m=\u001b[0m \u001b[0mtf\u001b[0m\u001b[1;33m.\u001b[0m\u001b[0mreshape\u001b[0m\u001b[1;33m(\u001b[0m\u001b[0mtf\u001b[0m\u001b[1;33m.\u001b[0m\u001b[0mcast\u001b[0m\u001b[1;33m(\u001b[0m\u001b[0msine_wave\u001b[0m\u001b[1;33m,\u001b[0m \u001b[0mtf\u001b[0m\u001b[1;33m.\u001b[0m\u001b[0mfloat32\u001b[0m\u001b[1;33m)\u001b[0m\u001b[1;33m,\u001b[0m \u001b[1;33m[\u001b[0m\u001b[1;36m1\u001b[0m\u001b[1;33m,\u001b[0m \u001b[1;33m-\u001b[0m\u001b[1;36m1\u001b[0m\u001b[1;33m,\u001b[0m \u001b[1;36m1\u001b[0m\u001b[1;33m]\u001b[0m\u001b[1;33m)\u001b[0m\u001b[1;33m\u001b[0m\u001b[1;33m\u001b[0m\u001b[0m\n\u001b[1;32m---> 22\u001b[1;33m         \u001b[0mtf\u001b[0m\u001b[1;33m.\u001b[0m\u001b[0msummary\u001b[0m\u001b[1;33m.\u001b[0m\u001b[0maudio\u001b[0m\u001b[1;33m(\u001b[0m\u001b[1;34m'my_audio'\u001b[0m\u001b[1;33m,\u001b[0m \u001b[0maudio\u001b[0m\u001b[1;33m,\u001b[0m \u001b[0msample_rate\u001b[0m\u001b[1;33m=\u001b[0m\u001b[1;36m48000\u001b[0m\u001b[1;33m,\u001b[0m \u001b[0mstep\u001b[0m \u001b[1;33m=\u001b[0m \u001b[0mstep\u001b[0m\u001b[1;33m)\u001b[0m\u001b[1;33m\u001b[0m\u001b[1;33m\u001b[0m\u001b[0m\n\u001b[0m",
      "\u001b[1;32m~\\anaconda3\\lib\\site-packages\\tensorboard\\plugins\\audio\\summary_v2.py\u001b[0m in \u001b[0;36maudio\u001b[1;34m(name, data, sample_rate, step, max_outputs, encoding, description)\u001b[0m\n\u001b[0;32m    124\u001b[0m         \u001b[1;31m# To ensure that audio encoding logic is only executed when summaries\u001b[0m\u001b[1;33m\u001b[0m\u001b[1;33m\u001b[0m\u001b[1;33m\u001b[0m\u001b[0m\n\u001b[0;32m    125\u001b[0m         \u001b[1;31m# are written, we pass callable to `tensor` parameter.\u001b[0m\u001b[1;33m\u001b[0m\u001b[1;33m\u001b[0m\u001b[1;33m\u001b[0m\u001b[0m\n\u001b[1;32m--> 126\u001b[1;33m         return tf.summary.write(\n\u001b[0m\u001b[0;32m    127\u001b[0m             \u001b[0mtag\u001b[0m\u001b[1;33m=\u001b[0m\u001b[0mtag\u001b[0m\u001b[1;33m,\u001b[0m \u001b[0mtensor\u001b[0m\u001b[1;33m=\u001b[0m\u001b[0mlazy_tensor\u001b[0m\u001b[1;33m,\u001b[0m \u001b[0mstep\u001b[0m\u001b[1;33m=\u001b[0m\u001b[0mstep\u001b[0m\u001b[1;33m,\u001b[0m \u001b[0mmetadata\u001b[0m\u001b[1;33m=\u001b[0m\u001b[0msummary_metadata\u001b[0m\u001b[1;33m\u001b[0m\u001b[1;33m\u001b[0m\u001b[0m\n\u001b[0;32m    128\u001b[0m         )\n",
      "\u001b[1;32m~\\anaconda3\\lib\\site-packages\\tensorflow\\python\\ops\\summary_ops_v2.py\u001b[0m in \u001b[0;36mwrite\u001b[1;34m(tag, tensor, step, metadata, name)\u001b[0m\n\u001b[0;32m    772\u001b[0m           \u001b[1;32mreturn\u001b[0m \u001b[0mconstant_op\u001b[0m\u001b[1;33m.\u001b[0m\u001b[0mconstant\u001b[0m\u001b[1;33m(\u001b[0m\u001b[1;32mTrue\u001b[0m\u001b[1;33m)\u001b[0m\u001b[1;33m\u001b[0m\u001b[1;33m\u001b[0m\u001b[0m\n\u001b[0;32m    773\u001b[0m \u001b[1;33m\u001b[0m\u001b[0m\n\u001b[1;32m--> 774\u001b[1;33m     op = smart_cond.smart_cond(\n\u001b[0m\u001b[0;32m    775\u001b[0m         _should_record_summaries_v2(), record, _nothing, name=\"summary_cond\")\n\u001b[0;32m    776\u001b[0m     \u001b[1;32mif\u001b[0m \u001b[1;32mnot\u001b[0m \u001b[0mcontext\u001b[0m\u001b[1;33m.\u001b[0m\u001b[0mexecuting_eagerly\u001b[0m\u001b[1;33m(\u001b[0m\u001b[1;33m)\u001b[0m\u001b[1;33m:\u001b[0m\u001b[1;33m\u001b[0m\u001b[1;33m\u001b[0m\u001b[0m\n",
      "\u001b[1;32m~\\anaconda3\\lib\\site-packages\\tensorflow\\python\\framework\\smart_cond.py\u001b[0m in \u001b[0;36msmart_cond\u001b[1;34m(pred, true_fn, false_fn, name)\u001b[0m\n\u001b[0;32m     52\u001b[0m   \u001b[1;32mif\u001b[0m \u001b[0mpred_value\u001b[0m \u001b[1;32mis\u001b[0m \u001b[1;32mnot\u001b[0m \u001b[1;32mNone\u001b[0m\u001b[1;33m:\u001b[0m\u001b[1;33m\u001b[0m\u001b[1;33m\u001b[0m\u001b[0m\n\u001b[0;32m     53\u001b[0m     \u001b[1;32mif\u001b[0m \u001b[0mpred_value\u001b[0m\u001b[1;33m:\u001b[0m\u001b[1;33m\u001b[0m\u001b[1;33m\u001b[0m\u001b[0m\n\u001b[1;32m---> 54\u001b[1;33m       \u001b[1;32mreturn\u001b[0m \u001b[0mtrue_fn\u001b[0m\u001b[1;33m(\u001b[0m\u001b[1;33m)\u001b[0m\u001b[1;33m\u001b[0m\u001b[1;33m\u001b[0m\u001b[0m\n\u001b[0m\u001b[0;32m     55\u001b[0m     \u001b[1;32melse\u001b[0m\u001b[1;33m:\u001b[0m\u001b[1;33m\u001b[0m\u001b[1;33m\u001b[0m\u001b[0m\n\u001b[0;32m     56\u001b[0m       \u001b[1;32mreturn\u001b[0m \u001b[0mfalse_fn\u001b[0m\u001b[1;33m(\u001b[0m\u001b[1;33m)\u001b[0m\u001b[1;33m\u001b[0m\u001b[1;33m\u001b[0m\u001b[0m\n",
      "\u001b[1;32m~\\anaconda3\\lib\\site-packages\\tensorflow\\python\\ops\\summary_ops_v2.py\u001b[0m in \u001b[0;36mrecord\u001b[1;34m()\u001b[0m\n\u001b[0;32m    760\u001b[0m       \u001b[1;31m# Note the identity to move the tensor to the CPU.\u001b[0m\u001b[1;33m\u001b[0m\u001b[1;33m\u001b[0m\u001b[1;33m\u001b[0m\u001b[0m\n\u001b[0;32m    761\u001b[0m       \u001b[1;32mwith\u001b[0m \u001b[0mops\u001b[0m\u001b[1;33m.\u001b[0m\u001b[0mdevice\u001b[0m\u001b[1;33m(\u001b[0m\u001b[1;34m\"cpu:0\"\u001b[0m\u001b[1;33m)\u001b[0m\u001b[1;33m:\u001b[0m\u001b[1;33m\u001b[0m\u001b[1;33m\u001b[0m\u001b[0m\n\u001b[1;32m--> 762\u001b[1;33m         summary_tensor = tensor() if callable(tensor) else array_ops.identity(\n\u001b[0m\u001b[0;32m    763\u001b[0m             tensor)\n\u001b[0;32m    764\u001b[0m         write_summary_op = gen_summary_ops.write_summary(\n",
      "\u001b[1;32m~\\anaconda3\\lib\\site-packages\\tensorboard\\util\\lazy_tensor_creator.py\u001b[0m in \u001b[0;36m__call__\u001b[1;34m(self)\u001b[0m\n\u001b[0;32m     64\u001b[0m                 \u001b[1;32melif\u001b[0m \u001b[0mself\u001b[0m\u001b[1;33m.\u001b[0m\u001b[0m_tensor\u001b[0m \u001b[1;32mis\u001b[0m \u001b[1;32mNone\u001b[0m\u001b[1;33m:\u001b[0m\u001b[1;33m\u001b[0m\u001b[1;33m\u001b[0m\u001b[0m\n\u001b[0;32m     65\u001b[0m                     \u001b[0mself\u001b[0m\u001b[1;33m.\u001b[0m\u001b[0m_tensor\u001b[0m \u001b[1;33m=\u001b[0m \u001b[0m_CALL_IN_PROGRESS_SENTINEL\u001b[0m\u001b[1;33m\u001b[0m\u001b[1;33m\u001b[0m\u001b[0m\n\u001b[1;32m---> 66\u001b[1;33m                     \u001b[0mself\u001b[0m\u001b[1;33m.\u001b[0m\u001b[0m_tensor\u001b[0m \u001b[1;33m=\u001b[0m \u001b[0mself\u001b[0m\u001b[1;33m.\u001b[0m\u001b[0m_tensor_callable\u001b[0m\u001b[1;33m(\u001b[0m\u001b[1;33m)\u001b[0m\u001b[1;33m\u001b[0m\u001b[1;33m\u001b[0m\u001b[0m\n\u001b[0m\u001b[0;32m     67\u001b[0m         \u001b[1;32mreturn\u001b[0m \u001b[0mself\u001b[0m\u001b[1;33m.\u001b[0m\u001b[0m_tensor\u001b[0m\u001b[1;33m\u001b[0m\u001b[1;33m\u001b[0m\u001b[0m\n\u001b[0;32m     68\u001b[0m \u001b[1;33m\u001b[0m\u001b[0m\n",
      "\u001b[1;32m~\\anaconda3\\lib\\site-packages\\tensorboard\\plugins\\audio\\summary_v2.py\u001b[0m in \u001b[0;36mlazy_tensor\u001b[1;34m()\u001b[0m\n\u001b[0;32m    107\u001b[0m                 \u001b[0maudio_ops\u001b[0m\u001b[1;33m.\u001b[0m\u001b[0mencode_wav\u001b[0m\u001b[1;33m,\u001b[0m \u001b[0msample_rate\u001b[0m\u001b[1;33m=\u001b[0m\u001b[0msample_rate\u001b[0m\u001b[1;33m\u001b[0m\u001b[1;33m\u001b[0m\u001b[0m\n\u001b[0;32m    108\u001b[0m             )\n\u001b[1;32m--> 109\u001b[1;33m             encoded_audio = tf.map_fn(\n\u001b[0m\u001b[0;32m    110\u001b[0m                 \u001b[0mencode_fn\u001b[0m\u001b[1;33m,\u001b[0m\u001b[1;33m\u001b[0m\u001b[1;33m\u001b[0m\u001b[0m\n\u001b[0;32m    111\u001b[0m                 \u001b[0mlimited_audio\u001b[0m\u001b[1;33m,\u001b[0m\u001b[1;33m\u001b[0m\u001b[1;33m\u001b[0m\u001b[0m\n",
      "\u001b[1;32m~\\anaconda3\\lib\\site-packages\\tensorflow\\python\\util\\deprecation.py\u001b[0m in \u001b[0;36mnew_func\u001b[1;34m(*args, **kwargs)\u001b[0m\n\u001b[0;32m    603\u001b[0m                   \u001b[0mfunc\u001b[0m\u001b[1;33m.\u001b[0m\u001b[0m__module__\u001b[0m\u001b[1;33m,\u001b[0m \u001b[0marg_name\u001b[0m\u001b[1;33m,\u001b[0m \u001b[0marg_value\u001b[0m\u001b[1;33m,\u001b[0m \u001b[1;34m'in a future version'\u001b[0m\u001b[1;33m\u001b[0m\u001b[1;33m\u001b[0m\u001b[0m\n\u001b[0;32m    604\u001b[0m                   if date is None else ('after %s' % date), instructions)\n\u001b[1;32m--> 605\u001b[1;33m       \u001b[1;32mreturn\u001b[0m \u001b[0mfunc\u001b[0m\u001b[1;33m(\u001b[0m\u001b[1;33m*\u001b[0m\u001b[0margs\u001b[0m\u001b[1;33m,\u001b[0m \u001b[1;33m**\u001b[0m\u001b[0mkwargs\u001b[0m\u001b[1;33m)\u001b[0m\u001b[1;33m\u001b[0m\u001b[1;33m\u001b[0m\u001b[0m\n\u001b[0m\u001b[0;32m    606\u001b[0m \u001b[1;33m\u001b[0m\u001b[0m\n\u001b[0;32m    607\u001b[0m     doc = _add_deprecated_arg_value_notice_to_docstring(\n",
      "\u001b[1;32m~\\anaconda3\\lib\\site-packages\\tensorflow\\python\\util\\deprecation.py\u001b[0m in \u001b[0;36mnew_func\u001b[1;34m(*args, **kwargs)\u001b[0m\n\u001b[0;32m    536\u001b[0m                 \u001b[1;34m'in a future version'\u001b[0m \u001b[1;32mif\u001b[0m \u001b[0mdate\u001b[0m \u001b[1;32mis\u001b[0m \u001b[1;32mNone\u001b[0m \u001b[1;32melse\u001b[0m \u001b[1;33m(\u001b[0m\u001b[1;34m'after %s'\u001b[0m \u001b[1;33m%\u001b[0m \u001b[0mdate\u001b[0m\u001b[1;33m)\u001b[0m\u001b[1;33m,\u001b[0m\u001b[1;33m\u001b[0m\u001b[1;33m\u001b[0m\u001b[0m\n\u001b[0;32m    537\u001b[0m                 instructions)\n\u001b[1;32m--> 538\u001b[1;33m       \u001b[1;32mreturn\u001b[0m \u001b[0mfunc\u001b[0m\u001b[1;33m(\u001b[0m\u001b[1;33m*\u001b[0m\u001b[0margs\u001b[0m\u001b[1;33m,\u001b[0m \u001b[1;33m**\u001b[0m\u001b[0mkwargs\u001b[0m\u001b[1;33m)\u001b[0m\u001b[1;33m\u001b[0m\u001b[1;33m\u001b[0m\u001b[0m\n\u001b[0m\u001b[0;32m    539\u001b[0m \u001b[1;33m\u001b[0m\u001b[0m\n\u001b[0;32m    540\u001b[0m     doc = _add_deprecated_arg_notice_to_docstring(\n",
      "\u001b[1;32m~\\anaconda3\\lib\\site-packages\\tensorflow\\python\\ops\\map_fn.py\u001b[0m in \u001b[0;36mmap_fn_v2\u001b[1;34m(fn, elems, dtype, parallel_iterations, back_prop, swap_memory, infer_shape, name, fn_output_signature)\u001b[0m\n\u001b[0;32m    649\u001b[0m   \u001b[1;32mif\u001b[0m \u001b[0mfn_output_signature\u001b[0m \u001b[1;32mis\u001b[0m \u001b[1;32mNone\u001b[0m\u001b[1;33m:\u001b[0m\u001b[1;33m\u001b[0m\u001b[1;33m\u001b[0m\u001b[0m\n\u001b[0;32m    650\u001b[0m     \u001b[0mfn_output_signature\u001b[0m \u001b[1;33m=\u001b[0m \u001b[0mdtype\u001b[0m\u001b[1;33m\u001b[0m\u001b[1;33m\u001b[0m\u001b[0m\n\u001b[1;32m--> 651\u001b[1;33m   return map_fn(\n\u001b[0m\u001b[0;32m    652\u001b[0m       \u001b[0mfn\u001b[0m\u001b[1;33m=\u001b[0m\u001b[0mfn\u001b[0m\u001b[1;33m,\u001b[0m\u001b[1;33m\u001b[0m\u001b[1;33m\u001b[0m\u001b[0m\n\u001b[0;32m    653\u001b[0m       \u001b[0melems\u001b[0m\u001b[1;33m=\u001b[0m\u001b[0melems\u001b[0m\u001b[1;33m,\u001b[0m\u001b[1;33m\u001b[0m\u001b[1;33m\u001b[0m\u001b[0m\n",
      "\u001b[1;32m~\\anaconda3\\lib\\site-packages\\tensorflow\\python\\util\\deprecation.py\u001b[0m in \u001b[0;36mnew_func\u001b[1;34m(*args, **kwargs)\u001b[0m\n\u001b[0;32m    536\u001b[0m                 \u001b[1;34m'in a future version'\u001b[0m \u001b[1;32mif\u001b[0m \u001b[0mdate\u001b[0m \u001b[1;32mis\u001b[0m \u001b[1;32mNone\u001b[0m \u001b[1;32melse\u001b[0m \u001b[1;33m(\u001b[0m\u001b[1;34m'after %s'\u001b[0m \u001b[1;33m%\u001b[0m \u001b[0mdate\u001b[0m\u001b[1;33m)\u001b[0m\u001b[1;33m,\u001b[0m\u001b[1;33m\u001b[0m\u001b[1;33m\u001b[0m\u001b[0m\n\u001b[0;32m    537\u001b[0m                 instructions)\n\u001b[1;32m--> 538\u001b[1;33m       \u001b[1;32mreturn\u001b[0m \u001b[0mfunc\u001b[0m\u001b[1;33m(\u001b[0m\u001b[1;33m*\u001b[0m\u001b[0margs\u001b[0m\u001b[1;33m,\u001b[0m \u001b[1;33m**\u001b[0m\u001b[0mkwargs\u001b[0m\u001b[1;33m)\u001b[0m\u001b[1;33m\u001b[0m\u001b[1;33m\u001b[0m\u001b[0m\n\u001b[0m\u001b[0;32m    539\u001b[0m \u001b[1;33m\u001b[0m\u001b[0m\n\u001b[0;32m    540\u001b[0m     doc = _add_deprecated_arg_notice_to_docstring(\n",
      "\u001b[1;32m~\\anaconda3\\lib\\site-packages\\tensorflow\\python\\ops\\map_fn.py\u001b[0m in \u001b[0;36mmap_fn\u001b[1;34m(fn, elems, dtype, parallel_iterations, back_prop, swap_memory, infer_shape, name, fn_output_signature)\u001b[0m\n\u001b[0;32m    507\u001b[0m       \u001b[1;32mreturn\u001b[0m \u001b[1;33m(\u001b[0m\u001b[0mi\u001b[0m \u001b[1;33m+\u001b[0m \u001b[1;36m1\u001b[0m\u001b[1;33m,\u001b[0m \u001b[0mtas\u001b[0m\u001b[1;33m)\u001b[0m\u001b[1;33m\u001b[0m\u001b[1;33m\u001b[0m\u001b[0m\n\u001b[0;32m    508\u001b[0m \u001b[1;33m\u001b[0m\u001b[0m\n\u001b[1;32m--> 509\u001b[1;33m     _, r_a = control_flow_ops.while_loop(\n\u001b[0m\u001b[0;32m    510\u001b[0m         \u001b[1;32mlambda\u001b[0m \u001b[0mi\u001b[0m\u001b[1;33m,\u001b[0m \u001b[0m_\u001b[0m\u001b[1;33m:\u001b[0m \u001b[0mi\u001b[0m \u001b[1;33m<\u001b[0m \u001b[0mn\u001b[0m\u001b[1;33m,\u001b[0m\u001b[1;33m\u001b[0m\u001b[1;33m\u001b[0m\u001b[0m\n\u001b[0;32m    511\u001b[0m         \u001b[0mcompute\u001b[0m\u001b[1;33m,\u001b[0m \u001b[1;33m(\u001b[0m\u001b[0mi\u001b[0m\u001b[1;33m,\u001b[0m \u001b[0mresult_batchable_ta\u001b[0m\u001b[1;33m)\u001b[0m\u001b[1;33m,\u001b[0m\u001b[1;33m\u001b[0m\u001b[1;33m\u001b[0m\u001b[0m\n",
      "\u001b[1;32m~\\anaconda3\\lib\\site-packages\\tensorflow\\python\\ops\\control_flow_ops.py\u001b[0m in \u001b[0;36mwhile_loop\u001b[1;34m(cond, body, loop_vars, shape_invariants, parallel_iterations, back_prop, swap_memory, name, maximum_iterations, return_same_structure)\u001b[0m\n\u001b[0;32m   2732\u001b[0m       loop_var_structure = nest.map_structure(type_spec.type_spec_from_value,\n\u001b[0;32m   2733\u001b[0m                                               list(loop_vars))\n\u001b[1;32m-> 2734\u001b[1;33m       \u001b[1;32mwhile\u001b[0m \u001b[0mcond\u001b[0m\u001b[1;33m(\u001b[0m\u001b[1;33m*\u001b[0m\u001b[0mloop_vars\u001b[0m\u001b[1;33m)\u001b[0m\u001b[1;33m:\u001b[0m\u001b[1;33m\u001b[0m\u001b[1;33m\u001b[0m\u001b[0m\n\u001b[0m\u001b[0;32m   2735\u001b[0m         \u001b[0mloop_vars\u001b[0m \u001b[1;33m=\u001b[0m \u001b[0mbody\u001b[0m\u001b[1;33m(\u001b[0m\u001b[1;33m*\u001b[0m\u001b[0mloop_vars\u001b[0m\u001b[1;33m)\u001b[0m\u001b[1;33m\u001b[0m\u001b[1;33m\u001b[0m\u001b[0m\n\u001b[0;32m   2736\u001b[0m         \u001b[1;32mif\u001b[0m \u001b[0mtry_to_pack\u001b[0m \u001b[1;32mand\u001b[0m \u001b[1;32mnot\u001b[0m \u001b[0misinstance\u001b[0m\u001b[1;33m(\u001b[0m\u001b[0mloop_vars\u001b[0m\u001b[1;33m,\u001b[0m \u001b[1;33m(\u001b[0m\u001b[0mlist\u001b[0m\u001b[1;33m,\u001b[0m \u001b[0m_basetuple\u001b[0m\u001b[1;33m)\u001b[0m\u001b[1;33m)\u001b[0m\u001b[1;33m:\u001b[0m\u001b[1;33m\u001b[0m\u001b[1;33m\u001b[0m\u001b[0m\n",
      "\u001b[1;32m~\\anaconda3\\lib\\site-packages\\tensorflow\\python\\ops\\control_flow_ops.py\u001b[0m in \u001b[0;36m<lambda>\u001b[1;34m(i, lv)\u001b[0m\n\u001b[0;32m   2723\u001b[0m         \u001b[0mloop_vars\u001b[0m \u001b[1;33m=\u001b[0m \u001b[1;33m(\u001b[0m\u001b[0mcounter\u001b[0m\u001b[1;33m,\u001b[0m \u001b[0mloop_vars\u001b[0m\u001b[1;33m)\u001b[0m\u001b[1;33m\u001b[0m\u001b[1;33m\u001b[0m\u001b[0m\n\u001b[0;32m   2724\u001b[0m         cond = lambda i, lv: (  # pylint: disable=g-long-lambda\n\u001b[1;32m-> 2725\u001b[1;33m             math_ops.logical_and(i < maximum_iterations, orig_cond(*lv)))\n\u001b[0m\u001b[0;32m   2726\u001b[0m         \u001b[0mbody\u001b[0m \u001b[1;33m=\u001b[0m \u001b[1;32mlambda\u001b[0m \u001b[0mi\u001b[0m\u001b[1;33m,\u001b[0m \u001b[0mlv\u001b[0m\u001b[1;33m:\u001b[0m \u001b[1;33m(\u001b[0m\u001b[0mi\u001b[0m \u001b[1;33m+\u001b[0m \u001b[1;36m1\u001b[0m\u001b[1;33m,\u001b[0m \u001b[0morig_body\u001b[0m\u001b[1;33m(\u001b[0m\u001b[1;33m*\u001b[0m\u001b[0mlv\u001b[0m\u001b[1;33m)\u001b[0m\u001b[1;33m)\u001b[0m\u001b[1;33m\u001b[0m\u001b[1;33m\u001b[0m\u001b[0m\n\u001b[0;32m   2727\u001b[0m       \u001b[0mtry_to_pack\u001b[0m \u001b[1;33m=\u001b[0m \u001b[1;32mFalse\u001b[0m\u001b[1;33m\u001b[0m\u001b[1;33m\u001b[0m\u001b[0m\n",
      "\u001b[1;32m~\\anaconda3\\lib\\site-packages\\tensorflow\\python\\ops\\map_fn.py\u001b[0m in \u001b[0;36m<lambda>\u001b[1;34m(i, _)\u001b[0m\n\u001b[0;32m    508\u001b[0m \u001b[1;33m\u001b[0m\u001b[0m\n\u001b[0;32m    509\u001b[0m     _, r_a = control_flow_ops.while_loop(\n\u001b[1;32m--> 510\u001b[1;33m         \u001b[1;32mlambda\u001b[0m \u001b[0mi\u001b[0m\u001b[1;33m,\u001b[0m \u001b[0m_\u001b[0m\u001b[1;33m:\u001b[0m \u001b[0mi\u001b[0m \u001b[1;33m<\u001b[0m \u001b[0mn\u001b[0m\u001b[1;33m,\u001b[0m\u001b[1;33m\u001b[0m\u001b[1;33m\u001b[0m\u001b[0m\n\u001b[0m\u001b[0;32m    511\u001b[0m         \u001b[0mcompute\u001b[0m\u001b[1;33m,\u001b[0m \u001b[1;33m(\u001b[0m\u001b[0mi\u001b[0m\u001b[1;33m,\u001b[0m \u001b[0mresult_batchable_ta\u001b[0m\u001b[1;33m)\u001b[0m\u001b[1;33m,\u001b[0m\u001b[1;33m\u001b[0m\u001b[1;33m\u001b[0m\u001b[0m\n\u001b[0;32m    512\u001b[0m         \u001b[0mparallel_iterations\u001b[0m\u001b[1;33m=\u001b[0m\u001b[0mparallel_iterations\u001b[0m\u001b[1;33m,\u001b[0m\u001b[1;33m\u001b[0m\u001b[1;33m\u001b[0m\u001b[0m\n",
      "\u001b[1;32m~\\anaconda3\\lib\\site-packages\\tensorflow\\python\\ops\\gen_math_ops.py\u001b[0m in \u001b[0;36mless\u001b[1;34m(x, y, name)\u001b[0m\n\u001b[0;32m   4824\u001b[0m   \u001b[1;32mif\u001b[0m \u001b[0mtld\u001b[0m\u001b[1;33m.\u001b[0m\u001b[0mis_eager\u001b[0m\u001b[1;33m:\u001b[0m\u001b[1;33m\u001b[0m\u001b[1;33m\u001b[0m\u001b[0m\n\u001b[0;32m   4825\u001b[0m     \u001b[1;32mtry\u001b[0m\u001b[1;33m:\u001b[0m\u001b[1;33m\u001b[0m\u001b[1;33m\u001b[0m\u001b[0m\n\u001b[1;32m-> 4826\u001b[1;33m       _result = pywrap_tfe.TFE_Py_FastPathExecute(\n\u001b[0m\u001b[0;32m   4827\u001b[0m         _ctx, \"Less\", name, x, y)\n\u001b[0;32m   4828\u001b[0m       \u001b[1;32mreturn\u001b[0m \u001b[0m_result\u001b[0m\u001b[1;33m\u001b[0m\u001b[1;33m\u001b[0m\u001b[0m\n",
      "\u001b[1;31mKeyboardInterrupt\u001b[0m: "
     ]
    }
   ],
   "source": [
    "#tensorborad test\n",
    "import numpy as np\n",
    "\n",
    "test_logdir = get_run_log_dir()\n",
    "writer = tf.summary.create_file_writer(test_logdir)\n",
    "\n",
    "with writer.as_default() : \n",
    "    for step in range(1, 1000 + 1) : #이렇게 하면 1부터 1000까지의 값이라는 것을 명시해줄 수 있는 것 같다. 생각보다 간단하게\n",
    "        tf.summary.scalar('my_scalar', np.sin(step / 10), step = step) #summary에는 step이 필요한 듯 싶음\n",
    "        \n",
    "        data = (np.random.randn(100) + 2) * step / 100 #normal 분포를 쭉 뽑아주게 된다.\n",
    "        tf.summary.histogram('my_hist', data, buckets = 50, step = step)\n",
    "        \n",
    "        images = np.random.rand(2,32,32,3) #32x32 RGB 이미지\n",
    "        tf.summary.image('my_images', images * step / 1000, step=step)\n",
    "        \n",
    "        texts = ['the step is' + str(step), 'its square is ' + str(step**2)]\n",
    "        tf.summary.text('my_text', texts, step = step)\n",
    "        \n",
    "        sine_wave = tf.math.sin(tf.range(12000)/48000*2*np.pi*step)\n",
    "        audio = tf.reshape(tf.cast(sine_wave, tf.float32), [1, -1, 1])\n",
    "        tf.summary.audio('my_audio', audio, sample_rate=48000, step = step)  "
   ]
  },
  {
   "cell_type": "markdown",
   "metadata": {},
   "source": [
    "# 10.3 HYPERPPARAMETER TUNING"
   ]
  },
  {
   "cell_type": "code",
   "execution_count": 57,
   "metadata": {},
   "outputs": [],
   "source": [
    "#시퀀셜 API를 활용해 회귀모델을 구축함\n",
    "def build_model(n_hidden = 1, n_neurons = 30, learning_rate = 3e-3, input_shape=[8]) : #우선 적잘한 기본값 설정\n",
    "    \n",
    "    #모델 구축\n",
    "    model = keras.models.Sequential()\n",
    "    \n",
    "    #input layer\n",
    "    model.add(keras.layers.InputLayer(input_shape = input_shape)) \n",
    "    \n",
    "    #hideen layer\n",
    "    for layer in range(n_hidden) : \n",
    "        model.add(keras.layers.Dense(n_neurons, activation = 'relu'))\n",
    "        \n",
    "    #output layer    \n",
    "    model.add(keras.layers.Dense(1)) \n",
    "    \n",
    "    #활성화기 정의\n",
    "    optimizer = keras.optimizers.SGD(lr = learning_rate)\n",
    "    \n",
    "    #모델 compile\n",
    "    model.compile(loss= 'mse', optimizer = optimizer)\n",
    "    return model"
   ]
  },
  {
   "cell_type": "code",
   "execution_count": 58,
   "metadata": {},
   "outputs": [
    {
     "data": {
      "text/plain": [
       "(11610, 8)"
      ]
     },
     "execution_count": 58,
     "metadata": {},
     "output_type": "execute_result"
    }
   ],
   "source": [
    "x_train.shape"
   ]
  },
  {
   "cell_type": "markdown",
   "metadata": {},
   "source": [
    "함수형 API는 레이어에 이전 레이어를 넣어야 해서 사용하지 않는 것 같다"
   ]
  },
  {
   "cell_type": "code",
   "execution_count": 59,
   "metadata": {},
   "outputs": [
    {
     "name": "stdout",
     "output_type": "stream",
     "text": [
      "162/162 [==============================] - 0s 818us/step - loss: 0.4293\n",
      "-0.42931678891181946\n"
     ]
    }
   ],
   "source": [
    "#경고문을 없애버리자\n",
    "import warnings\n",
    "warnings.filterwarnings(action='ignore')\n",
    "\n",
    "\n",
    "keras_reg = keras.wrappers.scikit_learn.KerasRegressor(build_model)\n",
    "\n",
    "#seed지정\n",
    "np.random.seed(1234)\n",
    "\n",
    "#모델 훈련\n",
    "keras_reg.fit(x_train, y_train, epochs = 100,\n",
    "             validation_data = (x_valid, y_valid),\n",
    "             callbacks = [keras.callbacks.EarlyStopping(patience=10)], verbose = 0)\n",
    "\n",
    "#test를 넣고 값을 봐보자\n",
    "mse_test = keras_reg.score(x_test, y_test)\n",
    "print(mse_test)"
   ]
  },
  {
   "cell_type": "code",
   "execution_count": 60,
   "metadata": {},
   "outputs": [
    {
     "name": "stdout",
     "output_type": "stream",
     "text": [
      "WARNING:tensorflow:5 out of the last 6 calls to <function Model.make_predict_function.<locals>.predict_function at 0x000001ECBE9AF280> triggered tf.function retracing. Tracing is expensive and the excessive number of tracings could be due to (1) creating @tf.function repeatedly in a loop, (2) passing tensors with different shapes, (3) passing Python objects instead of tensors. For (1), please define your @tf.function outside of the loop. For (2), @tf.function has experimental_relax_shapes=True option that relaxes argument shapes that can avoid unnecessary retracing. For (3), please refer to https://www.tensorflow.org/guide/function#controlling_retracing and https://www.tensorflow.org/api_docs/python/tf/function for  more details.\n"
     ]
    }
   ],
   "source": [
    "y_pred = keras_reg.predict(x_new)"
   ]
  },
  {
   "cell_type": "markdown",
   "metadata": {},
   "source": [
    "왜 오류가 뜨는지는,,,"
   ]
  },
  {
   "cell_type": "code",
   "execution_count": 61,
   "metadata": {},
   "outputs": [
    {
     "name": "stdout",
     "output_type": "stream",
     "text": [
      "새로운 데이터에 대한 MSE : 2.293075626779781\n",
      "새로운 데이터에 대한 MAE : 1.3588597412109376\n"
     ]
    }
   ],
   "source": [
    "#새로운 데이터에 대한 성능 판정\n",
    "print(\"새로운 데이터에 대한 MSE : {0}\".format(metrics.mean_squared_error(y_pred, y_test[:3])))\n",
    "print(\"새로운 데이터에 대한 MAE : {0}\".format(metrics.mean_absolute_error(y_pred, y_test[:3])))"
   ]
  },
  {
   "cell_type": "code",
   "execution_count": 62,
   "metadata": {},
   "outputs": [
    {
     "name": "stdout",
     "output_type": "stream",
     "text": [
      "train_data : (11610, 8), train_label : (11610,)\n",
      "validation_data : (3870, 8), validation_label : (3870,)\n",
      "holdout_data : (5160, 8), holdout_label : (5160,)\n"
     ]
    }
   ],
   "source": [
    "print(\"train_data : {0}, train_label : {1}\".format(x_train.shape, y_train.shape))\n",
    "print(\"validation_data : {0}, validation_label : {1}\".format(x_valid.shape, y_valid.shape))\n",
    "print(\"holdout_data : {0}, holdout_label : {1}\".format(x_test.shape, y_test.shape))\n",
    "\n",
    "#8개의 변수를 가진 데이터"
   ]
  },
  {
   "cell_type": "markdown",
   "metadata": {},
   "source": [
    "### 10.3.1 RandomizedSearchCV"
   ]
  },
  {
   "cell_type": "code",
   "execution_count": 63,
   "metadata": {},
   "outputs": [
    {
     "name": "stdout",
     "output_type": "stream",
     "text": [
      "Fitting 3 folds for each of 10 candidates, totalling 30 fits\n",
      "[CV] n_neurons=42, n_hidden=1, learning_rate=0.0008484116384508984 ...\n"
     ]
    },
    {
     "name": "stderr",
     "output_type": "stream",
     "text": [
      "[Parallel(n_jobs=1)]: Using backend SequentialBackend with 1 concurrent workers.\n"
     ]
    },
    {
     "name": "stdout",
     "output_type": "stream",
     "text": [
      "121/121 [==============================] - 0s 789us/step - loss: 0.4241\n",
      "[CV]  n_neurons=42, n_hidden=1, learning_rate=0.0008484116384508984, total=  23.9s\n",
      "[CV] n_neurons=42, n_hidden=1, learning_rate=0.0008484116384508984 ...\n"
     ]
    },
    {
     "name": "stderr",
     "output_type": "stream",
     "text": [
      "[Parallel(n_jobs=1)]: Done   1 out of   1 | elapsed:   23.8s remaining:    0.0s\n"
     ]
    },
    {
     "name": "stdout",
     "output_type": "stream",
     "text": [
      "121/121 [==============================] - 0s 727us/step - loss: 0.4460\n",
      "[CV]  n_neurons=42, n_hidden=1, learning_rate=0.0008484116384508984, total=  24.9s\n",
      "[CV] n_neurons=42, n_hidden=1, learning_rate=0.0008484116384508984 ...\n",
      "121/121 [==============================] - 0s 850us/step - loss: 0.4384\n",
      "[CV]  n_neurons=42, n_hidden=1, learning_rate=0.0008484116384508984, total=  23.6s\n",
      "[CV] n_neurons=31, n_hidden=1, learning_rate=0.00045835820108731804 ..\n",
      "121/121 [==============================] - 0s 784us/step - loss: 0.4473\n",
      "[CV]  n_neurons=31, n_hidden=1, learning_rate=0.00045835820108731804, total=  24.1s\n",
      "[CV] n_neurons=31, n_hidden=1, learning_rate=0.00045835820108731804 ..\n",
      "121/121 [==============================] - 0s 727us/step - loss: 0.4473\n",
      "[CV]  n_neurons=31, n_hidden=1, learning_rate=0.00045835820108731804, total=  24.3s\n",
      "[CV] n_neurons=31, n_hidden=1, learning_rate=0.00045835820108731804 ..\n",
      "121/121 [==============================] - 0s 901us/step - loss: 0.4565\n",
      "[CV]  n_neurons=31, n_hidden=1, learning_rate=0.00045835820108731804, total=  24.1s\n",
      "[CV] n_neurons=25, n_hidden=2, learning_rate=0.004977754091829945 ....\n",
      "121/121 [==============================] - 0s 824us/step - loss: 0.3951\n",
      "[CV]  n_neurons=25, n_hidden=2, learning_rate=0.004977754091829945, total=   6.0s\n",
      "[CV] n_neurons=25, n_hidden=2, learning_rate=0.004977754091829945 ....\n",
      "121/121 [==============================] - 0s 890us/step - loss: 0.4168\n",
      "[CV]  n_neurons=25, n_hidden=2, learning_rate=0.004977754091829945, total=   3.7s\n",
      "[CV] n_neurons=25, n_hidden=2, learning_rate=0.004977754091829945 ....\n",
      "121/121 [==============================] - 0s 884us/step - loss: 0.4063\n",
      "[CV]  n_neurons=25, n_hidden=2, learning_rate=0.004977754091829945, total=   5.8s\n",
      "[CV] n_neurons=97, n_hidden=3, learning_rate=0.01679603226694541 .....\n",
      "121/121 [==============================] - 0s 901us/step - loss: 0.3312\n",
      "[CV]  n_neurons=97, n_hidden=3, learning_rate=0.01679603226694541, total=   4.6s\n",
      "[CV] n_neurons=97, n_hidden=3, learning_rate=0.01679603226694541 .....\n",
      "121/121 [==============================] - 0s 833us/step - loss: nan\n",
      "[CV]  n_neurons=97, n_hidden=3, learning_rate=0.01679603226694541, total=   4.0s\n",
      "[CV] n_neurons=97, n_hidden=3, learning_rate=0.01679603226694541 .....\n",
      "121/121 [==============================] - 0s 1ms/step - loss: 0.3402\n",
      "[CV]  n_neurons=97, n_hidden=3, learning_rate=0.01679603226694541, total=   5.2s\n",
      "[CV] n_neurons=2, n_hidden=2, learning_rate=0.01722556424148905 ......\n",
      "121/121 [==============================] - 0s 900us/step - loss: 0.4120\n",
      "[CV]  n_neurons=2, n_hidden=2, learning_rate=0.01722556424148905, total=   4.5s\n",
      "[CV] n_neurons=2, n_hidden=2, learning_rate=0.01722556424148905 ......\n",
      "121/121 [==============================] - 0s 701us/step - loss: 0.4293\n",
      "[CV]  n_neurons=2, n_hidden=2, learning_rate=0.01722556424148905, total=   4.1s\n",
      "[CV] n_neurons=2, n_hidden=2, learning_rate=0.01722556424148905 ......\n",
      "121/121 [==============================] - 0s 833us/step - loss: 1.3088\n",
      "[CV]  n_neurons=2, n_hidden=2, learning_rate=0.01722556424148905, total=   3.7s\n",
      "[CV] n_neurons=6, n_hidden=0, learning_rate=0.006197618067574676 .....\n",
      "121/121 [==============================] - 0s 694us/step - loss: 0.5115\n",
      "[CV]  n_neurons=6, n_hidden=0, learning_rate=0.006197618067574676, total=   7.4s\n",
      "[CV] n_neurons=6, n_hidden=0, learning_rate=0.006197618067574676 .....\n",
      "121/121 [==============================] - 0s 716us/step - loss: 28916992.0000\n",
      "[CV]  n_neurons=6, n_hidden=0, learning_rate=0.006197618067574676, total=   2.7s\n",
      "[CV] n_neurons=6, n_hidden=0, learning_rate=0.006197618067574676 .....\n",
      "121/121 [==============================] - 0s 869us/step - loss: 0.5320\n",
      "[CV]  n_neurons=6, n_hidden=0, learning_rate=0.006197618067574676, total=   7.1s\n",
      "[CV] n_neurons=91, n_hidden=3, learning_rate=0.0017145688607667097 ...\n",
      "121/121 [==============================] - 0s 822us/step - loss: 0.3846\n",
      "[CV]  n_neurons=91, n_hidden=3, learning_rate=0.0017145688607667097, total=  11.1s\n",
      "[CV] n_neurons=91, n_hidden=3, learning_rate=0.0017145688607667097 ...\n",
      "121/121 [==============================] - 0s 856us/step - loss: 0.4029\n",
      "[CV]  n_neurons=91, n_hidden=3, learning_rate=0.0017145688607667097, total=   8.8s\n",
      "[CV] n_neurons=91, n_hidden=3, learning_rate=0.0017145688607667097 ...\n",
      "121/121 [==============================] - 0s 940us/step - loss: 0.4051\n",
      "[CV]  n_neurons=91, n_hidden=3, learning_rate=0.0017145688607667097, total=   8.8s\n",
      "[CV] n_neurons=78, n_hidden=2, learning_rate=0.016458764517115743 ....\n",
      "121/121 [==============================] - 0s 891us/step - loss: 0.3413\n",
      "[CV]  n_neurons=78, n_hidden=2, learning_rate=0.016458764517115743, total=   3.9s\n",
      "[CV] n_neurons=78, n_hidden=2, learning_rate=0.016458764517115743 ....\n",
      "121/121 [==============================] - 0s 793us/step - loss: nan\n",
      "[CV]  n_neurons=78, n_hidden=2, learning_rate=0.016458764517115743, total=   3.5s\n",
      "[CV] n_neurons=78, n_hidden=2, learning_rate=0.016458764517115743 ....\n",
      "121/121 [==============================] - 0s 881us/step - loss: 0.3758\n",
      "[CV]  n_neurons=78, n_hidden=2, learning_rate=0.016458764517115743, total=   4.1s\n",
      "[CV] n_neurons=97, n_hidden=1, learning_rate=0.021244056804423973 ....\n",
      "121/121 [==============================] - 0s 811us/step - loss: 0.3637\n",
      "[CV]  n_neurons=97, n_hidden=1, learning_rate=0.021244056804423973, total=   4.3s\n",
      "[CV] n_neurons=97, n_hidden=1, learning_rate=0.021244056804423973 ....\n",
      "121/121 [==============================] - 0s 849us/step - loss: nan\n",
      "[CV]  n_neurons=97, n_hidden=1, learning_rate=0.021244056804423973, total=   3.6s\n",
      "[CV] n_neurons=97, n_hidden=1, learning_rate=0.021244056804423973 ....\n",
      "121/121 [==============================] - 0s 759us/step - loss: nan\n",
      "[CV]  n_neurons=97, n_hidden=1, learning_rate=0.021244056804423973, total=   3.3s\n",
      "[CV] n_neurons=59, n_hidden=1, learning_rate=0.012258937359193704 ....\n",
      "121/121 [==============================] - 0s 783us/step - loss: 0.3854\n",
      "[CV]  n_neurons=59, n_hidden=1, learning_rate=0.012258937359193704, total=   4.8s\n",
      "[CV] n_neurons=59, n_hidden=1, learning_rate=0.012258937359193704 ....\n",
      "121/121 [==============================] - 0s 752us/step - loss: nan\n",
      "[CV]  n_neurons=59, n_hidden=1, learning_rate=0.012258937359193704, total=   3.3s\n",
      "[CV] n_neurons=59, n_hidden=1, learning_rate=0.012258937359193704 ....\n",
      "121/121 [==============================] - 0s 773us/step - loss: 0.4044\n",
      "[CV]  n_neurons=59, n_hidden=1, learning_rate=0.012258937359193704, total=   3.5s\n"
     ]
    },
    {
     "name": "stderr",
     "output_type": "stream",
     "text": [
      "[Parallel(n_jobs=1)]: Done  30 out of  30 | elapsed:  4.4min finished\n"
     ]
    },
    {
     "data": {
      "text/plain": [
       "RandomizedSearchCV(cv=3,\n",
       "                   estimator=<tensorflow.python.keras.wrappers.scikit_learn.KerasRegressor object at 0x000001ECBC033160>,\n",
       "                   param_distributions={'learning_rate': [0.0007247031607588865,\n",
       "                                                          0.0052642777701074174,\n",
       "                                                          0.002252043280820563,\n",
       "                                                          0.011164477997210506,\n",
       "                                                          0.010891128219639513,\n",
       "                                                          0.0010527044657390552,\n",
       "                                                          0.0010716420956989122,\n",
       "                                                          0.012046631058407501,\n",
       "                                                          0.024740015198178...\n",
       "                                                          0.01747445485135511,\n",
       "                                                          0.0016102496837094625,\n",
       "                                                          0.0051040346211849085,\n",
       "                                                          0.000424505907171614,\n",
       "                                                          0.0016397183872354565,\n",
       "                                                          0.022049637738696996,\n",
       "                                                          0.006023897051730432,\n",
       "                                                          0.0018686433091178,\n",
       "                                                          0.011339177159030853,\n",
       "                                                          0.0012906054628769583,\n",
       "                                                          0.004105051027697197, ...],\n",
       "                                        'n_hidden': [0, 1, 2, 3],\n",
       "                                        'n_neurons': [1, 2, 3, 4, 5, 6, 7, 8, 9,\n",
       "                                                      10, 11, 12, 13, 14, 15,\n",
       "                                                      16, 17, 18, 19, 20, 21,\n",
       "                                                      22, 23, 24, 25, 26, 27,\n",
       "                                                      28, 29, 30, ...]},\n",
       "                   verbose=2)"
      ]
     },
     "execution_count": 63,
     "metadata": {},
     "output_type": "execute_result"
    }
   ],
   "source": [
    "from scipy.stats import reciprocal\n",
    "from sklearn.model_selection import RandomizedSearchCV\n",
    "\n",
    "param_distribs = {\n",
    "    \"n_hidden\": [0, 1, 2, 3],\n",
    "    \"n_neurons\": np.arange(1, 100).tolist(),\n",
    "    \"learning_rate\": reciprocal(3e-4, 3e-2).rvs(1000).tolist(),\n",
    "}\n",
    "\n",
    "rnd_search_cv = RandomizedSearchCV(keras_reg, param_distribs, n_iter=10, cv=3, verbose=2)\n",
    "rnd_search_cv.fit(x_train, y_train, epochs=100,\n",
    "                  validation_data=(x_valid, y_valid),\n",
    "                  callbacks=[keras.callbacks.EarlyStopping(patience=10)]\n",
    "                 ,verbose = 0)"
   ]
  },
  {
   "cell_type": "code",
   "execution_count": 64,
   "metadata": {},
   "outputs": [
    {
     "data": {
      "text/plain": [
       "{'n_neurons': 91, 'n_hidden': 3, 'learning_rate': 0.0017145688607667097}"
      ]
     },
     "execution_count": 64,
     "metadata": {},
     "output_type": "execute_result"
    }
   ],
   "source": [
    "rnd_search_cv.best_params_"
   ]
  },
  {
   "cell_type": "code",
   "execution_count": 65,
   "metadata": {},
   "outputs": [
    {
     "data": {
      "text/plain": [
       "-0.3975264032681783"
      ]
     },
     "execution_count": 65,
     "metadata": {},
     "output_type": "execute_result"
    }
   ],
   "source": [
    "rnd_search_cv.best_score_"
   ]
  },
  {
   "cell_type": "markdown",
   "metadata": {},
   "source": [
    "### 10.3.2 Keras Tuner"
   ]
  },
  {
   "cell_type": "markdown",
   "metadata": {},
   "source": [
    "구글에서 제공하는 라이브러리! randomsearch도 가능하고, 최근의 방법론인 hyperband 방법도 제공한다고 한다"
   ]
  },
  {
   "cell_type": "code",
   "execution_count": 66,
   "metadata": {},
   "outputs": [],
   "source": [
    "from tensorflow import keras\n",
    "from tensorflow.keras import layers\n",
    "from kerastuner.tuners import RandomSearch\n",
    "import kerastuner as kt"
   ]
  },
  {
   "cell_type": "code",
   "execution_count": 88,
   "metadata": {},
   "outputs": [],
   "source": [
    "def model_builder(hp, input_shape = [8]):\n",
    "    \n",
    "    #Sequential API\n",
    "    model = keras.Sequential()\n",
    "    \n",
    "    #입력층 - 우리의 데이터에 맞게 넣는다.\n",
    "    model.add(keras.layers.Flatten(input_shape= input_shape))\n",
    "\n",
    "  # Tune the number of units in the first Dense layer\n",
    "  # Choose an optimal value between 32-512\n",
    "    for i in range(hp.Int('num_layers', 2, 20)):\n",
    "        model.add(layers.Dense(units=hp.Int('units_' + str(i),\n",
    "                                            min_value=32,\n",
    "                                            max_value=512,\n",
    "                                            step=32),\n",
    "                               activation='relu'))\n",
    "        \n",
    "    #출력층\n",
    "    model.add(keras.layers.Dense(1))\n",
    "\n",
    "  # Tune the learning rate for the optimizer \n",
    "  # Choose an optimal value from 0.01, 0.001, or 0.0001\n",
    "    hp_learning_rate = hp.Choice('learning_rate', values = [1e-2, 1e-3, 1e-4]) \n",
    "\n",
    "    model.compile(optimizer = keras.optimizers.SGD(learning_rate = hp_learning_rate),\n",
    "                loss = 'mse', \n",
    "                metrics = ['accuracy'])\n",
    "\n",
    "    return model"
   ]
  },
  {
   "cell_type": "markdown",
   "metadata": {},
   "source": [
    "- 튜너 선택! \n",
    "\n",
    "RandomSearch, Hyperband, BayesianOptimization, Sklearn 총 네가지 튜너가 존재"
   ]
  },
  {
   "cell_type": "markdown",
   "metadata": {},
   "source": [
    "#### 10.3.2.1 HyperBand"
   ]
  },
  {
   "cell_type": "code",
   "execution_count": 99,
   "metadata": {},
   "outputs": [],
   "source": [
    "#텐서보드 로그를 위해 사용할 루트 로그 디렉터리를 정의\n",
    "import os\n",
    "keras_parameter_dir = os.path.join(os.curdir, 'my_keras') #현재 dir에 my_logs라는 폴더를 만들고 이를 root_logdir에 저장한다"
   ]
  },
  {
   "cell_type": "code",
   "execution_count": 101,
   "metadata": {},
   "outputs": [],
   "source": [
    "tuner_hyperband = kt.Hyperband(model_builder\n",
    "                     ,objective = 'val_loss'\n",
    "                     ,max_epochs = 10\n",
    "#                      ,factor = 3\n",
    "                     ,directory = 'keras_parameter_dir'\n",
    "                      ,project_name = 'for_hyperband'\n",
    "                    )\n"
   ]
  },
  {
   "cell_type": "code",
   "execution_count": 102,
   "metadata": {},
   "outputs": [
    {
     "name": "stdout",
     "output_type": "stream",
     "text": [
      "Trial 30 Complete [00h 00m 20s]\n",
      "val_loss: 0.39250752329826355\n",
      "\n",
      "Best val_loss So Far: 0.3662926256656647\n",
      "Total elapsed time: 00h 04m 01s\n",
      "INFO:tensorflow:Oracle triggered exit\n"
     ]
    }
   ],
   "source": [
    "tuner_hyperband.search(x_train, y_train, epochs = 10, \n",
    "             validation_data = (x_valid, y_valid))"
   ]
  },
  {
   "cell_type": "code",
   "execution_count": 114,
   "metadata": {},
   "outputs": [
    {
     "name": "stdout",
     "output_type": "stream",
     "text": [
      "layer의 개수 : 6\n",
      "learning_rate : 0.01\n",
      "1번째 unit의 뉴런 수 : 128\n",
      "2번째 unit의 뉴런 수 : 32\n",
      "3번째 unit의 뉴런 수 : 32\n",
      "4번째 unit의 뉴런 수 : 32\n",
      "5번째 unit의 뉴런 수 : 32\n"
     ]
    }
   ],
   "source": [
    "#최적의 파라미터는?\n",
    "best_hps = tuner_hyperband.get_best_hyperparameters(num_trials = 1)[0]\n",
    "\n",
    "print(\"layer의 개수 : {0}\".format(best_hps.get('num_layers')) )\n",
    "print(\"learning_rate : {0}\".format(best_hps.get('learning_rate')) )\n",
    "\n",
    "for i in range( best_hps.get('num_layers')) : \n",
    "    print(\"{0}번째 unit의 뉴런 수 : {1}\".format(i, best_hps.get('units_' + str(i))))"
   ]
  },
  {
   "cell_type": "code",
   "execution_count": null,
   "metadata": {},
   "outputs": [],
   "source": [
    "from sklearn import metrics\n",
    "\n",
    "#최적의 파라미터를 가지고 모형을 전체 재적합!\n",
    "model = tuner_hyperband.hypermodel.build(best_hps)\n",
    "model.fit(x_train, y_train, epochs = 30, validation_data = (x_valid, y_valid), verbose = 0)\n"
   ]
  },
  {
   "cell_type": "code",
   "execution_count": 120,
   "metadata": {},
   "outputs": [
    {
     "name": "stdout",
     "output_type": "stream",
     "text": [
      "validation MSE : 2.3952212964201203\n",
      "holdout MSE : 0.3459715266169726\n"
     ]
    }
   ],
   "source": [
    "#validation MSE를 봐보자\n",
    "print(\"validation MSE : {0}\".format(metrics.mean_squared_error(model.predict(x_valid), y_valid)))\n",
    "\n",
    "#만약 최종적으로 선택하게 된다면 holdout에 대한 성능도 파악 해야함.\n",
    "print(\"holdout MSE : {0}\".format(metrics.mean_squared_error(model.predict(x_test), y_test)))"
   ]
  },
  {
   "cell_type": "markdown",
   "metadata": {},
   "source": [
    "#### 10.3.2.2 BayesianOptimization"
   ]
  },
  {
   "cell_type": "code",
   "execution_count": 116,
   "metadata": {},
   "outputs": [
    {
     "name": "stdout",
     "output_type": "stream",
     "text": [
      "Trial 10 Complete [00h 00m 35s]\n",
      "val_loss: 1.3479820489883423\n",
      "\n",
      "Best val_loss So Far: 0.37165066599845886\n",
      "Total elapsed time: 00h 03m 05s\n",
      "INFO:tensorflow:Oracle triggered exit\n"
     ]
    }
   ],
   "source": [
    "#베이지안으로 설정 후\n",
    "tuner_bayes = kt.BayesianOptimization(hypermodel = model_builder, objective = 'val_loss', max_trials = 10, \n",
    "                                      project_name='for_bayes',  directory = 'keras_parameter_dir')\n",
    "\n",
    "#한번 찾아보자\n",
    "tuner_bayes.search(x_train, y_train, epochs = 10, \n",
    "             validation_data = (x_valid, y_valid))"
   ]
  },
  {
   "cell_type": "code",
   "execution_count": 117,
   "metadata": {},
   "outputs": [
    {
     "name": "stdout",
     "output_type": "stream",
     "text": [
      "layer의 개수 : 8\n",
      "learning_rate : 0.001\n",
      "0번째 unit의 뉴런 수 : 192\n",
      "1번째 unit의 뉴런 수 : 448\n",
      "2번째 unit의 뉴런 수 : 224\n",
      "3번째 unit의 뉴런 수 : 416\n",
      "4번째 unit의 뉴런 수 : 416\n",
      "5번째 unit의 뉴런 수 : 416\n",
      "6번째 unit의 뉴런 수 : 96\n",
      "7번째 unit의 뉴런 수 : 224\n"
     ]
    }
   ],
   "source": [
    "#최적의 파라미터는?\n",
    "best_hps_bayes = tuner_bayes.get_best_hyperparameters(num_trials = 1)[0]\n",
    "\n",
    "print(\"layer의 개수 : {0}\".format(best_hps_bayes.get('num_layers')) )\n",
    "print(\"learning_rate : {0}\".format(best_hps_bayes.get('learning_rate')) )\n",
    "\n",
    "for i in range(best_hps_bayes.get('num_layers')) : \n",
    "    print(\"{0}번째 unit의 뉴런 수 : {1}\".format(i, best_hps_bayes.get('units_' + str(i))))"
   ]
  },
  {
   "cell_type": "code",
   "execution_count": 119,
   "metadata": {},
   "outputs": [
    {
     "name": "stdout",
     "output_type": "stream",
     "text": [
      "validation MSE : 1.0612632755103109\n",
      "holdout MSE : 0.3532969435903926\n"
     ]
    }
   ],
   "source": [
    "from sklearn import metrics\n",
    "\n",
    "#최적의 파라미터를 가지고 모형을 전체 재적합!\n",
    "model_bs = tuner_hyperband.hypermodel.build(best_hps_bayes)\n",
    "model_bs.fit(x_train, y_train, epochs = 30, validation_data = (x_valid, y_valid), verbose = 0)"
   ]
  },
  {
   "cell_type": "code",
   "execution_count": 121,
   "metadata": {},
   "outputs": [
    {
     "name": "stdout",
     "output_type": "stream",
     "text": [
      "validation MSE : 1.0612632755103109\n",
      "holdout MSE : 0.3532969435903926\n"
     ]
    }
   ],
   "source": [
    "#어디 validation에 대한 성능을 봐보자\n",
    "print(\"validation MSE : {0}\".format(metrics.mean_squared_error(model_bs.predict(x_valid), y_valid)))\n",
    "\n",
    "print(\"holdout MSE : {0}\".format(metrics.mean_squared_error(model_bs.predict(x_test), y_test)))"
   ]
  },
  {
   "cell_type": "code",
   "execution_count": null,
   "metadata": {},
   "outputs": [],
   "source": []
  }
 ],
 "metadata": {
  "kernelspec": {
   "display_name": "Python 3",
   "language": "python",
   "name": "python3"
  },
  "language_info": {
   "codemirror_mode": {
    "name": "ipython",
    "version": 3
   },
   "file_extension": ".py",
   "mimetype": "text/x-python",
   "name": "python",
   "nbconvert_exporter": "python",
   "pygments_lexer": "ipython3",
   "version": "3.8.5"
  }
 },
 "nbformat": 4,
 "nbformat_minor": 4
}
