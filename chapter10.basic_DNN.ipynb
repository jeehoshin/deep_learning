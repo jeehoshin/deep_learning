{
 "cells": [
  {
   "cell_type": "code",
   "execution_count": 1,
   "metadata": {},
   "outputs": [],
   "source": [
    "import numpy as np\n",
    "from sklearn.datasets import load_iris\n",
    "from sklearn.linear_model import Perceptron"
   ]
  },
  {
   "cell_type": "code",
   "execution_count": 3,
   "metadata": {},
   "outputs": [],
   "source": [
    "iris = load_iris()\n",
    "x = iris.data[:, (2,3)]\n",
    "y = (iris.target == 0).astype(np.int) #Setosa\n",
    "\n",
    "per_clf = Perceptron()\n",
    "per_clf.fit(x,y)\n",
    "\n",
    "y_pred = per_clf.predict([[2, 0.5]])"
   ]
  },
  {
   "cell_type": "markdown",
   "metadata": {},
   "source": [
    "## 10.2.2 시퀀셜 API --> 이미지 분류기 생성"
   ]
  },
  {
   "cell_type": "code",
   "execution_count": 1,
   "metadata": {},
   "outputs": [],
   "source": [
    "import tensorflow as tf\n",
    "from tensorflow import keras\n",
    "import pydot"
   ]
  },
  {
   "cell_type": "code",
   "execution_count": 2,
   "metadata": {},
   "outputs": [
    {
     "data": {
      "text/plain": [
       "'2.4.1'"
      ]
     },
     "execution_count": 2,
     "metadata": {},
     "output_type": "execute_result"
    }
   ],
   "source": [
    "tf.__version__"
   ]
  },
  {
   "cell_type": "code",
   "execution_count": 3,
   "metadata": {},
   "outputs": [
    {
     "data": {
      "text/plain": [
       "'2.4.0'"
      ]
     },
     "execution_count": 3,
     "metadata": {},
     "output_type": "execute_result"
    }
   ],
   "source": [
    "keras.__version__"
   ]
  },
  {
   "cell_type": "markdown",
   "metadata": {},
   "source": [
    "### 데이터 셋 적재"
   ]
  },
  {
   "cell_type": "code",
   "execution_count": 4,
   "metadata": {},
   "outputs": [],
   "source": [
    "fashion_mnist = keras.datasets.fashion_mnist\n",
    "(x_train_full, y_train_full), (x_test, y_test) = fashion_mnist.load_data()"
   ]
  },
  {
   "cell_type": "code",
   "execution_count": 5,
   "metadata": {},
   "outputs": [
    {
     "data": {
      "text/plain": [
       "(60000, 28, 28)"
      ]
     },
     "execution_count": 5,
     "metadata": {},
     "output_type": "execute_result"
    }
   ],
   "source": [
    "x_train_full.shape"
   ]
  },
  {
   "cell_type": "markdown",
   "metadata": {},
   "source": [
    "28 x 28 픽셀의 6만장의 이미지가 들어가 있다고 생각하면 될 듯.\n",
    "\n",
    "픽셀 강도는 0에서 255까지 표현되어 있다고 한다."
   ]
  },
  {
   "cell_type": "code",
   "execution_count": 6,
   "metadata": {},
   "outputs": [
    {
     "data": {
      "text/plain": [
       "array([[[0, 0, 0, ..., 0, 0, 0],\n",
       "        [0, 0, 0, ..., 0, 0, 0],\n",
       "        [0, 0, 0, ..., 0, 0, 0],\n",
       "        ...,\n",
       "        [0, 0, 0, ..., 0, 0, 0],\n",
       "        [0, 0, 0, ..., 0, 0, 0],\n",
       "        [0, 0, 0, ..., 0, 0, 0]],\n",
       "\n",
       "       [[0, 0, 0, ..., 0, 0, 0],\n",
       "        [0, 0, 0, ..., 0, 0, 0],\n",
       "        [0, 0, 0, ..., 0, 0, 0],\n",
       "        ...,\n",
       "        [0, 0, 0, ..., 0, 0, 0],\n",
       "        [0, 0, 0, ..., 0, 0, 0],\n",
       "        [0, 0, 0, ..., 0, 0, 0]],\n",
       "\n",
       "       [[0, 0, 0, ..., 0, 0, 0],\n",
       "        [0, 0, 0, ..., 0, 0, 0],\n",
       "        [0, 0, 0, ..., 0, 0, 0],\n",
       "        ...,\n",
       "        [0, 0, 0, ..., 0, 0, 0],\n",
       "        [0, 0, 0, ..., 0, 0, 0],\n",
       "        [0, 0, 0, ..., 0, 0, 0]],\n",
       "\n",
       "       ...,\n",
       "\n",
       "       [[0, 0, 0, ..., 0, 0, 0],\n",
       "        [0, 0, 0, ..., 0, 0, 0],\n",
       "        [0, 0, 0, ..., 0, 0, 0],\n",
       "        ...,\n",
       "        [0, 0, 0, ..., 0, 0, 0],\n",
       "        [0, 0, 0, ..., 0, 0, 0],\n",
       "        [0, 0, 0, ..., 0, 0, 0]],\n",
       "\n",
       "       [[0, 0, 0, ..., 0, 0, 0],\n",
       "        [0, 0, 0, ..., 0, 0, 0],\n",
       "        [0, 0, 0, ..., 0, 0, 0],\n",
       "        ...,\n",
       "        [0, 0, 0, ..., 0, 0, 0],\n",
       "        [0, 0, 0, ..., 0, 0, 0],\n",
       "        [0, 0, 0, ..., 0, 0, 0]],\n",
       "\n",
       "       [[0, 0, 0, ..., 0, 0, 0],\n",
       "        [0, 0, 0, ..., 0, 0, 0],\n",
       "        [0, 0, 0, ..., 0, 0, 0],\n",
       "        ...,\n",
       "        [0, 0, 0, ..., 0, 0, 0],\n",
       "        [0, 0, 0, ..., 0, 0, 0],\n",
       "        [0, 0, 0, ..., 0, 0, 0]]], dtype=uint8)"
      ]
     },
     "execution_count": 6,
     "metadata": {},
     "output_type": "execute_result"
    }
   ],
   "source": [
    "x_train_full"
   ]
  },
  {
   "cell_type": "markdown",
   "metadata": {},
   "source": [
    "- 검증 셋 생성"
   ]
  },
  {
   "cell_type": "code",
   "execution_count": 7,
   "metadata": {},
   "outputs": [],
   "source": [
    "x_valid, x_train = x_train_full[:5000]/255.0, x_train_full[5000:]/255.0 #x train \n",
    "y_valid, y_train = y_train_full[:5000], y_train_full[5000:]\n",
    "x_test = x_test / 255.0 \n",
    "\n",
    "#근데 저렇게 255.0으로 나눠주는 이유는 잘 모르겠다."
   ]
  },
  {
   "cell_type": "markdown",
   "metadata": {},
   "source": [
    "- 클래스 이름의 리스트를 만들어야 함"
   ]
  },
  {
   "cell_type": "code",
   "execution_count": 8,
   "metadata": {},
   "outputs": [],
   "source": [
    "class_names = ['T-shirt/top', 'Trouser', 'Pullover', 'Dress', 'Coat', 'Sandal', 'Shirt', 'Sneaker', 'Bag', 'Ankle Boot']"
   ]
  },
  {
   "cell_type": "code",
   "execution_count": 9,
   "metadata": {},
   "outputs": [
    {
     "data": {
      "text/plain": [
       "'Coat'"
      ]
     },
     "execution_count": 9,
     "metadata": {},
     "output_type": "execute_result"
    }
   ],
   "source": [
    "class_names[y_train[0]]"
   ]
  },
  {
   "cell_type": "markdown",
   "metadata": {},
   "source": [
    "### 시퀀셜 API를 사용하여 모델 구축"
   ]
  },
  {
   "cell_type": "markdown",
   "metadata": {},
   "source": [
    "- 두 개의 은닉층을 가진 분류용 다층 퍼셉트론"
   ]
  },
  {
   "cell_type": "code",
   "execution_count": 10,
   "metadata": {},
   "outputs": [],
   "source": [
    "model = keras.models.Sequential() #순서대로 층을 쌓아서 구성한다고 한다. 이게 시퀀셜 API\n",
    "model.add(keras.layers.Flatten(input_shape = [28,28])) #이미지를 1D 배열로 변환 \n",
    "model.add(keras.layers.Dense(300, activation = 'relu')) #뉴런 300개를 가진 층. 활성화함수는 relu\n",
    "model.add(keras.layers.Dense(100, activation = 'relu')) #뉴런 100개를 가진 층. 활성화함수는 relu\n",
    "model.add(keras.layers.Dense(10, activation = 'softmax')) #뉴런 10개를 가진 층. 활성화함수는 softmax\n",
    "\n",
    "#<Tip>\n",
    "#activation = 'relu' 와 activation = keras.activations.relu는 같다"
   ]
  },
  {
   "cell_type": "markdown",
   "metadata": {},
   "source": [
    "- Sequential을 만들 때 매 층의 리스트를 전달할 수 있다!"
   ]
  },
  {
   "cell_type": "code",
   "execution_count": 11,
   "metadata": {},
   "outputs": [],
   "source": [
    "model = keras.models.Sequential([\n",
    "    keras.layers.Flatten(input_shape = [28,28]),\n",
    "    keras.layers.Dense(300, activation = 'relu'),\n",
    "    keras.layers.Dense(100, activation = 'relu'),\n",
    "    keras.layers.Dense(10, activation = 'softmax')\n",
    "])"
   ]
  },
  {
   "cell_type": "code",
   "execution_count": 12,
   "metadata": {},
   "outputs": [
    {
     "name": "stdout",
     "output_type": "stream",
     "text": [
      "Model: \"sequential_1\"\n",
      "_________________________________________________________________\n",
      "Layer (type)                 Output Shape              Param #   \n",
      "=================================================================\n",
      "flatten_1 (Flatten)          (None, 784)               0         \n",
      "_________________________________________________________________\n",
      "dense_3 (Dense)              (None, 300)               235500    \n",
      "_________________________________________________________________\n",
      "dense_4 (Dense)              (None, 100)               30100     \n",
      "_________________________________________________________________\n",
      "dense_5 (Dense)              (None, 10)                1010      \n",
      "=================================================================\n",
      "Total params: 266,610\n",
      "Trainable params: 266,610\n",
      "Non-trainable params: 0\n",
      "_________________________________________________________________\n"
     ]
    }
   ],
   "source": [
    "model.summary()"
   ]
  },
  {
   "cell_type": "code",
   "execution_count": 13,
   "metadata": {},
   "outputs": [
    {
     "data": {
      "image/png": "[encoded data removed]",
      "text/plain": [
       "<IPython.core.display.Image object>"
      ]
     },
     "execution_count": 13,
     "metadata": {},
     "output_type": "execute_result"
    }
   ],
   "source": [
    "#이렇게 하면 모델 구조를 이미지로 출력이 가능하다\n",
    "keras.utils.plot_model(model = model)"
   ]
  },
  {
   "cell_type": "code",
   "execution_count": 14,
   "metadata": {},
   "outputs": [
    {
     "data": {
      "text/plain": [
       "[<tensorflow.python.keras.layers.core.Flatten at 0x1c01d631970>,\n",
       " <tensorflow.python.keras.layers.core.Dense at 0x1c01d631b50>,\n",
       " <tensorflow.python.keras.layers.core.Dense at 0x1c01d631e80>,\n",
       " <tensorflow.python.keras.layers.core.Dense at 0x1c0178a2e80>]"
      ]
     },
     "execution_count": 14,
     "metadata": {},
     "output_type": "execute_result"
    }
   ],
   "source": [
    "model.layers"
   ]
  },
  {
   "cell_type": "code",
   "execution_count": 15,
   "metadata": {},
   "outputs": [],
   "source": [
    "hidden1 = model.layers[1]"
   ]
  },
  {
   "cell_type": "code",
   "execution_count": 16,
   "metadata": {},
   "outputs": [
    {
     "data": {
      "text/plain": [
       "'dense_3'"
      ]
     },
     "execution_count": 16,
     "metadata": {},
     "output_type": "execute_result"
    }
   ],
   "source": [
    "hidden1.name"
   ]
  },
  {
   "cell_type": "markdown",
   "metadata": {},
   "source": [
    "파라미터는 get_weights() 메서드와 set_weights() 메서드를 사용하여 접근할 수 있다."
   ]
  },
  {
   "cell_type": "code",
   "execution_count": 17,
   "metadata": {},
   "outputs": [
    {
     "name": "stdout",
     "output_type": "stream",
     "text": [
      "[[ 0.01942999  0.04954857 -0.03852788 ...  0.06800514  0.00704558\n",
      "   0.00775705]\n",
      " [-0.01167188 -0.06899042 -0.07314124 ...  0.0082371   0.02603365\n",
      "  -0.00319489]\n",
      " [ 0.03169858  0.0110767   0.00568204 ...  0.05190484  0.04923534\n",
      "  -0.05735214]\n",
      " ...\n",
      " [-0.00906057  0.01835449 -0.03941372 ...  0.05750856  0.04776324\n",
      "  -0.07026526]\n",
      " [ 0.07146287 -0.00862069  0.03847181 ...  0.07201545 -0.07260031\n",
      "   0.05280574]\n",
      " [-0.04043031 -0.01039186 -0.05001516 ...  0.01443327 -0.05504945\n",
      "   0.07077521]]\n",
      "(784, 300)\n"
     ]
    }
   ],
   "source": [
    "weights, biases = hidden1.get_weights()\n",
    "print(weights)\n",
    "print(weights.shape)"
   ]
  },
  {
   "cell_type": "markdown",
   "metadata": {},
   "source": [
    "input 이었던 784개에 대해 각 300개의 뉴런에 대응하는 가중치가 있다! 한 뉴런에는 784개의 가중치 값이 있고, 이러한 뉴런이 300개가 있으니 784 x 300의 array가 생기는 형식"
   ]
  },
  {
   "cell_type": "code",
   "execution_count": 18,
   "metadata": {},
   "outputs": [
    {
     "data": {
      "text/plain": [
       "array([0., 0., 0., 0., 0., 0., 0., 0., 0., 0., 0., 0., 0., 0., 0., 0., 0.,\n",
       "       0., 0., 0., 0., 0., 0., 0., 0., 0., 0., 0., 0., 0., 0., 0., 0., 0.,\n",
       "       0., 0., 0., 0., 0., 0., 0., 0., 0., 0., 0., 0., 0., 0., 0., 0., 0.,\n",
       "       0., 0., 0., 0., 0., 0., 0., 0., 0., 0., 0., 0., 0., 0., 0., 0., 0.,\n",
       "       0., 0., 0., 0., 0., 0., 0., 0., 0., 0., 0., 0., 0., 0., 0., 0., 0.,\n",
       "       0., 0., 0., 0., 0., 0., 0., 0., 0., 0., 0., 0., 0., 0., 0., 0., 0.,\n",
       "       0., 0., 0., 0., 0., 0., 0., 0., 0., 0., 0., 0., 0., 0., 0., 0., 0.,\n",
       "       0., 0., 0., 0., 0., 0., 0., 0., 0., 0., 0., 0., 0., 0., 0., 0., 0.,\n",
       "       0., 0., 0., 0., 0., 0., 0., 0., 0., 0., 0., 0., 0., 0., 0., 0., 0.,\n",
       "       0., 0., 0., 0., 0., 0., 0., 0., 0., 0., 0., 0., 0., 0., 0., 0., 0.,\n",
       "       0., 0., 0., 0., 0., 0., 0., 0., 0., 0., 0., 0., 0., 0., 0., 0., 0.,\n",
       "       0., 0., 0., 0., 0., 0., 0., 0., 0., 0., 0., 0., 0., 0., 0., 0., 0.,\n",
       "       0., 0., 0., 0., 0., 0., 0., 0., 0., 0., 0., 0., 0., 0., 0., 0., 0.,\n",
       "       0., 0., 0., 0., 0., 0., 0., 0., 0., 0., 0., 0., 0., 0., 0., 0., 0.,\n",
       "       0., 0., 0., 0., 0., 0., 0., 0., 0., 0., 0., 0., 0., 0., 0., 0., 0.,\n",
       "       0., 0., 0., 0., 0., 0., 0., 0., 0., 0., 0., 0., 0., 0., 0., 0., 0.,\n",
       "       0., 0., 0., 0., 0., 0., 0., 0., 0., 0., 0., 0., 0., 0., 0., 0., 0.,\n",
       "       0., 0., 0., 0., 0., 0., 0., 0., 0., 0., 0.], dtype=float32)"
      ]
     },
     "execution_count": 18,
     "metadata": {},
     "output_type": "execute_result"
    }
   ],
   "source": [
    "biases"
   ]
  },
  {
   "cell_type": "code",
   "execution_count": 19,
   "metadata": {},
   "outputs": [
    {
     "data": {
      "text/plain": [
       "(300,)"
      ]
     },
     "execution_count": 19,
     "metadata": {},
     "output_type": "execute_result"
    }
   ],
   "source": [
    "biases.shape"
   ]
  },
  {
   "cell_type": "markdown",
   "metadata": {},
   "source": [
    "Dense의 첫번째 층은 대칭성을 깨뜨리기 위해 연결 가중치를 무작위로 섞음! 그래서 weight가 무작위로 선정돼 있는 것이다.(모두 1이면 같은 뉴런이 된다)\n",
    "bias는 0으로 초기화 됨 "
   ]
  },
  {
   "cell_type": "markdown",
   "metadata": {},
   "source": [
    "### model compile"
   ]
  },
  {
   "cell_type": "markdown",
   "metadata": {},
   "source": [
    "compile 매서드를 통해 손실 함수와 옵티마이저를 지정해야 함"
   ]
  },
  {
   "cell_type": "code",
   "execution_count": 20,
   "metadata": {},
   "outputs": [],
   "source": [
    "model.compile(loss = 'sparse_categorical_crossentropy', \n",
    "             optimizer = 'sgd', #stocastic gradient descent\n",
    "              metrics = ['accuracy'] #훈련과 평가 시에 정확도를 측정하기 위해 accuracy를 사용!\n",
    "             )"
   ]
  },
  {
   "cell_type": "markdown",
   "metadata": {},
   "source": [
    "### model train and validation"
   ]
  },
  {
   "cell_type": "code",
   "execution_count": 21,
   "metadata": {},
   "outputs": [
    {
     "name": "stdout",
     "output_type": "stream",
     "text": [
      "Epoch 1/30\n",
      "1719/1719 [==============================] - 5s 3ms/step - loss: 1.0221 - accuracy: 0.6734 - val_loss: 0.5205 - val_accuracy: 0.8182\n",
      "Epoch 2/30\n",
      "1719/1719 [==============================] - 3s 2ms/step - loss: 0.5070 - accuracy: 0.8243 - val_loss: 0.4526 - val_accuracy: 0.8410\n",
      "Epoch 3/30\n",
      "1719/1719 [==============================] - 3s 2ms/step - loss: 0.4497 - accuracy: 0.8422 - val_loss: 0.4128 - val_accuracy: 0.8592\n",
      "Epoch 4/30\n",
      "1719/1719 [==============================] - 3s 2ms/step - loss: 0.4166 - accuracy: 0.8546 - val_loss: 0.4145 - val_accuracy: 0.8552\n",
      "Epoch 5/30\n",
      "1719/1719 [==============================] - 3s 2ms/step - loss: 0.3922 - accuracy: 0.8621 - val_loss: 0.3951 - val_accuracy: 0.8630\n",
      "Epoch 6/30\n",
      "1719/1719 [==============================] - 3s 2ms/step - loss: 0.3798 - accuracy: 0.8656 - val_loss: 0.3859 - val_accuracy: 0.8654\n",
      "Epoch 7/30\n",
      "1719/1719 [==============================] - 3s 2ms/step - loss: 0.3693 - accuracy: 0.8705 - val_loss: 0.3927 - val_accuracy: 0.8620\n",
      "Epoch 8/30\n",
      "1719/1719 [==============================] - 3s 2ms/step - loss: 0.3557 - accuracy: 0.8742 - val_loss: 0.3550 - val_accuracy: 0.8732\n",
      "Epoch 9/30\n",
      "1719/1719 [==============================] - 3s 2ms/step - loss: 0.3385 - accuracy: 0.8796 - val_loss: 0.3658 - val_accuracy: 0.8708\n",
      "Epoch 10/30\n",
      "1719/1719 [==============================] - 3s 2ms/step - loss: 0.3356 - accuracy: 0.8806 - val_loss: 0.3498 - val_accuracy: 0.8748\n",
      "Epoch 11/30\n",
      "1719/1719 [==============================] - 3s 2ms/step - loss: 0.3240 - accuracy: 0.8850 - val_loss: 0.3440 - val_accuracy: 0.8808\n",
      "Epoch 12/30\n",
      "1719/1719 [==============================] - 3s 2ms/step - loss: 0.3186 - accuracy: 0.8864 - val_loss: 0.3481 - val_accuracy: 0.8766\n",
      "Epoch 13/30\n",
      "1719/1719 [==============================] - 3s 2ms/step - loss: 0.3091 - accuracy: 0.8876 - val_loss: 0.3261 - val_accuracy: 0.8836\n",
      "Epoch 14/30\n",
      "1719/1719 [==============================] - 3s 2ms/step - loss: 0.3057 - accuracy: 0.8910 - val_loss: 0.3190 - val_accuracy: 0.8862\n",
      "Epoch 15/30\n",
      "1719/1719 [==============================] - 3s 2ms/step - loss: 0.2953 - accuracy: 0.8922 - val_loss: 0.3238 - val_accuracy: 0.8868\n",
      "Epoch 16/30\n",
      "1719/1719 [==============================] - 3s 2ms/step - loss: 0.2841 - accuracy: 0.8981 - val_loss: 0.3157 - val_accuracy: 0.8872\n",
      "Epoch 17/30\n",
      "1719/1719 [==============================] - 3s 2ms/step - loss: 0.2905 - accuracy: 0.8963 - val_loss: 0.3219 - val_accuracy: 0.8870\n",
      "Epoch 18/30\n",
      "1719/1719 [==============================] - 3s 2ms/step - loss: 0.2758 - accuracy: 0.9000 - val_loss: 0.3118 - val_accuracy: 0.8916\n",
      "Epoch 19/30\n",
      "1719/1719 [==============================] - 3s 2ms/step - loss: 0.2750 - accuracy: 0.8981 - val_loss: 0.3195 - val_accuracy: 0.8824\n",
      "Epoch 20/30\n",
      "1719/1719 [==============================] - 3s 2ms/step - loss: 0.2697 - accuracy: 0.9037 - val_loss: 0.3112 - val_accuracy: 0.8908\n",
      "Epoch 21/30\n",
      "1719/1719 [==============================] - 3s 2ms/step - loss: 0.2649 - accuracy: 0.9038 - val_loss: 0.3104 - val_accuracy: 0.8880\n",
      "Epoch 22/30\n",
      "1719/1719 [==============================] - 3s 2ms/step - loss: 0.2569 - accuracy: 0.9051 - val_loss: 0.3096 - val_accuracy: 0.8898\n",
      "Epoch 23/30\n",
      "1719/1719 [==============================] - 3s 2ms/step - loss: 0.2495 - accuracy: 0.9095 - val_loss: 0.3143 - val_accuracy: 0.8818\n",
      "Epoch 24/30\n",
      "1719/1719 [==============================] - 3s 2ms/step - loss: 0.2524 - accuracy: 0.9081 - val_loss: 0.2997 - val_accuracy: 0.8940\n",
      "Epoch 25/30\n",
      "1719/1719 [==============================] - 3s 2ms/step - loss: 0.2502 - accuracy: 0.9095 - val_loss: 0.3152 - val_accuracy: 0.8866\n",
      "Epoch 26/30\n",
      "1719/1719 [==============================] - 3s 2ms/step - loss: 0.2423 - accuracy: 0.9126 - val_loss: 0.2985 - val_accuracy: 0.8964\n",
      "Epoch 27/30\n",
      "1719/1719 [==============================] - 3s 2ms/step - loss: 0.2389 - accuracy: 0.9142 - val_loss: 0.3034 - val_accuracy: 0.8886\n",
      "Epoch 28/30\n",
      "1719/1719 [==============================] - 3s 2ms/step - loss: 0.2337 - accuracy: 0.9156 - val_loss: 0.2888 - val_accuracy: 0.8944\n",
      "Epoch 29/30\n",
      "1719/1719 [==============================] - 3s 2ms/step - loss: 0.2289 - accuracy: 0.9161 - val_loss: 0.2948 - val_accuracy: 0.8932\n",
      "Epoch 30/30\n",
      "1719/1719 [==============================] - 3s 2ms/step - loss: 0.2268 - accuracy: 0.9184 - val_loss: 0.2912 - val_accuracy: 0.8960\n"
     ]
    }
   ],
   "source": [
    "history = model.fit(x = x_train, y = y_train, epochs = 30 #30번 반복?\n",
    "                   , validation_data = (x_valid, y_valid) #이렇게 검증 셋을 지정해줄 수 있음\n",
    "                   )"
   ]
  },
  {
   "cell_type": "markdown",
   "metadata": {},
   "source": [
    "|\n",
    "> 상당히 크리티컬한 내용 : 클래스가 편중돼 있을 경우, 클래스에 가중치를 부여할 수 있다. class_weight를 통해서 적게 등장하는 클래스에 높은 가중치를 부여하고, 많이 등장하는 클래스에 낮은 가중치를 부여하면 된다"
   ]
  },
  {
   "cell_type": "markdown",
   "metadata": {},
   "source": [
    "- fit 메서드가 반환하는 객체\n",
    "\n",
    "1)훈련 파라미터, 2)수행된 에포크 리스트, <span style=\"color:lightblue\">**3)에포크가 끝날때마다 훈련 세트와 검증 세트에 대한 손실과 측정한 지표를 담은 딕셔너리**</span>\n",
    "\n"
   ]
  },
  {
   "cell_type": "code",
   "execution_count": 22,
   "metadata": {},
   "outputs": [
    {
     "data": {
      "image/png": "[encoded data removed]",
      "text/plain": [
       "<Figure size 576x360 with 1 Axes>"
      ]
     },
     "metadata": {
      "needs_background": "light"
     },
     "output_type": "display_data"
    }
   ],
   "source": [
    "import pandas as pd\n",
    "import matplotlib.pyplot as plt\n",
    "\n",
    "pd.DataFrame(history.history).plot(figsize = (8,5))\n",
    "plt.grid(True)\n",
    "plt.gca().set_ylim(0,1)\n",
    "plt.show()\n"
   ]
  },
  {
   "cell_type": "markdown",
   "metadata": {},
   "source": [
    "> 검승 손실은 에포크가 끝난 후에 계산되고, 훈련 손실은 에포크가 진행되는 동안 계산되기 때문에, 훈련 곡선은 에포크의 절반만큼 왼쪽으로 이동해야 한다.\n",
    "\n",
    "> train을 계속하고 싶다면 fit() 메서드를 이용하면, 중지되었던 곳부터 다시 시작하게 될 것이다.\n",
    "\n",
    "> **가장 먼저 튜닝해야할 hyperparameter는 학습률!!**"
   ]
  },
  {
   "cell_type": "markdown",
   "metadata": {},
   "source": [
    "- holdout set 예측\n",
    "\n",
    "모델 상용화 이전에 모델의 일반화 오차를 추정할 수 있다."
   ]
  },
  {
   "cell_type": "code",
   "execution_count": 23,
   "metadata": {},
   "outputs": [
    {
     "name": "stdout",
     "output_type": "stream",
     "text": [
      "313/313 [==============================] - 0s 1ms/step - loss: 0.3339 - accuracy: 0.8803\n"
     ]
    },
    {
     "data": {
      "text/plain": [
       "[0.3338747024536133, 0.880299985408783]"
      ]
     },
     "execution_count": 23,
     "metadata": {},
     "output_type": "execute_result"
    }
   ],
   "source": [
    "model.evaluate(x_test, y_test)"
   ]
  },
  {
   "cell_type": "markdown",
   "metadata": {},
   "source": [
    "### Predict"
   ]
  },
  {
   "cell_type": "markdown",
   "metadata": {},
   "source": [
    "새로운 샘플에 대해 예측을 진행할 수 있다"
   ]
  },
  {
   "cell_type": "code",
   "execution_count": 24,
   "metadata": {},
   "outputs": [
    {
     "data": {
      "text/plain": [
       "array([[0.  , 0.  , 0.  , 0.  , 0.  , 0.  , 0.  , 0.01, 0.  , 0.98],\n",
       "       [0.  , 0.  , 1.  , 0.  , 0.  , 0.  , 0.  , 0.  , 0.  , 0.  ],\n",
       "       [0.  , 1.  , 0.  , 0.  , 0.  , 0.  , 0.  , 0.  , 0.  , 0.  ]],\n",
       "      dtype=float32)"
      ]
     },
     "execution_count": 24,
     "metadata": {},
     "output_type": "execute_result"
    }
   ],
   "source": [
    "x_new = x_test[:3]\n",
    "y_proba = model.predict(x_new)\n",
    "\n",
    "y_proba.round(2)"
   ]
  },
  {
   "cell_type": "markdown",
   "metadata": {},
   "source": [
    "> class : ['T-shirt/top', 'Trouser', 'Pullover', 'Dress', 'Coat', 'Sandal', 'Shirt', 'Sneaker', 'Bag', 'Ankle Boot']"
   ]
  },
  {
   "cell_type": "markdown",
   "metadata": {},
   "source": [
    "> 해석 : 첫번째 이미지에 대해서는 9클래스(ankle boot)일 확률이 99%, 7클래스(sneaker)일 확률이 1%라고 예측한 것이다."
   ]
  },
  {
   "cell_type": "markdown",
   "metadata": {},
   "source": [
    "predict_classes()라는 메서드를 통해 클래스만 분류할 수 있다."
   ]
  },
  {
   "cell_type": "code",
   "execution_count": 25,
   "metadata": {},
   "outputs": [
    {
     "name": "stderr",
     "output_type": "stream",
     "text": [
      "C:\\Users\\jiho0\\anaconda3\\lib\\site-packages\\tensorflow\\python\\keras\\engine\\sequential.py:450: UserWarning: `model.predict_classes()` is deprecated and will be removed after 2021-01-01. Please use instead:* `np.argmax(model.predict(x), axis=-1)`,   if your model does multi-class classification   (e.g. if it uses a `softmax` last-layer activation).* `(model.predict(x) > 0.5).astype(\"int32\")`,   if your model does binary classification   (e.g. if it uses a `sigmoid` last-layer activation).\n",
      "  warnings.warn('`model.predict_classes()` is deprecated and '\n"
     ]
    },
    {
     "data": {
      "text/plain": [
       "array(['Ankle Boot', 'Pullover', 'Trouser'], dtype='<U11')"
      ]
     },
     "execution_count": 25,
     "metadata": {},
     "output_type": "execute_result"
    }
   ],
   "source": [
    "import numpy as np\n",
    "y_pred = model.predict_classes(x_new)\n",
    "y_pred\n",
    "\n",
    "np.array(class_names)[y_pred]"
   ]
  },
  {
   "cell_type": "code",
   "execution_count": 26,
   "metadata": {},
   "outputs": [
    {
     "data": {
      "text/plain": [
       "array([9, 2, 1], dtype=uint8)"
      ]
     },
     "execution_count": 26,
     "metadata": {},
     "output_type": "execute_result"
    }
   ],
   "source": [
    "y_new = y_test[:3]\n",
    "\n",
    "y_new"
   ]
  },
  {
   "cell_type": "markdown",
   "metadata": {},
   "source": [
    "## 10.2.3 회귀용 다층 퍼셉트론 생성 "
   ]
  },
  {
   "cell_type": "code",
   "execution_count": 35,
   "metadata": {},
   "outputs": [],
   "source": [
    "from sklearn.datasets import fetch_california_housing\n",
    "from sklearn.model_selection import train_test_split\n",
    "from sklearn.preprocessing import StandardScaler\n",
    "from sklearn import metrics\n",
    "import numpy as np\n",
    "#데이터 적재\n",
    "housing = fetch_california_housing()\n",
    "\n",
    "#train test 데이터 분할\n",
    "x_train_full, x_test, y_train_full, y_test = train_test_split(housing.data, housing.target)\n",
    "\n",
    "#train - valid 데이터 분할\n",
    "x_train, x_valid, y_train, y_valid = train_test_split(x_train_full, y_train_full)\n",
    "\n",
    "#표준화 작업을 거쳐주는 것 같다.\n",
    "scaler = StandardScaler()\n",
    "x_train = scaler.fit_transform(x_train)\n",
    "x_valid = scaler.fit_transform(x_valid)\n",
    "x_test = scaler.fit_transform(x_test)"
   ]
  },
  {
   "cell_type": "code",
   "execution_count": 36,
   "metadata": {},
   "outputs": [
    {
     "name": "stdout",
     "output_type": "stream",
     "text": [
      "['MedInc', 'HouseAge', 'AveRooms', 'AveBedrms', 'Population', 'AveOccup', 'Latitude', 'Longitude']\n",
      " *데이터 : [ 8.30140000e+00  2.10000000e+01  6.23813708e+00  9.71880492e-01\n",
      "  2.40100000e+03  2.10984183e+00  3.78600000e+01 -1.22220000e+02] \n",
      " *예측변수 : 3.585 \n"
     ]
    }
   ],
   "source": [
    "#housing은 무슨 데이터인가\n",
    "print(housing['feature_names']) \n",
    "\n",
    "print(\" *데이터 : {0} \\n *예측변수 : {1} \".format(housing['data'][1], housing['target'][1]))"
   ]
  },
  {
   "cell_type": "code",
   "execution_count": 37,
   "metadata": {},
   "outputs": [
    {
     "data": {
      "text/plain": [
       "(15480, 8)"
      ]
     },
     "execution_count": 37,
     "metadata": {},
     "output_type": "execute_result"
    }
   ],
   "source": [
    "x_train_full.shape"
   ]
  },
  {
   "cell_type": "markdown",
   "metadata": {},
   "source": [
    "총 8개의 변수를 가진 15480 obs의 데이터 "
   ]
  },
  {
   "cell_type": "markdown",
   "metadata": {},
   "source": [
    "- 모델 구축"
   ]
  },
  {
   "cell_type": "code",
   "execution_count": 38,
   "metadata": {},
   "outputs": [
    {
     "name": "stdout",
     "output_type": "stream",
     "text": [
      "Epoch 1/30\n",
      "363/363 [==============================] - 1s 1ms/step - loss: 1.1859 - val_loss: 0.6423\n",
      "Epoch 2/30\n",
      "363/363 [==============================] - 0s 1ms/step - loss: 0.5902 - val_loss: 1.0931\n",
      "Epoch 3/30\n",
      "363/363 [==============================] - 0s 1ms/step - loss: 0.6357 - val_loss: 0.4823\n",
      "Epoch 4/30\n",
      "363/363 [==============================] - 0s 1ms/step - loss: 0.4819 - val_loss: 0.4569\n",
      "Epoch 5/30\n",
      "363/363 [==============================] - 0s 1ms/step - loss: 0.4672 - val_loss: 0.4625\n",
      "Epoch 6/30\n",
      "363/363 [==============================] - 0s 1ms/step - loss: 0.4470 - val_loss: 0.4458\n",
      "Epoch 7/30\n",
      "363/363 [==============================] - ETA: 0s - loss: 0.453 - 0s 1ms/step - loss: 0.4532 - val_loss: 0.4605\n",
      "Epoch 8/30\n",
      "363/363 [==============================] - 0s 1ms/step - loss: 0.4212 - val_loss: 0.4513\n",
      "Epoch 9/30\n",
      "363/363 [==============================] - 0s 1ms/step - loss: 0.4162 - val_loss: 0.4657\n",
      "Epoch 10/30\n",
      "363/363 [==============================] - 0s 1ms/step - loss: 0.4269 - val_loss: 0.5149\n",
      "Epoch 11/30\n",
      "363/363 [==============================] - 0s 1ms/step - loss: 0.4305 - val_loss: 0.4936\n",
      "Epoch 12/30\n",
      "363/363 [==============================] - 0s 1ms/step - loss: 0.4300 - val_loss: 0.5068\n",
      "Epoch 13/30\n",
      "363/363 [==============================] - 0s 1ms/step - loss: 0.4108 - val_loss: 0.5443\n",
      "Epoch 14/30\n",
      "363/363 [==============================] - 0s 1ms/step - loss: 0.4034 - val_loss: 0.5572\n",
      "Epoch 15/30\n",
      "363/363 [==============================] - 0s 1ms/step - loss: 0.4501 - val_loss: 0.5563\n",
      "Epoch 16/30\n",
      "363/363 [==============================] - 0s 1ms/step - loss: 0.3972 - val_loss: 0.5907\n",
      "Epoch 17/30\n",
      "363/363 [==============================] - 0s 1ms/step - loss: 0.4316 - val_loss: 0.6192\n",
      "Epoch 18/30\n",
      "363/363 [==============================] - 0s 1ms/step - loss: 0.4072 - val_loss: 0.6488\n",
      "Epoch 19/30\n",
      "363/363 [==============================] - 0s 1ms/step - loss: 0.4206 - val_loss: 0.6310\n",
      "Epoch 20/30\n",
      "363/363 [==============================] - 0s 1ms/step - loss: 0.3967 - val_loss: 0.6977\n",
      "Epoch 21/30\n",
      "363/363 [==============================] - 0s 1ms/step - loss: 0.3818 - val_loss: 0.7552\n",
      "Epoch 22/30\n",
      "363/363 [==============================] - 0s 1ms/step - loss: 0.4219 - val_loss: 0.7326\n",
      "Epoch 23/30\n",
      "363/363 [==============================] - 0s 1ms/step - loss: 0.4859 - val_loss: 0.7620\n",
      "Epoch 24/30\n",
      "363/363 [==============================] - 0s 1ms/step - loss: 0.4207 - val_loss: 0.7902\n",
      "Epoch 25/30\n",
      "363/363 [==============================] - 0s 1ms/step - loss: 0.3844 - val_loss: 0.7788\n",
      "Epoch 26/30\n",
      "363/363 [==============================] - 0s 1ms/step - loss: 0.4025 - val_loss: 0.8218\n",
      "Epoch 27/30\n",
      "363/363 [==============================] - 0s 1ms/step - loss: 0.3907 - val_loss: 0.9300\n",
      "Epoch 28/30\n",
      "363/363 [==============================] - 0s 1ms/step - loss: 0.3846 - val_loss: 0.9555\n",
      "Epoch 29/30\n",
      "363/363 [==============================] - 0s 1ms/step - loss: 0.3920 - val_loss: 0.9801\n",
      "Epoch 30/30\n",
      "363/363 [==============================] - 0s 1ms/step - loss: 0.3802 - val_loss: 1.0185\n"
     ]
    }
   ],
   "source": [
    "np.random.seed(1234)\n",
    "model_reg = keras.models.Sequential([\n",
    "    keras.layers.Dense(30, activation = 'relu', input_shape = x_train.shape[1:]), #30개의 뉴런! relu를 활성화로 가짐\n",
    "    keras.layers.Dense(1)    #출력은 활성화함수가 없는 하나의 뉴런이다.\n",
    "])\n",
    "\n",
    "#모델을 학습하자\n",
    "model_reg.compile(loss = 'mean_squared_error', optimizer = 'sgd')\n",
    "history = model_reg.fit(x_train, y_train, epochs = 30,\n",
    "                   validation_data = (x_valid, y_valid))\n",
    "\n",
    "#사실 층이 1층이라서 연산시간이 생각보다 짧다"
   ]
  },
  {
   "cell_type": "code",
   "execution_count": 39,
   "metadata": {},
   "outputs": [
    {
     "data": {
      "image/png": "[encoded data removed]",
      "text/plain": [
       "<Figure size 576x360 with 1 Axes>"
      ]
     },
     "metadata": {
      "needs_background": "light"
     },
     "output_type": "display_data"
    }
   ],
   "source": [
    "import pandas as pd\n",
    "import matplotlib.pyplot as plt\n",
    "\n",
    "pd.DataFrame(history.history).plot(figsize = (8,5))\n",
    "plt.grid(True)\n",
    "plt.gca().set_ylim(0,1)\n",
    "plt.show()\n",
    "\n",
    "#이상하게도 validation에 대해서도 상당한 과적합이 나와버린다... 이상한 방향으로 학습을 진행하고 있는 것 같음"
   ]
  },
  {
   "cell_type": "code",
   "execution_count": 40,
   "metadata": {},
   "outputs": [
    {
     "name": "stdout",
     "output_type": "stream",
     "text": [
      "162/162 [==============================] - 0s 741us/step - loss: 5.0276\n"
     ]
    }
   ],
   "source": [
    "#hold out에 대한 예측\n",
    "mse_test = model_reg.evaluate(x_test, y_test)"
   ]
  },
  {
   "cell_type": "code",
   "execution_count": 41,
   "metadata": {},
   "outputs": [
    {
     "data": {
      "text/plain": [
       "2.465568035774073"
      ]
     },
     "execution_count": 41,
     "metadata": {},
     "output_type": "execute_result"
    }
   ],
   "source": [
    "from sklearn import metrics\n",
    "#새로운 데이터에 대해 예측\n",
    "x_new = x_test[:3]\n",
    "y_pred = model_reg.predict(x_new)\n",
    "metrics.mean_squared_error(y_pred, y_test[:3])"
   ]
  },
  {
   "cell_type": "markdown",
   "metadata": {},
   "source": [
    "대충 정리하자면 Keras Sequential API를 이용한 모형 구축은\n",
    "\n",
    "> 1) kreas.models.Sequential 을 이용하여 모델 구축 \n",
    "\n",
    "> 2) 모델 compile - 손실함수와 옵티마이저(ex 경사하강법) , 부가적으로 훈련과 평가시 계산할 지표 또한 지정 가능(metrics), 이는 단순히 측정 지표이다\n",
    "\n",
    "> 3) fit()메서드를 통해 모델 훈련 및 predict를 통한 값 에측"
   ]
  },
  {
   "cell_type": "markdown",
   "metadata": {},
   "source": [
    "## 10.2.4 함수형 API를 사용하여 복잡한 모델 구축"
   ]
  },
  {
   "cell_type": "code",
   "execution_count": 37,
   "metadata": {},
   "outputs": [],
   "source": [
    "#input 객체 생성 - shape과 dtype을 이용하여 input을 구축\n",
    "input_ = keras.layers.Input(shape = x_train.shape[1:])\n",
    "\n",
    "#Dense층 생성\n",
    "hidden1 = keras.layers.Dense(30, activation = 'relu')(input_)\n",
    "hidden2 = keras.layers.Dense(30, activation = 'relu')(hidden1) #뒤에 이렇게 함수처럼 넣을 객체를 지정해준다.\n",
    "#함수처럼이 무슨 의미냐면 sum()처럼 만들자마자 위의 값을 함수처럼 넣는다는 의미\n",
    "\n",
    "#concatenate층으로 *두번째 은닉층과 input층을 연결해준다.*\n",
    "concat = keras.layers.Concatenate()([input_, hidden2])\n",
    "#이게 왜 생긴거냐면 와이드 경로는 입력의 일부 또는 전체가 바로 출력층으로 전달! 그래서 와이드 신경망을 구축하기 위해 넣은 것이라 생각하면 된다.\n",
    "\n",
    "#출력층 만들기 - concat을 받는다는 것은 input의 값과 hidden2의 출력값을 여기서 출력해준다는 의미다.\n",
    "output = keras.layers.Dense(1)(concat)\n",
    "\n",
    "#input과 output을 만들어 케라스 모델을 구축한다\n",
    "model = keras.Model(inputs = [input_], outputs = [output])"
   ]
  },
  {
   "cell_type": "markdown",
   "metadata": {},
   "source": [
    "- 입력층 두개 만들기"
   ]
  },
  {
   "cell_type": "code",
   "execution_count": 38,
   "metadata": {},
   "outputs": [],
   "source": [
    "#5개의 특성은 짧은 경로로 보내고, 6개의 특성은 깊은 경로로 보낸다고 가정\n",
    "\n",
    "#input층 만들기\n",
    "input_A = keras.layers.Input(shape = [5], name = 'wide_input')\n",
    "input_B = keras.layers.Input(shape = [6], name = 'deep_input')\n",
    "\n",
    "#Dense층 만들기\n",
    "hidden1 = keras.layers.Dense(30, activation = 'relu')(input_B)\n",
    "hidden2 = keras.layers.Dense(30, activation = 'relu')(hidden1) \n",
    "\n",
    "#concatenate층 만들기\n",
    "concat = keras.layers.Concatenate()([input_A, hidden2])\n",
    "\n",
    "#output층 만들기\n",
    "output = keras.layers.Dense(1, name = 'output')(concat)\n",
    "\n",
    "#input과 output을 통해 케라스 모델 구축\n",
    "model2 = keras.Model(inputs = [input_A, input_B], outputs = [output])"
   ]
  },
  {
   "cell_type": "markdown",
   "metadata": {},
   "source": [
    "위 경우 학습할 때 튜플 형태인 x_train_A, x_train_B 이렇게 보내줘야 한다. "
   ]
  },
  {
   "cell_type": "code",
   "execution_count": 39,
   "metadata": {},
   "outputs": [
    {
     "name": "stdout",
     "output_type": "stream",
     "text": [
      "Epoch 1/30\n",
      "363/363 [==============================] - 1s 2ms/step - loss: 3.2486 - val_loss: 0.9077\n",
      "Epoch 2/30\n",
      "363/363 [==============================] - 0s 1ms/step - loss: 0.8686 - val_loss: 0.7105\n",
      "Epoch 3/30\n",
      "363/363 [==============================] - 0s 1ms/step - loss: 0.7620 - val_loss: 0.6552\n",
      "Epoch 4/30\n",
      "363/363 [==============================] - 0s 1ms/step - loss: 0.6683 - val_loss: 0.6270\n",
      "Epoch 5/30\n",
      "363/363 [==============================] - 0s 1ms/step - loss: 0.6599 - val_loss: 0.6042\n",
      "Epoch 6/30\n",
      "363/363 [==============================] - 0s 1ms/step - loss: 0.6529 - val_loss: 0.5840\n",
      "Epoch 7/30\n",
      "363/363 [==============================] - 0s 1ms/step - loss: 0.6376 - val_loss: 0.5670\n",
      "Epoch 8/30\n",
      "363/363 [==============================] - 0s 1ms/step - loss: 0.6209 - val_loss: 0.5527\n",
      "Epoch 9/30\n",
      "363/363 [==============================] - 0s 1ms/step - loss: 0.5953 - val_loss: 0.5419\n",
      "Epoch 10/30\n",
      "363/363 [==============================] - 0s 1ms/step - loss: 0.5695 - val_loss: 0.5300\n",
      "Epoch 11/30\n",
      "363/363 [==============================] - 0s 1ms/step - loss: 0.5510 - val_loss: 0.5228\n",
      "Epoch 12/30\n",
      "363/363 [==============================] - 0s 1ms/step - loss: 0.5510 - val_loss: 0.5135\n",
      "Epoch 13/30\n",
      "363/363 [==============================] - 0s 1ms/step - loss: 0.5720 - val_loss: 0.5027\n",
      "Epoch 14/30\n",
      "363/363 [==============================] - 0s 1ms/step - loss: 0.5491 - val_loss: 0.5002\n",
      "Epoch 15/30\n",
      "363/363 [==============================] - 0s 1ms/step - loss: 0.5451 - val_loss: 0.4947\n",
      "Epoch 16/30\n",
      "363/363 [==============================] - 0s 1ms/step - loss: 0.5409 - val_loss: 0.4832\n",
      "Epoch 17/30\n",
      "363/363 [==============================] - 0s 1ms/step - loss: 0.5287 - val_loss: 0.4799\n",
      "Epoch 18/30\n",
      "363/363 [==============================] - 0s 1ms/step - loss: 0.5187 - val_loss: 0.4781\n",
      "Epoch 19/30\n",
      "363/363 [==============================] - 0s 1ms/step - loss: 0.5252 - val_loss: 0.4695\n",
      "Epoch 20/30\n",
      "363/363 [==============================] - 0s 1ms/step - loss: 0.5131 - val_loss: 0.4667\n",
      "Epoch 21/30\n",
      "363/363 [==============================] - 0s 1ms/step - loss: 0.4960 - val_loss: 0.4635\n",
      "Epoch 22/30\n",
      "363/363 [==============================] - 0s 1ms/step - loss: 0.5143 - val_loss: 0.4588\n",
      "Epoch 23/30\n",
      "363/363 [==============================] - 0s 1ms/step - loss: 0.5036 - val_loss: 0.4564\n",
      "Epoch 24/30\n",
      "363/363 [==============================] - 0s 1ms/step - loss: 0.5243 - val_loss: 0.4515\n",
      "Epoch 25/30\n",
      "363/363 [==============================] - 0s 1ms/step - loss: 0.5141 - val_loss: 0.4512\n",
      "Epoch 26/30\n",
      "363/363 [==============================] - 0s 1ms/step - loss: 0.4895 - val_loss: 0.4492\n",
      "Epoch 27/30\n",
      "363/363 [==============================] - 0s 1ms/step - loss: 0.5010 - val_loss: 0.4462\n",
      "Epoch 28/30\n",
      "363/363 [==============================] - 0s 1ms/step - loss: 0.4797 - val_loss: 0.4473\n",
      "Epoch 29/30\n",
      "363/363 [==============================] - 0s 1ms/step - loss: 0.4967 - val_loss: 0.4397\n",
      "Epoch 30/30\n",
      "363/363 [==============================] - 0s 1ms/step - loss: 0.4736 - val_loss: 0.4365\n"
     ]
    }
   ],
   "source": [
    "np.random.seed(1234)\n",
    "\n",
    "#model complie - 손실함수와 옵티마이저 구축 \n",
    "model2.compile(loss = 'mse', optimizer = keras.optimizers.SGD(lr = 0.001))\n",
    "\n",
    "#train, valid, test셋 나누기\n",
    "x_train_A,  x_train_B = x_train[:,:5], x_train[:, 2:] #0에서 4번까지의 특성은 A로, 2번에서 7번까지의 특성은 B로 보낸다. 여기서 특성은 변수인 것 같다.\n",
    "x_valid_A,  x_valid_B = x_valid[:,:5], x_valid[:, 2:] \n",
    "x_test_A,  x_test_B = x_test[:,:5], x_test[:, 2:]\n",
    "x_new_A, x_new_B = x_test_A[:3], x_test_B[:3]\n",
    "\n",
    "#model fit 하기\n",
    "history2 = model2.fit((x_train_A, x_train_B), y_train, epochs = 30,\n",
    "                     validation_data = ((x_valid_A, x_valid_B), y_valid))\n"
   ]
  },
  {
   "cell_type": "code",
   "execution_count": 40,
   "metadata": {},
   "outputs": [
    {
     "name": "stdout",
     "output_type": "stream",
     "text": [
      "162/162 [==============================] - 0s 770us/step - loss: 0.4629\n"
     ]
    }
   ],
   "source": [
    "#holdout에 대한 결과!\n",
    "mse_test = model2.evaluate((x_test_A, x_test_B), y_test)\n"
   ]
  },
  {
   "cell_type": "code",
   "execution_count": 41,
   "metadata": {},
   "outputs": [
    {
     "data": {
      "text/plain": [
       "0.3264366554921867"
      ]
     },
     "execution_count": 41,
     "metadata": {},
     "output_type": "execute_result"
    }
   ],
   "source": [
    "from sklearn import metrics\n",
    "\n",
    "#새로운 데이터 예측\n",
    "y_pred = model2.predict((x_new_A, x_new_B))\n",
    "\n",
    "#예측한 데이터 평가\n",
    "metrics.mean_squared_error(y_true = y_test[:3], y_pred = y_pred)"
   ]
  },
  {
   "cell_type": "markdown",
   "metadata": {},
   "source": [
    "- 출력 여러개 만들기"
   ]
  },
  {
   "cell_type": "markdown",
   "metadata": {},
   "source": [
    "에를 들어 얼굴 사진을 분류할때 한 출력은 사람의 얼굴 표정(기쁨, 슬픔 등)을 분류하고 다른 출력은 안경을 썼는지 구별한다면, 아주 편한 모델을 구축할 수 있다"
   ]
  },
  {
   "cell_type": "code",
   "execution_count": 42,
   "metadata": {},
   "outputs": [],
   "source": [
    "#5개의 특성은 짧은 경로로 보내고, 6개의 특성은 깊은 경로로 보낸다고 가정 + 출력을 두개로 나눈다고 해보자.\n",
    "\n",
    "#input층 만들기\n",
    "input_A = keras.layers.Input(shape = [5], name = 'wide_input')\n",
    "input_B = keras.layers.Input(shape = [6], name = 'deep_input')\n",
    "\n",
    "#Dense층 만들기\n",
    "hidden1 = keras.layers.Dense(30, activation = 'relu')(input_B)\n",
    "hidden2 = keras.layers.Dense(30, activation = 'relu')(hidden1) \n",
    "\n",
    "#concatenate층 만들기\n",
    "concat = keras.layers.Concatenate()([input_A, hidden2])\n",
    "\n",
    "#이전까지는 위와 동일\n",
    "output = keras.layers.Dense(1, name = 'output')(concat)\n",
    "aux_output = keras.layers.Dense(1, name = 'aux_output')(hidden2) #hidden2만 사용해서!\n",
    "\n",
    "#모형 구축 - output을 두개 넣어주면 된다.\n",
    "model3 = keras.Model(inputs = [input_A, input_B], outputs = [output, aux_output])\n"
   ]
  },
  {
   "cell_type": "code",
   "execution_count": 43,
   "metadata": {},
   "outputs": [],
   "source": [
    "#각 출력은 자신만의 손실함수가 필요 + 각 출력에 가중치를 다르게 할당할 수 있다\n",
    "model3.compile(loss = ['mse', 'mse'], loss_weights = [0.9, 0.1], optimizer = 'sgd')"
   ]
  },
  {
   "cell_type": "code",
   "execution_count": 44,
   "metadata": {},
   "outputs": [
    {
     "name": "stdout",
     "output_type": "stream",
     "text": [
      "Epoch 1/30\n",
      "363/363 [==============================] - 1s 2ms/step - loss: 1.6580 - output_loss: 1.5742 - aux_output_loss: 2.4125 - val_loss: 0.6221 - val_output_loss: 0.5468 - val_aux_output_loss: 1.2995\n",
      "Epoch 2/30\n",
      "363/363 [==============================] - 0s 1ms/step - loss: 0.7656 - output_loss: 0.7134 - aux_output_loss: 1.2351 - val_loss: 0.5212 - val_output_loss: 0.4635 - val_aux_output_loss: 1.0407\n",
      "Epoch 3/30\n",
      "363/363 [==============================] - 1s 1ms/step - loss: 0.5739 - output_loss: 0.5235 - aux_output_loss: 1.0272 - val_loss: 0.4928 - val_output_loss: 0.4506 - val_aux_output_loss: 0.8731\n",
      "Epoch 4/30\n",
      "363/363 [==============================] - 1s 1ms/step - loss: 0.5624 - output_loss: 0.5225 - aux_output_loss: 0.9215 - val_loss: 0.4520 - val_output_loss: 0.4184 - val_aux_output_loss: 0.7551\n",
      "Epoch 5/30\n",
      "363/363 [==============================] - 1s 1ms/step - loss: 0.5049 - output_loss: 0.4706 - aux_output_loss: 0.8137 - val_loss: 0.4372 - val_output_loss: 0.4093 - val_aux_output_loss: 0.6883\n",
      "Epoch 6/30\n",
      "363/363 [==============================] - 1s 1ms/step - loss: 0.4887 - output_loss: 0.4573 - aux_output_loss: 0.7713 - val_loss: 0.4413 - val_output_loss: 0.4179 - val_aux_output_loss: 0.6517\n",
      "Epoch 7/30\n",
      "363/363 [==============================] - 1s 2ms/step - loss: 0.5023 - output_loss: 0.4762 - aux_output_loss: 0.7375 - val_loss: 0.4341 - val_output_loss: 0.4108 - val_aux_output_loss: 0.6442\n",
      "Epoch 8/30\n",
      "363/363 [==============================] - 1s 2ms/step - loss: 0.4854 - output_loss: 0.4583 - aux_output_loss: 0.7289 - val_loss: 0.4390 - val_output_loss: 0.4192 - val_aux_output_loss: 0.6170\n",
      "Epoch 9/30\n",
      "363/363 [==============================] - 1s 2ms/step - loss: 0.4650 - output_loss: 0.4419 - aux_output_loss: 0.6728 - val_loss: 0.4617 - val_output_loss: 0.4428 - val_aux_output_loss: 0.6318\n",
      "Epoch 10/30\n",
      "363/363 [==============================] - 1s 2ms/step - loss: 0.4819 - output_loss: 0.4583 - aux_output_loss: 0.6946 - val_loss: 0.4575 - val_output_loss: 0.4400 - val_aux_output_loss: 0.6157\n",
      "Epoch 11/30\n",
      "363/363 [==============================] - 1s 2ms/step - loss: 0.4357 - output_loss: 0.4150 - aux_output_loss: 0.6222 - val_loss: 0.5038 - val_output_loss: 0.4874 - val_aux_output_loss: 0.6515\n",
      "Epoch 12/30\n",
      "363/363 [==============================] - 1s 2ms/step - loss: 0.4304 - output_loss: 0.4083 - aux_output_loss: 0.6296 - val_loss: 0.5413 - val_output_loss: 0.5256 - val_aux_output_loss: 0.6832\n",
      "Epoch 13/30\n",
      "363/363 [==============================] - 1s 2ms/step - loss: 0.4313 - output_loss: 0.4110 - aux_output_loss: 0.6142 - val_loss: 0.5479 - val_output_loss: 0.5328 - val_aux_output_loss: 0.6836\n",
      "Epoch 14/30\n",
      "363/363 [==============================] - 0s 1ms/step - loss: 0.4228 - output_loss: 0.4023 - aux_output_loss: 0.6077 - val_loss: 0.5461 - val_output_loss: 0.5317 - val_aux_output_loss: 0.6753\n",
      "Epoch 15/30\n",
      "363/363 [==============================] - 1s 1ms/step - loss: 0.4147 - output_loss: 0.3947 - aux_output_loss: 0.5949 - val_loss: 0.6355 - val_output_loss: 0.6247 - val_aux_output_loss: 0.7326\n",
      "Epoch 16/30\n",
      "363/363 [==============================] - 0s 1ms/step - loss: 0.3944 - output_loss: 0.3753 - aux_output_loss: 0.5668 - val_loss: 0.6394 - val_output_loss: 0.6289 - val_aux_output_loss: 0.7338\n",
      "Epoch 17/30\n",
      "363/363 [==============================] - 0s 1ms/step - loss: 0.4103 - output_loss: 0.3911 - aux_output_loss: 0.5824 - val_loss: 0.6587 - val_output_loss: 0.6503 - val_aux_output_loss: 0.7338\n",
      "Epoch 18/30\n",
      "363/363 [==============================] - 1s 2ms/step - loss: 0.4110 - output_loss: 0.3926 - aux_output_loss: 0.5771 - val_loss: 0.6857 - val_output_loss: 0.6757 - val_aux_output_loss: 0.7762\n",
      "Epoch 19/30\n",
      "363/363 [==============================] - 1s 1ms/step - loss: 0.3985 - output_loss: 0.3817 - aux_output_loss: 0.5489 - val_loss: 0.7198 - val_output_loss: 0.7136 - val_aux_output_loss: 0.7759\n",
      "Epoch 20/30\n",
      "363/363 [==============================] - 1s 2ms/step - loss: 0.3936 - output_loss: 0.3761 - aux_output_loss: 0.5509 - val_loss: 0.7554 - val_output_loss: 0.7502 - val_aux_output_loss: 0.8020\n",
      "Epoch 21/30\n",
      "363/363 [==============================] - 1s 2ms/step - loss: 0.3876 - output_loss: 0.3715 - aux_output_loss: 0.5324 - val_loss: 0.8855 - val_output_loss: 0.8860 - val_aux_output_loss: 0.8809\n",
      "Epoch 22/30\n",
      "363/363 [==============================] - 1s 1ms/step - loss: 0.3805 - output_loss: 0.3646 - aux_output_loss: 0.5243 - val_loss: 0.8455 - val_output_loss: 0.8442 - val_aux_output_loss: 0.8566\n",
      "Epoch 23/30\n",
      "363/363 [==============================] - 1s 1ms/step - loss: 0.3829 - output_loss: 0.3682 - aux_output_loss: 0.5155 - val_loss: 0.9464 - val_output_loss: 0.9478 - val_aux_output_loss: 0.9338\n",
      "Epoch 24/30\n",
      "363/363 [==============================] - 1s 1ms/step - loss: 0.3749 - output_loss: 0.3602 - aux_output_loss: 0.5068 - val_loss: 0.8735 - val_output_loss: 0.8758 - val_aux_output_loss: 0.8526\n",
      "Epoch 25/30\n",
      "363/363 [==============================] - 1s 1ms/step - loss: 0.3898 - output_loss: 0.3747 - aux_output_loss: 0.5258 - val_loss: 0.9067 - val_output_loss: 0.9076 - val_aux_output_loss: 0.8988\n",
      "Epoch 26/30\n",
      "363/363 [==============================] - 1s 1ms/step - loss: 0.3723 - output_loss: 0.3586 - aux_output_loss: 0.4950 - val_loss: 0.9797 - val_output_loss: 0.9823 - val_aux_output_loss: 0.9562\n",
      "Epoch 27/30\n",
      "363/363 [==============================] - 1s 1ms/step - loss: 0.3653 - output_loss: 0.3518 - aux_output_loss: 0.4864 - val_loss: 1.0006 - val_output_loss: 1.0042 - val_aux_output_loss: 0.9681\n",
      "Epoch 28/30\n",
      "363/363 [==============================] - 1s 1ms/step - loss: 0.3833 - output_loss: 0.3719 - aux_output_loss: 0.4858 - val_loss: 1.0694 - val_output_loss: 1.0768 - val_aux_output_loss: 1.0028\n",
      "Epoch 29/30\n",
      "363/363 [==============================] - 1s 2ms/step - loss: 0.3488 - output_loss: 0.3366 - aux_output_loss: 0.4588 - val_loss: 1.0713 - val_output_loss: 1.0770 - val_aux_output_loss: 1.0208\n",
      "Epoch 30/30\n",
      "363/363 [==============================] - 1s 1ms/step - loss: 0.3574 - output_loss: 0.3449 - aux_output_loss: 0.4697 - val_loss: 1.0389 - val_output_loss: 1.0453 - val_aux_output_loss: 0.9815\n"
     ]
    }
   ],
   "source": [
    "# 각 출력에 대한 레이블을 제공해야 한다. 여기서는 주 출력과 보조출력이 같은 것을 예측해야 하므로 동일한 레이블을 사용한다.\n",
    "history3 = model3.fit(\n",
    "x = ([x_train_A, x_train_B]), y = ([y_train, y_train]), epochs= 30,\n",
    "    validation_data = ([x_valid_A, x_valid_B], [y_valid, y_valid])\n",
    ")"
   ]
  },
  {
   "cell_type": "code",
   "execution_count": 45,
   "metadata": {},
   "outputs": [
    {
     "data": {
      "image/png": "[encoded data removed]",
      "text/plain": [
       "<Figure size 1440x720 with 1 Axes>"
      ]
     },
     "metadata": {
      "needs_background": "light"
     },
     "output_type": "display_data"
    }
   ],
   "source": [
    "import matplotlib.pyplot as plt\n",
    "\n",
    "pd.DataFrame(history3.history).plot(figsize = (20,10))\n",
    "plt.grid(True)\n",
    "plt.show()"
   ]
  },
  {
   "cell_type": "code",
   "execution_count": 46,
   "metadata": {},
   "outputs": [
    {
     "name": "stdout",
     "output_type": "stream",
     "text": [
      "162/162 [==============================] - 0s 1ms/step - loss: 0.4503 - output_loss: 0.4402 - aux_output_loss: 0.5412\n"
     ]
    }
   ],
   "source": [
    "#holdout에 대한 예측\n",
    "total_loss, main_loss, aux_loss = model3.evaluate(\n",
    "    [x_test_A, x_test_B], [y_test, y_test]\n",
    ")"
   ]
  },
  {
   "cell_type": "code",
   "execution_count": 47,
   "metadata": {},
   "outputs": [],
   "source": [
    "y_pred_main, y_pred_aux = model3.predict([x_new_A, x_new_B])"
   ]
  },
  {
   "cell_type": "markdown",
   "metadata": {},
   "source": [
    "함수형 API를 이용하면 상당히 유연한 모델을 구축할 수 있는 것으로 사료된다."
   ]
  },
  {
   "cell_type": "markdown",
   "metadata": {},
   "source": [
    "만약 여기에 분류 모형을 구축하려면? 당연히 output Dense에 활성화함수를 'softmax'나 'sigmoid'로 해주면 된다."
   ]
  },
  {
   "cell_type": "markdown",
   "metadata": {},
   "source": [
    "## 10.2.5 서브클래싱 API로 동적 모델 구축"
   ]
  },
  {
   "cell_type": "markdown",
   "metadata": {},
   "source": [
    "함수형 API는 먼저 연결방식을 정의한 뒤에 모델에 데이터를 주입하여 훈련이나 추론을 시작하게 된다. \n",
    "\n",
    "반복문을 포함하고 다양한 크기를 다루어야 하며, 조건문을 가지기 위해서는 동적인 구조가 필요! 이때는 서브클래싱 API를 사용해야 한다."
   ]
  },
  {
   "cell_type": "code",
   "execution_count": 48,
   "metadata": {},
   "outputs": [
    {
     "ename": "TypeError",
     "evalue": "__init__() missing 2 required positional arguments: 'units' and 'activation'",
     "output_type": "error",
     "traceback": [
      "\u001b[1;31m---------------------------------------------------------------------------\u001b[0m",
      "\u001b[1;31mTypeError\u001b[0m                                 Traceback (most recent call last)",
      "\u001b[1;32m<ipython-input-48-31fb402ff1d2>\u001b[0m in \u001b[0;36m<module>\u001b[1;34m\u001b[0m\n\u001b[0;32m     19\u001b[0m         \u001b[1;32mreturn\u001b[0m \u001b[0mmain_output\u001b[0m\u001b[1;33m,\u001b[0m \u001b[0maux_output\u001b[0m\u001b[1;33m\u001b[0m\u001b[1;33m\u001b[0m\u001b[0m\n\u001b[0;32m     20\u001b[0m \u001b[1;33m\u001b[0m\u001b[0m\n\u001b[1;32m---> 21\u001b[1;33m \u001b[0mmodel\u001b[0m \u001b[1;33m=\u001b[0m \u001b[0mWideAndDeepModel\u001b[0m\u001b[1;33m(\u001b[0m\u001b[1;33m)\u001b[0m\u001b[1;33m\u001b[0m\u001b[1;33m\u001b[0m\u001b[0m\n\u001b[0m",
      "\u001b[1;31mTypeError\u001b[0m: __init__() missing 2 required positional arguments: 'units' and 'activation'"
     ]
    }
   ],
   "source": [
    "class WideAndDeepModel(keras.Model) : \n",
    "    \n",
    "    def __init__(self, units, activation, **kwargs) : \n",
    "        \n",
    "        super().__init(**kwargs) #class에서 넣은 keras.Model을 상속받는다! 이 함수는 초기화를 재사용한다는 것이다!\n",
    "        \n",
    "        self.hidden1 = keras.layers.Dense(units, activation = activation) #hidden1 레이어 초기화\n",
    "        self.hidden2 = keras.layers.Dense(units, activation = activation) #hidden2 레이어 초기화\n",
    "        self.main_output = keras.layers.Dense(1) #main_output 초기화\n",
    "        self.aux_output = keras.layers.Dense(1) #보조 output 초기화\n",
    "        \n",
    "    def call(self, inputs) : \n",
    "        input_A, input_B = inputs\n",
    "        hidden1 = self.hidden(input_B)\n",
    "        hidden2 = self.hidden2(hidden1)\n",
    "        concat = keras.layers.concatenate([input_A, hidden2])\n",
    "        main_output = self.main_output(concat)\n",
    "        aux_output = self.aux_output(hidden2)\n",
    "        return main_output, aux_output\n",
    "    \n",
    "model = WideAndDeepModel()"
   ]
  },
  {
   "cell_type": "markdown",
   "metadata": {},
   "source": [
    "위 코드를 실행하지는 않겠지만 해당 방식으로 유연하게 만들 수 있다는 것 같다.\n",
    "\n",
    "call 메서드의 input 매개변수를 활용할 수 있다!\n",
    "\n",
    "call 메서드 내에서 for문 if문 등 다양한 연산을 활용할 수 있다는 것이 강점!"
   ]
  },
  {
   "cell_type": "markdown",
   "metadata": {},
   "source": [
    "## 10.2.6 모델 저장과 복원"
   ]
  },
  {
   "cell_type": "code",
   "execution_count": 49,
   "metadata": {},
   "outputs": [
    {
     "name": "stdout",
     "output_type": "stream",
     "text": [
      "Epoch 1/20\n",
      "363/363 [==============================] - 1s 2ms/step - loss: 1.5628 - output_loss: 1.4549 - aux_output_loss: 2.5346 - val_loss: 0.5806 - val_output_loss: 0.5244 - val_aux_output_loss: 1.0865\n",
      "Epoch 2/20\n",
      "363/363 [==============================] - 1s 2ms/step - loss: 0.6190 - output_loss: 0.5646 - aux_output_loss: 1.1085 - val_loss: 0.4742 - val_output_loss: 0.4298 - val_aux_output_loss: 0.8740\n",
      "Epoch 3/20\n",
      "363/363 [==============================] - 1s 2ms/step - loss: 0.5400 - output_loss: 0.4962 - aux_output_loss: 0.9345 - val_loss: 0.4429 - val_output_loss: 0.4090 - val_aux_output_loss: 0.7474\n",
      "Epoch 4/20\n",
      "363/363 [==============================] - 1s 1ms/step - loss: 0.4958 - output_loss: 0.4590 - aux_output_loss: 0.8271 - val_loss: 0.4345 - val_output_loss: 0.4095 - val_aux_output_loss: 0.6596\n",
      "Epoch 5/20\n",
      "363/363 [==============================] - 1s 2ms/step - loss: 0.4724 - output_loss: 0.4428 - aux_output_loss: 0.7394 - val_loss: 0.4465 - val_output_loss: 0.4278 - val_aux_output_loss: 0.6145\n",
      "Epoch 6/20\n",
      "363/363 [==============================] - 1s 1ms/step - loss: 0.4853 - output_loss: 0.4613 - aux_output_loss: 0.7009 - val_loss: 0.4322 - val_output_loss: 0.4168 - val_aux_output_loss: 0.5714\n",
      "Epoch 7/20\n",
      "363/363 [==============================] - 1s 1ms/step - loss: 0.4301 - output_loss: 0.4069 - aux_output_loss: 0.6392 - val_loss: 0.4449 - val_output_loss: 0.4328 - val_aux_output_loss: 0.5537\n",
      "Epoch 8/20\n",
      "363/363 [==============================] - 1s 1ms/step - loss: 0.4421 - output_loss: 0.4204 - aux_output_loss: 0.6374 - val_loss: 0.4442 - val_output_loss: 0.4335 - val_aux_output_loss: 0.5401\n",
      "Epoch 9/20\n",
      "363/363 [==============================] - 1s 1ms/step - loss: 0.4365 - output_loss: 0.4162 - aux_output_loss: 0.6192 - val_loss: 0.4614 - val_output_loss: 0.4540 - val_aux_output_loss: 0.5285\n",
      "Epoch 10/20\n",
      "363/363 [==============================] - 1s 1ms/step - loss: 0.4291 - output_loss: 0.4115 - aux_output_loss: 0.5881 - val_loss: 0.5241 - val_output_loss: 0.5196 - val_aux_output_loss: 0.5649\n",
      "Epoch 11/20\n",
      "363/363 [==============================] - 1s 2ms/step - loss: 0.4277 - output_loss: 0.4109 - aux_output_loss: 0.5789 - val_loss: 0.5314 - val_output_loss: 0.5285 - val_aux_output_loss: 0.5572\n",
      "Epoch 12/20\n",
      "363/363 [==============================] - 1s 1ms/step - loss: 0.4085 - output_loss: 0.3927 - aux_output_loss: 0.5505 - val_loss: 0.5863 - val_output_loss: 0.5865 - val_aux_output_loss: 0.5849\n",
      "Epoch 13/20\n",
      "363/363 [==============================] - 1s 1ms/step - loss: 0.3987 - output_loss: 0.3835 - aux_output_loss: 0.5356 - val_loss: 0.5485 - val_output_loss: 0.5474 - val_aux_output_loss: 0.5588\n",
      "Epoch 14/20\n",
      "363/363 [==============================] - 1s 1ms/step - loss: 0.3880 - output_loss: 0.3726 - aux_output_loss: 0.5266 - val_loss: 0.6022 - val_output_loss: 0.6023 - val_aux_output_loss: 0.6014\n",
      "Epoch 15/20\n",
      "363/363 [==============================] - 1s 1ms/step - loss: 0.4358 - output_loss: 0.4243 - aux_output_loss: 0.5386 - val_loss: 0.6500 - val_output_loss: 0.6529 - val_aux_output_loss: 0.6246\n",
      "Epoch 16/20\n",
      "363/363 [==============================] - 1s 1ms/step - loss: 0.3717 - output_loss: 0.3579 - aux_output_loss: 0.4961 - val_loss: 0.6971 - val_output_loss: 0.7003 - val_aux_output_loss: 0.6682\n",
      "Epoch 17/20\n",
      "363/363 [==============================] - 1s 1ms/step - loss: 0.3823 - output_loss: 0.3674 - aux_output_loss: 0.5165 - val_loss: 0.6756 - val_output_loss: 0.6787 - val_aux_output_loss: 0.6475\n",
      "Epoch 18/20\n",
      "363/363 [==============================] - 1s 1ms/step - loss: 0.3664 - output_loss: 0.3540 - aux_output_loss: 0.4786 - val_loss: 0.7035 - val_output_loss: 0.7071 - val_aux_output_loss: 0.6712\n",
      "Epoch 19/20\n",
      "363/363 [==============================] - 1s 1ms/step - loss: 0.3776 - output_loss: 0.3646 - aux_output_loss: 0.4940 - val_loss: 0.6780 - val_output_loss: 0.6810 - val_aux_output_loss: 0.6501\n",
      "Epoch 20/20\n",
      "363/363 [==============================] - 1s 1ms/step - loss: 0.3767 - output_loss: 0.3650 - aux_output_loss: 0.4821 - val_loss: 0.8240 - val_output_loss: 0.8311 - val_aux_output_loss: 0.7600\n"
     ]
    },
    {
     "data": {
      "text/plain": [
       "<tensorflow.python.keras.callbacks.History at 0x22f017e6640>"
      ]
     },
     "execution_count": 49,
     "metadata": {},
     "output_type": "execute_result"
    }
   ],
   "source": [
    "#위에서 만들었던 2개의 input과 보조출력을 함께 출력하는 모델을 저장해보자\n",
    "#input층 만들기\n",
    "input_A = keras.layers.Input(shape = [5], name = 'wide_input')\n",
    "input_B = keras.layers.Input(shape = [6], name = 'deep_input')\n",
    "\n",
    "#Dense층 만들기\n",
    "hidden1 = keras.layers.Dense(30, activation = 'relu')(input_B)\n",
    "hidden2 = keras.layers.Dense(30, activation = 'relu')(hidden1) \n",
    "\n",
    "#concatenate층 만들기\n",
    "concat = keras.layers.Concatenate()([input_A, hidden2])\n",
    "\n",
    "#이전까지는 위와 동일\n",
    "output = keras.layers.Dense(1, name = 'output')(concat)\n",
    "aux_output = keras.layers.Dense(1, name = 'aux_output')(hidden2) #hidden2만 사용해서!\n",
    "\n",
    "#모형 구축 - output을 두개 넣어주면 된다.\n",
    "model3 = keras.Model(inputs = [input_A, input_B], outputs = [output, aux_output])\n",
    "\n",
    "#각 출력은 자신만의 손실함수가 필요 + 각 출력에 가중치를 다르게 할당할 수 있다\n",
    "model3.compile(loss = ['mse', 'mse'], loss_weights = [0.9, 0.1], optimizer = 'sgd')\n",
    "\n",
    "# 각 출력에 대한 레이블을 제공해야 한다. 여기서는 주 출력과 보조출력이 같은 것을 예측해야 하므로 동일한 레이블을 사용한다.\n",
    "model3.fit(\n",
    "x = ([x_train_A, x_train_B]), y = ([y_train, y_train]), epochs= 20,\n",
    "    validation_data = ([x_valid_A, x_valid_B], [y_valid, y_valid])\n",
    ")"
   ]
  },
  {
   "cell_type": "code",
   "execution_count": 50,
   "metadata": {},
   "outputs": [],
   "source": [
    "model3.save(\"my_keras_model.h5\")"
   ]
  },
  {
   "cell_type": "code",
   "execution_count": 51,
   "metadata": {},
   "outputs": [],
   "source": [
    "model = keras.models.load_model('my_keras_model.h5')"
   ]
  },
  {
   "cell_type": "markdown",
   "metadata": {},
   "source": [
    "## 10.2.7 콜백 사용하기"
   ]
  },
  {
   "cell_type": "code",
   "execution_count": 52,
   "metadata": {},
   "outputs": [
    {
     "name": "stdout",
     "output_type": "stream",
     "text": [
      "Epoch 1/100\n",
      "363/363 [==============================] - 1s 2ms/step - loss: 1.6107 - output_loss: 1.4099 - aux_output_loss: 3.4184 - val_loss: 0.5671 - val_output_loss: 0.4825 - val_aux_output_loss: 1.3285\n",
      "Epoch 2/100\n",
      "363/363 [==============================] - 1s 2ms/step - loss: 0.5814 - output_loss: 0.5050 - aux_output_loss: 1.2688 - val_loss: 0.5059 - val_output_loss: 0.4402 - val_aux_output_loss: 1.0968\n",
      "Epoch 3/100\n",
      "363/363 [==============================] - 0s 1ms/step - loss: 0.5606 - output_loss: 0.4991 - aux_output_loss: 1.1141 - val_loss: 0.4953 - val_output_loss: 0.4452 - val_aux_output_loss: 0.9460\n",
      "Epoch 4/100\n",
      "363/363 [==============================] - 1s 1ms/step - loss: 0.5264 - output_loss: 0.4776 - aux_output_loss: 0.9655 - val_loss: 0.4584 - val_output_loss: 0.4196 - val_aux_output_loss: 0.8083\n",
      "Epoch 5/100\n",
      "363/363 [==============================] - 1s 2ms/step - loss: 0.5600 - output_loss: 0.5183 - aux_output_loss: 0.9353 - val_loss: 0.4855 - val_output_loss: 0.4525 - val_aux_output_loss: 0.7823\n",
      "Epoch 6/100\n",
      "363/363 [==============================] - 1s 1ms/step - loss: 0.5351 - output_loss: 0.4967 - aux_output_loss: 0.8805 - val_loss: 0.4458 - val_output_loss: 0.4208 - val_aux_output_loss: 0.6709\n",
      "Epoch 7/100\n",
      "363/363 [==============================] - 1s 1ms/step - loss: 0.4862 - output_loss: 0.4554 - aux_output_loss: 0.7637 - val_loss: 0.4431 - val_output_loss: 0.4238 - val_aux_output_loss: 0.6170\n",
      "Epoch 8/100\n",
      "363/363 [==============================] - 1s 2ms/step - loss: 0.4680 - output_loss: 0.4411 - aux_output_loss: 0.7103 - val_loss: 0.4417 - val_output_loss: 0.4258 - val_aux_output_loss: 0.5850\n",
      "Epoch 9/100\n",
      "363/363 [==============================] - 0s 1ms/step - loss: 0.4596 - output_loss: 0.4346 - aux_output_loss: 0.6842 - val_loss: 0.4613 - val_output_loss: 0.4484 - val_aux_output_loss: 0.5775\n",
      "Epoch 10/100\n",
      "363/363 [==============================] - 1s 1ms/step - loss: 0.4427 - output_loss: 0.4182 - aux_output_loss: 0.6626 - val_loss: 0.5003 - val_output_loss: 0.4922 - val_aux_output_loss: 0.5733\n",
      "Epoch 11/100\n",
      "363/363 [==============================] - 1s 1ms/step - loss: 0.4303 - output_loss: 0.4073 - aux_output_loss: 0.6371 - val_loss: 0.5029 - val_output_loss: 0.4952 - val_aux_output_loss: 0.5728\n",
      "Epoch 12/100\n",
      "363/363 [==============================] - 1s 1ms/step - loss: 0.4367 - output_loss: 0.4135 - aux_output_loss: 0.6452 - val_loss: 0.5447 - val_output_loss: 0.5410 - val_aux_output_loss: 0.5776\n",
      "Epoch 13/100\n",
      "363/363 [==============================] - 1s 1ms/step - loss: 0.4221 - output_loss: 0.4009 - aux_output_loss: 0.6128 - val_loss: 0.5718 - val_output_loss: 0.5698 - val_aux_output_loss: 0.5896\n",
      "Epoch 14/100\n",
      "363/363 [==============================] - 1s 1ms/step - loss: 0.4061 - output_loss: 0.3843 - aux_output_loss: 0.6030 - val_loss: 0.6257 - val_output_loss: 0.6278 - val_aux_output_loss: 0.6070\n",
      "Epoch 15/100\n",
      "363/363 [==============================] - 1s 1ms/step - loss: 0.3994 - output_loss: 0.3789 - aux_output_loss: 0.5843 - val_loss: 0.6522 - val_output_loss: 0.6543 - val_aux_output_loss: 0.6340\n",
      "Epoch 16/100\n",
      "363/363 [==============================] - 1s 1ms/step - loss: 0.4113 - output_loss: 0.3927 - aux_output_loss: 0.5794 - val_loss: 0.6008 - val_output_loss: 0.6008 - val_aux_output_loss: 0.6011\n",
      "Epoch 17/100\n",
      "363/363 [==============================] - 1s 1ms/step - loss: 0.3916 - output_loss: 0.3723 - aux_output_loss: 0.5652 - val_loss: 0.6671 - val_output_loss: 0.6720 - val_aux_output_loss: 0.6236\n",
      "Epoch 18/100\n",
      "363/363 [==============================] - 1s 1ms/step - loss: 0.3750 - output_loss: 0.3555 - aux_output_loss: 0.5512 - val_loss: 0.6853 - val_output_loss: 0.6904 - val_aux_output_loss: 0.6391\n"
     ]
    }
   ],
   "source": [
    "#모델 만들고 컴파일 \n",
    "input_A = keras.layers.Input(shape = [5], name = 'wide_input')\n",
    "input_B = keras.layers.Input(shape = [6], name = 'deep_input')\n",
    "hidden1 = keras.layers.Dense(30, activation = 'relu')(input_B)\n",
    "hidden2 = keras.layers.Dense(30, activation = 'relu')(hidden1) \n",
    "concat = keras.layers.Concatenate()([input_A, hidden2])\n",
    "output = keras.layers.Dense(1, name = 'output')(concat)\n",
    "aux_output = keras.layers.Dense(1, name = 'aux_output')(hidden2) #hidden2만 사용해서!\n",
    "model3 = keras.Model(inputs = [input_A, input_B], outputs = [output, aux_output])\n",
    "model3.compile(loss = ['mse', 'mse'], loss_weights = [0.9, 0.1], optimizer = 'sgd')\n",
    "\n",
    "#call백으로 긴 학습시간에 갑자기 꺼지는 것을 우려하지 않아도 된다.\n",
    "checkpoint_cb = keras.callbacks.ModelCheckpoint('my_keras_model.h5', save_best_only = True) #최상의 검증세트에서만 모델을 저장함\n",
    "early_stopping_cb = keras.callbacks.EarlyStopping(patience = 10, restore_best_weights=True) #성이 향상되지 않으면 훈련을 멈추고 저장한다!\n",
    "                                                  \n",
    "                                                  \n",
    "#훈련을 진행!\n",
    "history = model3.fit(\n",
    "x = ([x_train_A, x_train_B]), y = ([y_train, y_train]), epochs= 100,\n",
    "    validation_data = ([x_valid_A, x_valid_B], [y_valid, y_valid]), callbacks = [checkpoint_cb, early_stopping_cb])"
   ]
  },
  {
   "cell_type": "code",
   "execution_count": 53,
   "metadata": {},
   "outputs": [],
   "source": [
    "model_good = keras.models.load_model('my_keras_model.h5')"
   ]
  },
  {
   "cell_type": "markdown",
   "metadata": {},
   "source": [
    "## 10.2.8 텐서보드를 활용해 시각화"
   ]
  },
  {
   "cell_type": "code",
   "execution_count": 58,
   "metadata": {},
   "outputs": [],
   "source": [
    "#텐서보드 로그를 위해 사용할 루트 로그 디렉터리를 정의\n",
    "import os\n",
    "root_logdir = os.path.join(os.curdir, 'my_logs') #현재 dir에 my_logs라는 폴더를 만들고 이를 root_logdir에 저장한다\n",
    "\n",
    "#실행할때마다 다른 서브디렉터리 경로를 생성하는 |함수도 생성 \n",
    "def get_run_log_dir() : \n",
    "    import time\n",
    "    run_id = time.strftime('run_%Y_%m_%d-%H_%M_%S')\n",
    "    return os.path.join(root_logdir, run_id) #실행할때마다 현재시점의 폴더를 생성한다. \n",
    "\n",
    "run_logdir = get_run_log_dir()"
   ]
  },
  {
   "cell_type": "code",
   "execution_count": 55,
   "metadata": {},
   "outputs": [
    {
     "name": "stdout",
     "output_type": "stream",
     "text": [
      "Epoch 1/100\n",
      "363/363 [==============================] - 2s 3ms/step - loss: 1.8042 - output_loss: 1.6150 - aux_output_loss: 3.5066 - val_loss: 0.7925 - val_output_loss: 0.7395 - val_aux_output_loss: 1.2701\n",
      "Epoch 2/100\n",
      "363/363 [==============================] - 1s 1ms/step - loss: 0.6222 - output_loss: 0.5541 - aux_output_loss: 1.2344 - val_loss: 0.5861 - val_output_loss: 0.5300 - val_aux_output_loss: 1.0910\n",
      "Epoch 3/100\n",
      "363/363 [==============================] - 1s 1ms/step - loss: 0.5715 - output_loss: 0.5098 - aux_output_loss: 1.1270 - val_loss: 0.4759 - val_output_loss: 0.4268 - val_aux_output_loss: 0.9175\n",
      "Epoch 4/100\n",
      "363/363 [==============================] - 1s 1ms/step - loss: 0.5371 - output_loss: 0.4870 - aux_output_loss: 0.9886 - val_loss: 0.4549 - val_output_loss: 0.4162 - val_aux_output_loss: 0.8033\n",
      "Epoch 5/100\n",
      "363/363 [==============================] - 1s 1ms/step - loss: 0.5026 - output_loss: 0.4626 - aux_output_loss: 0.8626 - val_loss: 0.4413 - val_output_loss: 0.4104 - val_aux_output_loss: 0.7197\n",
      "Epoch 6/100\n",
      "363/363 [==============================] - 1s 2ms/step - loss: 0.5035 - output_loss: 0.4664 - aux_output_loss: 0.8373 - val_loss: 0.4382 - val_output_loss: 0.4132 - val_aux_output_loss: 0.6631\n",
      "Epoch 7/100\n",
      "363/363 [==============================] - 1s 1ms/step - loss: 0.4924 - output_loss: 0.4611 - aux_output_loss: 0.7739 - val_loss: 0.4444 - val_output_loss: 0.4243 - val_aux_output_loss: 0.6248\n",
      "Epoch 8/100\n",
      "363/363 [==============================] - 1s 2ms/step - loss: 0.4599 - output_loss: 0.4310 - aux_output_loss: 0.7196 - val_loss: 0.4411 - val_output_loss: 0.4235 - val_aux_output_loss: 0.5988\n",
      "Epoch 9/100\n",
      "363/363 [==============================] - 1s 2ms/step - loss: 0.4385 - output_loss: 0.4117 - aux_output_loss: 0.6803 - val_loss: 0.4586 - val_output_loss: 0.4446 - val_aux_output_loss: 0.5841\n",
      "Epoch 10/100\n",
      "363/363 [==============================] - 1s 1ms/step - loss: 0.4409 - output_loss: 0.4155 - aux_output_loss: 0.6697 - val_loss: 0.4686 - val_output_loss: 0.4568 - val_aux_output_loss: 0.5751\n",
      "Epoch 11/100\n",
      "363/363 [==============================] - 1s 1ms/step - loss: 0.4324 - output_loss: 0.4076 - aux_output_loss: 0.6556 - val_loss: 0.5133 - val_output_loss: 0.5060 - val_aux_output_loss: 0.5783\n",
      "Epoch 12/100\n",
      "363/363 [==============================] - 1s 1ms/step - loss: 0.4248 - output_loss: 0.4013 - aux_output_loss: 0.6363 - val_loss: 0.4837 - val_output_loss: 0.4747 - val_aux_output_loss: 0.5648\n",
      "Epoch 13/100\n",
      "363/363 [==============================] - 0s 1ms/step - loss: 0.4195 - output_loss: 0.3969 - aux_output_loss: 0.6229 - val_loss: 0.5528 - val_output_loss: 0.5509 - val_aux_output_loss: 0.5695\n",
      "Epoch 14/100\n",
      "363/363 [==============================] - 0s 1ms/step - loss: 0.4235 - output_loss: 0.4049 - aux_output_loss: 0.5906 - val_loss: 0.5827 - val_output_loss: 0.5800 - val_aux_output_loss: 0.6069\n",
      "Epoch 15/100\n",
      "363/363 [==============================] - 1s 1ms/step - loss: 0.4161 - output_loss: 0.3957 - aux_output_loss: 0.5996 - val_loss: 0.5858 - val_output_loss: 0.5810 - val_aux_output_loss: 0.6289\n",
      "Epoch 16/100\n",
      "363/363 [==============================] - 0s 1ms/step - loss: 0.3929 - output_loss: 0.3736 - aux_output_loss: 0.5668 - val_loss: 0.6404 - val_output_loss: 0.6386 - val_aux_output_loss: 0.6566\n",
      "Epoch 17/100\n",
      "363/363 [==============================] - 1s 1ms/step - loss: 0.3902 - output_loss: 0.3713 - aux_output_loss: 0.5609 - val_loss: 0.7418 - val_output_loss: 0.7463 - val_aux_output_loss: 0.7008\n",
      "Epoch 18/100\n",
      "363/363 [==============================] - 1s 1ms/step - loss: 0.5174 - output_loss: 0.5062 - aux_output_loss: 0.6183 - val_loss: 0.6397 - val_output_loss: 0.6263 - val_aux_output_loss: 0.7603\n",
      "Epoch 19/100\n",
      "363/363 [==============================] - 1s 1ms/step - loss: 0.4278 - output_loss: 0.4080 - aux_output_loss: 0.6056 - val_loss: 0.6575 - val_output_loss: 0.6544 - val_aux_output_loss: 0.6858\n",
      "Epoch 20/100\n",
      "363/363 [==============================] - 1s 1ms/step - loss: 0.4178 - output_loss: 0.4016 - aux_output_loss: 0.5637 - val_loss: 0.6522 - val_output_loss: 0.6471 - val_aux_output_loss: 0.6981\n",
      "Epoch 21/100\n",
      "363/363 [==============================] - 1s 1ms/step - loss: 0.3960 - output_loss: 0.3807 - aux_output_loss: 0.5336 - val_loss: 0.7023 - val_output_loss: 0.7000 - val_aux_output_loss: 0.7227\n",
      "Epoch 22/100\n",
      "363/363 [==============================] - 1s 1ms/step - loss: 0.3964 - output_loss: 0.3801 - aux_output_loss: 0.5429 - val_loss: 0.6697 - val_output_loss: 0.6645 - val_aux_output_loss: 0.7168\n",
      "Epoch 23/100\n",
      "363/363 [==============================] - 1s 1ms/step - loss: 0.3919 - output_loss: 0.3770 - aux_output_loss: 0.5254 - val_loss: 0.7611 - val_output_loss: 0.7565 - val_aux_output_loss: 0.8024\n",
      "Epoch 24/100\n",
      "363/363 [==============================] - 1s 1ms/step - loss: 0.3934 - output_loss: 0.3770 - aux_output_loss: 0.5411 - val_loss: 0.7206 - val_output_loss: 0.7143 - val_aux_output_loss: 0.7773\n",
      "Epoch 25/100\n",
      "363/363 [==============================] - 1s 1ms/step - loss: 0.3699 - output_loss: 0.3552 - aux_output_loss: 0.5023 - val_loss: 0.8549 - val_output_loss: 0.8528 - val_aux_output_loss: 0.8734\n",
      "Epoch 26/100\n",
      "363/363 [==============================] - 0s 1ms/step - loss: 0.3634 - output_loss: 0.3480 - aux_output_loss: 0.5026 - val_loss: 0.7999 - val_output_loss: 0.7950 - val_aux_output_loss: 0.8436\n",
      "Epoch 27/100\n",
      "363/363 [==============================] - 0s 1ms/step - loss: 0.3666 - output_loss: 0.3513 - aux_output_loss: 0.5040 - val_loss: 0.9089 - val_output_loss: 0.9036 - val_aux_output_loss: 0.9569\n",
      "Epoch 28/100\n",
      "363/363 [==============================] - 1s 1ms/step - loss: 0.3628 - output_loss: 0.3480 - aux_output_loss: 0.4958 - val_loss: 0.8893 - val_output_loss: 0.8868 - val_aux_output_loss: 0.9118\n",
      "Epoch 29/100\n",
      "363/363 [==============================] - 1s 1ms/step - loss: 0.3681 - output_loss: 0.3534 - aux_output_loss: 0.5007 - val_loss: 0.9519 - val_output_loss: 0.9505 - val_aux_output_loss: 0.9649\n",
      "Epoch 30/100\n",
      "363/363 [==============================] - 1s 1ms/step - loss: 0.3542 - output_loss: 0.3398 - aux_output_loss: 0.4843 - val_loss: 1.0737 - val_output_loss: 1.0749 - val_aux_output_loss: 1.0622\n",
      "Epoch 31/100\n",
      "363/363 [==============================] - 1s 1ms/step - loss: 0.3447 - output_loss: 0.3309 - aux_output_loss: 0.4693 - val_loss: 1.0380 - val_output_loss: 1.0342 - val_aux_output_loss: 1.0723\n",
      "Epoch 32/100\n",
      "363/363 [==============================] - 1s 1ms/step - loss: 0.3570 - output_loss: 0.3426 - aux_output_loss: 0.4868 - val_loss: 1.0046 - val_output_loss: 1.0011 - val_aux_output_loss: 1.0359\n",
      "Epoch 33/100\n",
      "363/363 [==============================] - 1s 1ms/step - loss: 0.3994 - output_loss: 0.3867 - aux_output_loss: 0.5134 - val_loss: 1.0410 - val_output_loss: 1.0388 - val_aux_output_loss: 1.0606\n",
      "Epoch 34/100\n",
      "363/363 [==============================] - 1s 1ms/step - loss: 0.3595 - output_loss: 0.3469 - aux_output_loss: 0.4729 - val_loss: 1.0987 - val_output_loss: 1.0989 - val_aux_output_loss: 1.0968\n",
      "Epoch 35/100\n",
      "363/363 [==============================] - 0s 1ms/step - loss: 0.3470 - output_loss: 0.3343 - aux_output_loss: 0.4613 - val_loss: 1.0700 - val_output_loss: 1.0704 - val_aux_output_loss: 1.0663\n",
      "Epoch 36/100\n",
      "363/363 [==============================] - 0s 1ms/step - loss: 0.3347 - output_loss: 0.3209 - aux_output_loss: 0.4587 - val_loss: 1.2006 - val_output_loss: 1.1963 - val_aux_output_loss: 1.2392\n",
      "Epoch 37/100\n",
      "363/363 [==============================] - 1s 1ms/step - loss: 0.3408 - output_loss: 0.3282 - aux_output_loss: 0.4538 - val_loss: 1.3124 - val_output_loss: 1.3155 - val_aux_output_loss: 1.2846\n",
      "Epoch 38/100\n",
      "363/363 [==============================] - 1s 1ms/step - loss: 0.3573 - output_loss: 0.3449 - aux_output_loss: 0.4684 - val_loss: 1.1117 - val_output_loss: 1.1072 - val_aux_output_loss: 1.1524\n",
      "Epoch 39/100\n",
      "363/363 [==============================] - 1s 1ms/step - loss: 0.3437 - output_loss: 0.3315 - aux_output_loss: 0.4541 - val_loss: 1.4252 - val_output_loss: 1.4202 - val_aux_output_loss: 1.4704\n",
      "Epoch 40/100\n",
      "363/363 [==============================] - 1s 1ms/step - loss: 0.3429 - output_loss: 0.3303 - aux_output_loss: 0.4562 - val_loss: 1.2689 - val_output_loss: 1.2623 - val_aux_output_loss: 1.3281\n",
      "Epoch 41/100\n",
      "363/363 [==============================] - 1s 1ms/step - loss: 0.3296 - output_loss: 0.3180 - aux_output_loss: 0.4339 - val_loss: 1.2821 - val_output_loss: 1.2812 - val_aux_output_loss: 1.2905\n",
      "Epoch 42/100\n",
      "363/363 [==============================] - 1s 1ms/step - loss: 0.3347 - output_loss: 0.3237 - aux_output_loss: 0.4336 - val_loss: 1.6792 - val_output_loss: 1.6849 - val_aux_output_loss: 1.6281\n",
      "Epoch 43/100\n",
      "363/363 [==============================] - 1s 2ms/step - loss: 0.3554 - output_loss: 0.3445 - aux_output_loss: 0.4539 - val_loss: 1.2517 - val_output_loss: 1.2467 - val_aux_output_loss: 1.2961\n",
      "Epoch 44/100\n",
      "363/363 [==============================] - 1s 1ms/step - loss: 0.3374 - output_loss: 0.3264 - aux_output_loss: 0.4363 - val_loss: 1.3815 - val_output_loss: 1.3763 - val_aux_output_loss: 1.4276\n",
      "Epoch 45/100\n",
      "363/363 [==============================] - 1s 1ms/step - loss: 0.3571 - output_loss: 0.3466 - aux_output_loss: 0.4517 - val_loss: 1.3641 - val_output_loss: 1.3568 - val_aux_output_loss: 1.4303\n",
      "Epoch 46/100\n",
      "363/363 [==============================] - 1s 1ms/step - loss: 0.3393 - output_loss: 0.3280 - aux_output_loss: 0.4411 - val_loss: 1.2596 - val_output_loss: 1.2478 - val_aux_output_loss: 1.3662\n",
      "Epoch 47/100\n",
      "363/363 [==============================] - 0s 1ms/step - loss: 0.3375 - output_loss: 0.3274 - aux_output_loss: 0.4280 - val_loss: 1.4223 - val_output_loss: 1.4137 - val_aux_output_loss: 1.5004\n",
      "Epoch 48/100\n",
      "363/363 [==============================] - 1s 1ms/step - loss: 0.3259 - output_loss: 0.3143 - aux_output_loss: 0.4303 - val_loss: 1.3050 - val_output_loss: 1.2960 - val_aux_output_loss: 1.3859\n",
      "Epoch 49/100\n",
      "363/363 [==============================] - 1s 1ms/step - loss: 0.3330 - output_loss: 0.3223 - aux_output_loss: 0.4296 - val_loss: 1.5357 - val_output_loss: 1.5309 - val_aux_output_loss: 1.5787\n",
      "Epoch 50/100\n",
      "363/363 [==============================] - 1s 1ms/step - loss: 0.3418 - output_loss: 0.3319 - aux_output_loss: 0.4310 - val_loss: 1.1135 - val_output_loss: 1.0963 - val_aux_output_loss: 1.2682\n",
      "Epoch 51/100\n",
      "363/363 [==============================] - 1s 1ms/step - loss: 0.3549 - output_loss: 0.3448 - aux_output_loss: 0.4463 - val_loss: 1.2680 - val_output_loss: 1.2519 - val_aux_output_loss: 1.4135\n",
      "Epoch 52/100\n",
      "363/363 [==============================] - 1s 1ms/step - loss: 0.3487 - output_loss: 0.3402 - aux_output_loss: 0.4251 - val_loss: 1.3690 - val_output_loss: 1.3587 - val_aux_output_loss: 1.4613\n",
      "Epoch 53/100\n",
      "363/363 [==============================] - 1s 1ms/step - loss: 0.3440 - output_loss: 0.3356 - aux_output_loss: 0.4201 - val_loss: 1.4897 - val_output_loss: 1.4759 - val_aux_output_loss: 1.6135\n",
      "Epoch 54/100\n",
      "363/363 [==============================] - 1s 1ms/step - loss: 0.3327 - output_loss: 0.3224 - aux_output_loss: 0.4253 - val_loss: 1.3494 - val_output_loss: 1.3396 - val_aux_output_loss: 1.4379\n",
      "Epoch 55/100\n",
      "363/363 [==============================] - 1s 1ms/step - loss: 0.3197 - output_loss: 0.3107 - aux_output_loss: 0.4005 - val_loss: 1.6190 - val_output_loss: 1.6088 - val_aux_output_loss: 1.7109\n",
      "Epoch 56/100\n",
      "363/363 [==============================] - 1s 1ms/step - loss: 0.3422 - output_loss: 0.3328 - aux_output_loss: 0.4261 - val_loss: 1.5459 - val_output_loss: 1.5326 - val_aux_output_loss: 1.6650\n",
      "Epoch 57/100\n",
      "363/363 [==============================] - 1s 1ms/step - loss: 0.3471 - output_loss: 0.3384 - aux_output_loss: 0.4256 - val_loss: 1.4948 - val_output_loss: 1.4863 - val_aux_output_loss: 1.5718\n",
      "Epoch 58/100\n",
      "363/363 [==============================] - 1s 1ms/step - loss: 0.3109 - output_loss: 0.3010 - aux_output_loss: 0.4007 - val_loss: 1.3448 - val_output_loss: 1.3238 - val_aux_output_loss: 1.5334\n",
      "Epoch 59/100\n",
      "363/363 [==============================] - 1s 1ms/step - loss: 0.3338 - output_loss: 0.3239 - aux_output_loss: 0.4232 - val_loss: 1.4168 - val_output_loss: 1.3977 - val_aux_output_loss: 1.5878\n",
      "Epoch 60/100\n",
      "363/363 [==============================] - 1s 1ms/step - loss: 0.3291 - output_loss: 0.3196 - aux_output_loss: 0.4140 - val_loss: 1.4591 - val_output_loss: 1.4425 - val_aux_output_loss: 1.6086\n",
      "Epoch 61/100\n",
      "363/363 [==============================] - 1s 1ms/step - loss: 0.3231 - output_loss: 0.3135 - aux_output_loss: 0.4096 - val_loss: 1.3493 - val_output_loss: 1.3329 - val_aux_output_loss: 1.4969\n",
      "Epoch 62/100\n",
      "363/363 [==============================] - 1s 1ms/step - loss: 0.3254 - output_loss: 0.3158 - aux_output_loss: 0.4112 - val_loss: 1.4690 - val_output_loss: 1.4576 - val_aux_output_loss: 1.5713\n",
      "Epoch 63/100\n",
      "363/363 [==============================] - 1s 1ms/step - loss: 0.3310 - output_loss: 0.3218 - aux_output_loss: 0.4139 - val_loss: 1.6769 - val_output_loss: 1.6621 - val_aux_output_loss: 1.8100\n",
      "Epoch 64/100\n",
      "363/363 [==============================] - 1s 1ms/step - loss: 0.3225 - output_loss: 0.3123 - aux_output_loss: 0.4142 - val_loss: 1.4397 - val_output_loss: 1.4188 - val_aux_output_loss: 1.6279\n",
      "Epoch 65/100\n",
      "363/363 [==============================] - 1s 1ms/step - loss: 0.3343 - output_loss: 0.3252 - aux_output_loss: 0.4156 - val_loss: 1.4732 - val_output_loss: 1.4554 - val_aux_output_loss: 1.6329\n",
      "Epoch 66/100\n",
      "363/363 [==============================] - 1s 1ms/step - loss: 0.3423 - output_loss: 0.3322 - aux_output_loss: 0.4331 - val_loss: 1.5352 - val_output_loss: 1.5185 - val_aux_output_loss: 1.6848\n",
      "Epoch 67/100\n",
      "363/363 [==============================] - 1s 1ms/step - loss: 0.3173 - output_loss: 0.3089 - aux_output_loss: 0.3934 - val_loss: 1.6133 - val_output_loss: 1.6016 - val_aux_output_loss: 1.7179\n",
      "Epoch 68/100\n",
      "363/363 [==============================] - 1s 1ms/step - loss: 0.3982 - output_loss: 0.3928 - aux_output_loss: 0.4461 - val_loss: 1.6314 - val_output_loss: 1.6098 - val_aux_output_loss: 1.8254\n",
      "Epoch 69/100\n",
      "363/363 [==============================] - 1s 1ms/step - loss: 0.3337 - output_loss: 0.3244 - aux_output_loss: 0.4172 - val_loss: 1.5642 - val_output_loss: 1.5396 - val_aux_output_loss: 1.7854\n",
      "Epoch 70/100\n",
      "363/363 [==============================] - 1s 1ms/step - loss: 0.3342 - output_loss: 0.3253 - aux_output_loss: 0.4141 - val_loss: 1.5053 - val_output_loss: 1.4824 - val_aux_output_loss: 1.7116\n",
      "Epoch 71/100\n",
      "363/363 [==============================] - 1s 1ms/step - loss: 0.3290 - output_loss: 0.3195 - aux_output_loss: 0.4147 - val_loss: 1.5327 - val_output_loss: 1.5101 - val_aux_output_loss: 1.7353\n",
      "Epoch 72/100\n",
      "363/363 [==============================] - 0s 1ms/step - loss: 0.3187 - output_loss: 0.3096 - aux_output_loss: 0.4000 - val_loss: 1.5740 - val_output_loss: 1.5554 - val_aux_output_loss: 1.7412\n",
      "Epoch 73/100\n",
      "363/363 [==============================] - 1s 1ms/step - loss: 0.3246 - output_loss: 0.3158 - aux_output_loss: 0.4038 - val_loss: 1.4813 - val_output_loss: 1.4593 - val_aux_output_loss: 1.6791\n",
      "Epoch 74/100\n",
      "363/363 [==============================] - 1s 1ms/step - loss: 0.3352 - output_loss: 0.3266 - aux_output_loss: 0.4125 - val_loss: 1.6099 - val_output_loss: 1.5904 - val_aux_output_loss: 1.7852\n",
      "Epoch 75/100\n",
      "363/363 [==============================] - 1s 1ms/step - loss: 0.3137 - output_loss: 0.3047 - aux_output_loss: 0.3942 - val_loss: 1.6902 - val_output_loss: 1.6671 - val_aux_output_loss: 1.8983\n",
      "Epoch 76/100\n",
      "363/363 [==============================] - 1s 1ms/step - loss: 0.3172 - output_loss: 0.3090 - aux_output_loss: 0.3910 - val_loss: 1.7219 - val_output_loss: 1.7047 - val_aux_output_loss: 1.8767\n",
      "Epoch 77/100\n",
      "363/363 [==============================] - 1s 1ms/step - loss: 0.3283 - output_loss: 0.3199 - aux_output_loss: 0.4042 - val_loss: 1.5242 - val_output_loss: 1.4996 - val_aux_output_loss: 1.7456\n",
      "Epoch 78/100\n",
      "363/363 [==============================] - 1s 1ms/step - loss: 0.3309 - output_loss: 0.3229 - aux_output_loss: 0.4027 - val_loss: 1.5918 - val_output_loss: 1.5685 - val_aux_output_loss: 1.8009\n",
      "Epoch 79/100\n",
      "363/363 [==============================] - 0s 1ms/step - loss: 0.3452 - output_loss: 0.3370 - aux_output_loss: 0.4191 - val_loss: 1.6176 - val_output_loss: 1.5980 - val_aux_output_loss: 1.7937\n",
      "Epoch 80/100\n",
      "363/363 [==============================] - 0s 1ms/step - loss: 0.3237 - output_loss: 0.3152 - aux_output_loss: 0.4000 - val_loss: 1.5322 - val_output_loss: 1.5034 - val_aux_output_loss: 1.7916\n",
      "Epoch 81/100\n",
      "363/363 [==============================] - 0s 1ms/step - loss: 0.3381 - output_loss: 0.3304 - aux_output_loss: 0.4079 - val_loss: 1.5415 - val_output_loss: 1.5130 - val_aux_output_loss: 1.7981\n",
      "Epoch 82/100\n",
      "363/363 [==============================] - 1s 1ms/step - loss: 0.3318 - output_loss: 0.3242 - aux_output_loss: 0.4002 - val_loss: 1.4759 - val_output_loss: 1.4524 - val_aux_output_loss: 1.6873\n",
      "Epoch 83/100\n",
      "363/363 [==============================] - 0s 1ms/step - loss: 0.3182 - output_loss: 0.3100 - aux_output_loss: 0.3915 - val_loss: 1.6096 - val_output_loss: 1.5838 - val_aux_output_loss: 1.8418\n",
      "Epoch 84/100\n",
      "363/363 [==============================] - 0s 1ms/step - loss: 0.3145 - output_loss: 0.3067 - aux_output_loss: 0.3844 - val_loss: 1.5052 - val_output_loss: 1.4824 - val_aux_output_loss: 1.7103\n",
      "Epoch 85/100\n",
      "363/363 [==============================] - 0s 1ms/step - loss: 0.3100 - output_loss: 0.3021 - aux_output_loss: 0.3804 - val_loss: 1.3967 - val_output_loss: 1.3722 - val_aux_output_loss: 1.6169\n",
      "Epoch 86/100\n",
      "363/363 [==============================] - ETA: 0s - loss: 0.3243 - output_loss: 0.3160 - aux_output_loss: 0.398 - 0s 1ms/step - loss: 0.3241 - output_loss: 0.3159 - aux_output_loss: 0.3982 - val_loss: 1.6982 - val_output_loss: 1.6758 - val_aux_output_loss: 1.8993\n",
      "Epoch 87/100\n",
      "363/363 [==============================] - 0s 1ms/step - loss: 0.3212 - output_loss: 0.3140 - aux_output_loss: 0.3860 - val_loss: 1.9079 - val_output_loss: 1.8836 - val_aux_output_loss: 2.1264\n",
      "Epoch 88/100\n",
      "363/363 [==============================] - 1s 2ms/step - loss: 0.3180 - output_loss: 0.3093 - aux_output_loss: 0.3965 - val_loss: 1.7369 - val_output_loss: 1.7094 - val_aux_output_loss: 1.9846\n",
      "Epoch 89/100\n",
      "363/363 [==============================] - 1s 1ms/step - loss: 0.3177 - output_loss: 0.3106 - aux_output_loss: 0.3812 - val_loss: 1.5433 - val_output_loss: 1.5189 - val_aux_output_loss: 1.7628\n",
      "Epoch 90/100\n",
      "363/363 [==============================] - 1s 1ms/step - loss: 0.3191 - output_loss: 0.3113 - aux_output_loss: 0.3891 - val_loss: 1.7752 - val_output_loss: 1.7566 - val_aux_output_loss: 1.9424\n",
      "Epoch 91/100\n",
      "363/363 [==============================] - 0s 1ms/step - loss: 0.3253 - output_loss: 0.3180 - aux_output_loss: 0.3910 - val_loss: 1.5425 - val_output_loss: 1.5194 - val_aux_output_loss: 1.7505\n",
      "Epoch 92/100\n",
      "363/363 [==============================] - 1s 1ms/step - loss: 0.3053 - output_loss: 0.2977 - aux_output_loss: 0.3743 - val_loss: 1.6494 - val_output_loss: 1.6237 - val_aux_output_loss: 1.8808\n",
      "Epoch 93/100\n",
      "363/363 [==============================] - 1s 1ms/step - loss: 0.3231 - output_loss: 0.3158 - aux_output_loss: 0.3892 - val_loss: 1.7202 - val_output_loss: 1.6946 - val_aux_output_loss: 1.9502\n",
      "Epoch 94/100\n",
      "363/363 [==============================] - 1s 1ms/step - loss: 0.3186 - output_loss: 0.3121 - aux_output_loss: 0.3774 - val_loss: 1.6029 - val_output_loss: 1.5796 - val_aux_output_loss: 1.8131\n",
      "Epoch 95/100\n",
      "363/363 [==============================] - 0s 1ms/step - loss: 0.3160 - output_loss: 0.3080 - aux_output_loss: 0.3881 - val_loss: 1.9788 - val_output_loss: 1.9562 - val_aux_output_loss: 2.1818\n",
      "Epoch 96/100\n",
      "363/363 [==============================] - 1s 1ms/step - loss: 0.3131 - output_loss: 0.3054 - aux_output_loss: 0.3816 - val_loss: 1.5532 - val_output_loss: 1.5288 - val_aux_output_loss: 1.7723\n",
      "Epoch 97/100\n",
      "363/363 [==============================] - 1s 1ms/step - loss: 0.3154 - output_loss: 0.3075 - aux_output_loss: 0.3868 - val_loss: 1.6578 - val_output_loss: 1.6365 - val_aux_output_loss: 1.8491\n",
      "Epoch 98/100\n",
      "363/363 [==============================] - 1s 2ms/step - loss: 0.3239 - output_loss: 0.3165 - aux_output_loss: 0.3903 - val_loss: 1.5305 - val_output_loss: 1.5055 - val_aux_output_loss: 1.7557\n",
      "Epoch 99/100\n",
      "363/363 [==============================] - 0s 1ms/step - loss: 0.3232 - output_loss: 0.3157 - aux_output_loss: 0.3905 - val_loss: 1.7868 - val_output_loss: 1.7630 - val_aux_output_loss: 2.0011\n",
      "Epoch 100/100\n",
      "363/363 [==============================] - 0s 1ms/step - loss: 0.3054 - output_loss: 0.2977 - aux_output_loss: 0.3745 - val_loss: 1.5480 - val_output_loss: 1.5271 - val_aux_output_loss: 1.7354\n"
     ]
    }
   ],
   "source": [
    "\n",
    "np.random.seed(1234)\n",
    "\n",
    "#모델 만들고 컴파일 \n",
    "input_A = keras.layers.Input(shape = [5], name = 'wide_input')\n",
    "input_B = keras.layers.Input(shape = [6], name = 'deep_input')\n",
    "hidden1 = keras.layers.Dense(30, activation = 'relu')(input_B)\n",
    "hidden2 = keras.layers.Dense(30, activation = 'relu')(hidden1) \n",
    "concat = keras.layers.Concatenate()([input_A, hidden2])\n",
    "output = keras.layers.Dense(1, name = 'output')(concat)\n",
    "aux_output = keras.layers.Dense(1, name = 'aux_output')(hidden2) #hidden2만 사용해서!\n",
    "model3 = keras.Model(inputs = [input_A, input_B], outputs = [output, aux_output])\n",
    "model3.compile(loss = ['mse', 'mse'], loss_weights = [0.9, 0.1], optimizer = 'sgd')\n",
    "\n",
    "#텐서보드 시행\n",
    "tensorboard_cb = keras.callbacks.TensorBoard(run_logdir)\n",
    "history = model3.fit(\n",
    "x = ([x_train_A, x_train_B]), y = ([y_train, y_train]), epochs= 100,\n",
    "    validation_data = ([x_valid_A, x_valid_B], [y_valid, y_valid]), callbacks = [tensorboard_cb])"
   ]
  },
  {
   "cell_type": "markdown",
   "metadata": {},
   "source": [
    "> 현재 파이썬을 실행시킨 디렉토리 (나의 경우 deep_learning폴더)에서 tensorboard --logdir=./my_logs --port=6006을 실행시키고\n",
    "\n",
    "> http://localhost:6006 을 쳐주면 된다"
   ]
  },
  {
   "cell_type": "markdown",
   "metadata": {},
   "source": [
    "텐서보드는 주피터 내에서도 볼 수 있다"
   ]
  },
  {
   "cell_type": "code",
   "execution_count": 56,
   "metadata": {},
   "outputs": [
    {
     "data": {
      "text/plain": [
       "Reusing TensorBoard on port 6006 (pid 12432), started 0:02:53 ago. (Use '!kill 12432' to kill it.)"
      ]
     },
     "metadata": {},
     "output_type": "display_data"
    },
    {
     "data": {
      "text/html": [
       "\n",
       "      <iframe id=\"tensorboard-frame-fa96cfc1e41800fe\" width=\"100%\" height=\"800\" frameborder=\"0\">\n",
       "      </iframe>\n",
       "      <script>\n",
       "        (function() {\n",
       "          const frame = document.getElementById(\"tensorboard-frame-fa96cfc1e41800fe\");\n",
       "          const url = new URL(\"/\", window.location);\n",
       "          const port = 6006;\n",
       "          if (port) {\n",
       "            url.port = port;\n",
       "          }\n",
       "          frame.src = url;\n",
       "        })();\n",
       "      </script>\n",
       "    "
      ],
      "text/plain": [
       "<IPython.core.display.HTML object>"
      ]
     },
     "metadata": {},
     "output_type": "display_data"
    }
   ],
   "source": [
    "%load_ext tensorboard\n",
    "%tensorboard --logdir=./my_logs --port=6006"
   ]
  },
  {
   "cell_type": "markdown",
   "metadata": {},
   "source": [
    "tensorboard를 잘 활용하면 좋은 도구가 될 수 있다고 한다."
   ]
  },
  {
   "cell_type": "code",
   "execution_count": 16,
   "metadata": {},
   "outputs": [
    {
     "ename": "NameError",
     "evalue": "name 'get_run_log_dir' is not defined",
     "output_type": "error",
     "traceback": [
      "\u001b[1;31m---------------------------------------------------------------------------\u001b[0m",
      "\u001b[1;31mNameError\u001b[0m                                 Traceback (most recent call last)",
      "\u001b[1;32m<ipython-input-16-e3807817e9c1>\u001b[0m in \u001b[0;36m<module>\u001b[1;34m\u001b[0m\n\u001b[0;32m      2\u001b[0m \u001b[1;32mimport\u001b[0m \u001b[0mnumpy\u001b[0m \u001b[1;32mas\u001b[0m \u001b[0mnp\u001b[0m\u001b[1;33m\u001b[0m\u001b[1;33m\u001b[0m\u001b[0m\n\u001b[0;32m      3\u001b[0m \u001b[1;33m\u001b[0m\u001b[0m\n\u001b[1;32m----> 4\u001b[1;33m \u001b[0mtest_logdir\u001b[0m \u001b[1;33m=\u001b[0m \u001b[0mget_run_log_dir\u001b[0m\u001b[1;33m(\u001b[0m\u001b[1;33m)\u001b[0m\u001b[1;33m\u001b[0m\u001b[1;33m\u001b[0m\u001b[0m\n\u001b[0m\u001b[0;32m      5\u001b[0m \u001b[0mwriter\u001b[0m \u001b[1;33m=\u001b[0m \u001b[0mtf\u001b[0m\u001b[1;33m.\u001b[0m\u001b[0msummary\u001b[0m\u001b[1;33m.\u001b[0m\u001b[0mcreate_file_writer\u001b[0m\u001b[1;33m(\u001b[0m\u001b[0mtest_logdir\u001b[0m\u001b[1;33m)\u001b[0m\u001b[1;33m\u001b[0m\u001b[1;33m\u001b[0m\u001b[0m\n\u001b[0;32m      6\u001b[0m \u001b[1;33m\u001b[0m\u001b[0m\n",
      "\u001b[1;31mNameError\u001b[0m: name 'get_run_log_dir' is not defined"
     ]
    }
   ],
   "source": [
    "#tensorborad test\n",
    "import numpy as np\n",
    "\n",
    "test_logdir = get_run_log_dir()\n",
    "writer = tf.summary.create_file_writer(test_logdir)\n",
    "\n",
    "with writer.as_default() : \n",
    "    for step in range(1, 1000 + 1) : #이렇게 하면 1부터 1000까지의 값이라는 것을 명시해줄 수 있는 것 같다. 생각보다 간단하게\n",
    "        tf.summary.scalar('my_scalar', np.sin(step / 10), step = step) #summary에는 step이 필요한 듯 싶음\n",
    "        \n",
    "        data = (np.random.randn(100) + 2) * step / 100 #normal 분포를 쭉 뽑아주게 된다.\n",
    "        tf.summary.histogram('my_hist', data, buckets = 50, step = step)\n",
    "        \n",
    "        images = np.random.rand(2,32,32,3) #32x32 RGB 이미지\n",
    "        tf.summary.image('my_images', images * step / 1000, step=step)\n",
    "        \n",
    "        texts = ['the step is' + str(step), 'its square is ' + str(step**2)]\n",
    "        tf.summary.text('my_text', texts, step = step)\n",
    "        \n",
    "        sine_wave = tf.math.sin(tf.range(12000)/48000*2*np.pi*step)\n",
    "        audio = tf.reshape(tf.cast(sine_wave, tf.float32), [1, -1, 1])\n",
    "        tf.summary.audio('my_audio', audio, sample_rate=48000, step = step)  "
   ]
  },
  {
   "cell_type": "markdown",
   "metadata": {},
   "source": [
    "# 10.3 HYPERPPARAMETER TUNING"
   ]
  },
  {
   "cell_type": "code",
   "execution_count": 42,
   "metadata": {},
   "outputs": [],
   "source": [
    "#시퀀셜 API를 활용해 모델을 구축함\n",
    "def build_model(n_hidden = 1, n_neurons = 30, learning_rate = 3e-3, input_shape=[8]) : #우선 적잘한 기본값 설정\n",
    "    \n",
    "    #모델 구축\n",
    "    model = keras.models.Sequential()\n",
    "    \n",
    "    #input layer\n",
    "    model.add(keras.layers.InputLayer(input_shape = input_shape)) \n",
    "    \n",
    "    #hideen layer\n",
    "    for layer in range(n_hidden) : \n",
    "        model.add(keras.layers.Dense(n_neurons, activation = 'relu'))\n",
    "        \n",
    "    #output layer    \n",
    "    model.add(keras.layers.Dense(1)) \n",
    "    \n",
    "    #활성화기 정의\n",
    "    optimizer = keras.optimizers.SGD(lr = learning_rate)\n",
    "    \n",
    "    #모델 compile\n",
    "    model.compile(loss= 'mse', optimizer = optimizer)\n",
    "    return model"
   ]
  },
  {
   "cell_type": "code",
   "execution_count": 43,
   "metadata": {},
   "outputs": [
    {
     "data": {
      "text/plain": [
       "(11610, 8)"
      ]
     },
     "execution_count": 43,
     "metadata": {},
     "output_type": "execute_result"
    }
   ],
   "source": [
    "x_train.shape"
   ]
  },
  {
   "cell_type": "markdown",
   "metadata": {},
   "source": [
    "함수형 API는 레이어에 이전 레이어를 넣어야 해서 사용하지 않는 것 같다"
   ]
  },
  {
   "cell_type": "code",
   "execution_count": null,
   "metadata": {},
   "outputs": [],
   "source": [
    "keras_reg = keras.wrappers.scikit_learn.KerasRegressor(build_model)\n",
    "\n",
    "np.random.seed(1234)\n",
    "keras_reg.fit(x_train, y_train, epochs = 100,\n",
    "             validation_data = (x_valid, y_valid),\n",
    "             callbacks = [keras.callbacks.EarlyStopping(patience=10)])\n",
    "mse_test = keras_reg.score(x_test, y_test)\n",
    "y_pred = keras_reg.predict(x_new)"
   ]
  },
  {
   "cell_type": "code",
   "execution_count": 55,
   "metadata": {},
   "outputs": [
    {
     "name": "stdout",
     "output_type": "stream",
     "text": [
      "새로운 데이터에 대한 MSE : 1.580381375605345\n",
      "새로운 데이터에 대한 MAE : 1.0764757872454325\n"
     ]
    }
   ],
   "source": [
    "#새로운 데이터에 대한 성능 판정\n",
    "print(\"새로운 데이터에 대한 MSE : {0}\".format(metrics.mean_squared_error(y_pred, y_test[:3])))\n",
    "print(\"새로운 데이터에 대한 MAE : {0}\".format(metrics.mean_absolute_error(y_pred, y_test[:3])))"
   ]
  },
  {
   "cell_type": "code",
   "execution_count": 59,
   "metadata": {},
   "outputs": [
    {
     "name": "stdout",
     "output_type": "stream",
     "text": [
      "(3870, 8)\n",
      "(11610, 8)\n"
     ]
    }
   ],
   "source": [
    "print(x_valid.shape)\n",
    "print(x_train.shape)"
   ]
  },
  {
   "cell_type": "markdown",
   "metadata": {},
   "source": [
    "아쉽게도 randomsearch를 진행하면 sklearn의 버그가 발생한다고 한다. 과연 bayesian으로 진행할 수 있을까?"
   ]
  },
  {
   "cell_type": "code",
   "execution_count": 83,
   "metadata": {},
   "outputs": [
    {
     "name": "stdout",
     "output_type": "stream",
     "text": [
      "|   iter    |  target   | learni... | n_hidden  | n_neurons |\n",
      "-------------------------------------------------------------\n"
     ]
    },
    {
     "ename": "TypeError",
     "evalue": "Cannot clone object '<tensorflow.python.keras.engine.sequential.Sequential object at 0x000001C028257880>' (type <class 'tensorflow.python.keras.engine.sequential.Sequential'>): it does not seem to be a scikit-learn estimator as it does not implement a 'get_params' method.",
     "output_type": "error",
     "traceback": [
      "\u001b[1;31m---------------------------------------------------------------------------\u001b[0m",
      "\u001b[1;31mKeyError\u001b[0m                                  Traceback (most recent call last)",
      "\u001b[1;32m~\\anaconda3\\lib\\site-packages\\bayes_opt\\target_space.py\u001b[0m in \u001b[0;36mprobe\u001b[1;34m(self, params)\u001b[0m\n\u001b[0;32m    190\u001b[0m         \u001b[1;32mtry\u001b[0m\u001b[1;33m:\u001b[0m\u001b[1;33m\u001b[0m\u001b[1;33m\u001b[0m\u001b[0m\n\u001b[1;32m--> 191\u001b[1;33m             \u001b[0mtarget\u001b[0m \u001b[1;33m=\u001b[0m \u001b[0mself\u001b[0m\u001b[1;33m.\u001b[0m\u001b[0m_cache\u001b[0m\u001b[1;33m[\u001b[0m\u001b[0m_hashable\u001b[0m\u001b[1;33m(\u001b[0m\u001b[0mx\u001b[0m\u001b[1;33m)\u001b[0m\u001b[1;33m]\u001b[0m\u001b[1;33m\u001b[0m\u001b[1;33m\u001b[0m\u001b[0m\n\u001b[0m\u001b[0;32m    192\u001b[0m         \u001b[1;32mexcept\u001b[0m \u001b[0mKeyError\u001b[0m\u001b[1;33m:\u001b[0m\u001b[1;33m\u001b[0m\u001b[1;33m\u001b[0m\u001b[0m\n",
      "\u001b[1;31mKeyError\u001b[0m: (0.057698379278554014, 1.8663263131194956, 44.335046161704334)",
      "\nDuring handling of the above exception, another exception occurred:\n",
      "\u001b[1;31mEmpty\u001b[0m                                     Traceback (most recent call last)",
      "\u001b[1;32m~\\anaconda3\\lib\\site-packages\\joblib\\parallel.py\u001b[0m in \u001b[0;36mdispatch_one_batch\u001b[1;34m(self, iterator)\u001b[0m\n\u001b[0;32m    826\u001b[0m             \u001b[1;32mtry\u001b[0m\u001b[1;33m:\u001b[0m\u001b[1;33m\u001b[0m\u001b[1;33m\u001b[0m\u001b[0m\n\u001b[1;32m--> 827\u001b[1;33m                 \u001b[0mtasks\u001b[0m \u001b[1;33m=\u001b[0m \u001b[0mself\u001b[0m\u001b[1;33m.\u001b[0m\u001b[0m_ready_batches\u001b[0m\u001b[1;33m.\u001b[0m\u001b[0mget\u001b[0m\u001b[1;33m(\u001b[0m\u001b[0mblock\u001b[0m\u001b[1;33m=\u001b[0m\u001b[1;32mFalse\u001b[0m\u001b[1;33m)\u001b[0m\u001b[1;33m\u001b[0m\u001b[1;33m\u001b[0m\u001b[0m\n\u001b[0m\u001b[0;32m    828\u001b[0m             \u001b[1;32mexcept\u001b[0m \u001b[0mqueue\u001b[0m\u001b[1;33m.\u001b[0m\u001b[0mEmpty\u001b[0m\u001b[1;33m:\u001b[0m\u001b[1;33m\u001b[0m\u001b[1;33m\u001b[0m\u001b[0m\n",
      "\u001b[1;32m~\\anaconda3\\lib\\queue.py\u001b[0m in \u001b[0;36mget\u001b[1;34m(self, block, timeout)\u001b[0m\n\u001b[0;32m    166\u001b[0m                 \u001b[1;32mif\u001b[0m \u001b[1;32mnot\u001b[0m \u001b[0mself\u001b[0m\u001b[1;33m.\u001b[0m\u001b[0m_qsize\u001b[0m\u001b[1;33m(\u001b[0m\u001b[1;33m)\u001b[0m\u001b[1;33m:\u001b[0m\u001b[1;33m\u001b[0m\u001b[1;33m\u001b[0m\u001b[0m\n\u001b[1;32m--> 167\u001b[1;33m                     \u001b[1;32mraise\u001b[0m \u001b[0mEmpty\u001b[0m\u001b[1;33m\u001b[0m\u001b[1;33m\u001b[0m\u001b[0m\n\u001b[0m\u001b[0;32m    168\u001b[0m             \u001b[1;32melif\u001b[0m \u001b[0mtimeout\u001b[0m \u001b[1;32mis\u001b[0m \u001b[1;32mNone\u001b[0m\u001b[1;33m:\u001b[0m\u001b[1;33m\u001b[0m\u001b[1;33m\u001b[0m\u001b[0m\n",
      "\u001b[1;31mEmpty\u001b[0m: ",
      "\nDuring handling of the above exception, another exception occurred:\n",
      "\u001b[1;31mTypeError\u001b[0m                                 Traceback (most recent call last)",
      "\u001b[1;32m<ipython-input-83-d94429a3149d>\u001b[0m in \u001b[0;36m<module>\u001b[1;34m\u001b[0m\n\u001b[0;32m     27\u001b[0m                                  random_state=1234)\n\u001b[0;32m     28\u001b[0m \u001b[1;33m\u001b[0m\u001b[0m\n\u001b[1;32m---> 29\u001b[1;33m \u001b[0moptimizer_ei\u001b[0m\u001b[1;33m.\u001b[0m\u001b[0mmaximize\u001b[0m\u001b[1;33m(\u001b[0m\u001b[0minit_points\u001b[0m\u001b[1;33m=\u001b[0m\u001b[1;36m3\u001b[0m\u001b[1;33m,\u001b[0m \u001b[0mn_iter\u001b[0m \u001b[1;33m=\u001b[0m \u001b[1;36m100\u001b[0m\u001b[1;33m,\u001b[0m \u001b[0macq\u001b[0m\u001b[1;33m=\u001b[0m\u001b[1;34m'ei'\u001b[0m\u001b[1;33m,\u001b[0m \u001b[0mxi\u001b[0m\u001b[1;33m=\u001b[0m\u001b[1;36m0.01\u001b[0m\u001b[1;33m)\u001b[0m\u001b[1;33m\u001b[0m\u001b[1;33m\u001b[0m\u001b[0m\n\u001b[0m\u001b[0;32m     30\u001b[0m \u001b[1;33m\u001b[0m\u001b[0m\n\u001b[0;32m     31\u001b[0m \u001b[0mbest_param_ei\u001b[0m \u001b[1;33m=\u001b[0m \u001b[0moptimizer_ei\u001b[0m\u001b[1;33m.\u001b[0m\u001b[0mmax\u001b[0m\u001b[1;33m\u001b[0m\u001b[1;33m\u001b[0m\u001b[0m\n",
      "\u001b[1;32m~\\anaconda3\\lib\\site-packages\\bayes_opt\\bayesian_optimization.py\u001b[0m in \u001b[0;36mmaximize\u001b[1;34m(self, init_points, n_iter, acq, kappa, kappa_decay, kappa_decay_delay, xi, **gp_params)\u001b[0m\n\u001b[0;32m    183\u001b[0m                 \u001b[0miteration\u001b[0m \u001b[1;33m+=\u001b[0m \u001b[1;36m1\u001b[0m\u001b[1;33m\u001b[0m\u001b[1;33m\u001b[0m\u001b[0m\n\u001b[0;32m    184\u001b[0m \u001b[1;33m\u001b[0m\u001b[0m\n\u001b[1;32m--> 185\u001b[1;33m             \u001b[0mself\u001b[0m\u001b[1;33m.\u001b[0m\u001b[0mprobe\u001b[0m\u001b[1;33m(\u001b[0m\u001b[0mx_probe\u001b[0m\u001b[1;33m,\u001b[0m \u001b[0mlazy\u001b[0m\u001b[1;33m=\u001b[0m\u001b[1;32mFalse\u001b[0m\u001b[1;33m)\u001b[0m\u001b[1;33m\u001b[0m\u001b[1;33m\u001b[0m\u001b[0m\n\u001b[0m\u001b[0;32m    186\u001b[0m \u001b[1;33m\u001b[0m\u001b[0m\n\u001b[0;32m    187\u001b[0m             \u001b[1;32mif\u001b[0m \u001b[0mself\u001b[0m\u001b[1;33m.\u001b[0m\u001b[0m_bounds_transformer\u001b[0m\u001b[1;33m:\u001b[0m\u001b[1;33m\u001b[0m\u001b[1;33m\u001b[0m\u001b[0m\n",
      "\u001b[1;32m~\\anaconda3\\lib\\site-packages\\bayes_opt\\bayesian_optimization.py\u001b[0m in \u001b[0;36mprobe\u001b[1;34m(self, params, lazy)\u001b[0m\n\u001b[0;32m    114\u001b[0m             \u001b[0mself\u001b[0m\u001b[1;33m.\u001b[0m\u001b[0m_queue\u001b[0m\u001b[1;33m.\u001b[0m\u001b[0madd\u001b[0m\u001b[1;33m(\u001b[0m\u001b[0mparams\u001b[0m\u001b[1;33m)\u001b[0m\u001b[1;33m\u001b[0m\u001b[1;33m\u001b[0m\u001b[0m\n\u001b[0;32m    115\u001b[0m         \u001b[1;32melse\u001b[0m\u001b[1;33m:\u001b[0m\u001b[1;33m\u001b[0m\u001b[1;33m\u001b[0m\u001b[0m\n\u001b[1;32m--> 116\u001b[1;33m             \u001b[0mself\u001b[0m\u001b[1;33m.\u001b[0m\u001b[0m_space\u001b[0m\u001b[1;33m.\u001b[0m\u001b[0mprobe\u001b[0m\u001b[1;33m(\u001b[0m\u001b[0mparams\u001b[0m\u001b[1;33m)\u001b[0m\u001b[1;33m\u001b[0m\u001b[1;33m\u001b[0m\u001b[0m\n\u001b[0m\u001b[0;32m    117\u001b[0m             \u001b[0mself\u001b[0m\u001b[1;33m.\u001b[0m\u001b[0mdispatch\u001b[0m\u001b[1;33m(\u001b[0m\u001b[0mEvents\u001b[0m\u001b[1;33m.\u001b[0m\u001b[0mOPTIMIZATION_STEP\u001b[0m\u001b[1;33m)\u001b[0m\u001b[1;33m\u001b[0m\u001b[1;33m\u001b[0m\u001b[0m\n\u001b[0;32m    118\u001b[0m \u001b[1;33m\u001b[0m\u001b[0m\n",
      "\u001b[1;32m~\\anaconda3\\lib\\site-packages\\bayes_opt\\target_space.py\u001b[0m in \u001b[0;36mprobe\u001b[1;34m(self, params)\u001b[0m\n\u001b[0;32m    192\u001b[0m         \u001b[1;32mexcept\u001b[0m \u001b[0mKeyError\u001b[0m\u001b[1;33m:\u001b[0m\u001b[1;33m\u001b[0m\u001b[1;33m\u001b[0m\u001b[0m\n\u001b[0;32m    193\u001b[0m             \u001b[0mparams\u001b[0m \u001b[1;33m=\u001b[0m \u001b[0mdict\u001b[0m\u001b[1;33m(\u001b[0m\u001b[0mzip\u001b[0m\u001b[1;33m(\u001b[0m\u001b[0mself\u001b[0m\u001b[1;33m.\u001b[0m\u001b[0m_keys\u001b[0m\u001b[1;33m,\u001b[0m \u001b[0mx\u001b[0m\u001b[1;33m)\u001b[0m\u001b[1;33m)\u001b[0m\u001b[1;33m\u001b[0m\u001b[1;33m\u001b[0m\u001b[0m\n\u001b[1;32m--> 194\u001b[1;33m             \u001b[0mtarget\u001b[0m \u001b[1;33m=\u001b[0m \u001b[0mself\u001b[0m\u001b[1;33m.\u001b[0m\u001b[0mtarget_func\u001b[0m\u001b[1;33m(\u001b[0m\u001b[1;33m**\u001b[0m\u001b[0mparams\u001b[0m\u001b[1;33m)\u001b[0m\u001b[1;33m\u001b[0m\u001b[1;33m\u001b[0m\u001b[0m\n\u001b[0m\u001b[0;32m    195\u001b[0m             \u001b[0mself\u001b[0m\u001b[1;33m.\u001b[0m\u001b[0mregister\u001b[0m\u001b[1;33m(\u001b[0m\u001b[0mx\u001b[0m\u001b[1;33m,\u001b[0m \u001b[0mtarget\u001b[0m\u001b[1;33m)\u001b[0m\u001b[1;33m\u001b[0m\u001b[1;33m\u001b[0m\u001b[0m\n\u001b[0;32m    196\u001b[0m         \u001b[1;32mreturn\u001b[0m \u001b[0mtarget\u001b[0m\u001b[1;33m\u001b[0m\u001b[1;33m\u001b[0m\u001b[0m\n",
      "\u001b[1;32m<ipython-input-83-d94429a3149d>\u001b[0m in \u001b[0;36mkeras_hyper_param\u001b[1;34m(n_hidden, n_neurons, learning_rate)\u001b[0m\n\u001b[0;32m     20\u001b[0m \u001b[1;33m\u001b[0m\u001b[0m\n\u001b[0;32m     21\u001b[0m     \u001b[1;31m#이 return값이 손실함수이기 때문에 이를 최대화(원래는 최소화)하는 방향으로 탐색하게 됨.\u001b[0m\u001b[1;33m\u001b[0m\u001b[1;33m\u001b[0m\u001b[1;33m\u001b[0m\u001b[0m\n\u001b[1;32m---> 22\u001b[1;33m     \u001b[1;32mreturn\u001b[0m \u001b[0mnp\u001b[0m\u001b[1;33m.\u001b[0m\u001b[0mmean\u001b[0m\u001b[1;33m(\u001b[0m\u001b[0mcross_val_score\u001b[0m\u001b[1;33m(\u001b[0m\u001b[0mkeras_bayes\u001b[0m\u001b[1;33m,\u001b[0m \u001b[0mX\u001b[0m\u001b[1;33m,\u001b[0m \u001b[0my\u001b[0m\u001b[1;33m,\u001b[0m \u001b[0mcv\u001b[0m\u001b[1;33m=\u001b[0m\u001b[1;36m5\u001b[0m\u001b[1;33m,\u001b[0m \u001b[0mscoring\u001b[0m\u001b[1;33m=\u001b[0m\u001b[1;34m'neg_root_mean_squared_error'\u001b[0m\u001b[1;33m)\u001b[0m\u001b[1;33m)\u001b[0m\u001b[1;33m\u001b[0m\u001b[1;33m\u001b[0m\u001b[0m\n\u001b[0m\u001b[0;32m     23\u001b[0m \u001b[1;33m\u001b[0m\u001b[0m\n\u001b[0;32m     24\u001b[0m \u001b[1;33m\u001b[0m\u001b[0m\n",
      "\u001b[1;32m~\\anaconda3\\lib\\site-packages\\sklearn\\utils\\validation.py\u001b[0m in \u001b[0;36minner_f\u001b[1;34m(*args, **kwargs)\u001b[0m\n\u001b[0;32m     70\u001b[0m                           FutureWarning)\n\u001b[0;32m     71\u001b[0m         \u001b[0mkwargs\u001b[0m\u001b[1;33m.\u001b[0m\u001b[0mupdate\u001b[0m\u001b[1;33m(\u001b[0m\u001b[1;33m{\u001b[0m\u001b[0mk\u001b[0m\u001b[1;33m:\u001b[0m \u001b[0marg\u001b[0m \u001b[1;32mfor\u001b[0m \u001b[0mk\u001b[0m\u001b[1;33m,\u001b[0m \u001b[0marg\u001b[0m \u001b[1;32min\u001b[0m \u001b[0mzip\u001b[0m\u001b[1;33m(\u001b[0m\u001b[0msig\u001b[0m\u001b[1;33m.\u001b[0m\u001b[0mparameters\u001b[0m\u001b[1;33m,\u001b[0m \u001b[0margs\u001b[0m\u001b[1;33m)\u001b[0m\u001b[1;33m}\u001b[0m\u001b[1;33m)\u001b[0m\u001b[1;33m\u001b[0m\u001b[1;33m\u001b[0m\u001b[0m\n\u001b[1;32m---> 72\u001b[1;33m         \u001b[1;32mreturn\u001b[0m \u001b[0mf\u001b[0m\u001b[1;33m(\u001b[0m\u001b[1;33m**\u001b[0m\u001b[0mkwargs\u001b[0m\u001b[1;33m)\u001b[0m\u001b[1;33m\u001b[0m\u001b[1;33m\u001b[0m\u001b[0m\n\u001b[0m\u001b[0;32m     73\u001b[0m     \u001b[1;32mreturn\u001b[0m \u001b[0minner_f\u001b[0m\u001b[1;33m\u001b[0m\u001b[1;33m\u001b[0m\u001b[0m\n\u001b[0;32m     74\u001b[0m \u001b[1;33m\u001b[0m\u001b[0m\n",
      "\u001b[1;32m~\\anaconda3\\lib\\site-packages\\sklearn\\model_selection\\_validation.py\u001b[0m in \u001b[0;36mcross_val_score\u001b[1;34m(estimator, X, y, groups, scoring, cv, n_jobs, verbose, fit_params, pre_dispatch, error_score)\u001b[0m\n\u001b[0;32m    399\u001b[0m     \u001b[0mscorer\u001b[0m \u001b[1;33m=\u001b[0m \u001b[0mcheck_scoring\u001b[0m\u001b[1;33m(\u001b[0m\u001b[0mestimator\u001b[0m\u001b[1;33m,\u001b[0m \u001b[0mscoring\u001b[0m\u001b[1;33m=\u001b[0m\u001b[0mscoring\u001b[0m\u001b[1;33m)\u001b[0m\u001b[1;33m\u001b[0m\u001b[1;33m\u001b[0m\u001b[0m\n\u001b[0;32m    400\u001b[0m \u001b[1;33m\u001b[0m\u001b[0m\n\u001b[1;32m--> 401\u001b[1;33m     cv_results = cross_validate(estimator=estimator, X=X, y=y, groups=groups,\n\u001b[0m\u001b[0;32m    402\u001b[0m                                 \u001b[0mscoring\u001b[0m\u001b[1;33m=\u001b[0m\u001b[1;33m{\u001b[0m\u001b[1;34m'score'\u001b[0m\u001b[1;33m:\u001b[0m \u001b[0mscorer\u001b[0m\u001b[1;33m}\u001b[0m\u001b[1;33m,\u001b[0m \u001b[0mcv\u001b[0m\u001b[1;33m=\u001b[0m\u001b[0mcv\u001b[0m\u001b[1;33m,\u001b[0m\u001b[1;33m\u001b[0m\u001b[1;33m\u001b[0m\u001b[0m\n\u001b[0;32m    403\u001b[0m                                 \u001b[0mn_jobs\u001b[0m\u001b[1;33m=\u001b[0m\u001b[0mn_jobs\u001b[0m\u001b[1;33m,\u001b[0m \u001b[0mverbose\u001b[0m\u001b[1;33m=\u001b[0m\u001b[0mverbose\u001b[0m\u001b[1;33m,\u001b[0m\u001b[1;33m\u001b[0m\u001b[1;33m\u001b[0m\u001b[0m\n",
      "\u001b[1;32m~\\anaconda3\\lib\\site-packages\\sklearn\\utils\\validation.py\u001b[0m in \u001b[0;36minner_f\u001b[1;34m(*args, **kwargs)\u001b[0m\n\u001b[0;32m     70\u001b[0m                           FutureWarning)\n\u001b[0;32m     71\u001b[0m         \u001b[0mkwargs\u001b[0m\u001b[1;33m.\u001b[0m\u001b[0mupdate\u001b[0m\u001b[1;33m(\u001b[0m\u001b[1;33m{\u001b[0m\u001b[0mk\u001b[0m\u001b[1;33m:\u001b[0m \u001b[0marg\u001b[0m \u001b[1;32mfor\u001b[0m \u001b[0mk\u001b[0m\u001b[1;33m,\u001b[0m \u001b[0marg\u001b[0m \u001b[1;32min\u001b[0m \u001b[0mzip\u001b[0m\u001b[1;33m(\u001b[0m\u001b[0msig\u001b[0m\u001b[1;33m.\u001b[0m\u001b[0mparameters\u001b[0m\u001b[1;33m,\u001b[0m \u001b[0margs\u001b[0m\u001b[1;33m)\u001b[0m\u001b[1;33m}\u001b[0m\u001b[1;33m)\u001b[0m\u001b[1;33m\u001b[0m\u001b[1;33m\u001b[0m\u001b[0m\n\u001b[1;32m---> 72\u001b[1;33m         \u001b[1;32mreturn\u001b[0m \u001b[0mf\u001b[0m\u001b[1;33m(\u001b[0m\u001b[1;33m**\u001b[0m\u001b[0mkwargs\u001b[0m\u001b[1;33m)\u001b[0m\u001b[1;33m\u001b[0m\u001b[1;33m\u001b[0m\u001b[0m\n\u001b[0m\u001b[0;32m     73\u001b[0m     \u001b[1;32mreturn\u001b[0m \u001b[0minner_f\u001b[0m\u001b[1;33m\u001b[0m\u001b[1;33m\u001b[0m\u001b[0m\n\u001b[0;32m     74\u001b[0m \u001b[1;33m\u001b[0m\u001b[0m\n",
      "\u001b[1;32m~\\anaconda3\\lib\\site-packages\\sklearn\\model_selection\\_validation.py\u001b[0m in \u001b[0;36mcross_validate\u001b[1;34m(estimator, X, y, groups, scoring, cv, n_jobs, verbose, fit_params, pre_dispatch, return_train_score, return_estimator, error_score)\u001b[0m\n\u001b[0;32m    240\u001b[0m     parallel = Parallel(n_jobs=n_jobs, verbose=verbose,\n\u001b[0;32m    241\u001b[0m                         pre_dispatch=pre_dispatch)\n\u001b[1;32m--> 242\u001b[1;33m     scores = parallel(\n\u001b[0m\u001b[0;32m    243\u001b[0m         delayed(_fit_and_score)(\n\u001b[0;32m    244\u001b[0m             \u001b[0mclone\u001b[0m\u001b[1;33m(\u001b[0m\u001b[0mestimator\u001b[0m\u001b[1;33m)\u001b[0m\u001b[1;33m,\u001b[0m \u001b[0mX\u001b[0m\u001b[1;33m,\u001b[0m \u001b[0my\u001b[0m\u001b[1;33m,\u001b[0m \u001b[0mscorers\u001b[0m\u001b[1;33m,\u001b[0m \u001b[0mtrain\u001b[0m\u001b[1;33m,\u001b[0m \u001b[0mtest\u001b[0m\u001b[1;33m,\u001b[0m \u001b[0mverbose\u001b[0m\u001b[1;33m,\u001b[0m \u001b[1;32mNone\u001b[0m\u001b[1;33m,\u001b[0m\u001b[1;33m\u001b[0m\u001b[1;33m\u001b[0m\u001b[0m\n",
      "\u001b[1;32m~\\anaconda3\\lib\\site-packages\\joblib\\parallel.py\u001b[0m in \u001b[0;36m__call__\u001b[1;34m(self, iterable)\u001b[0m\n\u001b[0;32m   1046\u001b[0m             \u001b[1;31m# remaining jobs.\u001b[0m\u001b[1;33m\u001b[0m\u001b[1;33m\u001b[0m\u001b[1;33m\u001b[0m\u001b[0m\n\u001b[0;32m   1047\u001b[0m             \u001b[0mself\u001b[0m\u001b[1;33m.\u001b[0m\u001b[0m_iterating\u001b[0m \u001b[1;33m=\u001b[0m \u001b[1;32mFalse\u001b[0m\u001b[1;33m\u001b[0m\u001b[1;33m\u001b[0m\u001b[0m\n\u001b[1;32m-> 1048\u001b[1;33m             \u001b[1;32mif\u001b[0m \u001b[0mself\u001b[0m\u001b[1;33m.\u001b[0m\u001b[0mdispatch_one_batch\u001b[0m\u001b[1;33m(\u001b[0m\u001b[0miterator\u001b[0m\u001b[1;33m)\u001b[0m\u001b[1;33m:\u001b[0m\u001b[1;33m\u001b[0m\u001b[1;33m\u001b[0m\u001b[0m\n\u001b[0m\u001b[0;32m   1049\u001b[0m                 \u001b[0mself\u001b[0m\u001b[1;33m.\u001b[0m\u001b[0m_iterating\u001b[0m \u001b[1;33m=\u001b[0m \u001b[0mself\u001b[0m\u001b[1;33m.\u001b[0m\u001b[0m_original_iterator\u001b[0m \u001b[1;32mis\u001b[0m \u001b[1;32mnot\u001b[0m \u001b[1;32mNone\u001b[0m\u001b[1;33m\u001b[0m\u001b[1;33m\u001b[0m\u001b[0m\n\u001b[0;32m   1050\u001b[0m \u001b[1;33m\u001b[0m\u001b[0m\n",
      "\u001b[1;32m~\\anaconda3\\lib\\site-packages\\joblib\\parallel.py\u001b[0m in \u001b[0;36mdispatch_one_batch\u001b[1;34m(self, iterator)\u001b[0m\n\u001b[0;32m    836\u001b[0m                 \u001b[0mbig_batch_size\u001b[0m \u001b[1;33m=\u001b[0m \u001b[0mbatch_size\u001b[0m \u001b[1;33m*\u001b[0m \u001b[0mn_jobs\u001b[0m\u001b[1;33m\u001b[0m\u001b[1;33m\u001b[0m\u001b[0m\n\u001b[0;32m    837\u001b[0m \u001b[1;33m\u001b[0m\u001b[0m\n\u001b[1;32m--> 838\u001b[1;33m                 \u001b[0mislice\u001b[0m \u001b[1;33m=\u001b[0m \u001b[0mlist\u001b[0m\u001b[1;33m(\u001b[0m\u001b[0mitertools\u001b[0m\u001b[1;33m.\u001b[0m\u001b[0mislice\u001b[0m\u001b[1;33m(\u001b[0m\u001b[0miterator\u001b[0m\u001b[1;33m,\u001b[0m \u001b[0mbig_batch_size\u001b[0m\u001b[1;33m)\u001b[0m\u001b[1;33m)\u001b[0m\u001b[1;33m\u001b[0m\u001b[1;33m\u001b[0m\u001b[0m\n\u001b[0m\u001b[0;32m    839\u001b[0m                 \u001b[1;32mif\u001b[0m \u001b[0mlen\u001b[0m\u001b[1;33m(\u001b[0m\u001b[0mislice\u001b[0m\u001b[1;33m)\u001b[0m \u001b[1;33m==\u001b[0m \u001b[1;36m0\u001b[0m\u001b[1;33m:\u001b[0m\u001b[1;33m\u001b[0m\u001b[1;33m\u001b[0m\u001b[0m\n\u001b[0;32m    840\u001b[0m                     \u001b[1;32mreturn\u001b[0m \u001b[1;32mFalse\u001b[0m\u001b[1;33m\u001b[0m\u001b[1;33m\u001b[0m\u001b[0m\n",
      "\u001b[1;32m~\\anaconda3\\lib\\site-packages\\sklearn\\model_selection\\_validation.py\u001b[0m in \u001b[0;36m<genexpr>\u001b[1;34m(.0)\u001b[0m\n\u001b[0;32m    242\u001b[0m     scores = parallel(\n\u001b[0;32m    243\u001b[0m         delayed(_fit_and_score)(\n\u001b[1;32m--> 244\u001b[1;33m             \u001b[0mclone\u001b[0m\u001b[1;33m(\u001b[0m\u001b[0mestimator\u001b[0m\u001b[1;33m)\u001b[0m\u001b[1;33m,\u001b[0m \u001b[0mX\u001b[0m\u001b[1;33m,\u001b[0m \u001b[0my\u001b[0m\u001b[1;33m,\u001b[0m \u001b[0mscorers\u001b[0m\u001b[1;33m,\u001b[0m \u001b[0mtrain\u001b[0m\u001b[1;33m,\u001b[0m \u001b[0mtest\u001b[0m\u001b[1;33m,\u001b[0m \u001b[0mverbose\u001b[0m\u001b[1;33m,\u001b[0m \u001b[1;32mNone\u001b[0m\u001b[1;33m,\u001b[0m\u001b[1;33m\u001b[0m\u001b[1;33m\u001b[0m\u001b[0m\n\u001b[0m\u001b[0;32m    245\u001b[0m             \u001b[0mfit_params\u001b[0m\u001b[1;33m,\u001b[0m \u001b[0mreturn_train_score\u001b[0m\u001b[1;33m=\u001b[0m\u001b[0mreturn_train_score\u001b[0m\u001b[1;33m,\u001b[0m\u001b[1;33m\u001b[0m\u001b[1;33m\u001b[0m\u001b[0m\n\u001b[0;32m    246\u001b[0m             \u001b[0mreturn_times\u001b[0m\u001b[1;33m=\u001b[0m\u001b[1;32mTrue\u001b[0m\u001b[1;33m,\u001b[0m \u001b[0mreturn_estimator\u001b[0m\u001b[1;33m=\u001b[0m\u001b[0mreturn_estimator\u001b[0m\u001b[1;33m,\u001b[0m\u001b[1;33m\u001b[0m\u001b[1;33m\u001b[0m\u001b[0m\n",
      "\u001b[1;32m~\\anaconda3\\lib\\site-packages\\sklearn\\utils\\validation.py\u001b[0m in \u001b[0;36minner_f\u001b[1;34m(*args, **kwargs)\u001b[0m\n\u001b[0;32m     70\u001b[0m                           FutureWarning)\n\u001b[0;32m     71\u001b[0m         \u001b[0mkwargs\u001b[0m\u001b[1;33m.\u001b[0m\u001b[0mupdate\u001b[0m\u001b[1;33m(\u001b[0m\u001b[1;33m{\u001b[0m\u001b[0mk\u001b[0m\u001b[1;33m:\u001b[0m \u001b[0marg\u001b[0m \u001b[1;32mfor\u001b[0m \u001b[0mk\u001b[0m\u001b[1;33m,\u001b[0m \u001b[0marg\u001b[0m \u001b[1;32min\u001b[0m \u001b[0mzip\u001b[0m\u001b[1;33m(\u001b[0m\u001b[0msig\u001b[0m\u001b[1;33m.\u001b[0m\u001b[0mparameters\u001b[0m\u001b[1;33m,\u001b[0m \u001b[0margs\u001b[0m\u001b[1;33m)\u001b[0m\u001b[1;33m}\u001b[0m\u001b[1;33m)\u001b[0m\u001b[1;33m\u001b[0m\u001b[1;33m\u001b[0m\u001b[0m\n\u001b[1;32m---> 72\u001b[1;33m         \u001b[1;32mreturn\u001b[0m \u001b[0mf\u001b[0m\u001b[1;33m(\u001b[0m\u001b[1;33m**\u001b[0m\u001b[0mkwargs\u001b[0m\u001b[1;33m)\u001b[0m\u001b[1;33m\u001b[0m\u001b[1;33m\u001b[0m\u001b[0m\n\u001b[0m\u001b[0;32m     73\u001b[0m     \u001b[1;32mreturn\u001b[0m \u001b[0minner_f\u001b[0m\u001b[1;33m\u001b[0m\u001b[1;33m\u001b[0m\u001b[0m\n\u001b[0;32m     74\u001b[0m \u001b[1;33m\u001b[0m\u001b[0m\n",
      "\u001b[1;32m~\\anaconda3\\lib\\site-packages\\sklearn\\base.py\u001b[0m in \u001b[0;36mclone\u001b[1;34m(estimator, safe)\u001b[0m\n\u001b[0;32m     76\u001b[0m                                 \"scikit-learn estimator instead of a class.\")\n\u001b[0;32m     77\u001b[0m             \u001b[1;32melse\u001b[0m\u001b[1;33m:\u001b[0m\u001b[1;33m\u001b[0m\u001b[1;33m\u001b[0m\u001b[0m\n\u001b[1;32m---> 78\u001b[1;33m                 raise TypeError(\"Cannot clone object '%s' (type %s): \"\n\u001b[0m\u001b[0;32m     79\u001b[0m                                 \u001b[1;34m\"it does not seem to be a scikit-learn \"\u001b[0m\u001b[1;33m\u001b[0m\u001b[1;33m\u001b[0m\u001b[0m\n\u001b[0;32m     80\u001b[0m                                 \u001b[1;34m\"estimator as it does not implement a \"\u001b[0m\u001b[1;33m\u001b[0m\u001b[1;33m\u001b[0m\u001b[0m\n",
      "\u001b[1;31mTypeError\u001b[0m: Cannot clone object '<tensorflow.python.keras.engine.sequential.Sequential object at 0x000001C028257880>' (type <class 'tensorflow.python.keras.engine.sequential.Sequential'>): it does not seem to be a scikit-learn estimator as it does not implement a 'get_params' method."
     ]
    }
   ],
   "source": [
    "from bayes_opt import BayesianOptimization\n",
    "from sklearn.model_selection import cross_val_score\n",
    "\n",
    "#파라미터 범위 지정\n",
    "params = {\n",
    "    'n_hidden' : (0,3)\n",
    "    ,'n_neurons' : (1,100)\n",
    "    ,'learning_rate' : (3e-4, 3e-1)\n",
    "}\n",
    "\n",
    "#우리가 Optimize할 함수 지정\n",
    "def keras_hyper_param(n_hidden, n_neurons, learning_rate):\n",
    "\n",
    "    X = x_train\n",
    "    y = y_train\n",
    "    \n",
    "    n_hidden = int(n_hidden)\n",
    "    \n",
    "    keras_bayes = build_model(n_hidden = n_hidden, n_neurons = n_neurons, learning_rate = learning_rate)\n",
    "    \n",
    "    #이 return값이 손실함수이기 때문에 이를 최대화(원래는 최소화)하는 방향으로 탐색하게 됨.\n",
    "    return np.mean(cross_val_score(keras_bayes, X, y, cv=5, scoring='neg_root_mean_squared_error'))\n",
    "\n",
    "\n",
    "optimizer_ei = BayesianOptimization(f=keras_hyper_param, \n",
    "                                 pbounds=params, #아마 parameter bounds가 아닌가 싶다.\n",
    "                                 random_state=1234)\n",
    "\n",
    "optimizer_ei.maximize(init_points=3, n_iter = 100, acq='ei', xi=0.01)\n",
    "\n",
    "best_param_ei = optimizer_ei.max\n",
    "\n",
    "print(\"best params : {0} /n best score : {1}\".format(best_param_ei['params'], best_param_ei['target']))"
   ]
  },
  {
   "cell_type": "code",
   "execution_count": null,
   "metadata": {},
   "outputs": [],
   "source": []
  }
 ],
 "metadata": {
  "kernelspec": {
   "display_name": "Python 3",
   "language": "python",
   "name": "python3"
  },
  "language_info": {
   "codemirror_mode": {
    "name": "ipython",
    "version": 3
   },
   "file_extension": ".py",
   "mimetype": "text/x-python",
   "name": "python",
   "nbconvert_exporter": "python",
   "pygments_lexer": "ipython3",
   "version": "3.8.5"
  }
 },
 "nbformat": 4,
 "nbformat_minor": 4
}
