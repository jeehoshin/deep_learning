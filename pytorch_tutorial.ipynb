{
  "nbformat": 4,
  "nbformat_minor": 0,
  "metadata": {
    "colab": {
      "name": "pytorch_tutorial.ipynb",
      "provenance": [],
      "collapsed_sections": [
        "WY7pfAKYFf1h",
        "-_bO1mWsORCe",
        "TTk6wlaQPoVM",
        "Hr0bCTNtewwQ"
      ],
      "authorship_tag": "ABX9TyM9lYSBt7jYLquKKYtyb6ZI",
      "include_colab_link": true
    },
    "kernelspec": {
      "name": "python3",
      "display_name": "Python 3"
    },
    "language_info": {
      "name": "python"
    },
    "accelerator": "GPU",
    "widgets": {
      "application/vnd.jupyter.widget-state+json": {
        "55bdc06355b24526945d0b55fa7bb79d": {
          "model_module": "@jupyter-widgets/controls",
          "model_name": "HBoxModel",
          "state": {
            "_view_name": "HBoxView",
            "_dom_classes": [],
            "_model_name": "HBoxModel",
            "_view_module": "@jupyter-widgets/controls",
            "_model_module_version": "1.5.0",
            "_view_count": null,
            "_view_module_version": "1.5.0",
            "box_style": "",
            "layout": "IPY_MODEL_79c991c4b2264ced80909ee29e9b5aef",
            "_model_module": "@jupyter-widgets/controls",
            "children": [
              "IPY_MODEL_c8122252a8af46059ce7f6721ed4b8cd",
              "IPY_MODEL_897a84c48a124b3e88b520bd5d0d3db2"
            ]
          }
        },
        "79c991c4b2264ced80909ee29e9b5aef": {
          "model_module": "@jupyter-widgets/base",
          "model_name": "LayoutModel",
          "state": {
            "_view_name": "LayoutView",
            "grid_template_rows": null,
            "right": null,
            "justify_content": null,
            "_view_module": "@jupyter-widgets/base",
            "overflow": null,
            "_model_module_version": "1.2.0",
            "_view_count": null,
            "flex_flow": null,
            "width": null,
            "min_width": null,
            "border": null,
            "align_items": null,
            "bottom": null,
            "_model_module": "@jupyter-widgets/base",
            "top": null,
            "grid_column": null,
            "overflow_y": null,
            "overflow_x": null,
            "grid_auto_flow": null,
            "grid_area": null,
            "grid_template_columns": null,
            "flex": null,
            "_model_name": "LayoutModel",
            "justify_items": null,
            "grid_row": null,
            "max_height": null,
            "align_content": null,
            "visibility": null,
            "align_self": null,
            "height": null,
            "min_height": null,
            "padding": null,
            "grid_auto_rows": null,
            "grid_gap": null,
            "max_width": null,
            "order": null,
            "_view_module_version": "1.2.0",
            "grid_template_areas": null,
            "object_position": null,
            "object_fit": null,
            "grid_auto_columns": null,
            "margin": null,
            "display": null,
            "left": null
          }
        },
        "c8122252a8af46059ce7f6721ed4b8cd": {
          "model_module": "@jupyter-widgets/controls",
          "model_name": "FloatProgressModel",
          "state": {
            "_view_name": "ProgressView",
            "style": "IPY_MODEL_0953f321a26341239095ba2e59a83d2d",
            "_dom_classes": [],
            "description": "",
            "_model_name": "FloatProgressModel",
            "bar_style": "success",
            "max": 26421880,
            "_view_module": "@jupyter-widgets/controls",
            "_model_module_version": "1.5.0",
            "value": 26421880,
            "_view_count": null,
            "_view_module_version": "1.5.0",
            "orientation": "horizontal",
            "min": 0,
            "description_tooltip": null,
            "_model_module": "@jupyter-widgets/controls",
            "layout": "IPY_MODEL_2a54527fbd694541b5c68df388399c42"
          }
        },
        "897a84c48a124b3e88b520bd5d0d3db2": {
          "model_module": "@jupyter-widgets/controls",
          "model_name": "HTMLModel",
          "state": {
            "_view_name": "HTMLView",
            "style": "IPY_MODEL_d5fd7b58df4e44a9a8e4220823b4dad5",
            "_dom_classes": [],
            "description": "",
            "_model_name": "HTMLModel",
            "placeholder": "​",
            "_view_module": "@jupyter-widgets/controls",
            "_model_module_version": "1.5.0",
            "value": " 26422272/? [17:05&lt;00:00, 25771.94it/s]",
            "_view_count": null,
            "_view_module_version": "1.5.0",
            "description_tooltip": null,
            "_model_module": "@jupyter-widgets/controls",
            "layout": "IPY_MODEL_5d1a99af408c470c9cb269720d5b32b8"
          }
        },
        "0953f321a26341239095ba2e59a83d2d": {
          "model_module": "@jupyter-widgets/controls",
          "model_name": "ProgressStyleModel",
          "state": {
            "_view_name": "StyleView",
            "_model_name": "ProgressStyleModel",
            "description_width": "initial",
            "_view_module": "@jupyter-widgets/base",
            "_model_module_version": "1.5.0",
            "_view_count": null,
            "_view_module_version": "1.2.0",
            "bar_color": null,
            "_model_module": "@jupyter-widgets/controls"
          }
        },
        "2a54527fbd694541b5c68df388399c42": {
          "model_module": "@jupyter-widgets/base",
          "model_name": "LayoutModel",
          "state": {
            "_view_name": "LayoutView",
            "grid_template_rows": null,
            "right": null,
            "justify_content": null,
            "_view_module": "@jupyter-widgets/base",
            "overflow": null,
            "_model_module_version": "1.2.0",
            "_view_count": null,
            "flex_flow": null,
            "width": null,
            "min_width": null,
            "border": null,
            "align_items": null,
            "bottom": null,
            "_model_module": "@jupyter-widgets/base",
            "top": null,
            "grid_column": null,
            "overflow_y": null,
            "overflow_x": null,
            "grid_auto_flow": null,
            "grid_area": null,
            "grid_template_columns": null,
            "flex": null,
            "_model_name": "LayoutModel",
            "justify_items": null,
            "grid_row": null,
            "max_height": null,
            "align_content": null,
            "visibility": null,
            "align_self": null,
            "height": null,
            "min_height": null,
            "padding": null,
            "grid_auto_rows": null,
            "grid_gap": null,
            "max_width": null,
            "order": null,
            "_view_module_version": "1.2.0",
            "grid_template_areas": null,
            "object_position": null,
            "object_fit": null,
            "grid_auto_columns": null,
            "margin": null,
            "display": null,
            "left": null
          }
        },
        "d5fd7b58df4e44a9a8e4220823b4dad5": {
          "model_module": "@jupyter-widgets/controls",
          "model_name": "DescriptionStyleModel",
          "state": {
            "_view_name": "StyleView",
            "_model_name": "DescriptionStyleModel",
            "description_width": "",
            "_view_module": "@jupyter-widgets/base",
            "_model_module_version": "1.5.0",
            "_view_count": null,
            "_view_module_version": "1.2.0",
            "_model_module": "@jupyter-widgets/controls"
          }
        },
        "5d1a99af408c470c9cb269720d5b32b8": {
          "model_module": "@jupyter-widgets/base",
          "model_name": "LayoutModel",
          "state": {
            "_view_name": "LayoutView",
            "grid_template_rows": null,
            "right": null,
            "justify_content": null,
            "_view_module": "@jupyter-widgets/base",
            "overflow": null,
            "_model_module_version": "1.2.0",
            "_view_count": null,
            "flex_flow": null,
            "width": null,
            "min_width": null,
            "border": null,
            "align_items": null,
            "bottom": null,
            "_model_module": "@jupyter-widgets/base",
            "top": null,
            "grid_column": null,
            "overflow_y": null,
            "overflow_x": null,
            "grid_auto_flow": null,
            "grid_area": null,
            "grid_template_columns": null,
            "flex": null,
            "_model_name": "LayoutModel",
            "justify_items": null,
            "grid_row": null,
            "max_height": null,
            "align_content": null,
            "visibility": null,
            "align_self": null,
            "height": null,
            "min_height": null,
            "padding": null,
            "grid_auto_rows": null,
            "grid_gap": null,
            "max_width": null,
            "order": null,
            "_view_module_version": "1.2.0",
            "grid_template_areas": null,
            "object_position": null,
            "object_fit": null,
            "grid_auto_columns": null,
            "margin": null,
            "display": null,
            "left": null
          }
        },
        "dba7c2c0cc5f43c882cb6e72f1204b99": {
          "model_module": "@jupyter-widgets/controls",
          "model_name": "HBoxModel",
          "state": {
            "_view_name": "HBoxView",
            "_dom_classes": [],
            "_model_name": "HBoxModel",
            "_view_module": "@jupyter-widgets/controls",
            "_model_module_version": "1.5.0",
            "_view_count": null,
            "_view_module_version": "1.5.0",
            "box_style": "",
            "layout": "IPY_MODEL_0313fdb95bd543d4a33ea744cfb91478",
            "_model_module": "@jupyter-widgets/controls",
            "children": [
              "IPY_MODEL_e82ab9d27ab0435aa419705f6d5567b6",
              "IPY_MODEL_4944e74fbd9646a48e4a0c2cb8504f38"
            ]
          }
        },
        "0313fdb95bd543d4a33ea744cfb91478": {
          "model_module": "@jupyter-widgets/base",
          "model_name": "LayoutModel",
          "state": {
            "_view_name": "LayoutView",
            "grid_template_rows": null,
            "right": null,
            "justify_content": null,
            "_view_module": "@jupyter-widgets/base",
            "overflow": null,
            "_model_module_version": "1.2.0",
            "_view_count": null,
            "flex_flow": null,
            "width": null,
            "min_width": null,
            "border": null,
            "align_items": null,
            "bottom": null,
            "_model_module": "@jupyter-widgets/base",
            "top": null,
            "grid_column": null,
            "overflow_y": null,
            "overflow_x": null,
            "grid_auto_flow": null,
            "grid_area": null,
            "grid_template_columns": null,
            "flex": null,
            "_model_name": "LayoutModel",
            "justify_items": null,
            "grid_row": null,
            "max_height": null,
            "align_content": null,
            "visibility": null,
            "align_self": null,
            "height": null,
            "min_height": null,
            "padding": null,
            "grid_auto_rows": null,
            "grid_gap": null,
            "max_width": null,
            "order": null,
            "_view_module_version": "1.2.0",
            "grid_template_areas": null,
            "object_position": null,
            "object_fit": null,
            "grid_auto_columns": null,
            "margin": null,
            "display": null,
            "left": null
          }
        },
        "e82ab9d27ab0435aa419705f6d5567b6": {
          "model_module": "@jupyter-widgets/controls",
          "model_name": "FloatProgressModel",
          "state": {
            "_view_name": "ProgressView",
            "style": "IPY_MODEL_c8b49cc8383840f1a9adb8900de700e1",
            "_dom_classes": [],
            "description": "",
            "_model_name": "FloatProgressModel",
            "bar_style": "success",
            "max": 29515,
            "_view_module": "@jupyter-widgets/controls",
            "_model_module_version": "1.5.0",
            "value": 29515,
            "_view_count": null,
            "_view_module_version": "1.5.0",
            "orientation": "horizontal",
            "min": 0,
            "description_tooltip": null,
            "_model_module": "@jupyter-widgets/controls",
            "layout": "IPY_MODEL_42536fe10baa4ee0a26718f6a2f176da"
          }
        },
        "4944e74fbd9646a48e4a0c2cb8504f38": {
          "model_module": "@jupyter-widgets/controls",
          "model_name": "HTMLModel",
          "state": {
            "_view_name": "HTMLView",
            "style": "IPY_MODEL_e70934e2a8ad4f95bbf9221add80a82e",
            "_dom_classes": [],
            "description": "",
            "_model_name": "HTMLModel",
            "placeholder": "​",
            "_view_module": "@jupyter-widgets/controls",
            "_model_module_version": "1.5.0",
            "value": " 29696/? [00:00&lt;00:00, 45573.13it/s]",
            "_view_count": null,
            "_view_module_version": "1.5.0",
            "description_tooltip": null,
            "_model_module": "@jupyter-widgets/controls",
            "layout": "IPY_MODEL_c7f5c9d8776f422489bec4d4c0b7736d"
          }
        },
        "c8b49cc8383840f1a9adb8900de700e1": {
          "model_module": "@jupyter-widgets/controls",
          "model_name": "ProgressStyleModel",
          "state": {
            "_view_name": "StyleView",
            "_model_name": "ProgressStyleModel",
            "description_width": "initial",
            "_view_module": "@jupyter-widgets/base",
            "_model_module_version": "1.5.0",
            "_view_count": null,
            "_view_module_version": "1.2.0",
            "bar_color": null,
            "_model_module": "@jupyter-widgets/controls"
          }
        },
        "42536fe10baa4ee0a26718f6a2f176da": {
          "model_module": "@jupyter-widgets/base",
          "model_name": "LayoutModel",
          "state": {
            "_view_name": "LayoutView",
            "grid_template_rows": null,
            "right": null,
            "justify_content": null,
            "_view_module": "@jupyter-widgets/base",
            "overflow": null,
            "_model_module_version": "1.2.0",
            "_view_count": null,
            "flex_flow": null,
            "width": null,
            "min_width": null,
            "border": null,
            "align_items": null,
            "bottom": null,
            "_model_module": "@jupyter-widgets/base",
            "top": null,
            "grid_column": null,
            "overflow_y": null,
            "overflow_x": null,
            "grid_auto_flow": null,
            "grid_area": null,
            "grid_template_columns": null,
            "flex": null,
            "_model_name": "LayoutModel",
            "justify_items": null,
            "grid_row": null,
            "max_height": null,
            "align_content": null,
            "visibility": null,
            "align_self": null,
            "height": null,
            "min_height": null,
            "padding": null,
            "grid_auto_rows": null,
            "grid_gap": null,
            "max_width": null,
            "order": null,
            "_view_module_version": "1.2.0",
            "grid_template_areas": null,
            "object_position": null,
            "object_fit": null,
            "grid_auto_columns": null,
            "margin": null,
            "display": null,
            "left": null
          }
        },
        "e70934e2a8ad4f95bbf9221add80a82e": {
          "model_module": "@jupyter-widgets/controls",
          "model_name": "DescriptionStyleModel",
          "state": {
            "_view_name": "StyleView",
            "_model_name": "DescriptionStyleModel",
            "description_width": "",
            "_view_module": "@jupyter-widgets/base",
            "_model_module_version": "1.5.0",
            "_view_count": null,
            "_view_module_version": "1.2.0",
            "_model_module": "@jupyter-widgets/controls"
          }
        },
        "c7f5c9d8776f422489bec4d4c0b7736d": {
          "model_module": "@jupyter-widgets/base",
          "model_name": "LayoutModel",
          "state": {
            "_view_name": "LayoutView",
            "grid_template_rows": null,
            "right": null,
            "justify_content": null,
            "_view_module": "@jupyter-widgets/base",
            "overflow": null,
            "_model_module_version": "1.2.0",
            "_view_count": null,
            "flex_flow": null,
            "width": null,
            "min_width": null,
            "border": null,
            "align_items": null,
            "bottom": null,
            "_model_module": "@jupyter-widgets/base",
            "top": null,
            "grid_column": null,
            "overflow_y": null,
            "overflow_x": null,
            "grid_auto_flow": null,
            "grid_area": null,
            "grid_template_columns": null,
            "flex": null,
            "_model_name": "LayoutModel",
            "justify_items": null,
            "grid_row": null,
            "max_height": null,
            "align_content": null,
            "visibility": null,
            "align_self": null,
            "height": null,
            "min_height": null,
            "padding": null,
            "grid_auto_rows": null,
            "grid_gap": null,
            "max_width": null,
            "order": null,
            "_view_module_version": "1.2.0",
            "grid_template_areas": null,
            "object_position": null,
            "object_fit": null,
            "grid_auto_columns": null,
            "margin": null,
            "display": null,
            "left": null
          }
        },
        "05b489e81b0540839073d63217411dcf": {
          "model_module": "@jupyter-widgets/controls",
          "model_name": "HBoxModel",
          "state": {
            "_view_name": "HBoxView",
            "_dom_classes": [],
            "_model_name": "HBoxModel",
            "_view_module": "@jupyter-widgets/controls",
            "_model_module_version": "1.5.0",
            "_view_count": null,
            "_view_module_version": "1.5.0",
            "box_style": "",
            "layout": "IPY_MODEL_c1d58ae5a2bb440e839b7a0b859d5e7e",
            "_model_module": "@jupyter-widgets/controls",
            "children": [
              "IPY_MODEL_7767522820744de6af9a4d937ec8ca8a",
              "IPY_MODEL_af5034af2ccf405e9218178130d14394"
            ]
          }
        },
        "c1d58ae5a2bb440e839b7a0b859d5e7e": {
          "model_module": "@jupyter-widgets/base",
          "model_name": "LayoutModel",
          "state": {
            "_view_name": "LayoutView",
            "grid_template_rows": null,
            "right": null,
            "justify_content": null,
            "_view_module": "@jupyter-widgets/base",
            "overflow": null,
            "_model_module_version": "1.2.0",
            "_view_count": null,
            "flex_flow": null,
            "width": null,
            "min_width": null,
            "border": null,
            "align_items": null,
            "bottom": null,
            "_model_module": "@jupyter-widgets/base",
            "top": null,
            "grid_column": null,
            "overflow_y": null,
            "overflow_x": null,
            "grid_auto_flow": null,
            "grid_area": null,
            "grid_template_columns": null,
            "flex": null,
            "_model_name": "LayoutModel",
            "justify_items": null,
            "grid_row": null,
            "max_height": null,
            "align_content": null,
            "visibility": null,
            "align_self": null,
            "height": null,
            "min_height": null,
            "padding": null,
            "grid_auto_rows": null,
            "grid_gap": null,
            "max_width": null,
            "order": null,
            "_view_module_version": "1.2.0",
            "grid_template_areas": null,
            "object_position": null,
            "object_fit": null,
            "grid_auto_columns": null,
            "margin": null,
            "display": null,
            "left": null
          }
        },
        "7767522820744de6af9a4d937ec8ca8a": {
          "model_module": "@jupyter-widgets/controls",
          "model_name": "FloatProgressModel",
          "state": {
            "_view_name": "ProgressView",
            "style": "IPY_MODEL_52578fbbadc24a9f8738aa0fcdf2c6d5",
            "_dom_classes": [],
            "description": "",
            "_model_name": "FloatProgressModel",
            "bar_style": "success",
            "max": 4422102,
            "_view_module": "@jupyter-widgets/controls",
            "_model_module_version": "1.5.0",
            "value": 4422102,
            "_view_count": null,
            "_view_module_version": "1.5.0",
            "orientation": "horizontal",
            "min": 0,
            "description_tooltip": null,
            "_model_module": "@jupyter-widgets/controls",
            "layout": "IPY_MODEL_144ac94fc9e24f3f90f58751c0b94b70"
          }
        },
        "af5034af2ccf405e9218178130d14394": {
          "model_module": "@jupyter-widgets/controls",
          "model_name": "HTMLModel",
          "state": {
            "_view_name": "HTMLView",
            "style": "IPY_MODEL_ba729b35d3cb49a19bc98a8cc5421467",
            "_dom_classes": [],
            "description": "",
            "_model_name": "HTMLModel",
            "placeholder": "​",
            "_view_module": "@jupyter-widgets/controls",
            "_model_module_version": "1.5.0",
            "value": " 4422656/? [06:16&lt;00:00, 11754.78it/s]",
            "_view_count": null,
            "_view_module_version": "1.5.0",
            "description_tooltip": null,
            "_model_module": "@jupyter-widgets/controls",
            "layout": "IPY_MODEL_b54d452929754ac885853f6390be6406"
          }
        },
        "52578fbbadc24a9f8738aa0fcdf2c6d5": {
          "model_module": "@jupyter-widgets/controls",
          "model_name": "ProgressStyleModel",
          "state": {
            "_view_name": "StyleView",
            "_model_name": "ProgressStyleModel",
            "description_width": "initial",
            "_view_module": "@jupyter-widgets/base",
            "_model_module_version": "1.5.0",
            "_view_count": null,
            "_view_module_version": "1.2.0",
            "bar_color": null,
            "_model_module": "@jupyter-widgets/controls"
          }
        },
        "144ac94fc9e24f3f90f58751c0b94b70": {
          "model_module": "@jupyter-widgets/base",
          "model_name": "LayoutModel",
          "state": {
            "_view_name": "LayoutView",
            "grid_template_rows": null,
            "right": null,
            "justify_content": null,
            "_view_module": "@jupyter-widgets/base",
            "overflow": null,
            "_model_module_version": "1.2.0",
            "_view_count": null,
            "flex_flow": null,
            "width": null,
            "min_width": null,
            "border": null,
            "align_items": null,
            "bottom": null,
            "_model_module": "@jupyter-widgets/base",
            "top": null,
            "grid_column": null,
            "overflow_y": null,
            "overflow_x": null,
            "grid_auto_flow": null,
            "grid_area": null,
            "grid_template_columns": null,
            "flex": null,
            "_model_name": "LayoutModel",
            "justify_items": null,
            "grid_row": null,
            "max_height": null,
            "align_content": null,
            "visibility": null,
            "align_self": null,
            "height": null,
            "min_height": null,
            "padding": null,
            "grid_auto_rows": null,
            "grid_gap": null,
            "max_width": null,
            "order": null,
            "_view_module_version": "1.2.0",
            "grid_template_areas": null,
            "object_position": null,
            "object_fit": null,
            "grid_auto_columns": null,
            "margin": null,
            "display": null,
            "left": null
          }
        },
        "ba729b35d3cb49a19bc98a8cc5421467": {
          "model_module": "@jupyter-widgets/controls",
          "model_name": "DescriptionStyleModel",
          "state": {
            "_view_name": "StyleView",
            "_model_name": "DescriptionStyleModel",
            "description_width": "",
            "_view_module": "@jupyter-widgets/base",
            "_model_module_version": "1.5.0",
            "_view_count": null,
            "_view_module_version": "1.2.0",
            "_model_module": "@jupyter-widgets/controls"
          }
        },
        "b54d452929754ac885853f6390be6406": {
          "model_module": "@jupyter-widgets/base",
          "model_name": "LayoutModel",
          "state": {
            "_view_name": "LayoutView",
            "grid_template_rows": null,
            "right": null,
            "justify_content": null,
            "_view_module": "@jupyter-widgets/base",
            "overflow": null,
            "_model_module_version": "1.2.0",
            "_view_count": null,
            "flex_flow": null,
            "width": null,
            "min_width": null,
            "border": null,
            "align_items": null,
            "bottom": null,
            "_model_module": "@jupyter-widgets/base",
            "top": null,
            "grid_column": null,
            "overflow_y": null,
            "overflow_x": null,
            "grid_auto_flow": null,
            "grid_area": null,
            "grid_template_columns": null,
            "flex": null,
            "_model_name": "LayoutModel",
            "justify_items": null,
            "grid_row": null,
            "max_height": null,
            "align_content": null,
            "visibility": null,
            "align_self": null,
            "height": null,
            "min_height": null,
            "padding": null,
            "grid_auto_rows": null,
            "grid_gap": null,
            "max_width": null,
            "order": null,
            "_view_module_version": "1.2.0",
            "grid_template_areas": null,
            "object_position": null,
            "object_fit": null,
            "grid_auto_columns": null,
            "margin": null,
            "display": null,
            "left": null
          }
        },
        "349369b12787400ca1920c7a67b21f58": {
          "model_module": "@jupyter-widgets/controls",
          "model_name": "HBoxModel",
          "state": {
            "_view_name": "HBoxView",
            "_dom_classes": [],
            "_model_name": "HBoxModel",
            "_view_module": "@jupyter-widgets/controls",
            "_model_module_version": "1.5.0",
            "_view_count": null,
            "_view_module_version": "1.5.0",
            "box_style": "",
            "layout": "IPY_MODEL_2f3c64053ae74611b7fa2f1522d2defb",
            "_model_module": "@jupyter-widgets/controls",
            "children": [
              "IPY_MODEL_c27bf3240b214c358c4da6c37bc9d8ca",
              "IPY_MODEL_bc4b5c0a0e264d5c98f2274c1d519238"
            ]
          }
        },
        "2f3c64053ae74611b7fa2f1522d2defb": {
          "model_module": "@jupyter-widgets/base",
          "model_name": "LayoutModel",
          "state": {
            "_view_name": "LayoutView",
            "grid_template_rows": null,
            "right": null,
            "justify_content": null,
            "_view_module": "@jupyter-widgets/base",
            "overflow": null,
            "_model_module_version": "1.2.0",
            "_view_count": null,
            "flex_flow": null,
            "width": null,
            "min_width": null,
            "border": null,
            "align_items": null,
            "bottom": null,
            "_model_module": "@jupyter-widgets/base",
            "top": null,
            "grid_column": null,
            "overflow_y": null,
            "overflow_x": null,
            "grid_auto_flow": null,
            "grid_area": null,
            "grid_template_columns": null,
            "flex": null,
            "_model_name": "LayoutModel",
            "justify_items": null,
            "grid_row": null,
            "max_height": null,
            "align_content": null,
            "visibility": null,
            "align_self": null,
            "height": null,
            "min_height": null,
            "padding": null,
            "grid_auto_rows": null,
            "grid_gap": null,
            "max_width": null,
            "order": null,
            "_view_module_version": "1.2.0",
            "grid_template_areas": null,
            "object_position": null,
            "object_fit": null,
            "grid_auto_columns": null,
            "margin": null,
            "display": null,
            "left": null
          }
        },
        "c27bf3240b214c358c4da6c37bc9d8ca": {
          "model_module": "@jupyter-widgets/controls",
          "model_name": "FloatProgressModel",
          "state": {
            "_view_name": "ProgressView",
            "style": "IPY_MODEL_90845fd67b1949a882942f00d007a74e",
            "_dom_classes": [],
            "description": "",
            "_model_name": "FloatProgressModel",
            "bar_style": "success",
            "max": 5148,
            "_view_module": "@jupyter-widgets/controls",
            "_model_module_version": "1.5.0",
            "value": 5148,
            "_view_count": null,
            "_view_module_version": "1.5.0",
            "orientation": "horizontal",
            "min": 0,
            "description_tooltip": null,
            "_model_module": "@jupyter-widgets/controls",
            "layout": "IPY_MODEL_b79aba3bfd8e4970a6bd628a45b783d8"
          }
        },
        "bc4b5c0a0e264d5c98f2274c1d519238": {
          "model_module": "@jupyter-widgets/controls",
          "model_name": "HTMLModel",
          "state": {
            "_view_name": "HTMLView",
            "style": "IPY_MODEL_4402c88af444471a82a9ec1e9244aee4",
            "_dom_classes": [],
            "description": "",
            "_model_name": "HTMLModel",
            "placeholder": "​",
            "_view_module": "@jupyter-widgets/controls",
            "_model_module_version": "1.5.0",
            "value": " 6144/? [04:05&lt;00:00, 25.06it/s]",
            "_view_count": null,
            "_view_module_version": "1.5.0",
            "description_tooltip": null,
            "_model_module": "@jupyter-widgets/controls",
            "layout": "IPY_MODEL_50e05541d44a4549a27b4396afb1127b"
          }
        },
        "90845fd67b1949a882942f00d007a74e": {
          "model_module": "@jupyter-widgets/controls",
          "model_name": "ProgressStyleModel",
          "state": {
            "_view_name": "StyleView",
            "_model_name": "ProgressStyleModel",
            "description_width": "initial",
            "_view_module": "@jupyter-widgets/base",
            "_model_module_version": "1.5.0",
            "_view_count": null,
            "_view_module_version": "1.2.0",
            "bar_color": null,
            "_model_module": "@jupyter-widgets/controls"
          }
        },
        "b79aba3bfd8e4970a6bd628a45b783d8": {
          "model_module": "@jupyter-widgets/base",
          "model_name": "LayoutModel",
          "state": {
            "_view_name": "LayoutView",
            "grid_template_rows": null,
            "right": null,
            "justify_content": null,
            "_view_module": "@jupyter-widgets/base",
            "overflow": null,
            "_model_module_version": "1.2.0",
            "_view_count": null,
            "flex_flow": null,
            "width": null,
            "min_width": null,
            "border": null,
            "align_items": null,
            "bottom": null,
            "_model_module": "@jupyter-widgets/base",
            "top": null,
            "grid_column": null,
            "overflow_y": null,
            "overflow_x": null,
            "grid_auto_flow": null,
            "grid_area": null,
            "grid_template_columns": null,
            "flex": null,
            "_model_name": "LayoutModel",
            "justify_items": null,
            "grid_row": null,
            "max_height": null,
            "align_content": null,
            "visibility": null,
            "align_self": null,
            "height": null,
            "min_height": null,
            "padding": null,
            "grid_auto_rows": null,
            "grid_gap": null,
            "max_width": null,
            "order": null,
            "_view_module_version": "1.2.0",
            "grid_template_areas": null,
            "object_position": null,
            "object_fit": null,
            "grid_auto_columns": null,
            "margin": null,
            "display": null,
            "left": null
          }
        },
        "4402c88af444471a82a9ec1e9244aee4": {
          "model_module": "@jupyter-widgets/controls",
          "model_name": "DescriptionStyleModel",
          "state": {
            "_view_name": "StyleView",
            "_model_name": "DescriptionStyleModel",
            "description_width": "",
            "_view_module": "@jupyter-widgets/base",
            "_model_module_version": "1.5.0",
            "_view_count": null,
            "_view_module_version": "1.2.0",
            "_model_module": "@jupyter-widgets/controls"
          }
        },
        "50e05541d44a4549a27b4396afb1127b": {
          "model_module": "@jupyter-widgets/base",
          "model_name": "LayoutModel",
          "state": {
            "_view_name": "LayoutView",
            "grid_template_rows": null,
            "right": null,
            "justify_content": null,
            "_view_module": "@jupyter-widgets/base",
            "overflow": null,
            "_model_module_version": "1.2.0",
            "_view_count": null,
            "flex_flow": null,
            "width": null,
            "min_width": null,
            "border": null,
            "align_items": null,
            "bottom": null,
            "_model_module": "@jupyter-widgets/base",
            "top": null,
            "grid_column": null,
            "overflow_y": null,
            "overflow_x": null,
            "grid_auto_flow": null,
            "grid_area": null,
            "grid_template_columns": null,
            "flex": null,
            "_model_name": "LayoutModel",
            "justify_items": null,
            "grid_row": null,
            "max_height": null,
            "align_content": null,
            "visibility": null,
            "align_self": null,
            "height": null,
            "min_height": null,
            "padding": null,
            "grid_auto_rows": null,
            "grid_gap": null,
            "max_width": null,
            "order": null,
            "_view_module_version": "1.2.0",
            "grid_template_areas": null,
            "object_position": null,
            "object_fit": null,
            "grid_auto_columns": null,
            "margin": null,
            "display": null,
            "left": null
          }
        },
        "1c111a6436594713ac3c05b76fa63673": {
          "model_module": "@jupyter-widgets/controls",
          "model_name": "HBoxModel",
          "state": {
            "_view_name": "HBoxView",
            "_dom_classes": [],
            "_model_name": "HBoxModel",
            "_view_module": "@jupyter-widgets/controls",
            "_model_module_version": "1.5.0",
            "_view_count": null,
            "_view_module_version": "1.5.0",
            "box_style": "",
            "layout": "IPY_MODEL_0a0e127e54c947f0ba6ce220b6afc12d",
            "_model_module": "@jupyter-widgets/controls",
            "children": [
              "IPY_MODEL_0b45a773650347308099f851437b1d50",
              "IPY_MODEL_056eee58073d4a46bbb777b9cc13af97"
            ]
          }
        },
        "0a0e127e54c947f0ba6ce220b6afc12d": {
          "model_module": "@jupyter-widgets/base",
          "model_name": "LayoutModel",
          "state": {
            "_view_name": "LayoutView",
            "grid_template_rows": null,
            "right": null,
            "justify_content": null,
            "_view_module": "@jupyter-widgets/base",
            "overflow": null,
            "_model_module_version": "1.2.0",
            "_view_count": null,
            "flex_flow": null,
            "width": null,
            "min_width": null,
            "border": null,
            "align_items": null,
            "bottom": null,
            "_model_module": "@jupyter-widgets/base",
            "top": null,
            "grid_column": null,
            "overflow_y": null,
            "overflow_x": null,
            "grid_auto_flow": null,
            "grid_area": null,
            "grid_template_columns": null,
            "flex": null,
            "_model_name": "LayoutModel",
            "justify_items": null,
            "grid_row": null,
            "max_height": null,
            "align_content": null,
            "visibility": null,
            "align_self": null,
            "height": null,
            "min_height": null,
            "padding": null,
            "grid_auto_rows": null,
            "grid_gap": null,
            "max_width": null,
            "order": null,
            "_view_module_version": "1.2.0",
            "grid_template_areas": null,
            "object_position": null,
            "object_fit": null,
            "grid_auto_columns": null,
            "margin": null,
            "display": null,
            "left": null
          }
        },
        "0b45a773650347308099f851437b1d50": {
          "model_module": "@jupyter-widgets/controls",
          "model_name": "FloatProgressModel",
          "state": {
            "_view_name": "ProgressView",
            "style": "IPY_MODEL_a64f1fb01de749a58a915fab006ba541",
            "_dom_classes": [],
            "description": "100%",
            "_model_name": "FloatProgressModel",
            "bar_style": "success",
            "max": 553433881,
            "_view_module": "@jupyter-widgets/controls",
            "_model_module_version": "1.5.0",
            "value": 553433881,
            "_view_count": null,
            "_view_module_version": "1.5.0",
            "orientation": "horizontal",
            "min": 0,
            "description_tooltip": null,
            "_model_module": "@jupyter-widgets/controls",
            "layout": "IPY_MODEL_c43804c427b042d482c3377613d3367a"
          }
        },
        "056eee58073d4a46bbb777b9cc13af97": {
          "model_module": "@jupyter-widgets/controls",
          "model_name": "HTMLModel",
          "state": {
            "_view_name": "HTMLView",
            "style": "IPY_MODEL_ce886809de4c45a79b5462b15bdbfebf",
            "_dom_classes": [],
            "description": "",
            "_model_name": "HTMLModel",
            "placeholder": "​",
            "_view_module": "@jupyter-widgets/controls",
            "_model_module_version": "1.5.0",
            "value": " 528M/528M [00:31&lt;00:00, 17.8MB/s]",
            "_view_count": null,
            "_view_module_version": "1.5.0",
            "description_tooltip": null,
            "_model_module": "@jupyter-widgets/controls",
            "layout": "IPY_MODEL_a17d5971026e4d129213470c833fdb93"
          }
        },
        "a64f1fb01de749a58a915fab006ba541": {
          "model_module": "@jupyter-widgets/controls",
          "model_name": "ProgressStyleModel",
          "state": {
            "_view_name": "StyleView",
            "_model_name": "ProgressStyleModel",
            "description_width": "initial",
            "_view_module": "@jupyter-widgets/base",
            "_model_module_version": "1.5.0",
            "_view_count": null,
            "_view_module_version": "1.2.0",
            "bar_color": null,
            "_model_module": "@jupyter-widgets/controls"
          }
        },
        "c43804c427b042d482c3377613d3367a": {
          "model_module": "@jupyter-widgets/base",
          "model_name": "LayoutModel",
          "state": {
            "_view_name": "LayoutView",
            "grid_template_rows": null,
            "right": null,
            "justify_content": null,
            "_view_module": "@jupyter-widgets/base",
            "overflow": null,
            "_model_module_version": "1.2.0",
            "_view_count": null,
            "flex_flow": null,
            "width": null,
            "min_width": null,
            "border": null,
            "align_items": null,
            "bottom": null,
            "_model_module": "@jupyter-widgets/base",
            "top": null,
            "grid_column": null,
            "overflow_y": null,
            "overflow_x": null,
            "grid_auto_flow": null,
            "grid_area": null,
            "grid_template_columns": null,
            "flex": null,
            "_model_name": "LayoutModel",
            "justify_items": null,
            "grid_row": null,
            "max_height": null,
            "align_content": null,
            "visibility": null,
            "align_self": null,
            "height": null,
            "min_height": null,
            "padding": null,
            "grid_auto_rows": null,
            "grid_gap": null,
            "max_width": null,
            "order": null,
            "_view_module_version": "1.2.0",
            "grid_template_areas": null,
            "object_position": null,
            "object_fit": null,
            "grid_auto_columns": null,
            "margin": null,
            "display": null,
            "left": null
          }
        },
        "ce886809de4c45a79b5462b15bdbfebf": {
          "model_module": "@jupyter-widgets/controls",
          "model_name": "DescriptionStyleModel",
          "state": {
            "_view_name": "StyleView",
            "_model_name": "DescriptionStyleModel",
            "description_width": "",
            "_view_module": "@jupyter-widgets/base",
            "_model_module_version": "1.5.0",
            "_view_count": null,
            "_view_module_version": "1.2.0",
            "_model_module": "@jupyter-widgets/controls"
          }
        },
        "a17d5971026e4d129213470c833fdb93": {
          "model_module": "@jupyter-widgets/base",
          "model_name": "LayoutModel",
          "state": {
            "_view_name": "LayoutView",
            "grid_template_rows": null,
            "right": null,
            "justify_content": null,
            "_view_module": "@jupyter-widgets/base",
            "overflow": null,
            "_model_module_version": "1.2.0",
            "_view_count": null,
            "flex_flow": null,
            "width": null,
            "min_width": null,
            "border": null,
            "align_items": null,
            "bottom": null,
            "_model_module": "@jupyter-widgets/base",
            "top": null,
            "grid_column": null,
            "overflow_y": null,
            "overflow_x": null,
            "grid_auto_flow": null,
            "grid_area": null,
            "grid_template_columns": null,
            "flex": null,
            "_model_name": "LayoutModel",
            "justify_items": null,
            "grid_row": null,
            "max_height": null,
            "align_content": null,
            "visibility": null,
            "align_self": null,
            "height": null,
            "min_height": null,
            "padding": null,
            "grid_auto_rows": null,
            "grid_gap": null,
            "max_width": null,
            "order": null,
            "_view_module_version": "1.2.0",
            "grid_template_areas": null,
            "object_position": null,
            "object_fit": null,
            "grid_auto_columns": null,
            "margin": null,
            "display": null,
            "left": null
          }
        }
      }
    }
  },
  "cells": [
    {
      "cell_type": "markdown",
      "metadata": {
        "id": "view-in-github",
        "colab_type": "text"
      },
      "source": [
        "<a href=\"https://colab.research.google.com/github/jeehoshin/deep_learning/blob/master/pytorch_tutorial.ipynb\" target=\"_parent\"><img src=\"https://colab.research.google.com/assets/colab-badge.svg\" alt=\"Open In Colab\"/></a>"
      ]
    },
    {
      "cell_type": "markdown",
      "metadata": {
        "id": "ijp7euBYGX_V"
      },
      "source": [
        "##00. Introduction to PyTorch\n",
        "\n",
        "https://pytorch.org/tutorials/beginner/basics/intro.html"
      ]
    },
    {
      "cell_type": "markdown",
      "metadata": {
        "id": "WY7pfAKYFf1h"
      },
      "source": [
        "### Tensors"
      ]
    },
    {
      "cell_type": "code",
      "metadata": {
        "id": "UR6CLbuPGrHR"
      },
      "source": [
        "import torch\n",
        "from __future__ import print_function"
      ],
      "execution_count": null,
      "outputs": []
    },
    {
      "cell_type": "code",
      "metadata": {
        "colab": {
          "base_uri": "https://localhost:8080/"
        },
        "id": "qva7hFSBGzm4",
        "outputId": "2102d572-8f3b-44fc-8019-c0ef695dc13e"
      },
      "source": [
        "#초기화되지 않은 행렬? 을 생성한다고 한다.\n",
        "x = torch.empty(5,3)\n",
        "print(x)"
      ],
      "execution_count": null,
      "outputs": [
        {
          "output_type": "stream",
          "text": [
            "tensor([[-6.7107e+07,  3.0938e-41,  3.3631e-44],\n",
            "        [ 0.0000e+00,         nan,  0.0000e+00],\n",
            "        [ 1.1578e+27,  1.1362e+30,  7.1547e+22],\n",
            "        [ 4.5828e+30,  1.2121e+04,  7.1846e+22],\n",
            "        [ 9.2198e-39,  7.0374e+22,  5.0948e-14]])\n"
          ],
          "name": "stdout"
        }
      ]
    },
    {
      "cell_type": "code",
      "metadata": {
        "colab": {
          "base_uri": "https://localhost:8080/"
        },
        "id": "l9KBAGi9NA-O",
        "outputId": "5d4cfb85-df77-431c-9692-9074e74075ed"
      },
      "source": [
        "#초기화된 행렬 생성하기\n",
        "x = torch.rand(5,3)\n",
        "print(x)"
      ],
      "execution_count": null,
      "outputs": [
        {
          "output_type": "stream",
          "text": [
            "tensor([[0.3971, 0.9358, 0.9143],\n",
            "        [0.7568, 0.7411, 0.7003],\n",
            "        [0.6285, 0.2647, 0.4358],\n",
            "        [0.1992, 0.0544, 0.4419],\n",
            "        [0.8574, 0.5432, 0.5056]])\n"
          ],
          "name": "stdout"
        }
      ]
    },
    {
      "cell_type": "code",
      "metadata": {
        "colab": {
          "base_uri": "https://localhost:8080/"
        },
        "id": "7F5IdEYpNOi8",
        "outputId": "4080ee04-0f5b-42ff-b704-4df81da0b15f"
      },
      "source": [
        "print(torch.zeros(5,3 ))"
      ],
      "execution_count": null,
      "outputs": [
        {
          "output_type": "stream",
          "text": [
            "tensor([[0., 0., 0.],\n",
            "        [0., 0., 0.],\n",
            "        [0., 0., 0.],\n",
            "        [0., 0., 0.],\n",
            "        [0., 0., 0.]])\n"
          ],
          "name": "stdout"
        }
      ]
    },
    {
      "cell_type": "code",
      "metadata": {
        "colab": {
          "base_uri": "https://localhost:8080/"
        },
        "id": "2Ze0VRUdNSYt",
        "outputId": "18dded94-4575-488e-cc91-69ff8785006c"
      },
      "source": [
        "#데이터를 바로 torch로 만들 수 있다.\n",
        "x = torch.tensor([5.5,3])\n",
        "print(x)"
      ],
      "execution_count": null,
      "outputs": [
        {
          "output_type": "stream",
          "text": [
            "tensor([5.5000, 3.0000])\n"
          ],
          "name": "stdout"
        }
      ]
    },
    {
      "cell_type": "markdown",
      "metadata": {
        "id": "3BQgM0ZNN97Z"
      },
      "source": [
        "그냥 ```numpy```와 같은 방법이라고 생각하면 될 것 같다 "
      ]
    },
    {
      "cell_type": "markdown",
      "metadata": {
        "id": "-_bO1mWsORCe"
      },
      "source": [
        "### 연산(Operations)"
      ]
    },
    {
      "cell_type": "markdown",
      "metadata": {
        "id": "cL_rJ2PdOg-Q"
      },
      "source": [
        "- inplace 방식\n",
        " : _를 붙이면 됨"
      ]
    },
    {
      "cell_type": "code",
      "metadata": {
        "colab": {
          "base_uri": "https://localhost:8080/"
        },
        "id": "bCrciMkROqqo",
        "outputId": "0f5bb761-ec89-4639-cd6f-e2b927f64fde"
      },
      "source": [
        "x = torch.tensor([5.5,3])\n",
        "y = torch.tensor([4.4,2])\n",
        "\n",
        "y.add_(x)\n",
        "print(y)"
      ],
      "execution_count": null,
      "outputs": [
        {
          "output_type": "stream",
          "text": [
            "tensor([9.9000, 5.0000])\n"
          ],
          "name": "stdout"
        }
      ]
    },
    {
      "cell_type": "markdown",
      "metadata": {
        "id": "m6L8wQxUOy1W"
      },
      "source": [
        "- ```torch.view```\n",
        "\n",
        "크기나 모양을 바꾸고 싶을 때 사용한다."
      ]
    },
    {
      "cell_type": "code",
      "metadata": {
        "colab": {
          "base_uri": "https://localhost:8080/"
        },
        "id": "WTm0YhZdPCEs",
        "outputId": "dbc072f0-403b-4f5b-f351-6dc574c64418"
      },
      "source": [
        "x = torch.randn(4,4)\n",
        "print(x)"
      ],
      "execution_count": null,
      "outputs": [
        {
          "output_type": "stream",
          "text": [
            "tensor([[-0.0052, -0.8665,  0.9701, -1.5311],\n",
            "        [ 0.3906, -0.7641,  0.1062, -1.3814],\n",
            "        [ 0.0789, -1.6968, -0.2207,  1.5098],\n",
            "        [-0.6114, -1.5097,  1.9319, -0.6095]])\n"
          ],
          "name": "stdout"
        }
      ]
    },
    {
      "cell_type": "code",
      "metadata": {
        "colab": {
          "base_uri": "https://localhost:8080/"
        },
        "id": "28h-ChLvPIG0",
        "outputId": "2383bdf5-296e-4dbd-d467-49ac5291f7eb"
      },
      "source": [
        "y = x.view(16)\n",
        "z = x.view(-1,8) #우선 여덟개의 열로 먼저 잡고, 알아서 행을 채워 넣으라는 의미\n",
        "y"
      ],
      "execution_count": null,
      "outputs": [
        {
          "output_type": "execute_result",
          "data": {
            "text/plain": [
              "tensor([-0.0052, -0.8665,  0.9701, -1.5311,  0.3906, -0.7641,  0.1062, -1.3814,\n",
              "         0.0789, -1.6968, -0.2207,  1.5098, -0.6114, -1.5097,  1.9319, -0.6095])"
            ]
          },
          "metadata": {
            "tags": []
          },
          "execution_count": 34
        }
      ]
    },
    {
      "cell_type": "code",
      "metadata": {
        "colab": {
          "base_uri": "https://localhost:8080/"
        },
        "id": "g-4OiWr-PWys",
        "outputId": "2736047f-15bb-4817-b53c-3ced9afa66d5"
      },
      "source": [
        "z"
      ],
      "execution_count": null,
      "outputs": [
        {
          "output_type": "execute_result",
          "data": {
            "text/plain": [
              "tensor([[-0.0052, -0.8665,  0.9701, -1.5311,  0.3906, -0.7641,  0.1062, -1.3814],\n",
              "        [ 0.0789, -1.6968, -0.2207,  1.5098, -0.6114, -1.5097,  1.9319, -0.6095]])"
            ]
          },
          "metadata": {
            "tags": []
          },
          "execution_count": 35
        }
      ]
    },
    {
      "cell_type": "markdown",
      "metadata": {
        "id": "TTk6wlaQPoVM"
      },
      "source": [
        "### torch - numpy 변환"
      ]
    },
    {
      "cell_type": "code",
      "metadata": {
        "colab": {
          "base_uri": "https://localhost:8080/"
        },
        "id": "Eao5dyJoPq1H",
        "outputId": "eb1b2cd7-0439-45ac-e4f1-b54ad5c81188"
      },
      "source": [
        "import numpy as np\n",
        "\n",
        "a_np = np.ones(5)\n",
        "a_torch = torch.ones(5)\n",
        "\n",
        "#torch to numpy\n",
        "b_np = a_torch.numpy()\n",
        "print(b_np)\n",
        "\n",
        "#numpy to torch\n",
        "b_torch = torch.from_numpy(a_np)\n",
        "print(b_torch)"
      ],
      "execution_count": null,
      "outputs": [
        {
          "output_type": "stream",
          "text": [
            "[1. 1. 1. 1. 1.]\n",
            "tensor([1., 1., 1., 1., 1.], dtype=torch.float64)\n"
          ],
          "name": "stdout"
        }
      ]
    },
    {
      "cell_type": "markdown",
      "metadata": {
        "id": "C6nowMmmcJxj"
      },
      "source": [
        "### Datasets & Dataloaders"
      ]
    },
    {
      "cell_type": "markdown",
      "metadata": {
        "id": "NOClHHKWcT6p"
      },
      "source": [
        "```DataLoader```로 편하게 batch와 shuffle을 지정할 수 있다고 한다."
      ]
    },
    {
      "cell_type": "markdown",
      "metadata": {
        "id": "eNiLGjgiddLe"
      },
      "source": [
        "### Transforms"
      ]
    },
    {
      "cell_type": "markdown",
      "metadata": {
        "id": "YFsp-PYYdfVH"
      },
      "source": [
        "우리의 훈련에 맞게 데이터를 변환시켜주는 로직임."
      ]
    },
    {
      "cell_type": "markdown",
      "metadata": {
        "id": "Hr0bCTNtewwQ"
      },
      "source": [
        "## 01. Build the Neural Network"
      ]
    },
    {
      "cell_type": "markdown",
      "metadata": {
        "id": "7uebaHexe0En"
      },
      "source": [
        "```torch.nn```(Neural Network)를 통해서 모든 것들이 이뤄진다. nn.Module로 우리의 모델을 쌓는다고 생각하면 된다"
      ]
    },
    {
      "cell_type": "code",
      "metadata": {
        "colab": {
          "base_uri": "https://localhost:8080/"
        },
        "id": "l97LRy0MfJLZ",
        "outputId": "01947683-f61b-42ed-a9c9-78757b41322e"
      },
      "source": [
        "import os\n",
        "import torch\n",
        "from torch import nn\n",
        "from torch.utils.data import DataLoader\n",
        "from torchvision import datasets, transforms\n",
        "\n",
        "device = 'cuda' if torch.cuda.is_available() else 'cpu'\n",
        "print('Using {} device'.format(device)) #colab에서는 cuda를 사용할 수 있는 듯"
      ],
      "execution_count": null,
      "outputs": [
        {
          "output_type": "stream",
          "text": [
            "Using cuda device\n"
          ],
          "name": "stdout"
        }
      ]
    },
    {
      "cell_type": "markdown",
      "metadata": {
        "id": "iM4HzLv5fgBv"
      },
      "source": [
        "### 클래스 정의"
      ]
    },
    {
      "cell_type": "markdown",
      "metadata": {
        "id": "kwVB82r5fl2M"
      },
      "source": [
        "nn.Module의 subclassing을 통해서 우리의 nn을 구축해야 한다.\n",
        "\n",
        "모든 subclassed 모듈은 forward가 정의되어야 한다고 함."
      ]
    },
    {
      "cell_type": "code",
      "metadata": {
        "id": "bN1R9ab_f5EP"
      },
      "source": [
        "class NeuralNetwork(nn.Module) : \n",
        "  def __init__(self) : \n",
        "    super(NeuralNetwork, self).__init__() #NeuralNetwork를 가지고 온다.\n",
        "    self.flatten = nn.Flatten() #이제 이 클래스를 생성할 때, flatten을 생성해야 한다. \n",
        "    self.linear_relu_stack = nn.Sequential(\n",
        "                    nn.Linear(28*28, 512),\n",
        "            nn.ReLU(),\n",
        "            nn.Linear(512, 512),\n",
        "            nn.ReLU(),\n",
        "            nn.Linear(512, 10),\n",
        "            nn.ReLU()\n",
        "    )\n",
        "\n",
        "  #.forward 메서드를 활용할 수 있는 것이다. \n",
        "  def forward(self, x) : \n",
        "    x = self.flatten(x) #아마 input을 의미할 것이다. 결국 x부터 순전파가 시작되어야 하므로\n",
        "    logits = self.linear_relu_stack(x) #위에서 정의한 것을 사용\n",
        "    return logits\n"
      ],
      "execution_count": null,
      "outputs": []
    },
    {
      "cell_type": "markdown",
      "metadata": {
        "id": "o6_nk1LghAxq"
      },
      "source": [
        "class를 만들었으니 우리는 NeuralNetwork라는 인스턴스를 만들 수 있다. 이를 model이라는 객체에 보내본다.\n"
      ]
    },
    {
      "cell_type": "code",
      "metadata": {
        "colab": {
          "base_uri": "https://localhost:8080/"
        },
        "id": "0E-LsnwBhIHw",
        "outputId": "b1310c46-5bfd-4463-d3a8-666fcb5c57fb"
      },
      "source": [
        "model = NeuralNetwork().to(device)\n",
        "print(model)"
      ],
      "execution_count": null,
      "outputs": [
        {
          "output_type": "stream",
          "text": [
            "NeuralNetwork(\n",
            "  (flatten): Flatten(start_dim=1, end_dim=-1)\n",
            "  (linear_relu_stack): Sequential(\n",
            "    (0): Linear(in_features=784, out_features=512, bias=True)\n",
            "    (1): ReLU()\n",
            "    (2): Linear(in_features=512, out_features=512, bias=True)\n",
            "    (3): ReLU()\n",
            "    (4): Linear(in_features=512, out_features=10, bias=True)\n",
            "    (5): ReLU()\n",
            "  )\n",
            ")\n"
          ],
          "name": "stdout"
        }
      ]
    },
    {
      "cell_type": "code",
      "metadata": {
        "colab": {
          "base_uri": "https://localhost:8080/"
        },
        "id": "beoH1-57lJ-r",
        "outputId": "7e775878-eac9-49a8-db8c-bbced9c93944"
      },
      "source": [
        "x = torch.rand(1,28,28, device = device)\n",
        "#이렇게 데이터를 넣어주면 된다. model.forward()를 바로 call 해서는 안된다고 한다.\n",
        "logits = model(x)\n",
        "pred_probability = nn.Softmax(dim = 1)(logits)\n",
        "print(pred_probability)\n",
        "y_pred = pred_probability.argmax(1) #예측된 애들 중 가장 max값의 자리를 뽑아준다.\n",
        "print(f\"Predicted class: {y_pred}\")"
      ],
      "execution_count": null,
      "outputs": [
        {
          "output_type": "stream",
          "text": [
            "tensor([[0.1005, 0.0980, 0.0980, 0.0988, 0.0984, 0.1028, 0.1042, 0.0980, 0.1030,\n",
            "         0.0984]], device='cuda:0', grad_fn=<SoftmaxBackward>)\n",
            "Predicted class: tensor([6], device='cuda:0')\n"
          ],
          "name": "stdout"
        }
      ]
    },
    {
      "cell_type": "markdown",
      "metadata": {
        "id": "PbdAv6ieoE5K"
      },
      "source": [
        "### 모델 레이어"
      ]
    },
    {
      "cell_type": "markdown",
      "metadata": {
        "id": "Fu7_SBqEpNAs"
      },
      "source": [
        "layer에 대해서 살펴보는 section"
      ]
    },
    {
      "cell_type": "code",
      "metadata": {
        "colab": {
          "base_uri": "https://localhost:8080/"
        },
        "id": "Aa-VFrEEpRok",
        "outputId": "e01a0f68-5ca0-4a95-f112-c4c96c4994c2"
      },
      "source": [
        "input_image = torch.rand(3,28,28)\n",
        "print(input_image.size())"
      ],
      "execution_count": null,
      "outputs": [
        {
          "output_type": "stream",
          "text": [
            "torch.Size([3, 28, 28])\n"
          ],
          "name": "stdout"
        }
      ]
    },
    {
      "cell_type": "markdown",
      "metadata": {
        "id": "1vzbwatbpawE"
      },
      "source": [
        "1) nn.Flatten\n",
        "\n",
        "2D 28X28을 784의 픽셀로 변환시켜주는 층(신용평가 모형에서는 사용하지 않을 듯 싶다)"
      ]
    },
    {
      "cell_type": "code",
      "metadata": {
        "colab": {
          "base_uri": "https://localhost:8080/"
        },
        "id": "0YOXYbPgqalZ",
        "outputId": "edfea24c-b160-4b25-c98b-77cf3d664004"
      },
      "source": [
        "flatten = nn.Flatten()\n",
        "flat_image = flatten(input_image)\n",
        "print(flat_image.size())"
      ],
      "execution_count": null,
      "outputs": [
        {
          "output_type": "stream",
          "text": [
            "torch.Size([3, 784])\n"
          ],
          "name": "stdout"
        }
      ]
    },
    {
      "cell_type": "markdown",
      "metadata": {
        "id": "23t4MwTfqgw4"
      },
      "source": [
        "2) nn.Linear"
      ]
    },
    {
      "cell_type": "markdown",
      "metadata": {
        "id": "ECVkdopIqjXy"
      },
      "source": [
        "input을 linear combination으로 만들어주는 층! tensorflow의 Dense라고 생각하면 되지 않을까"
      ]
    },
    {
      "cell_type": "code",
      "metadata": {
        "colab": {
          "base_uri": "https://localhost:8080/"
        },
        "id": "Tlbafhe2qulJ",
        "outputId": "fc802ecf-5af2-4d24-a8dd-ab92703c2567"
      },
      "source": [
        "layer1 = nn.Linear(in_features=28*28, #들어오는 피쳐의 모양\n",
        "                   out_features= 20 )  #결과적으로 출력하는 데이터의 모양\n",
        "hidden1 = layer1(flat_image)  #이렇게 객체를 구축하고 이후에 데이터를 넣어도 되는 듯\n",
        "print(hidden1.size())\n",
        "#확실히 out neuron이 20으로 줄어들었다."
      ],
      "execution_count": null,
      "outputs": [
        {
          "output_type": "stream",
          "text": [
            "torch.Size([3, 20])\n"
          ],
          "name": "stdout"
        }
      ]
    },
    {
      "cell_type": "markdown",
      "metadata": {
        "id": "A_8jxMZrrMaG"
      },
      "source": [
        "3) nn.ReLU\n",
        "\n",
        "\n",
        "\n"
      ]
    },
    {
      "cell_type": "markdown",
      "metadata": {
        "id": "uYzR8YlVrSSs"
      },
      "source": [
        "linear 결합된 데이터를 활성화함수를 통해 다음 층으로 넘길 준비를 해야한다.\n",
        "\n",
        "다음 결과값에서 볼 수 있듯, ReLU치면 input이 0보다 크면 그대로, 0보다 작으면 0으로 만들어준다"
      ]
    },
    {
      "cell_type": "code",
      "metadata": {
        "colab": {
          "base_uri": "https://localhost:8080/"
        },
        "id": "tpW55LaIr8Mb",
        "outputId": "afed867a-c896-4b2b-fe83-2926edc06d5a"
      },
      "source": [
        "print(f\"Before ReLU: {hidden1}\\n\\n\")\n",
        "hidden1 = nn.ReLU()(hidden1)\n",
        "print(f\"After ReLU: {hidden1}\")"
      ],
      "execution_count": null,
      "outputs": [
        {
          "output_type": "stream",
          "text": [
            "Before ReLU: tensor([[ 0.4531,  0.2868,  0.6521, -0.0104, -0.1304,  0.3019, -0.1753, -0.7636,\n",
            "         -0.1414,  0.0111,  0.2135, -0.0786, -0.3138,  0.2846, -0.3343,  0.6432,\n",
            "          0.0766, -0.3644,  0.3334,  0.8441],\n",
            "        [ 0.3398,  0.2675,  0.3450, -0.0525,  0.2513,  0.1388, -0.0738, -0.3668,\n",
            "         -0.0509,  0.4824,  0.1312, -0.5371, -0.0148,  0.3241, -0.4197,  0.7596,\n",
            "          0.4527, -0.1869,  0.4113,  0.7505],\n",
            "        [ 0.6044,  0.6043,  0.5447, -0.2666,  0.3034, -0.2122, -0.2580, -0.1551,\n",
            "          0.3552,  0.2295,  0.2579, -0.3911, -0.3979,  0.0754, -0.3484,  0.3364,\n",
            "          0.2296, -0.2769,  0.1237,  0.6627]], grad_fn=<AddmmBackward>)\n",
            "\n",
            "\n",
            "After ReLU: tensor([[0.4531, 0.2868, 0.6521, 0.0000, 0.0000, 0.3019, 0.0000, 0.0000, 0.0000,\n",
            "         0.0111, 0.2135, 0.0000, 0.0000, 0.2846, 0.0000, 0.6432, 0.0766, 0.0000,\n",
            "         0.3334, 0.8441],\n",
            "        [0.3398, 0.2675, 0.3450, 0.0000, 0.2513, 0.1388, 0.0000, 0.0000, 0.0000,\n",
            "         0.4824, 0.1312, 0.0000, 0.0000, 0.3241, 0.0000, 0.7596, 0.4527, 0.0000,\n",
            "         0.4113, 0.7505],\n",
            "        [0.6044, 0.6043, 0.5447, 0.0000, 0.3034, 0.0000, 0.0000, 0.0000, 0.3552,\n",
            "         0.2295, 0.2579, 0.0000, 0.0000, 0.0754, 0.0000, 0.3364, 0.2296, 0.0000,\n",
            "         0.1237, 0.6627]], grad_fn=<ReluBackward0>)\n"
          ],
          "name": "stdout"
        }
      ]
    },
    {
      "cell_type": "markdown",
      "metadata": {
        "id": "zRyT0gVVsPsD"
      },
      "source": [
        "4) nn.sequential"
      ]
    },
    {
      "cell_type": "markdown",
      "metadata": {
        "id": "xT9exTsksUMT"
      },
      "source": [
        "우리가 쌓아온 층들을 모아두는 컨테이너 박스라고 생각하면 된다. 대신 순차적으로 쌓아두어야 함. "
      ]
    },
    {
      "cell_type": "code",
      "metadata": {
        "id": "TqnrFIW0scNk"
      },
      "source": [
        "seq_modules = nn.Sequential(\n",
        "    flatten,\n",
        "    layer1,\n",
        "    nn.ReLU(),\n",
        "    nn.Linear(20,10) #들어온 20개의 값들을 10개로 바꿔준다.\n",
        ")\n",
        "input_image = torch.rand(3, 28, 28)\n",
        "logits = seq_modules(input_image)"
      ],
      "execution_count": null,
      "outputs": []
    },
    {
      "cell_type": "markdown",
      "metadata": {
        "id": "kQeKCqUrtHw4"
      },
      "source": [
        "5) nn.Softmax"
      ]
    },
    {
      "cell_type": "markdown",
      "metadata": {
        "id": "FHOixmvStMK6"
      },
      "source": [
        "마지막 활성화 함수로서 출력함수라고도 한다"
      ]
    },
    {
      "cell_type": "code",
      "metadata": {
        "id": "FNWx5_iWtLPN"
      },
      "source": [
        "softmax = nn.Softmax(dim=1)\n",
        "pred_probab = softmax(logits)"
      ],
      "execution_count": null,
      "outputs": []
    },
    {
      "cell_type": "markdown",
      "metadata": {
        "id": "scAdYIJHue_r"
      },
      "source": [
        "6) Model Parameters"
      ]
    },
    {
      "cell_type": "markdown",
      "metadata": {
        "id": "rJkhopZyujbK"
      },
      "source": [
        "아주 편하게도 nn.Module은 자동적으로 우리의 모델을 보여주고 파라미터도 보여준다고 한다."
      ]
    },
    {
      "cell_type": "code",
      "metadata": {
        "colab": {
          "base_uri": "https://localhost:8080/"
        },
        "id": "q4pddryMuh6a",
        "outputId": "fc4f6c47-261b-4c72-c527-8e0951050f8a"
      },
      "source": [
        "print(\"Model structure: \", model, \"\\n\\n\")\n",
        "\n",
        "for name, param in model.named_parameters():\n",
        "    print(f\"Layer: {name} | Size: {param.size()} | Values : {param[:2]} \\n\")"
      ],
      "execution_count": null,
      "outputs": [
        {
          "output_type": "stream",
          "text": [
            "Model structure:  NeuralNetwork(\n",
            "  (flatten): Flatten(start_dim=1, end_dim=-1)\n",
            "  (linear_relu_stack): Sequential(\n",
            "    (0): Linear(in_features=784, out_features=512, bias=True)\n",
            "    (1): ReLU()\n",
            "    (2): Linear(in_features=512, out_features=512, bias=True)\n",
            "    (3): ReLU()\n",
            "    (4): Linear(in_features=512, out_features=10, bias=True)\n",
            "    (5): ReLU()\n",
            "  )\n",
            ") \n",
            "\n",
            "\n",
            "Layer: linear_relu_stack.0.weight | Size: torch.Size([512, 784]) | Values : tensor([[-0.0079,  0.0234,  0.0034,  ...,  0.0070, -0.0234, -0.0277],\n",
            "        [ 0.0063,  0.0215, -0.0172,  ...,  0.0092,  0.0245, -0.0258]],\n",
            "       device='cuda:0', grad_fn=<SliceBackward>) \n",
            "\n",
            "Layer: linear_relu_stack.0.bias | Size: torch.Size([512]) | Values : tensor([0.0056, 0.0070], device='cuda:0', grad_fn=<SliceBackward>) \n",
            "\n",
            "Layer: linear_relu_stack.2.weight | Size: torch.Size([512, 512]) | Values : tensor([[-0.0337, -0.0351,  0.0026,  ...,  0.0019, -0.0069, -0.0337],\n",
            "        [-0.0389,  0.0321,  0.0350,  ...,  0.0270,  0.0308, -0.0312]],\n",
            "       device='cuda:0', grad_fn=<SliceBackward>) \n",
            "\n",
            "Layer: linear_relu_stack.2.bias | Size: torch.Size([512]) | Values : tensor([0.0039, 0.0138], device='cuda:0', grad_fn=<SliceBackward>) \n",
            "\n",
            "Layer: linear_relu_stack.4.weight | Size: torch.Size([10, 512]) | Values : tensor([[-0.0438, -0.0255,  0.0085,  ...,  0.0432, -0.0174,  0.0285],\n",
            "        [ 0.0241, -0.0420,  0.0140,  ..., -0.0216,  0.0043, -0.0156]],\n",
            "       device='cuda:0', grad_fn=<SliceBackward>) \n",
            "\n",
            "Layer: linear_relu_stack.4.bias | Size: torch.Size([10]) | Values : tensor([-0.0318,  0.0062], device='cuda:0', grad_fn=<SliceBackward>) \n",
            "\n"
          ],
          "name": "stdout"
        }
      ]
    },
    {
      "cell_type": "markdown",
      "metadata": {
        "id": "7jTm0ayMQFeN"
      },
      "source": [
        "## 02. Autograd\n",
        "\n",
        "https://pytorch.org/tutorials/beginner/basics/autogradqs_tutorial.html"
      ]
    },
    {
      "cell_type": "markdown",
      "metadata": {
        "id": "rQKQyNEjyJlR"
      },
      "source": [
        "역전파 알고리즘을 수월하게 수행해주는 function\n",
        "\n",
        "built-in 된 자동 미분 함수인데, 미분할 수 있는 그래프에서는 모두 자동으로 계산해 줌"
      ]
    },
    {
      "cell_type": "code",
      "metadata": {
        "id": "LmPrt5Xkxicq"
      },
      "source": [
        "import torch\n",
        "\n",
        "x = torch.ones(5)  # input tensor\n",
        "y = torch.zeros(3)  # expected output\n",
        "w = torch.randn(5, 3, requires_grad=True)\n",
        "b = torch.randn(3, requires_grad=True)\n",
        "z = torch.matmul(x, w)+b #Matrix product of two tensors.\n",
        "loss = torch.nn.functional.binary_cross_entropy_with_logits(z, y)"
      ],
      "execution_count": 11,
      "outputs": []
    },
    {
      "cell_type": "markdown",
      "metadata": {
        "id": "c5WbjNNDx7yw"
      },
      "source": [
        "<img src=\"https://pytorch.org/tutorials/_images/comp-graph.png\">\n",
        "\n",
        "출처 : https://pytorch.org/tutorials/beginner/basics/autogradqs_tutorial.html"
      ]
    },
    {
      "cell_type": "code",
      "metadata": {
        "id": "06vo1hqbzK-l",
        "colab": {
          "base_uri": "https://localhost:8080/"
        },
        "outputId": "4cf6d623-ef42-4c2e-e0a6-d45420e15e9e"
      },
      "source": [
        "print('Gradient function for z =',z.grad_fn)\n",
        "print('Gradient function for loss =', loss.grad_fn)"
      ],
      "execution_count": 12,
      "outputs": [
        {
          "output_type": "stream",
          "text": [
            "Gradient function for z = <AddBackward0 object at 0x7f1886f130d0>\n",
            "Gradient function for loss = <BinaryCrossEntropyWithLogitsBackward object at 0x7f1886f13110>\n"
          ],
          "name": "stdout"
        }
      ]
    },
    {
      "cell_type": "markdown",
      "metadata": {
        "id": "Din-dNptNln_"
      },
      "source": [
        "### Computing Gradients"
      ]
    },
    {
      "cell_type": "markdown",
      "metadata": {
        "id": "AUUss2IMOoHW"
      },
      "source": [
        "우리는 loss를 가중치로 미분을 하고, loss를 편향으로 미분을 해야하는, 두번의 미분이 필요하게 된다.\n",
        "\n",
        "loss.backward()를 해주면, 각각의 gradient를 구할 수 있다.\n",
        "\n",
        "이 경우 w.grad와 b.grad로 gradient를 구할 수 있다.\n",
        "\n",
        "> 주의할 것은 같은 graph에서 backward를 여러번 할 수 없다는 것. 하고 싶다면 retain_graph = True를 해줘야 한다.(근데 해보면 값이 달라진다)\n",
        "\n",
        "> 이렇게 값이 달라지는 이유는, Pytorch는 ```backward``` 에서 gradient를 계속 누적하기 때문이라고 함.\n",
        "\n",
        "> 따라서 알맞는 gradient를 구하기 위해서는, gradient를 다시 0으로 맞춰줘야 한다고 함. 실제 상황에서는 *Optimizer*가 우리를 도와줄 것이라고 하는데...\n",
        "\n",
        "> "
      ]
    },
    {
      "cell_type": "code",
      "metadata": {
        "colab": {
          "base_uri": "https://localhost:8080/"
        },
        "id": "b1V6SjLCOO_t",
        "outputId": "1079b93b-d927-4369-fe69-25574d7d2cf8"
      },
      "source": [
        "#x의 경우 requires_grad = True로 해두지 않았기 때문에 grad를 뽑지 못한다.\n",
        "loss.backward(retain_graph=True)\n",
        "print(w.grad)\n",
        "print(b.grad)"
      ],
      "execution_count": 24,
      "outputs": [
        {
          "output_type": "stream",
          "text": [
            "tensor([[3.8056, 1.7441, 3.8606],\n",
            "        [3.8056, 1.7441, 3.8606],\n",
            "        [3.8056, 1.7441, 3.8606],\n",
            "        [3.8056, 1.7441, 3.8606],\n",
            "        [3.8056, 1.7441, 3.8606]])\n",
            "tensor([3.8056, 1.7441, 3.8606])\n"
          ],
          "name": "stdout"
        }
      ]
    },
    {
      "cell_type": "markdown",
      "metadata": {
        "id": "oOSjMsb3RxGX"
      },
      "source": [
        "### Disabling Gradient Tracking"
      ]
    },
    {
      "cell_type": "markdown",
      "metadata": {
        "id": "U-fIUSZvSJ5t"
      },
      "source": [
        "모형을 학습시킨 뒤, input을 단순히 forwarding만 하고 싶을 경우가 있을 것이다. 그때 ```torch.no_grad()```를 사용함\n",
        "\n",
        "1. 몇몇 파라미터를 고정하고 싶을 때\n",
        "\n",
        "2. 단순히 포워딩만 사용할 때 계산시간을 단축시킬 수 있음"
      ]
    },
    {
      "cell_type": "code",
      "metadata": {
        "colab": {
          "base_uri": "https://localhost:8080/"
        },
        "id": "4PdYtUSFRz_1",
        "outputId": "f334d891-9356-47e2-a9e1-a4b50bc53cec"
      },
      "source": [
        "z = torch.matmul(x, w)+b\n",
        "print(z.requires_grad)\n",
        "\n",
        "with torch.no_grad(): #이거로 감싸주는 것이다.\n",
        "    z = torch.matmul(x, w)+b\n",
        "print(z.requires_grad)"
      ],
      "execution_count": 25,
      "outputs": [
        {
          "output_type": "stream",
          "text": [
            "True\n",
            "False\n"
          ],
          "name": "stdout"
        }
      ]
    },
    {
      "cell_type": "markdown",
      "metadata": {
        "id": "6ddCkOE_SX0W"
      },
      "source": [
        "```detach```메서드를 사용하는 것도 한 방법"
      ]
    },
    {
      "cell_type": "code",
      "metadata": {
        "colab": {
          "base_uri": "https://localhost:8080/"
        },
        "id": "lrxtcWOZSejJ",
        "outputId": "1f6d00c2-06df-4940-d92d-6d5dfcdf0de1"
      },
      "source": [
        "z = torch.matmul(x, w)+b\n",
        "z_det = z.detach() #이렇게 떼어준 객채를 만든다. 아마 이 방법이 더 편할지도?\n",
        "print(z_det.requires_grad)"
      ],
      "execution_count": 26,
      "outputs": [
        {
          "output_type": "stream",
          "text": [
            "False\n"
          ],
          "name": "stdout"
        }
      ]
    },
    {
      "cell_type": "markdown",
      "metadata": {
        "id": "kh0vAhMdSjBt"
      },
      "source": [
        "## 03. Optimization"
      ]
    },
    {
      "cell_type": "code",
      "metadata": {
        "colab": {
          "base_uri": "https://localhost:8080/",
          "height": 587,
          "referenced_widgets": [
            "55bdc06355b24526945d0b55fa7bb79d",
            "79c991c4b2264ced80909ee29e9b5aef",
            "c8122252a8af46059ce7f6721ed4b8cd",
            "897a84c48a124b3e88b520bd5d0d3db2",
            "0953f321a26341239095ba2e59a83d2d",
            "2a54527fbd694541b5c68df388399c42",
            "d5fd7b58df4e44a9a8e4220823b4dad5",
            "5d1a99af408c470c9cb269720d5b32b8",
            "dba7c2c0cc5f43c882cb6e72f1204b99",
            "0313fdb95bd543d4a33ea744cfb91478",
            "e82ab9d27ab0435aa419705f6d5567b6",
            "4944e74fbd9646a48e4a0c2cb8504f38",
            "c8b49cc8383840f1a9adb8900de700e1",
            "42536fe10baa4ee0a26718f6a2f176da",
            "e70934e2a8ad4f95bbf9221add80a82e",
            "c7f5c9d8776f422489bec4d4c0b7736d",
            "05b489e81b0540839073d63217411dcf",
            "c1d58ae5a2bb440e839b7a0b859d5e7e",
            "7767522820744de6af9a4d937ec8ca8a",
            "af5034af2ccf405e9218178130d14394",
            "52578fbbadc24a9f8738aa0fcdf2c6d5",
            "144ac94fc9e24f3f90f58751c0b94b70",
            "ba729b35d3cb49a19bc98a8cc5421467",
            "b54d452929754ac885853f6390be6406",
            "349369b12787400ca1920c7a67b21f58",
            "2f3c64053ae74611b7fa2f1522d2defb",
            "c27bf3240b214c358c4da6c37bc9d8ca",
            "bc4b5c0a0e264d5c98f2274c1d519238",
            "90845fd67b1949a882942f00d007a74e",
            "b79aba3bfd8e4970a6bd628a45b783d8",
            "4402c88af444471a82a9ec1e9244aee4",
            "50e05541d44a4549a27b4396afb1127b"
          ]
        },
        "id": "dRpQC_7jUhz2",
        "outputId": "0c7aa877-ca38-4377-a3f2-c748793697f7"
      },
      "source": [
        "import torch\n",
        "from torch import nn\n",
        "from torch.utils.data import DataLoader\n",
        "from torchvision import datasets\n",
        "from torchvision.transforms import ToTensor, Lambda\n",
        "\n",
        "training_data = datasets.FashionMNIST(\n",
        "    root=\"data\",\n",
        "    train=True,\n",
        "    download=True,\n",
        "    transform=ToTensor()\n",
        ")\n",
        "\n",
        "test_data = datasets.FashionMNIST(\n",
        "    root=\"data\",\n",
        "    train=False,\n",
        "    download=True,\n",
        "    transform=ToTensor()\n",
        ")\n",
        "\n",
        "train_dataloader = DataLoader(training_data, batch_size=64)\n",
        "test_dataloader = DataLoader(test_data, batch_size=64)\n",
        "\n",
        "class NeuralNetwork(nn.Module):\n",
        "    def __init__(self):\n",
        "        super(NeuralNetwork, self).__init__()\n",
        "        self.flatten = nn.Flatten()\n",
        "        self.linear_relu_stack = nn.Sequential(\n",
        "            nn.Linear(28*28, 512),\n",
        "            nn.ReLU(),\n",
        "            nn.Linear(512, 512),\n",
        "            nn.ReLU(),\n",
        "            nn.Linear(512, 10),\n",
        "            nn.ReLU()\n",
        "        )\n",
        "\n",
        "    def forward(self, x):\n",
        "        x = self.flatten(x)\n",
        "        logits = self.linear_relu_stack(x)\n",
        "        return logits\n",
        "\n",
        "model = NeuralNetwork()"
      ],
      "execution_count": 27,
      "outputs": [
        {
          "output_type": "stream",
          "text": [
            "Downloading http://fashion-mnist.s3-website.eu-central-1.amazonaws.com/train-images-idx3-ubyte.gz\n",
            "Downloading http://fashion-mnist.s3-website.eu-central-1.amazonaws.com/train-images-idx3-ubyte.gz to data/FashionMNIST/raw/train-images-idx3-ubyte.gz\n"
          ],
          "name": "stdout"
        },
        {
          "output_type": "display_data",
          "data": {
            "application/vnd.jupyter.widget-view+json": {
              "model_id": "55bdc06355b24526945d0b55fa7bb79d",
              "version_minor": 0,
              "version_major": 2
            },
            "text/plain": [
              "HBox(children=(FloatProgress(value=0.0, max=26421880.0), HTML(value='')))"
            ]
          },
          "metadata": {
            "tags": []
          }
        },
        {
          "output_type": "stream",
          "text": [
            "\n",
            "Extracting data/FashionMNIST/raw/train-images-idx3-ubyte.gz to data/FashionMNIST/raw\n",
            "\n",
            "Downloading http://fashion-mnist.s3-website.eu-central-1.amazonaws.com/train-labels-idx1-ubyte.gz\n",
            "Downloading http://fashion-mnist.s3-website.eu-central-1.amazonaws.com/train-labels-idx1-ubyte.gz to data/FashionMNIST/raw/train-labels-idx1-ubyte.gz\n"
          ],
          "name": "stdout"
        },
        {
          "output_type": "display_data",
          "data": {
            "application/vnd.jupyter.widget-view+json": {
              "model_id": "dba7c2c0cc5f43c882cb6e72f1204b99",
              "version_minor": 0,
              "version_major": 2
            },
            "text/plain": [
              "HBox(children=(FloatProgress(value=0.0, max=29515.0), HTML(value='')))"
            ]
          },
          "metadata": {
            "tags": []
          }
        },
        {
          "output_type": "stream",
          "text": [
            "\n",
            "Extracting data/FashionMNIST/raw/train-labels-idx1-ubyte.gz to data/FashionMNIST/raw\n",
            "\n",
            "Downloading http://fashion-mnist.s3-website.eu-central-1.amazonaws.com/t10k-images-idx3-ubyte.gz\n",
            "Downloading http://fashion-mnist.s3-website.eu-central-1.amazonaws.com/t10k-images-idx3-ubyte.gz to data/FashionMNIST/raw/t10k-images-idx3-ubyte.gz\n"
          ],
          "name": "stdout"
        },
        {
          "output_type": "display_data",
          "data": {
            "application/vnd.jupyter.widget-view+json": {
              "model_id": "05b489e81b0540839073d63217411dcf",
              "version_minor": 0,
              "version_major": 2
            },
            "text/plain": [
              "HBox(children=(FloatProgress(value=0.0, max=4422102.0), HTML(value='')))"
            ]
          },
          "metadata": {
            "tags": []
          }
        },
        {
          "output_type": "stream",
          "text": [
            "\n",
            "Extracting data/FashionMNIST/raw/t10k-images-idx3-ubyte.gz to data/FashionMNIST/raw\n",
            "\n",
            "Downloading http://fashion-mnist.s3-website.eu-central-1.amazonaws.com/t10k-labels-idx1-ubyte.gz\n",
            "Downloading http://fashion-mnist.s3-website.eu-central-1.amazonaws.com/t10k-labels-idx1-ubyte.gz to data/FashionMNIST/raw/t10k-labels-idx1-ubyte.gz\n"
          ],
          "name": "stdout"
        },
        {
          "output_type": "display_data",
          "data": {
            "application/vnd.jupyter.widget-view+json": {
              "model_id": "349369b12787400ca1920c7a67b21f58",
              "version_minor": 0,
              "version_major": 2
            },
            "text/plain": [
              "HBox(children=(FloatProgress(value=0.0, max=5148.0), HTML(value='')))"
            ]
          },
          "metadata": {
            "tags": []
          }
        },
        {
          "output_type": "stream",
          "text": [
            "\n",
            "Extracting data/FashionMNIST/raw/t10k-labels-idx1-ubyte.gz to data/FashionMNIST/raw\n",
            "\n",
            "Processing...\n",
            "Done!\n"
          ],
          "name": "stdout"
        },
        {
          "output_type": "stream",
          "text": [
            "/usr/local/lib/python3.7/dist-packages/torchvision/datasets/mnist.py:502: UserWarning: The given NumPy array is not writeable, and PyTorch does not support non-writeable tensors. This means you can write to the underlying (supposedly non-writeable) NumPy array using the tensor. You may want to copy the array to protect its data or make it writeable before converting it to a tensor. This type of warning will be suppressed for the rest of this program. (Triggered internally at  /pytorch/torch/csrc/utils/tensor_numpy.cpp:143.)\n",
            "  return torch.from_numpy(parsed.astype(m[2], copy=False)).view(*s)\n"
          ],
          "name": "stderr"
        }
      ]
    },
    {
      "cell_type": "markdown",
      "metadata": {
        "id": "4Jq9g6aiWi7Z"
      },
      "source": [
        "### Hyperparameters"
      ]
    },
    {
      "cell_type": "markdown",
      "metadata": {
        "id": "CpaUt9BiWmVP"
      },
      "source": [
        "- epoch의 수\n",
        "- batch size : 한 epoch에 들어갈 데이터 \n",
        "- learning rate\n"
      ]
    },
    {
      "cell_type": "code",
      "metadata": {
        "id": "F5hvz-rYWlEm"
      },
      "source": [
        "learning_rate = 1e-3\n",
        "batch_size = 64\n",
        "epochs = 5"
      ],
      "execution_count": 28,
      "outputs": []
    },
    {
      "cell_type": "markdown",
      "metadata": {
        "id": "wIfxKl1zW1ZX"
      },
      "source": [
        "학습 epoch는 두 과정으로 진행된다고 함.\n",
        "\n",
        "- The Train Loop : \n",
        "\n",
        "- The validation Loop : "
      ]
    },
    {
      "cell_type": "markdown",
      "metadata": {
        "id": "1GpqtC6sXgX5"
      },
      "source": [
        "### Loss function"
      ]
    },
    {
      "cell_type": "markdown",
      "metadata": {
        "id": "CdFF4Pi1XiPG"
      },
      "source": [
        "학습을 진행하면서 최소화 하고자 하는 함수. \n",
        "\n",
        "우리의 모형을 태워 만든 예측값과 실제값의 차이를 최대한 줄이려고 함"
      ]
    },
    {
      "cell_type": "code",
      "metadata": {
        "id": "Hm-TM6OhXzLp"
      },
      "source": [
        "loss_fn = nn.CrossEntropyLoss()"
      ],
      "execution_count": 30,
      "outputs": []
    },
    {
      "cell_type": "markdown",
      "metadata": {
        "id": "DfJ7iqRxX3Ro"
      },
      "source": [
        "### Optimizer(최적화기)"
      ]
    },
    {
      "cell_type": "code",
      "metadata": {
        "id": "tiNf8ccuX51u"
      },
      "source": [
        "optimizer = torch.optim.SGD(model.parateters(), lr = learning_rate)\n",
        "# 여기서는 lbfgs도 된다. \n",
        "# torch.optim.LBFGS()"
      ],
      "execution_count": null,
      "outputs": []
    },
    {
      "cell_type": "markdown",
      "metadata": {
        "id": "UaKiyyvdYYUG"
      },
      "source": [
        "- ```optimizer.zero_grad()```를 사용해서 위에서 생긴 역전파의 문제를 해결해야 한다. 이걸 안 해주면 계속해서 더해지게 된다. (가중치가 누적되는 Pytorch의 특성은, 추후 RNN에서 도움이 된다고 한다.)\n",
        "\n",
        "- ```loss.backwards()```로 역전파를 진행해준다.\n",
        "\n",
        "- 기울기를 구했다면, ```optimizer.step()```을 통해 구해진 기울기로 parameter들을 조정해준다.(아마 여기서 파라미터는 가중치를 말하는 것일듯)"
      ]
    },
    {
      "cell_type": "markdown",
      "metadata": {
        "id": "ZfML9mwOaChX"
      },
      "source": [
        "### Implementation"
      ]
    },
    {
      "cell_type": "code",
      "metadata": {
        "id": "PK-YsmJ4aFo-"
      },
      "source": [
        "def train_loop(dataloader, mode, loss_fn, optimizer) : \n",
        "  size = len(dataloader.dataset)\n",
        "  for batch, (x,y) in enumerate(dataloader) : \n",
        "    #forward를 진행\n",
        "    pred = model(x)\n",
        "\n",
        "    #지정해준 loss_fn으로 계산\n",
        "    loss = loss_fn(pred, y)\n",
        "\n",
        "    #역전파\n",
        "    optimizer.zero_grad() #가중치 초기화\n",
        "    loss.backward()\n",
        "    optimizer.step()\n",
        "\n",
        "    if batch % 100 == 0:\n",
        "      loss, current = loss.item(), batch * len(x)\n",
        "      print(f\"loss: {loss:>7f}  [{current:>5d}/{size:>5d}]\")\n",
        "\n",
        "def test_loop(dataloader, model, loss_fn):\n",
        "    size = len(dataloader.dataset)\n",
        "    test_loss, correct = 0, 0\n",
        "\n",
        "    with torch.no_grad():\n",
        "        for x, y in dataloader:\n",
        "            pred = model(x)\n",
        "            test_loss += loss_fn(pred, y).item()\n",
        "            correct += (pred.argmax(1) == y).type(torch.float).sum().item()\n",
        "\n",
        "    test_loss /= size\n",
        "    correct /= size\n",
        "    print(f\"Test Error: \\n Accuracy: {(100*correct):>0.1f}%, Avg loss: {test_loss:>8f} \\n\")"
      ],
      "execution_count": 38,
      "outputs": []
    },
    {
      "cell_type": "code",
      "metadata": {
        "colab": {
          "base_uri": "https://localhost:8080/"
        },
        "id": "JeC6c5e_c-b4",
        "outputId": "0fe8fa38-a854-44d7-df29-662da4475877"
      },
      "source": [
        "loss_fn = nn.CrossEntropyLoss()\n",
        "optimizer = torch.optim.SGD(model.parameters(), lr=learning_rate)\n",
        "epochs = 10\n",
        "\n",
        "for t in range(epochs):\n",
        "    print(f\"Epoch {t+1}\\n-------------------------------\")\n",
        "    train_loop(train_dataloader, model, loss_fn, optimizer)\n",
        "    test_loop(test_dataloader, model, loss_fn)\n",
        "print(\"Done!\")\n"
      ],
      "execution_count": 39,
      "outputs": [
        {
          "output_type": "stream",
          "text": [
            "Epoch 1\n",
            "-------------------------------\n",
            "loss: 2.305079  [    0/60000]\n",
            "loss: 2.296262  [ 6400/60000]\n",
            "loss: 2.292182  [12800/60000]\n",
            "loss: 2.279119  [19200/60000]\n",
            "loss: 2.272808  [25600/60000]\n",
            "loss: 2.264206  [32000/60000]\n",
            "loss: 2.257181  [38400/60000]\n",
            "loss: 2.252377  [44800/60000]\n",
            "loss: 2.232034  [51200/60000]\n",
            "loss: 2.212020  [57600/60000]\n",
            "Test Error: \n",
            " Accuracy: 47.7%, Avg loss: 0.034889 \n",
            "\n",
            "Epoch 2\n",
            "-------------------------------\n",
            "loss: 2.243945  [    0/60000]\n",
            "loss: 2.242600  [ 6400/60000]\n",
            "loss: 2.226997  [12800/60000]\n",
            "loss: 2.200779  [19200/60000]\n",
            "loss: 2.189287  [25600/60000]\n",
            "loss: 2.180068  [32000/60000]\n",
            "loss: 2.164477  [38400/60000]\n",
            "loss: 2.161250  [44800/60000]\n",
            "loss: 2.131160  [51200/60000]\n",
            "loss: 2.083040  [57600/60000]\n",
            "Test Error: \n",
            " Accuracy: 49.5%, Avg loss: 0.033144 \n",
            "\n",
            "Epoch 3\n",
            "-------------------------------\n",
            "loss: 2.167981  [    0/60000]\n",
            "loss: 2.165261  [ 6400/60000]\n",
            "loss: 2.138304  [12800/60000]\n",
            "loss: 2.077301  [19200/60000]\n",
            "loss: 2.061318  [25600/60000]\n",
            "loss: 2.066042  [32000/60000]\n",
            "loss: 2.021478  [38400/60000]\n",
            "loss: 2.033834  [44800/60000]\n",
            "loss: 1.987516  [51200/60000]\n",
            "loss: 1.898580  [57600/60000]\n",
            "Test Error: \n",
            " Accuracy: 50.0%, Avg loss: 0.030724 \n",
            "\n",
            "Epoch 4\n",
            "-------------------------------\n",
            "loss: 2.072491  [    0/60000]\n",
            "loss: 2.062268  [ 6400/60000]\n",
            "loss: 2.028367  [12800/60000]\n",
            "loss: 1.913724  [19200/60000]\n",
            "loss: 1.902158  [25600/60000]\n",
            "loss: 1.940165  [32000/60000]\n",
            "loss: 1.851271  [38400/60000]\n",
            "loss: 1.896984  [44800/60000]\n",
            "loss: 1.837671  [51200/60000]\n",
            "loss: 1.713433  [57600/60000]\n",
            "Test Error: \n",
            " Accuracy: 50.7%, Avg loss: 0.028330 \n",
            "\n",
            "Epoch 5\n",
            "-------------------------------\n",
            "loss: 1.976004  [    0/60000]\n",
            "loss: 1.959697  [ 6400/60000]\n",
            "loss: 1.926706  [12800/60000]\n",
            "loss: 1.769165  [19200/60000]\n",
            "loss: 1.758859  [25600/60000]\n",
            "loss: 1.827889  [32000/60000]\n",
            "loss: 1.712575  [38400/60000]\n",
            "loss: 1.786834  [44800/60000]\n",
            "loss: 1.717370  [51200/60000]\n",
            "loss: 1.578459  [57600/60000]\n",
            "Test Error: \n",
            " Accuracy: 52.3%, Avg loss: 0.026465 \n",
            "\n",
            "Epoch 6\n",
            "-------------------------------\n",
            "loss: 1.885709  [    0/60000]\n",
            "loss: 1.869606  [ 6400/60000]\n",
            "loss: 1.831687  [12800/60000]\n",
            "loss: 1.661515  [19200/60000]\n",
            "loss: 1.641871  [25600/60000]\n",
            "loss: 1.728333  [32000/60000]\n",
            "loss: 1.590610  [38400/60000]\n",
            "loss: 1.684319  [44800/60000]\n",
            "loss: 1.601621  [51200/60000]\n",
            "loss: 1.411431  [57600/60000]\n",
            "Test Error: \n",
            " Accuracy: 53.5%, Avg loss: 0.024157 \n",
            "\n",
            "Epoch 7\n",
            "-------------------------------\n",
            "loss: 1.731584  [    0/60000]\n",
            "loss: 1.739227  [ 6400/60000]\n",
            "loss: 1.667042  [12800/60000]\n",
            "loss: 1.527190  [19200/60000]\n",
            "loss: 1.492904  [25600/60000]\n",
            "loss: 1.621010  [32000/60000]\n",
            "loss: 1.468788  [38400/60000]\n",
            "loss: 1.597133  [44800/60000]\n",
            "loss: 1.515969  [51200/60000]\n",
            "loss: 1.302750  [57600/60000]\n",
            "Test Error: \n",
            " Accuracy: 54.7%, Avg loss: 0.022609 \n",
            "\n",
            "Epoch 8\n",
            "-------------------------------\n",
            "loss: 1.633706  [    0/60000]\n",
            "loss: 1.656331  [ 6400/60000]\n",
            "loss: 1.566936  [12800/60000]\n",
            "loss: 1.443770  [19200/60000]\n",
            "loss: 1.403365  [25600/60000]\n",
            "loss: 1.536787  [32000/60000]\n",
            "loss: 1.396344  [38400/60000]\n",
            "loss: 1.525727  [44800/60000]\n",
            "loss: 1.445834  [51200/60000]\n",
            "loss: 1.238091  [57600/60000]\n",
            "Test Error: \n",
            " Accuracy: 55.5%, Avg loss: 0.021509 \n",
            "\n",
            "Epoch 9\n",
            "-------------------------------\n",
            "loss: 1.554179  [    0/60000]\n",
            "loss: 1.592022  [ 6400/60000]\n",
            "loss: 1.482458  [12800/60000]\n",
            "loss: 1.382123  [19200/60000]\n",
            "loss: 1.338131  [25600/60000]\n",
            "loss: 1.469142  [32000/60000]\n",
            "loss: 1.341761  [38400/60000]\n",
            "loss: 1.469477  [44800/60000]\n",
            "loss: 1.390691  [51200/60000]\n",
            "loss: 1.191396  [57600/60000]\n",
            "Test Error: \n",
            " Accuracy: 56.2%, Avg loss: 0.020675 \n",
            "\n",
            "Epoch 10\n",
            "-------------------------------\n",
            "loss: 1.488524  [    0/60000]\n",
            "loss: 1.541269  [ 6400/60000]\n",
            "loss: 1.413914  [12800/60000]\n",
            "loss: 1.334448  [19200/60000]\n",
            "loss: 1.288863  [25600/60000]\n",
            "loss: 1.416190  [32000/60000]\n",
            "loss: 1.297640  [38400/60000]\n",
            "loss: 1.425384  [44800/60000]\n",
            "loss: 1.345623  [51200/60000]\n",
            "loss: 1.155801  [57600/60000]\n",
            "Test Error: \n",
            " Accuracy: 57.0%, Avg loss: 0.020025 \n",
            "\n",
            "Done!\n"
          ],
          "name": "stdout"
        }
      ]
    },
    {
      "cell_type": "markdown",
      "metadata": {
        "id": "U2WmR-S2dQ1Q"
      },
      "source": [
        "## 04. Save and Load the Model"
      ]
    },
    {
      "cell_type": "code",
      "metadata": {
        "id": "MrctVpXBhcLq"
      },
      "source": [
        "import torch\n",
        "import torch.onnx as onnx\n",
        "import torchvision.models as models"
      ],
      "execution_count": 42,
      "outputs": []
    },
    {
      "cell_type": "markdown",
      "metadata": {
        "id": "WMmYBs7xhewJ"
      },
      "source": [
        "### saving and loading model weights"
      ]
    },
    {
      "cell_type": "code",
      "metadata": {
        "colab": {
          "base_uri": "https://localhost:8080/",
          "height": 104,
          "referenced_widgets": [
            "1c111a6436594713ac3c05b76fa63673",
            "0a0e127e54c947f0ba6ce220b6afc12d",
            "0b45a773650347308099f851437b1d50",
            "056eee58073d4a46bbb777b9cc13af97",
            "a64f1fb01de749a58a915fab006ba541",
            "c43804c427b042d482c3377613d3367a",
            "ce886809de4c45a79b5462b15bdbfebf",
            "a17d5971026e4d129213470c833fdb93"
          ]
        },
        "id": "_H0QYQ3wdtrH",
        "outputId": "34b86088-6563-48d2-a6ee-94a367a9b082"
      },
      "source": [
        "model = models.vgg16(pretrained=True)\n",
        "torch.save(model.state_dict(), 'model_weights.pth')"
      ],
      "execution_count": 41,
      "outputs": [
        {
          "output_type": "stream",
          "text": [
            "Downloading: \"https://download.pytorch.org/models/vgg16-397923af.pth\" to /root/.cache/torch/hub/checkpoints/vgg16-397923af.pth\n"
          ],
          "name": "stderr"
        },
        {
          "output_type": "display_data",
          "data": {
            "application/vnd.jupyter.widget-view+json": {
              "model_id": "1c111a6436594713ac3c05b76fa63673",
              "version_minor": 0,
              "version_major": 2
            },
            "text/plain": [
              "HBox(children=(FloatProgress(value=0.0, max=553433881.0), HTML(value='')))"
            ]
          },
          "metadata": {
            "tags": []
          }
        },
        {
          "output_type": "stream",
          "text": [
            "\n"
          ],
          "name": "stdout"
        }
      ]
    },
    {
      "cell_type": "code",
      "metadata": {
        "colab": {
          "base_uri": "https://localhost:8080/"
        },
        "id": "gKXZgqH2hkhB",
        "outputId": "96e710eb-fdfd-40db-d719-ddb787dfa6e0"
      },
      "source": [
        "model = models.vgg16() # we do not specify pretrained=True, i.e. do not load default weights\n",
        "model.load_state_dict(torch.load('model_weights.pth'))\n",
        "model.eval() #이것을 꼭 진행해줘야 한다고 함함"
      ],
      "execution_count": 43,
      "outputs": [
        {
          "output_type": "execute_result",
          "data": {
            "text/plain": [
              "VGG(\n",
              "  (features): Sequential(\n",
              "    (0): Conv2d(3, 64, kernel_size=(3, 3), stride=(1, 1), padding=(1, 1))\n",
              "    (1): ReLU(inplace=True)\n",
              "    (2): Conv2d(64, 64, kernel_size=(3, 3), stride=(1, 1), padding=(1, 1))\n",
              "    (3): ReLU(inplace=True)\n",
              "    (4): MaxPool2d(kernel_size=2, stride=2, padding=0, dilation=1, ceil_mode=False)\n",
              "    (5): Conv2d(64, 128, kernel_size=(3, 3), stride=(1, 1), padding=(1, 1))\n",
              "    (6): ReLU(inplace=True)\n",
              "    (7): Conv2d(128, 128, kernel_size=(3, 3), stride=(1, 1), padding=(1, 1))\n",
              "    (8): ReLU(inplace=True)\n",
              "    (9): MaxPool2d(kernel_size=2, stride=2, padding=0, dilation=1, ceil_mode=False)\n",
              "    (10): Conv2d(128, 256, kernel_size=(3, 3), stride=(1, 1), padding=(1, 1))\n",
              "    (11): ReLU(inplace=True)\n",
              "    (12): Conv2d(256, 256, kernel_size=(3, 3), stride=(1, 1), padding=(1, 1))\n",
              "    (13): ReLU(inplace=True)\n",
              "    (14): Conv2d(256, 256, kernel_size=(3, 3), stride=(1, 1), padding=(1, 1))\n",
              "    (15): ReLU(inplace=True)\n",
              "    (16): MaxPool2d(kernel_size=2, stride=2, padding=0, dilation=1, ceil_mode=False)\n",
              "    (17): Conv2d(256, 512, kernel_size=(3, 3), stride=(1, 1), padding=(1, 1))\n",
              "    (18): ReLU(inplace=True)\n",
              "    (19): Conv2d(512, 512, kernel_size=(3, 3), stride=(1, 1), padding=(1, 1))\n",
              "    (20): ReLU(inplace=True)\n",
              "    (21): Conv2d(512, 512, kernel_size=(3, 3), stride=(1, 1), padding=(1, 1))\n",
              "    (22): ReLU(inplace=True)\n",
              "    (23): MaxPool2d(kernel_size=2, stride=2, padding=0, dilation=1, ceil_mode=False)\n",
              "    (24): Conv2d(512, 512, kernel_size=(3, 3), stride=(1, 1), padding=(1, 1))\n",
              "    (25): ReLU(inplace=True)\n",
              "    (26): Conv2d(512, 512, kernel_size=(3, 3), stride=(1, 1), padding=(1, 1))\n",
              "    (27): ReLU(inplace=True)\n",
              "    (28): Conv2d(512, 512, kernel_size=(3, 3), stride=(1, 1), padding=(1, 1))\n",
              "    (29): ReLU(inplace=True)\n",
              "    (30): MaxPool2d(kernel_size=2, stride=2, padding=0, dilation=1, ceil_mode=False)\n",
              "  )\n",
              "  (avgpool): AdaptiveAvgPool2d(output_size=(7, 7))\n",
              "  (classifier): Sequential(\n",
              "    (0): Linear(in_features=25088, out_features=4096, bias=True)\n",
              "    (1): ReLU(inplace=True)\n",
              "    (2): Dropout(p=0.5, inplace=False)\n",
              "    (3): Linear(in_features=4096, out_features=4096, bias=True)\n",
              "    (4): ReLU(inplace=True)\n",
              "    (5): Dropout(p=0.5, inplace=False)\n",
              "    (6): Linear(in_features=4096, out_features=1000, bias=True)\n",
              "  )\n",
              ")"
            ]
          },
          "metadata": {
            "tags": []
          },
          "execution_count": 43
        }
      ]
    },
    {
      "cell_type": "markdown",
      "metadata": {
        "id": "sn2Tz3wNjXgJ"
      },
      "source": [
        "saving and loading model with shapes"
      ]
    },
    {
      "cell_type": "code",
      "metadata": {
        "id": "q_15_i3UlWCh"
      },
      "source": [
        "torch.save(model, 'model.pth')"
      ],
      "execution_count": 44,
      "outputs": []
    },
    {
      "cell_type": "code",
      "metadata": {
        "id": "hEHDas6mlXYy"
      },
      "source": [
        "model = torch.load('model.pth')"
      ],
      "execution_count": 45,
      "outputs": []
    },
    {
      "cell_type": "code",
      "metadata": {
        "id": "NgWpLEAnlXnY"
      },
      "source": [
        ""
      ],
      "execution_count": null,
      "outputs": []
    }
  ]
}