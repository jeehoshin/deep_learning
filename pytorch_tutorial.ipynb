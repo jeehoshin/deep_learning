{
  "nbformat": 4,
  "nbformat_minor": 0,
  "metadata": {
    "colab": {
      "name": "pytorch_tutorial.ipynb",
      "provenance": [],
      "collapsed_sections": [
        "ijp7euBYGX_V",
        "WY7pfAKYFf1h",
        "-_bO1mWsORCe",
        "TTk6wlaQPoVM",
        "Hr0bCTNtewwQ"
      ],
      "authorship_tag": "ABX9TyMTFh7UyYWkGr/IHBa4jBLH",
      "include_colab_link": true
    },
    "kernelspec": {
      "name": "python3",
      "display_name": "Python 3"
    },
    "language_info": {
      "name": "python"
    },
    "accelerator": "GPU"
  },
  "cells": [
    {
      "cell_type": "markdown",
      "metadata": {
        "id": "view-in-github",
        "colab_type": "text"
      },
      "source": [
        "<a href=\"https://colab.research.google.com/github/jeehoshin/deep_learning/blob/master/pytorch_tutorial.ipynb\" target=\"_parent\"><img src=\"https://colab.research.google.com/assets/colab-badge.svg\" alt=\"Open In Colab\"/></a>"
      ]
    },
    {
      "cell_type": "markdown",
      "metadata": {
        "id": "ijp7euBYGX_V"
      },
      "source": [
        "##00. Introduction to PyTorch\n",
        "\n",
        "https://pytorch.org/tutorials/beginner/basics/intro.html"
      ]
    },
    {
      "cell_type": "markdown",
      "metadata": {
        "id": "WY7pfAKYFf1h"
      },
      "source": [
        "### Tensors"
      ]
    },
    {
      "cell_type": "code",
      "metadata": {
        "id": "UR6CLbuPGrHR"
      },
      "source": [
        "import torch\n",
        "from __future__ import print_function"
      ],
      "execution_count": 27,
      "outputs": []
    },
    {
      "cell_type": "code",
      "metadata": {
        "colab": {
          "base_uri": "https://localhost:8080/"
        },
        "id": "qva7hFSBGzm4",
        "outputId": "2102d572-8f3b-44fc-8019-c0ef695dc13e"
      },
      "source": [
        "#초기화되지 않은 행렬? 을 생성한다고 한다.\n",
        "x = torch.empty(5,3)\n",
        "print(x)"
      ],
      "execution_count": 28,
      "outputs": [
        {
          "output_type": "stream",
          "text": [
            "tensor([[-6.7107e+07,  3.0938e-41,  3.3631e-44],\n",
            "        [ 0.0000e+00,         nan,  0.0000e+00],\n",
            "        [ 1.1578e+27,  1.1362e+30,  7.1547e+22],\n",
            "        [ 4.5828e+30,  1.2121e+04,  7.1846e+22],\n",
            "        [ 9.2198e-39,  7.0374e+22,  5.0948e-14]])\n"
          ],
          "name": "stdout"
        }
      ]
    },
    {
      "cell_type": "code",
      "metadata": {
        "colab": {
          "base_uri": "https://localhost:8080/"
        },
        "id": "l9KBAGi9NA-O",
        "outputId": "5d4cfb85-df77-431c-9692-9074e74075ed"
      },
      "source": [
        "#초기화된 행렬 생성하기\n",
        "x = torch.rand(5,3)\n",
        "print(x)"
      ],
      "execution_count": 29,
      "outputs": [
        {
          "output_type": "stream",
          "text": [
            "tensor([[0.3971, 0.9358, 0.9143],\n",
            "        [0.7568, 0.7411, 0.7003],\n",
            "        [0.6285, 0.2647, 0.4358],\n",
            "        [0.1992, 0.0544, 0.4419],\n",
            "        [0.8574, 0.5432, 0.5056]])\n"
          ],
          "name": "stdout"
        }
      ]
    },
    {
      "cell_type": "code",
      "metadata": {
        "colab": {
          "base_uri": "https://localhost:8080/"
        },
        "id": "7F5IdEYpNOi8",
        "outputId": "4080ee04-0f5b-42ff-b704-4df81da0b15f"
      },
      "source": [
        "print(torch.zeros(5,3 ))"
      ],
      "execution_count": 30,
      "outputs": [
        {
          "output_type": "stream",
          "text": [
            "tensor([[0., 0., 0.],\n",
            "        [0., 0., 0.],\n",
            "        [0., 0., 0.],\n",
            "        [0., 0., 0.],\n",
            "        [0., 0., 0.]])\n"
          ],
          "name": "stdout"
        }
      ]
    },
    {
      "cell_type": "code",
      "metadata": {
        "colab": {
          "base_uri": "https://localhost:8080/"
        },
        "id": "2Ze0VRUdNSYt",
        "outputId": "18dded94-4575-488e-cc91-69ff8785006c"
      },
      "source": [
        "#데이터를 바로 torch로 만들 수 있다.\n",
        "x = torch.tensor([5.5,3])\n",
        "print(x)"
      ],
      "execution_count": 31,
      "outputs": [
        {
          "output_type": "stream",
          "text": [
            "tensor([5.5000, 3.0000])\n"
          ],
          "name": "stdout"
        }
      ]
    },
    {
      "cell_type": "markdown",
      "metadata": {
        "id": "3BQgM0ZNN97Z"
      },
      "source": [
        "그냥 ```numpy```와 같은 방법이라고 생각하면 될 것 같다 "
      ]
    },
    {
      "cell_type": "markdown",
      "metadata": {
        "id": "-_bO1mWsORCe"
      },
      "source": [
        "### 연산(Operations)"
      ]
    },
    {
      "cell_type": "markdown",
      "metadata": {
        "id": "cL_rJ2PdOg-Q"
      },
      "source": [
        "- inplace 방식\n",
        " : _를 붙이면 됨"
      ]
    },
    {
      "cell_type": "code",
      "metadata": {
        "colab": {
          "base_uri": "https://localhost:8080/"
        },
        "id": "bCrciMkROqqo",
        "outputId": "0f5bb761-ec89-4639-cd6f-e2b927f64fde"
      },
      "source": [
        "x = torch.tensor([5.5,3])\n",
        "y = torch.tensor([4.4,2])\n",
        "\n",
        "y.add_(x)\n",
        "print(y)"
      ],
      "execution_count": 32,
      "outputs": [
        {
          "output_type": "stream",
          "text": [
            "tensor([9.9000, 5.0000])\n"
          ],
          "name": "stdout"
        }
      ]
    },
    {
      "cell_type": "markdown",
      "metadata": {
        "id": "m6L8wQxUOy1W"
      },
      "source": [
        "- ```torch.view```\n",
        "\n",
        "크기나 모양을 바꾸고 싶을 때 사용한다."
      ]
    },
    {
      "cell_type": "code",
      "metadata": {
        "colab": {
          "base_uri": "https://localhost:8080/"
        },
        "id": "WTm0YhZdPCEs",
        "outputId": "dbc072f0-403b-4f5b-f351-6dc574c64418"
      },
      "source": [
        "x = torch.randn(4,4)\n",
        "print(x)"
      ],
      "execution_count": 33,
      "outputs": [
        {
          "output_type": "stream",
          "text": [
            "tensor([[-0.0052, -0.8665,  0.9701, -1.5311],\n",
            "        [ 0.3906, -0.7641,  0.1062, -1.3814],\n",
            "        [ 0.0789, -1.6968, -0.2207,  1.5098],\n",
            "        [-0.6114, -1.5097,  1.9319, -0.6095]])\n"
          ],
          "name": "stdout"
        }
      ]
    },
    {
      "cell_type": "code",
      "metadata": {
        "colab": {
          "base_uri": "https://localhost:8080/"
        },
        "id": "28h-ChLvPIG0",
        "outputId": "2383bdf5-296e-4dbd-d467-49ac5291f7eb"
      },
      "source": [
        "y = x.view(16)\n",
        "z = x.view(-1,8) #우선 여덟개의 열로 먼저 잡고, 알아서 행을 채워 넣으라는 의미\n",
        "y"
      ],
      "execution_count": 34,
      "outputs": [
        {
          "output_type": "execute_result",
          "data": {
            "text/plain": [
              "tensor([-0.0052, -0.8665,  0.9701, -1.5311,  0.3906, -0.7641,  0.1062, -1.3814,\n",
              "         0.0789, -1.6968, -0.2207,  1.5098, -0.6114, -1.5097,  1.9319, -0.6095])"
            ]
          },
          "metadata": {
            "tags": []
          },
          "execution_count": 34
        }
      ]
    },
    {
      "cell_type": "code",
      "metadata": {
        "colab": {
          "base_uri": "https://localhost:8080/"
        },
        "id": "g-4OiWr-PWys",
        "outputId": "2736047f-15bb-4817-b53c-3ced9afa66d5"
      },
      "source": [
        "z"
      ],
      "execution_count": 35,
      "outputs": [
        {
          "output_type": "execute_result",
          "data": {
            "text/plain": [
              "tensor([[-0.0052, -0.8665,  0.9701, -1.5311,  0.3906, -0.7641,  0.1062, -1.3814],\n",
              "        [ 0.0789, -1.6968, -0.2207,  1.5098, -0.6114, -1.5097,  1.9319, -0.6095]])"
            ]
          },
          "metadata": {
            "tags": []
          },
          "execution_count": 35
        }
      ]
    },
    {
      "cell_type": "markdown",
      "metadata": {
        "id": "TTk6wlaQPoVM"
      },
      "source": [
        "### torch - numpy 변환"
      ]
    },
    {
      "cell_type": "code",
      "metadata": {
        "colab": {
          "base_uri": "https://localhost:8080/"
        },
        "id": "Eao5dyJoPq1H",
        "outputId": "eb1b2cd7-0439-45ac-e4f1-b54ad5c81188"
      },
      "source": [
        "import numpy as np\n",
        "\n",
        "a_np = np.ones(5)\n",
        "a_torch = torch.ones(5)\n",
        "\n",
        "#torch to numpy\n",
        "b_np = a_torch.numpy()\n",
        "print(b_np)\n",
        "\n",
        "#numpy to torch\n",
        "b_torch = torch.from_numpy(a_np)\n",
        "print(b_torch)"
      ],
      "execution_count": 36,
      "outputs": [
        {
          "output_type": "stream",
          "text": [
            "[1. 1. 1. 1. 1.]\n",
            "tensor([1., 1., 1., 1., 1.], dtype=torch.float64)\n"
          ],
          "name": "stdout"
        }
      ]
    },
    {
      "cell_type": "markdown",
      "metadata": {
        "id": "C6nowMmmcJxj"
      },
      "source": [
        "### Datasets & Dataloaders"
      ]
    },
    {
      "cell_type": "markdown",
      "metadata": {
        "id": "NOClHHKWcT6p"
      },
      "source": [
        "```DataLoader```로 편하게 batch와 shuffle을 지정할 수 있다고 한다."
      ]
    },
    {
      "cell_type": "markdown",
      "metadata": {
        "id": "eNiLGjgiddLe"
      },
      "source": [
        "### Transforms"
      ]
    },
    {
      "cell_type": "markdown",
      "metadata": {
        "id": "YFsp-PYYdfVH"
      },
      "source": [
        "우리의 훈련에 맞게 데이터를 변환시켜주는 로직임."
      ]
    },
    {
      "cell_type": "markdown",
      "metadata": {
        "id": "Hr0bCTNtewwQ"
      },
      "source": [
        "## 01. Build the Neural Network"
      ]
    },
    {
      "cell_type": "markdown",
      "metadata": {
        "id": "7uebaHexe0En"
      },
      "source": [
        "```torch.nn```(Neural Network)를 통해서 모든 것들이 이뤄진다. nn.Module로 우리의 모델을 쌓는다고 생각하면 된다"
      ]
    },
    {
      "cell_type": "code",
      "metadata": {
        "colab": {
          "base_uri": "https://localhost:8080/"
        },
        "id": "l97LRy0MfJLZ",
        "outputId": "01947683-f61b-42ed-a9c9-78757b41322e"
      },
      "source": [
        "import os\n",
        "import torch\n",
        "from torch import nn\n",
        "from torch.utils.data import DataLoader\n",
        "from torchvision import datasets, transforms\n",
        "\n",
        "device = 'cuda' if torch.cuda.is_available() else 'cpu'\n",
        "print('Using {} device'.format(device)) #colab에서는 cuda를 사용할 수 있는 듯"
      ],
      "execution_count": 55,
      "outputs": [
        {
          "output_type": "stream",
          "text": [
            "Using cuda device\n"
          ],
          "name": "stdout"
        }
      ]
    },
    {
      "cell_type": "markdown",
      "metadata": {
        "id": "iM4HzLv5fgBv"
      },
      "source": [
        "### 클래스 정의"
      ]
    },
    {
      "cell_type": "markdown",
      "metadata": {
        "id": "kwVB82r5fl2M"
      },
      "source": [
        "nn.Module의 subclassing을 통해서 우리의 nn을 구축해야 한다.\n",
        "\n",
        "모든 subclassed 모듈은 forward가 정의되어야 한다고 함."
      ]
    },
    {
      "cell_type": "code",
      "metadata": {
        "id": "bN1R9ab_f5EP"
      },
      "source": [
        "class NeuralNetwork(nn.Module) : \n",
        "  def __init__(self) : \n",
        "    super(NeuralNetwork, self).__init__() #NeuralNetwork를 가지고 온다.\n",
        "    self.flatten = nn.Flatten() #이제 이 클래스를 생성할 때, flatten을 생성해야 한다. \n",
        "    self.linear_relu_stack = nn.Sequential(\n",
        "                    nn.Linear(28*28, 512),\n",
        "            nn.ReLU(),\n",
        "            nn.Linear(512, 512),\n",
        "            nn.ReLU(),\n",
        "            nn.Linear(512, 10),\n",
        "            nn.ReLU()\n",
        "    )\n",
        "\n",
        "  #.forward 메서드를 활용할 수 있는 것이다. \n",
        "  def forward(self, x) : \n",
        "    x = self.flatten(x) #아마 input을 의미할 것이다. 결국 x부터 순전파가 시작되어야 하므로\n",
        "    logits = self.linear_relu_stack(x) #위에서 정의한 것을 사용\n",
        "    return logits\n"
      ],
      "execution_count": 43,
      "outputs": []
    },
    {
      "cell_type": "markdown",
      "metadata": {
        "id": "o6_nk1LghAxq"
      },
      "source": [
        "class를 만들었으니 우리는 NeuralNetwork라는 인스턴스를 만들 수 있다. 이를 model이라는 객체에 보내본다.\n"
      ]
    },
    {
      "cell_type": "code",
      "metadata": {
        "colab": {
          "base_uri": "https://localhost:8080/"
        },
        "id": "0E-LsnwBhIHw",
        "outputId": "b1310c46-5bfd-4463-d3a8-666fcb5c57fb"
      },
      "source": [
        "model = NeuralNetwork().to(device)\n",
        "print(model)"
      ],
      "execution_count": 44,
      "outputs": [
        {
          "output_type": "stream",
          "text": [
            "NeuralNetwork(\n",
            "  (flatten): Flatten(start_dim=1, end_dim=-1)\n",
            "  (linear_relu_stack): Sequential(\n",
            "    (0): Linear(in_features=784, out_features=512, bias=True)\n",
            "    (1): ReLU()\n",
            "    (2): Linear(in_features=512, out_features=512, bias=True)\n",
            "    (3): ReLU()\n",
            "    (4): Linear(in_features=512, out_features=10, bias=True)\n",
            "    (5): ReLU()\n",
            "  )\n",
            ")\n"
          ],
          "name": "stdout"
        }
      ]
    },
    {
      "cell_type": "code",
      "metadata": {
        "colab": {
          "base_uri": "https://localhost:8080/"
        },
        "id": "beoH1-57lJ-r",
        "outputId": "7e775878-eac9-49a8-db8c-bbced9c93944"
      },
      "source": [
        "x = torch.rand(1,28,28, device = device)\n",
        "#이렇게 데이터를 넣어주면 된다. model.forward()를 바로 call 해서는 안된다고 한다.\n",
        "logits = model(x)\n",
        "pred_probability = nn.Softmax(dim = 1)(logits)\n",
        "print(pred_probability)\n",
        "y_pred = pred_probability.argmax(1) #예측된 애들 중 가장 max값의 자리를 뽑아준다.\n",
        "print(f\"Predicted class: {y_pred}\")"
      ],
      "execution_count": 48,
      "outputs": [
        {
          "output_type": "stream",
          "text": [
            "tensor([[0.1005, 0.0980, 0.0980, 0.0988, 0.0984, 0.1028, 0.1042, 0.0980, 0.1030,\n",
            "         0.0984]], device='cuda:0', grad_fn=<SoftmaxBackward>)\n",
            "Predicted class: tensor([6], device='cuda:0')\n"
          ],
          "name": "stdout"
        }
      ]
    },
    {
      "cell_type": "markdown",
      "metadata": {
        "id": "PbdAv6ieoE5K"
      },
      "source": [
        "### 모델 레이어"
      ]
    },
    {
      "cell_type": "markdown",
      "metadata": {
        "id": "Fu7_SBqEpNAs"
      },
      "source": [
        "layer에 대해서 살펴보는 section"
      ]
    },
    {
      "cell_type": "code",
      "metadata": {
        "colab": {
          "base_uri": "https://localhost:8080/"
        },
        "id": "Aa-VFrEEpRok",
        "outputId": "e01a0f68-5ca0-4a95-f112-c4c96c4994c2"
      },
      "source": [
        "input_image = torch.rand(3,28,28)\n",
        "print(input_image.size())"
      ],
      "execution_count": 50,
      "outputs": [
        {
          "output_type": "stream",
          "text": [
            "torch.Size([3, 28, 28])\n"
          ],
          "name": "stdout"
        }
      ]
    },
    {
      "cell_type": "markdown",
      "metadata": {
        "id": "1vzbwatbpawE"
      },
      "source": [
        "1) nn.Flatten\n",
        "\n",
        "2D 28X28을 784의 픽셀로 변환시켜주는 층(신용평가 모형에서는 사용하지 않을 듯 싶다)"
      ]
    },
    {
      "cell_type": "code",
      "metadata": {
        "colab": {
          "base_uri": "https://localhost:8080/"
        },
        "id": "0YOXYbPgqalZ",
        "outputId": "edfea24c-b160-4b25-c98b-77cf3d664004"
      },
      "source": [
        "flatten = nn.Flatten()\n",
        "flat_image = flatten(input_image)\n",
        "print(flat_image.size())"
      ],
      "execution_count": 51,
      "outputs": [
        {
          "output_type": "stream",
          "text": [
            "torch.Size([3, 784])\n"
          ],
          "name": "stdout"
        }
      ]
    },
    {
      "cell_type": "markdown",
      "metadata": {
        "id": "23t4MwTfqgw4"
      },
      "source": [
        "2) nn.Linear"
      ]
    },
    {
      "cell_type": "markdown",
      "metadata": {
        "id": "ECVkdopIqjXy"
      },
      "source": [
        "input을 linear combination으로 만들어주는 층! tensorflow의 Dense라고 생각하면 되지 않을까"
      ]
    },
    {
      "cell_type": "code",
      "metadata": {
        "colab": {
          "base_uri": "https://localhost:8080/"
        },
        "id": "Tlbafhe2qulJ",
        "outputId": "fc802ecf-5af2-4d24-a8dd-ab92703c2567"
      },
      "source": [
        "layer1 = nn.Linear(in_features=28*28, #들어오는 피쳐의 모양\n",
        "                   out_features= 20 )  #결과적으로 출력하는 데이터의 모양\n",
        "hidden1 = layer1(flat_image)  #이렇게 객체를 구축하고 이후에 데이터를 넣어도 되는 듯\n",
        "print(hidden1.size())\n",
        "#확실히 out neuron이 20으로 줄어들었다."
      ],
      "execution_count": 52,
      "outputs": [
        {
          "output_type": "stream",
          "text": [
            "torch.Size([3, 20])\n"
          ],
          "name": "stdout"
        }
      ]
    },
    {
      "cell_type": "markdown",
      "metadata": {
        "id": "A_8jxMZrrMaG"
      },
      "source": [
        "3) nn.ReLU\n",
        "\n",
        "\n",
        "\n"
      ]
    },
    {
      "cell_type": "markdown",
      "metadata": {
        "id": "uYzR8YlVrSSs"
      },
      "source": [
        "linear 결합된 데이터를 활성화함수를 통해 다음 층으로 넘길 준비를 해야한다.\n",
        "\n",
        "다음 결과값에서 볼 수 있듯, ReLU치면 input이 0보다 크면 그대로, 0보다 작으면 0으로 만들어준다"
      ]
    },
    {
      "cell_type": "code",
      "metadata": {
        "colab": {
          "base_uri": "https://localhost:8080/"
        },
        "id": "tpW55LaIr8Mb",
        "outputId": "afed867a-c896-4b2b-fe83-2926edc06d5a"
      },
      "source": [
        "print(f\"Before ReLU: {hidden1}\\n\\n\")\n",
        "hidden1 = nn.ReLU()(hidden1)\n",
        "print(f\"After ReLU: {hidden1}\")"
      ],
      "execution_count": 53,
      "outputs": [
        {
          "output_type": "stream",
          "text": [
            "Before ReLU: tensor([[ 0.4531,  0.2868,  0.6521, -0.0104, -0.1304,  0.3019, -0.1753, -0.7636,\n",
            "         -0.1414,  0.0111,  0.2135, -0.0786, -0.3138,  0.2846, -0.3343,  0.6432,\n",
            "          0.0766, -0.3644,  0.3334,  0.8441],\n",
            "        [ 0.3398,  0.2675,  0.3450, -0.0525,  0.2513,  0.1388, -0.0738, -0.3668,\n",
            "         -0.0509,  0.4824,  0.1312, -0.5371, -0.0148,  0.3241, -0.4197,  0.7596,\n",
            "          0.4527, -0.1869,  0.4113,  0.7505],\n",
            "        [ 0.6044,  0.6043,  0.5447, -0.2666,  0.3034, -0.2122, -0.2580, -0.1551,\n",
            "          0.3552,  0.2295,  0.2579, -0.3911, -0.3979,  0.0754, -0.3484,  0.3364,\n",
            "          0.2296, -0.2769,  0.1237,  0.6627]], grad_fn=<AddmmBackward>)\n",
            "\n",
            "\n",
            "After ReLU: tensor([[0.4531, 0.2868, 0.6521, 0.0000, 0.0000, 0.3019, 0.0000, 0.0000, 0.0000,\n",
            "         0.0111, 0.2135, 0.0000, 0.0000, 0.2846, 0.0000, 0.6432, 0.0766, 0.0000,\n",
            "         0.3334, 0.8441],\n",
            "        [0.3398, 0.2675, 0.3450, 0.0000, 0.2513, 0.1388, 0.0000, 0.0000, 0.0000,\n",
            "         0.4824, 0.1312, 0.0000, 0.0000, 0.3241, 0.0000, 0.7596, 0.4527, 0.0000,\n",
            "         0.4113, 0.7505],\n",
            "        [0.6044, 0.6043, 0.5447, 0.0000, 0.3034, 0.0000, 0.0000, 0.0000, 0.3552,\n",
            "         0.2295, 0.2579, 0.0000, 0.0000, 0.0754, 0.0000, 0.3364, 0.2296, 0.0000,\n",
            "         0.1237, 0.6627]], grad_fn=<ReluBackward0>)\n"
          ],
          "name": "stdout"
        }
      ]
    },
    {
      "cell_type": "markdown",
      "metadata": {
        "id": "zRyT0gVVsPsD"
      },
      "source": [
        "4) nn.sequential"
      ]
    },
    {
      "cell_type": "markdown",
      "metadata": {
        "id": "xT9exTsksUMT"
      },
      "source": [
        "우리가 쌓아온 층들을 모아두는 컨테이너 박스라고 생각하면 된다. 대신 순차적으로 쌓아두어야 함. "
      ]
    },
    {
      "cell_type": "code",
      "metadata": {
        "id": "TqnrFIW0scNk"
      },
      "source": [
        "seq_modules = nn.Sequential(\n",
        "    flatten,\n",
        "    layer1,\n",
        "    nn.ReLU(),\n",
        "    nn.Linear(20,10) #들어온 20개의 값들을 10개로 바꿔준다.\n",
        ")\n",
        "input_image = torch.rand(3, 28, 28)\n",
        "logits = seq_modules(input_image)"
      ],
      "execution_count": 57,
      "outputs": []
    },
    {
      "cell_type": "markdown",
      "metadata": {
        "id": "kQeKCqUrtHw4"
      },
      "source": [
        "5) nn.Softmax"
      ]
    },
    {
      "cell_type": "markdown",
      "metadata": {
        "id": "FHOixmvStMK6"
      },
      "source": [
        "마지막 활성화 함수로서 출력함수라고도 한다"
      ]
    },
    {
      "cell_type": "code",
      "metadata": {
        "id": "FNWx5_iWtLPN"
      },
      "source": [
        "softmax = nn.Softmax(dim=1)\n",
        "pred_probab = softmax(logits)"
      ],
      "execution_count": 59,
      "outputs": []
    },
    {
      "cell_type": "markdown",
      "metadata": {
        "id": "scAdYIJHue_r"
      },
      "source": [
        "6) Model Parameters"
      ]
    },
    {
      "cell_type": "markdown",
      "metadata": {
        "id": "rJkhopZyujbK"
      },
      "source": [
        "아주 편하게도 nn.Module은 자동적으로 우리의 모델을 보여주고 파라미터도 보여준다고 한다."
      ]
    },
    {
      "cell_type": "code",
      "metadata": {
        "colab": {
          "base_uri": "https://localhost:8080/"
        },
        "id": "q4pddryMuh6a",
        "outputId": "fc4f6c47-261b-4c72-c527-8e0951050f8a"
      },
      "source": [
        "print(\"Model structure: \", model, \"\\n\\n\")\n",
        "\n",
        "for name, param in model.named_parameters():\n",
        "    print(f\"Layer: {name} | Size: {param.size()} | Values : {param[:2]} \\n\")"
      ],
      "execution_count": 60,
      "outputs": [
        {
          "output_type": "stream",
          "text": [
            "Model structure:  NeuralNetwork(\n",
            "  (flatten): Flatten(start_dim=1, end_dim=-1)\n",
            "  (linear_relu_stack): Sequential(\n",
            "    (0): Linear(in_features=784, out_features=512, bias=True)\n",
            "    (1): ReLU()\n",
            "    (2): Linear(in_features=512, out_features=512, bias=True)\n",
            "    (3): ReLU()\n",
            "    (4): Linear(in_features=512, out_features=10, bias=True)\n",
            "    (5): ReLU()\n",
            "  )\n",
            ") \n",
            "\n",
            "\n",
            "Layer: linear_relu_stack.0.weight | Size: torch.Size([512, 784]) | Values : tensor([[-0.0079,  0.0234,  0.0034,  ...,  0.0070, -0.0234, -0.0277],\n",
            "        [ 0.0063,  0.0215, -0.0172,  ...,  0.0092,  0.0245, -0.0258]],\n",
            "       device='cuda:0', grad_fn=<SliceBackward>) \n",
            "\n",
            "Layer: linear_relu_stack.0.bias | Size: torch.Size([512]) | Values : tensor([0.0056, 0.0070], device='cuda:0', grad_fn=<SliceBackward>) \n",
            "\n",
            "Layer: linear_relu_stack.2.weight | Size: torch.Size([512, 512]) | Values : tensor([[-0.0337, -0.0351,  0.0026,  ...,  0.0019, -0.0069, -0.0337],\n",
            "        [-0.0389,  0.0321,  0.0350,  ...,  0.0270,  0.0308, -0.0312]],\n",
            "       device='cuda:0', grad_fn=<SliceBackward>) \n",
            "\n",
            "Layer: linear_relu_stack.2.bias | Size: torch.Size([512]) | Values : tensor([0.0039, 0.0138], device='cuda:0', grad_fn=<SliceBackward>) \n",
            "\n",
            "Layer: linear_relu_stack.4.weight | Size: torch.Size([10, 512]) | Values : tensor([[-0.0438, -0.0255,  0.0085,  ...,  0.0432, -0.0174,  0.0285],\n",
            "        [ 0.0241, -0.0420,  0.0140,  ..., -0.0216,  0.0043, -0.0156]],\n",
            "       device='cuda:0', grad_fn=<SliceBackward>) \n",
            "\n",
            "Layer: linear_relu_stack.4.bias | Size: torch.Size([10]) | Values : tensor([-0.0318,  0.0062], device='cuda:0', grad_fn=<SliceBackward>) \n",
            "\n"
          ],
          "name": "stdout"
        }
      ]
    },
    {
      "cell_type": "markdown",
      "metadata": {
        "id": "7jTm0ayMQFeN"
      },
      "source": [
        "## 02. Autograd\n",
        "\n",
        "https://pytorch.org/tutorials/beginner/basics/autogradqs_tutorial.html"
      ]
    }
  ]
}