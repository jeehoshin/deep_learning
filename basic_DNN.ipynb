{
 "cells": [
  {
   "cell_type": "code",
   "execution_count": 2,
   "metadata": {},
   "outputs": [],
   "source": [
    "import numpy as np\n",
    "from sklearn.datasets import load_iris\n",
    "from sklearn.linear_model import Perceptron"
   ]
  },
  {
   "cell_type": "code",
   "execution_count": 3,
   "metadata": {},
   "outputs": [],
   "source": [
    "iris = load_iris()\n",
    "x = iris.data[:, (2,3)]\n",
    "y = (iris.target == 0).astype(np.int) #Setosa\n",
    "\n",
    "per_clf = Perceptron()\n",
    "per_clf.fit(x,y)\n",
    "\n",
    "y_pred = per_clf.predict([[2, 0.5]])"
   ]
  },
  {
   "cell_type": "markdown",
   "metadata": {},
   "source": [
    "## 10.2.2 시퀀셜 API --> 이미지 분류기 생성"
   ]
  },
  {
   "cell_type": "code",
   "execution_count": 4,
   "metadata": {},
   "outputs": [],
   "source": [
    "import tensorflow as tf\n",
    "from tensorflow import keras\n",
    "import pydot"
   ]
  },
  {
   "cell_type": "code",
   "execution_count": 5,
   "metadata": {},
   "outputs": [
    {
     "data": {
      "text/plain": [
       "'2.4.1'"
      ]
     },
     "execution_count": 5,
     "metadata": {},
     "output_type": "execute_result"
    }
   ],
   "source": [
    "tf.__version__"
   ]
  },
  {
   "cell_type": "code",
   "execution_count": 6,
   "metadata": {},
   "outputs": [
    {
     "data": {
      "text/plain": [
       "'2.4.0'"
      ]
     },
     "execution_count": 6,
     "metadata": {},
     "output_type": "execute_result"
    }
   ],
   "source": [
    "keras.__version__"
   ]
  },
  {
   "cell_type": "markdown",
   "metadata": {},
   "source": [
    "### 데이터 셋 적재"
   ]
  },
  {
   "cell_type": "code",
   "execution_count": 7,
   "metadata": {},
   "outputs": [],
   "source": [
    "fashion_mnist = keras.datasets.fashion_mnist\n",
    "(x_train_full, y_train_full), (x_test, y_test) = fashion_mnist.load_data()"
   ]
  },
  {
   "cell_type": "code",
   "execution_count": 8,
   "metadata": {},
   "outputs": [
    {
     "data": {
      "text/plain": [
       "(60000, 28, 28)"
      ]
     },
     "execution_count": 8,
     "metadata": {},
     "output_type": "execute_result"
    }
   ],
   "source": [
    "x_train_full.shape"
   ]
  },
  {
   "cell_type": "markdown",
   "metadata": {},
   "source": [
    "28 x 28 픽셀의 6만장의 이미지가 들어가 있다고 생각하면 될 듯.\n",
    "\n",
    "픽셀 강도는 0에서 255까지 표현되어 있다고 한다."
   ]
  },
  {
   "cell_type": "code",
   "execution_count": 9,
   "metadata": {},
   "outputs": [
    {
     "data": {
      "text/plain": [
       "array([[[0, 0, 0, ..., 0, 0, 0],\n",
       "        [0, 0, 0, ..., 0, 0, 0],\n",
       "        [0, 0, 0, ..., 0, 0, 0],\n",
       "        ...,\n",
       "        [0, 0, 0, ..., 0, 0, 0],\n",
       "        [0, 0, 0, ..., 0, 0, 0],\n",
       "        [0, 0, 0, ..., 0, 0, 0]],\n",
       "\n",
       "       [[0, 0, 0, ..., 0, 0, 0],\n",
       "        [0, 0, 0, ..., 0, 0, 0],\n",
       "        [0, 0, 0, ..., 0, 0, 0],\n",
       "        ...,\n",
       "        [0, 0, 0, ..., 0, 0, 0],\n",
       "        [0, 0, 0, ..., 0, 0, 0],\n",
       "        [0, 0, 0, ..., 0, 0, 0]],\n",
       "\n",
       "       [[0, 0, 0, ..., 0, 0, 0],\n",
       "        [0, 0, 0, ..., 0, 0, 0],\n",
       "        [0, 0, 0, ..., 0, 0, 0],\n",
       "        ...,\n",
       "        [0, 0, 0, ..., 0, 0, 0],\n",
       "        [0, 0, 0, ..., 0, 0, 0],\n",
       "        [0, 0, 0, ..., 0, 0, 0]],\n",
       "\n",
       "       ...,\n",
       "\n",
       "       [[0, 0, 0, ..., 0, 0, 0],\n",
       "        [0, 0, 0, ..., 0, 0, 0],\n",
       "        [0, 0, 0, ..., 0, 0, 0],\n",
       "        ...,\n",
       "        [0, 0, 0, ..., 0, 0, 0],\n",
       "        [0, 0, 0, ..., 0, 0, 0],\n",
       "        [0, 0, 0, ..., 0, 0, 0]],\n",
       "\n",
       "       [[0, 0, 0, ..., 0, 0, 0],\n",
       "        [0, 0, 0, ..., 0, 0, 0],\n",
       "        [0, 0, 0, ..., 0, 0, 0],\n",
       "        ...,\n",
       "        [0, 0, 0, ..., 0, 0, 0],\n",
       "        [0, 0, 0, ..., 0, 0, 0],\n",
       "        [0, 0, 0, ..., 0, 0, 0]],\n",
       "\n",
       "       [[0, 0, 0, ..., 0, 0, 0],\n",
       "        [0, 0, 0, ..., 0, 0, 0],\n",
       "        [0, 0, 0, ..., 0, 0, 0],\n",
       "        ...,\n",
       "        [0, 0, 0, ..., 0, 0, 0],\n",
       "        [0, 0, 0, ..., 0, 0, 0],\n",
       "        [0, 0, 0, ..., 0, 0, 0]]], dtype=uint8)"
      ]
     },
     "execution_count": 9,
     "metadata": {},
     "output_type": "execute_result"
    }
   ],
   "source": [
    "x_train_full"
   ]
  },
  {
   "cell_type": "markdown",
   "metadata": {},
   "source": [
    "- 검증 셋 생성"
   ]
  },
  {
   "cell_type": "code",
   "execution_count": 10,
   "metadata": {},
   "outputs": [],
   "source": [
    "x_valid, x_train = x_train_full[:5000]/255.0, x_train_full[5000:]/255.0 #x train \n",
    "y_valid, y_train = y_train_full[:5000], y_train_full[5000:]\n",
    "x_test = x_test / 255.0 \n",
    "\n",
    "#근데 저렇게 255.0으로 나눠주는 이유는 잘 모르겠다."
   ]
  },
  {
   "cell_type": "markdown",
   "metadata": {},
   "source": [
    "- 클래스 이름의 리스트를 만들어야 함"
   ]
  },
  {
   "cell_type": "code",
   "execution_count": 11,
   "metadata": {},
   "outputs": [],
   "source": [
    "class_names = ['T-shirt/top', 'Trouser', 'Pullover', 'Dress', 'Coat', 'Sandal', 'Shirt', 'Sneaker', 'Bag', 'Ankle Boot']"
   ]
  },
  {
   "cell_type": "code",
   "execution_count": 12,
   "metadata": {},
   "outputs": [
    {
     "data": {
      "text/plain": [
       "'Coat'"
      ]
     },
     "execution_count": 12,
     "metadata": {},
     "output_type": "execute_result"
    }
   ],
   "source": [
    "class_names[y_train[0]]"
   ]
  },
  {
   "cell_type": "markdown",
   "metadata": {},
   "source": [
    "### 시퀀셜 API를 사용하여 모델 구축"
   ]
  },
  {
   "cell_type": "markdown",
   "metadata": {},
   "source": [
    "- 두 개의 은닉층을 가진 분류용 다층 퍼셉트론"
   ]
  },
  {
   "cell_type": "code",
   "execution_count": 13,
   "metadata": {},
   "outputs": [],
   "source": [
    "model = keras.models.Sequential() #순서대로 층을 쌓아서 구성한다고 한다. 이게 시퀀셜 API\n",
    "model.add(keras.layers.Flatten(input_shape = [28,28])) #이미지를 1D 배열로 변환 \n",
    "model.add(keras.layers.Dense(300, activation = 'relu')) #뉴런 300개를 가진 층. 활성화함수는 relu\n",
    "model.add(keras.layers.Dense(100, activation = 'relu')) #뉴런 100개를 가진 층. 활성화함수는 relu\n",
    "model.add(keras.layers.Dense(10, activation = 'softmax')) #뉴런 10개를 가진 층. 활성화함수는 softmax\n",
    "\n",
    "#<Tip>\n",
    "#activation = 'relu' 와 activation = keras.activations.relu는 같다"
   ]
  },
  {
   "cell_type": "markdown",
   "metadata": {},
   "source": [
    "- Sequential을 만들 때 매 층의 리스트를 전달할 수 있다!"
   ]
  },
  {
   "cell_type": "code",
   "execution_count": 14,
   "metadata": {},
   "outputs": [],
   "source": [
    "model = keras.models.Sequential([\n",
    "    keras.layers.Flatten(input_shape = [28,28]),\n",
    "    keras.layers.Dense(300, activation = 'relu'),\n",
    "    keras.layers.Dense(100, activation = 'relu'),\n",
    "    keras.layers.Dense(10, activation = 'softmax')\n",
    "])"
   ]
  },
  {
   "cell_type": "code",
   "execution_count": 15,
   "metadata": {},
   "outputs": [
    {
     "name": "stdout",
     "output_type": "stream",
     "text": [
      "Model: \"sequential_1\"\n",
      "_________________________________________________________________\n",
      "Layer (type)                 Output Shape              Param #   \n",
      "=================================================================\n",
      "flatten_1 (Flatten)          (None, 784)               0         \n",
      "_________________________________________________________________\n",
      "dense_3 (Dense)              (None, 300)               235500    \n",
      "_________________________________________________________________\n",
      "dense_4 (Dense)              (None, 100)               30100     \n",
      "_________________________________________________________________\n",
      "dense_5 (Dense)              (None, 10)                1010      \n",
      "=================================================================\n",
      "Total params: 266,610\n",
      "Trainable params: 266,610\n",
      "Non-trainable params: 0\n",
      "_________________________________________________________________\n"
     ]
    }
   ],
   "source": [
    "model.summary()"
   ]
  },
  {
   "cell_type": "code",
   "execution_count": 16,
   "metadata": {},
   "outputs": [
    {
     "data": {
      "image/png": "[encoded data removed]",
      "text/plain": [
       "<IPython.core.display.Image object>"
      ]
     },
     "execution_count": 16,
     "metadata": {},
     "output_type": "execute_result"
    }
   ],
   "source": [
    "#이렇게 하면 모델 구조를 이미지로 출력이 가능하다\n",
    "keras.utils.plot_model(model = model)"
   ]
  },
  {
   "cell_type": "code",
   "execution_count": 17,
   "metadata": {},
   "outputs": [
    {
     "data": {
      "text/plain": [
       "[<tensorflow.python.keras.layers.core.Flatten at 0x16527b10be0>,\n",
       " <tensorflow.python.keras.layers.core.Dense at 0x16527b10af0>,\n",
       " <tensorflow.python.keras.layers.core.Dense at 0x1652df2a0d0>,\n",
       " <tensorflow.python.keras.layers.core.Dense at 0x1652d95a430>]"
      ]
     },
     "execution_count": 17,
     "metadata": {},
     "output_type": "execute_result"
    }
   ],
   "source": [
    "model.layers"
   ]
  },
  {
   "cell_type": "code",
   "execution_count": 18,
   "metadata": {},
   "outputs": [],
   "source": [
    "hidden1 = model.layers[1]"
   ]
  },
  {
   "cell_type": "code",
   "execution_count": 19,
   "metadata": {},
   "outputs": [
    {
     "data": {
      "text/plain": [
       "'dense_3'"
      ]
     },
     "execution_count": 19,
     "metadata": {},
     "output_type": "execute_result"
    }
   ],
   "source": [
    "hidden1.name"
   ]
  },
  {
   "cell_type": "markdown",
   "metadata": {},
   "source": [
    "파라미터는 get_weights() 메서드와 set_weights() 메서드를 사용하여 접근할 수 있다."
   ]
  },
  {
   "cell_type": "code",
   "execution_count": 20,
   "metadata": {},
   "outputs": [
    {
     "name": "stdout",
     "output_type": "stream",
     "text": [
      "[[ 0.03680291  0.06424694  0.04382646 ... -0.00178759  0.06445138\n",
      "   0.07081206]\n",
      " [ 0.07104823  0.02276235 -0.01117322 ... -0.03644249 -0.06251089\n",
      "  -0.02138946]\n",
      " [-0.01799686 -0.06163688 -0.00936239 ... -0.05851392  0.00346931\n",
      "   0.0503348 ]\n",
      " ...\n",
      " [ 0.05616519 -0.0437011  -0.00451843 ...  0.06662773  0.02328056\n",
      "   0.02494244]\n",
      " [ 0.01722834 -0.01117733 -0.04778375 ...  0.01054671 -0.02253197\n",
      "   0.01953181]\n",
      " [-0.01427415 -0.04010811 -0.01329924 ... -0.03226049 -0.00052676\n",
      "   0.06526513]]\n",
      "(784, 300)\n"
     ]
    }
   ],
   "source": [
    "weights, biases = hidden1.get_weights()\n",
    "print(weights)\n",
    "print(weights.shape)"
   ]
  },
  {
   "cell_type": "markdown",
   "metadata": {},
   "source": [
    "input 이었던 784개에 대해 각 300개의 뉴런에 대응하는 가중치가 있다! 한 뉴런에는 784개의 가중치 값이 있고, 이러한 뉴런이 300개가 있으니 784 x 300의 array가 생기는 형식"
   ]
  },
  {
   "cell_type": "code",
   "execution_count": 21,
   "metadata": {},
   "outputs": [
    {
     "data": {
      "text/plain": [
       "array([0., 0., 0., 0., 0., 0., 0., 0., 0., 0., 0., 0., 0., 0., 0., 0., 0.,\n",
       "       0., 0., 0., 0., 0., 0., 0., 0., 0., 0., 0., 0., 0., 0., 0., 0., 0.,\n",
       "       0., 0., 0., 0., 0., 0., 0., 0., 0., 0., 0., 0., 0., 0., 0., 0., 0.,\n",
       "       0., 0., 0., 0., 0., 0., 0., 0., 0., 0., 0., 0., 0., 0., 0., 0., 0.,\n",
       "       0., 0., 0., 0., 0., 0., 0., 0., 0., 0., 0., 0., 0., 0., 0., 0., 0.,\n",
       "       0., 0., 0., 0., 0., 0., 0., 0., 0., 0., 0., 0., 0., 0., 0., 0., 0.,\n",
       "       0., 0., 0., 0., 0., 0., 0., 0., 0., 0., 0., 0., 0., 0., 0., 0., 0.,\n",
       "       0., 0., 0., 0., 0., 0., 0., 0., 0., 0., 0., 0., 0., 0., 0., 0., 0.,\n",
       "       0., 0., 0., 0., 0., 0., 0., 0., 0., 0., 0., 0., 0., 0., 0., 0., 0.,\n",
       "       0., 0., 0., 0., 0., 0., 0., 0., 0., 0., 0., 0., 0., 0., 0., 0., 0.,\n",
       "       0., 0., 0., 0., 0., 0., 0., 0., 0., 0., 0., 0., 0., 0., 0., 0., 0.,\n",
       "       0., 0., 0., 0., 0., 0., 0., 0., 0., 0., 0., 0., 0., 0., 0., 0., 0.,\n",
       "       0., 0., 0., 0., 0., 0., 0., 0., 0., 0., 0., 0., 0., 0., 0., 0., 0.,\n",
       "       0., 0., 0., 0., 0., 0., 0., 0., 0., 0., 0., 0., 0., 0., 0., 0., 0.,\n",
       "       0., 0., 0., 0., 0., 0., 0., 0., 0., 0., 0., 0., 0., 0., 0., 0., 0.,\n",
       "       0., 0., 0., 0., 0., 0., 0., 0., 0., 0., 0., 0., 0., 0., 0., 0., 0.,\n",
       "       0., 0., 0., 0., 0., 0., 0., 0., 0., 0., 0., 0., 0., 0., 0., 0., 0.,\n",
       "       0., 0., 0., 0., 0., 0., 0., 0., 0., 0., 0.], dtype=float32)"
      ]
     },
     "execution_count": 21,
     "metadata": {},
     "output_type": "execute_result"
    }
   ],
   "source": [
    "biases"
   ]
  },
  {
   "cell_type": "code",
   "execution_count": 22,
   "metadata": {},
   "outputs": [
    {
     "data": {
      "text/plain": [
       "(300,)"
      ]
     },
     "execution_count": 22,
     "metadata": {},
     "output_type": "execute_result"
    }
   ],
   "source": [
    "biases.shape"
   ]
  },
  {
   "cell_type": "markdown",
   "metadata": {},
   "source": [
    "Dense의 첫번째 층은 대칭성을 깨뜨리기 위해 연결 가중치를 무작위로 섞음! 그래서 weight가 무작위로 선정돼 있는 것이다.(모두 1이면 같은 뉴런이 된다)\n",
    "bias는 0으로 초기화 됨 "
   ]
  },
  {
   "cell_type": "markdown",
   "metadata": {},
   "source": [
    "### model compile"
   ]
  },
  {
   "cell_type": "markdown",
   "metadata": {},
   "source": [
    "compile 매서드를 통해 손실 함수와 옵티마이저를 지정해야 함"
   ]
  },
  {
   "cell_type": "code",
   "execution_count": 23,
   "metadata": {},
   "outputs": [],
   "source": [
    "model.compile(loss = 'sparse_categorical_crossentropy', \n",
    "             optimizer = 'sgd', #stocastic gradient descent\n",
    "              metrics = ['accuracy'] #훈련과 평가 시에 정확도를 측정하기 위해 accuracy를 사용!\n",
    "             )"
   ]
  },
  {
   "cell_type": "markdown",
   "metadata": {},
   "source": [
    "### model train and validation"
   ]
  },
  {
   "cell_type": "code",
   "execution_count": 24,
   "metadata": {},
   "outputs": [
    {
     "name": "stdout",
     "output_type": "stream",
     "text": [
      "Epoch 1/30\n",
      "1719/1719 [==============================] - 5s 3ms/step - loss: 0.9782 - accuracy: 0.6932 - val_loss: 0.5596 - val_accuracy: 0.7932\n",
      "Epoch 2/30\n",
      "1719/1719 [==============================] - 3s 2ms/step - loss: 0.5066 - accuracy: 0.8241 - val_loss: 0.5046 - val_accuracy: 0.8260\n",
      "Epoch 3/30\n",
      "1719/1719 [==============================] - 3s 2ms/step - loss: 0.4475 - accuracy: 0.8451 - val_loss: 0.4105 - val_accuracy: 0.8602\n",
      "Epoch 4/30\n",
      "1719/1719 [==============================] - 3s 2ms/step - loss: 0.4189 - accuracy: 0.8514 - val_loss: 0.4005 - val_accuracy: 0.8628\n",
      "Epoch 5/30\n",
      "1719/1719 [==============================] - 3s 2ms/step - loss: 0.4025 - accuracy: 0.8574 - val_loss: 0.3985 - val_accuracy: 0.8576\n",
      "Epoch 6/30\n",
      "1719/1719 [==============================] - 3s 2ms/step - loss: 0.3788 - accuracy: 0.8647 - val_loss: 0.3733 - val_accuracy: 0.8738\n",
      "Epoch 7/30\n",
      "1719/1719 [==============================] - 3s 2ms/step - loss: 0.3704 - accuracy: 0.8698 - val_loss: 0.3751 - val_accuracy: 0.8674\n",
      "Epoch 8/30\n",
      "1719/1719 [==============================] - 3s 2ms/step - loss: 0.3551 - accuracy: 0.8725 - val_loss: 0.3831 - val_accuracy: 0.8640\n",
      "Epoch 9/30\n",
      "1719/1719 [==============================] - 3s 2ms/step - loss: 0.3501 - accuracy: 0.8745 - val_loss: 0.3627 - val_accuracy: 0.8734\n",
      "Epoch 10/30\n",
      "1719/1719 [==============================] - 4s 2ms/step - loss: 0.3353 - accuracy: 0.8798 - val_loss: 0.3419 - val_accuracy: 0.8788\n",
      "Epoch 11/30\n",
      "1719/1719 [==============================] - 3s 2ms/step - loss: 0.3322 - accuracy: 0.8829 - val_loss: 0.3391 - val_accuracy: 0.8808\n",
      "Epoch 12/30\n",
      "1719/1719 [==============================] - 3s 2ms/step - loss: 0.3211 - accuracy: 0.8859 - val_loss: 0.3478 - val_accuracy: 0.8776\n",
      "Epoch 13/30\n",
      "1719/1719 [==============================] - 3s 2ms/step - loss: 0.3130 - accuracy: 0.8873 - val_loss: 0.3373 - val_accuracy: 0.8810\n",
      "Epoch 14/30\n",
      "1719/1719 [==============================] - 3s 2ms/step - loss: 0.3033 - accuracy: 0.8913 - val_loss: 0.3262 - val_accuracy: 0.8878\n",
      "Epoch 15/30\n",
      "1719/1719 [==============================] - 3s 2ms/step - loss: 0.2919 - accuracy: 0.8962 - val_loss: 0.3202 - val_accuracy: 0.8892\n",
      "Epoch 16/30\n",
      "1719/1719 [==============================] - 3s 2ms/step - loss: 0.2913 - accuracy: 0.8946 - val_loss: 0.3120 - val_accuracy: 0.8926\n",
      "Epoch 17/30\n",
      "1719/1719 [==============================] - 3s 2ms/step - loss: 0.2860 - accuracy: 0.8968 - val_loss: 0.3196 - val_accuracy: 0.8870\n",
      "Epoch 18/30\n",
      "1719/1719 [==============================] - 3s 2ms/step - loss: 0.2824 - accuracy: 0.8979 - val_loss: 0.3109 - val_accuracy: 0.8926\n",
      "Epoch 19/30\n",
      "1719/1719 [==============================] - 3s 2ms/step - loss: 0.2739 - accuracy: 0.9024 - val_loss: 0.3177 - val_accuracy: 0.8906\n",
      "Epoch 20/30\n",
      "1719/1719 [==============================] - 3s 2ms/step - loss: 0.2679 - accuracy: 0.9024 - val_loss: 0.3115 - val_accuracy: 0.8888\n",
      "Epoch 21/30\n",
      "1719/1719 [==============================] - 3s 2ms/step - loss: 0.2644 - accuracy: 0.9036 - val_loss: 0.3119 - val_accuracy: 0.8874\n",
      "Epoch 22/30\n",
      "1719/1719 [==============================] - 3s 2ms/step - loss: 0.2576 - accuracy: 0.9060 - val_loss: 0.3099 - val_accuracy: 0.8878\n",
      "Epoch 23/30\n",
      "1719/1719 [==============================] - 3s 2ms/step - loss: 0.2566 - accuracy: 0.9069 - val_loss: 0.3184 - val_accuracy: 0.8848\n",
      "Epoch 24/30\n",
      "1719/1719 [==============================] - 3s 2ms/step - loss: 0.2436 - accuracy: 0.9131 - val_loss: 0.3204 - val_accuracy: 0.8864\n",
      "Epoch 25/30\n",
      "1719/1719 [==============================] - 3s 2ms/step - loss: 0.2476 - accuracy: 0.9107 - val_loss: 0.3042 - val_accuracy: 0.8938\n",
      "Epoch 26/30\n",
      "1719/1719 [==============================] - 3s 2ms/step - loss: 0.2411 - accuracy: 0.9145 - val_loss: 0.3259 - val_accuracy: 0.8838\n",
      "Epoch 27/30\n",
      "1719/1719 [==============================] - 3s 2ms/step - loss: 0.2415 - accuracy: 0.9130 - val_loss: 0.3140 - val_accuracy: 0.8902\n",
      "Epoch 28/30\n",
      "1719/1719 [==============================] - 3s 2ms/step - loss: 0.2311 - accuracy: 0.9172 - val_loss: 0.3011 - val_accuracy: 0.8950\n",
      "Epoch 29/30\n",
      "1719/1719 [==============================] - 3s 2ms/step - loss: 0.2344 - accuracy: 0.9164 - val_loss: 0.3098 - val_accuracy: 0.8928\n",
      "Epoch 30/30\n",
      "1719/1719 [==============================] - 3s 2ms/step - loss: 0.2259 - accuracy: 0.9180 - val_loss: 0.2913 - val_accuracy: 0.8996\n"
     ]
    }
   ],
   "source": [
    "history = model.fit(x = x_train, y = y_train, epochs = 30 #30번 반복?\n",
    "                   , validation_data = (x_valid, y_valid) #이렇게 검증 셋을 지정해줄 수 있음\n",
    "                   )"
   ]
  },
  {
   "cell_type": "markdown",
   "metadata": {},
   "source": [
    "|\n",
    "> 상당히 크리티컬한 내용 : 클래스가 편중돼 있을 경우, 클래스에 가중치를 부여할 수 있다. class_weight를 통해서 적게 등장하는 클래스에 높은 가중치를 부여하고, 많이 등장하는 클래스에 낮은 가중치를 부여하면 된다"
   ]
  },
  {
   "cell_type": "markdown",
   "metadata": {},
   "source": [
    "- fit 메서드가 반환하는 객체\n",
    "\n",
    "1)훈련 파라미터, 2)수행된 에포크 리스트, <span style=\"color:lightblue\">**3)에포크가 끝날때마다 훈련 세트와 검증 세트에 대한 손실과 측정한 지표를 담은 딕셔너리**</span>\n",
    "\n"
   ]
  },
  {
   "cell_type": "code",
   "execution_count": 25,
   "metadata": {},
   "outputs": [
    {
     "data": {
      "image/png": "[encoded data removed]",
      "text/plain": [
       "<Figure size 576x360 with 1 Axes>"
      ]
     },
     "metadata": {
      "needs_background": "light"
     },
     "output_type": "display_data"
    }
   ],
   "source": [
    "import pandas as pd\n",
    "import matplotlib.pyplot as plt\n",
    "\n",
    "pd.DataFrame(history.history).plot(figsize = (8,5))\n",
    "plt.grid(True)\n",
    "plt.gca().set_ylim(0,1)\n",
    "plt.show()\n"
   ]
  },
  {
   "cell_type": "markdown",
   "metadata": {},
   "source": [
    "> 검승 손실은 에포크가 끝난 후에 계산되고, 훈련 손실은 에포크가 진행되는 동안 계산되기 때문에, 훈련 곡선은 에포크의 절반만큼 왼쪽으로 이동해야 한다.\n",
    "\n",
    "> train을 계속하고 싶다면 fit() 메서드를 이용하면, 중지되었던 곳부터 다시 시작하게 될 것이다.\n",
    "\n",
    "> **가장 먼저 튜닝해야할 hyperparameter는 학습률!!**"
   ]
  },
  {
   "cell_type": "markdown",
   "metadata": {},
   "source": [
    "- holdout set 예측\n",
    "\n",
    "모델 상용화 이전에 모델의 일반화 오차를 추정할 수 있다."
   ]
  },
  {
   "cell_type": "code",
   "execution_count": 26,
   "metadata": {},
   "outputs": [
    {
     "name": "stdout",
     "output_type": "stream",
     "text": [
      "313/313 [==============================] - 0s 1ms/step - loss: 0.3302 - accuracy: 0.8822\n"
     ]
    },
    {
     "data": {
      "text/plain": [
       "[0.33017656207084656, 0.8822000026702881]"
      ]
     },
     "execution_count": 26,
     "metadata": {},
     "output_type": "execute_result"
    }
   ],
   "source": [
    "model.evaluate(x_test, y_test)"
   ]
  },
  {
   "cell_type": "markdown",
   "metadata": {},
   "source": [
    "### Predict"
   ]
  },
  {
   "cell_type": "markdown",
   "metadata": {},
   "source": [
    "새로운 샘플에 대해 예측을 진행할 수 있다"
   ]
  },
  {
   "cell_type": "code",
   "execution_count": 27,
   "metadata": {},
   "outputs": [
    {
     "data": {
      "text/plain": [
       "array([[0.  , 0.  , 0.  , 0.  , 0.  , 0.01, 0.  , 0.03, 0.  , 0.97],\n",
       "       [0.  , 0.  , 1.  , 0.  , 0.  , 0.  , 0.  , 0.  , 0.  , 0.  ],\n",
       "       [0.  , 1.  , 0.  , 0.  , 0.  , 0.  , 0.  , 0.  , 0.  , 0.  ]],\n",
       "      dtype=float32)"
      ]
     },
     "execution_count": 27,
     "metadata": {},
     "output_type": "execute_result"
    }
   ],
   "source": [
    "x_new = x_test[:3]\n",
    "y_proba = model.predict(x_new)\n",
    "\n",
    "y_proba.round(2)"
   ]
  },
  {
   "cell_type": "markdown",
   "metadata": {},
   "source": [
    "> class : ['T-shirt/top', 'Trouser', 'Pullover', 'Dress', 'Coat', 'Sandal', 'Shirt', 'Sneaker', 'Bag', 'Ankle Boot']"
   ]
  },
  {
   "cell_type": "markdown",
   "metadata": {},
   "source": [
    "> 해석 : 첫번째 이미지에 대해서는 9클래스(ankle boot)일 확률이 99%, 7클래스(sneaker)일 확률이 1%라고 예측한 것이다."
   ]
  },
  {
   "cell_type": "markdown",
   "metadata": {},
   "source": [
    "predict_classes()라는 메서드를 통해 클래스만 분류할 수 있다."
   ]
  },
  {
   "cell_type": "code",
   "execution_count": 28,
   "metadata": {},
   "outputs": [
    {
     "name": "stderr",
     "output_type": "stream",
     "text": [
      "C:\\Users\\jiho0\\anaconda3\\lib\\site-packages\\tensorflow\\python\\keras\\engine\\sequential.py:450: UserWarning: `model.predict_classes()` is deprecated and will be removed after 2021-01-01. Please use instead:* `np.argmax(model.predict(x), axis=-1)`,   if your model does multi-class classification   (e.g. if it uses a `softmax` last-layer activation).* `(model.predict(x) > 0.5).astype(\"int32\")`,   if your model does binary classification   (e.g. if it uses a `sigmoid` last-layer activation).\n",
      "  warnings.warn('`model.predict_classes()` is deprecated and '\n"
     ]
    },
    {
     "data": {
      "text/plain": [
       "array(['Ankle Boot', 'Pullover', 'Trouser'], dtype='<U11')"
      ]
     },
     "execution_count": 28,
     "metadata": {},
     "output_type": "execute_result"
    }
   ],
   "source": [
    "y_pred = model.predict_classes(x_new)\n",
    "y_pred\n",
    "\n",
    "np.array(class_names)[y_pred]"
   ]
  },
  {
   "cell_type": "code",
   "execution_count": 29,
   "metadata": {},
   "outputs": [
    {
     "data": {
      "text/plain": [
       "array([9, 2, 1], dtype=uint8)"
      ]
     },
     "execution_count": 29,
     "metadata": {},
     "output_type": "execute_result"
    }
   ],
   "source": [
    "y_new = y_test[:3]\n",
    "\n",
    "y_new"
   ]
  },
  {
   "cell_type": "markdown",
   "metadata": {},
   "source": [
    "## 10.2.3 회귀용 다층 퍼셉트론 생성 "
   ]
  },
  {
   "cell_type": "code",
   "execution_count": 30,
   "metadata": {},
   "outputs": [],
   "source": [
    "from sklearn.datasets import fetch_california_housing\n",
    "from sklearn.model_selection import train_test_split\n",
    "from sklearn.preprocessing import StandardScaler\n",
    "from sklearn import metrics\n",
    "import numpy as np\n",
    "#데이터 적재\n",
    "housing = fetch_california_housing()\n",
    "\n",
    "#train test 데이터 분할\n",
    "x_train_full, x_test, y_train_full, y_test = train_test_split(housing.data, housing.target)\n",
    "\n",
    "#train - valid 데이터 분할\n",
    "x_train, x_valid, y_train, y_valid = train_test_split(x_train_full, y_train_full)\n",
    "\n",
    "#표준화 작업을 거쳐주는 것 같다.\n",
    "scaler = StandardScaler()\n",
    "x_train = scaler.fit_transform(x_train)\n",
    "x_valid = scaler.fit_transform(x_valid)\n",
    "x_test = scaler.fit_transform(x_test)"
   ]
  },
  {
   "cell_type": "code",
   "execution_count": 31,
   "metadata": {},
   "outputs": [
    {
     "name": "stdout",
     "output_type": "stream",
     "text": [
      "['MedInc', 'HouseAge', 'AveRooms', 'AveBedrms', 'Population', 'AveOccup', 'Latitude', 'Longitude']\n",
      " *데이터 : [ 8.30140000e+00  2.10000000e+01  6.23813708e+00  9.71880492e-01\n",
      "  2.40100000e+03  2.10984183e+00  3.78600000e+01 -1.22220000e+02] \n",
      " *예측변수 : 3.585 \n"
     ]
    }
   ],
   "source": [
    "#housing은 무슨 데이터인가\n",
    "print(housing['feature_names']) \n",
    "\n",
    "print(\" *데이터 : {0} \\n *예측변수 : {1} \".format(housing['data'][1], housing['target'][1]))"
   ]
  },
  {
   "cell_type": "code",
   "execution_count": 32,
   "metadata": {},
   "outputs": [
    {
     "data": {
      "text/plain": [
       "(15480, 8)"
      ]
     },
     "execution_count": 32,
     "metadata": {},
     "output_type": "execute_result"
    }
   ],
   "source": [
    "x_train_full.shape"
   ]
  },
  {
   "cell_type": "markdown",
   "metadata": {},
   "source": [
    "총 8개의 변수를 가진 15480 obs의 데이터 "
   ]
  },
  {
   "cell_type": "markdown",
   "metadata": {},
   "source": [
    "- 모델 구축"
   ]
  },
  {
   "cell_type": "code",
   "execution_count": 33,
   "metadata": {},
   "outputs": [
    {
     "name": "stdout",
     "output_type": "stream",
     "text": [
      "Epoch 1/30\n",
      "363/363 [==============================] - 1s 1ms/step - loss: 1.6019 - val_loss: 0.7122\n",
      "Epoch 2/30\n",
      "363/363 [==============================] - 0s 1ms/step - loss: 0.5419 - val_loss: 0.5253\n",
      "Epoch 3/30\n",
      "363/363 [==============================] - 0s 1ms/step - loss: 0.4126 - val_loss: 0.4861\n",
      "Epoch 4/30\n",
      "363/363 [==============================] - 0s 1ms/step - loss: 0.4062 - val_loss: 0.5117\n",
      "Epoch 5/30\n",
      "363/363 [==============================] - 0s 1ms/step - loss: 0.4987 - val_loss: 1.3342\n",
      "Epoch 6/30\n",
      "363/363 [==============================] - 0s 1ms/step - loss: 1.0843 - val_loss: 0.5525\n",
      "Epoch 7/30\n",
      "363/363 [==============================] - 0s 1ms/step - loss: 0.4842 - val_loss: 0.4895\n",
      "Epoch 8/30\n",
      "363/363 [==============================] - 0s 1ms/step - loss: 0.4275 - val_loss: 0.4575\n",
      "Epoch 9/30\n",
      "363/363 [==============================] - 0s 1ms/step - loss: 0.4093 - val_loss: 0.4498\n",
      "Epoch 10/30\n",
      "363/363 [==============================] - 0s 1ms/step - loss: 0.4183 - val_loss: 0.4437\n",
      "Epoch 11/30\n",
      "363/363 [==============================] - 0s 1ms/step - loss: 0.4046 - val_loss: 0.4727\n",
      "Epoch 12/30\n",
      "363/363 [==============================] - 0s 1ms/step - loss: 0.3889 - val_loss: 0.4414\n",
      "Epoch 13/30\n",
      "363/363 [==============================] - 0s 1ms/step - loss: 0.3786 - val_loss: 0.4571\n",
      "Epoch 14/30\n",
      "363/363 [==============================] - 0s 1ms/step - loss: 0.3751 - val_loss: 0.4334\n",
      "Epoch 15/30\n",
      "363/363 [==============================] - 0s 1ms/step - loss: 0.3825 - val_loss: 0.4233\n",
      "Epoch 16/30\n",
      "363/363 [==============================] - 0s 1ms/step - loss: 0.3921 - val_loss: 0.4449\n",
      "Epoch 17/30\n",
      "363/363 [==============================] - 0s 1ms/step - loss: 0.4029 - val_loss: 0.4374\n",
      "Epoch 18/30\n",
      "363/363 [==============================] - 0s 1ms/step - loss: 0.4150 - val_loss: 0.4326\n",
      "Epoch 19/30\n",
      "363/363 [==============================] - 0s 1ms/step - loss: 0.3816 - val_loss: 0.4220\n",
      "Epoch 20/30\n",
      "363/363 [==============================] - 0s 1ms/step - loss: 0.3719 - val_loss: 0.4238\n",
      "Epoch 21/30\n",
      "363/363 [==============================] - 0s 1ms/step - loss: 0.3771 - val_loss: 0.6241\n",
      "Epoch 22/30\n",
      "363/363 [==============================] - 0s 1ms/step - loss: 0.3962 - val_loss: 0.4157\n",
      "Epoch 23/30\n",
      "363/363 [==============================] - 0s 1ms/step - loss: 0.3665 - val_loss: 0.4225\n",
      "Epoch 24/30\n",
      "363/363 [==============================] - 0s 1ms/step - loss: 0.3675 - val_loss: 0.4312\n",
      "Epoch 25/30\n",
      "363/363 [==============================] - 0s 1ms/step - loss: 0.3633 - val_loss: 0.4133\n",
      "Epoch 26/30\n",
      "363/363 [==============================] - 0s 1ms/step - loss: 0.3517 - val_loss: 0.4179\n",
      "Epoch 27/30\n",
      "363/363 [==============================] - 0s 1ms/step - loss: 0.3644 - val_loss: 0.4160\n",
      "Epoch 28/30\n",
      "363/363 [==============================] - 0s 1ms/step - loss: 0.3599 - val_loss: 0.4163\n",
      "Epoch 29/30\n",
      "363/363 [==============================] - 0s 1ms/step - loss: 0.3658 - val_loss: 0.4127\n",
      "Epoch 30/30\n",
      "363/363 [==============================] - 0s 1ms/step - loss: 0.3597 - val_loss: 0.4105\n"
     ]
    }
   ],
   "source": [
    "np.random.seed(1234)\n",
    "model_reg = keras.models.Sequential([\n",
    "    keras.layers.Dense(30, activation = 'relu', input_shape = x_train.shape[1:]), #30개의 뉴런! relu를 활성화로 가짐\n",
    "    keras.layers.Dense(1)    #출력은 활성화함수가 없는 하나의 뉴런이다.\n",
    "])\n",
    "\n",
    "#모델을 학습하자\n",
    "model_reg.compile(loss = 'mean_squared_error', optimizer = 'sgd')\n",
    "history = model_reg.fit(x_train, y_train, epochs = 30,\n",
    "                   validation_data = (x_valid, y_valid))\n",
    "\n",
    "#사실 층이 1층이라서 연산시간이 생각보다 짧다"
   ]
  },
  {
   "cell_type": "code",
   "execution_count": 34,
   "metadata": {},
   "outputs": [
    {
     "data": {
      "image/png": "[encoded data removed]",
      "text/plain": [
       "<Figure size 576x360 with 1 Axes>"
      ]
     },
     "metadata": {
      "needs_background": "light"
     },
     "output_type": "display_data"
    }
   ],
   "source": [
    "import pandas as pd\n",
    "import matplotlib.pyplot as plt\n",
    "\n",
    "pd.DataFrame(history.history).plot(figsize = (8,5))\n",
    "plt.grid(True)\n",
    "plt.gca().set_ylim(0,1)\n",
    "plt.show()\n",
    "\n",
    "#이상하게도 validation에 대해서도 상당한 과적합이 나와버린다... 이상한 방향으로 학습을 진행하고 있는 것 같음"
   ]
  },
  {
   "cell_type": "code",
   "execution_count": 35,
   "metadata": {},
   "outputs": [
    {
     "name": "stdout",
     "output_type": "stream",
     "text": [
      "162/162 [==============================] - 0s 885us/step - loss: 4.1330\n"
     ]
    }
   ],
   "source": [
    "#hold out에 대한 예측\n",
    "mse_test = model_reg.evaluate(x_test, y_test)"
   ]
  },
  {
   "cell_type": "code",
   "execution_count": 36,
   "metadata": {},
   "outputs": [
    {
     "data": {
      "text/plain": [
       "0.7002470018416457"
      ]
     },
     "execution_count": 36,
     "metadata": {},
     "output_type": "execute_result"
    }
   ],
   "source": [
    "#새로운 데이터에 대해 예측\n",
    "x_new = x_test[:3]\n",
    "y_pred = model_reg.predict(x_new)\n",
    "metrics.mean_squared_error(y_pred, y_test[:3])"
   ]
  },
  {
   "cell_type": "markdown",
   "metadata": {},
   "source": [
    "대충 정리하자면 Keras Sequential API를 이용한 모형 구축은\n",
    "\n",
    "> 1) kreas.models.Sequential 을 이용하여 모델 구축 \n",
    "\n",
    "> 2) 모델 compile - 손실함수와 옵티마이저(ex 경사하강법) , 부가적으로 훈련과 평가시 계산할 지표 또한 지정 가능(metrics), 이는 단순히 측정 지표이다\n",
    "\n",
    "> 3) fit()메서드를 통해 모델 훈련 및 predict를 통한 값 에측"
   ]
  },
  {
   "cell_type": "markdown",
   "metadata": {},
   "source": [
    "## 10.2.4 함수형 API를 사용하여 복잡한 모델 구축"
   ]
  },
  {
   "cell_type": "code",
   "execution_count": 40,
   "metadata": {},
   "outputs": [],
   "source": [
    "#input 객체 생성 - shape과 dtype을 이용하여 input을 구축\n",
    "input_ = keras.layers.Input(shape = x_train.shape[1:])\n",
    "\n",
    "#Dense층 생성\n",
    "hidden1 = keras.layers.Dense(30, activation = 'relu')(input_)\n",
    "hidden2 = keras.layers.Dense(30, activation = 'relu')(hidden1) #뒤에 이렇게 함수처럼 넣을 객체를 지정해준다.\n",
    "#함수처럼이 무슨 의미냐면 sum()처럼 만들자마자 위의 값을 함수처럼 넣는다는 의미\n",
    "\n",
    "#concatenate층으로 *두번째 은닉층과 input층을 연결해준다.*\n",
    "concat = keras.layers.Concatenate()([input_, hidden2])\n",
    "#이게 왜 생긴거냐면 와이드 경로는 입력의 일부 또는 전체가 바로 출력층으로 전달! 그래서 와이드 신경망을 구축하기 위해 넣은 것이라 생각하면 된다.\n",
    "\n",
    "#출력층 만들기 - concat을 받는다는 것은 input의 값과 hidden2의 출력값을 여기서 출력해준다는 의미다.\n",
    "output = keras.layers.Dense(1)(concat)\n",
    "\n",
    "#input과 output을 만들어 케라스 모델을 구축한다\n",
    "model = keras.Model(inputs = [input_], outputs = [output])"
   ]
  },
  {
   "cell_type": "markdown",
   "metadata": {},
   "source": [
    "- 입력층 두개 만들기"
   ]
  },
  {
   "cell_type": "code",
   "execution_count": 42,
   "metadata": {},
   "outputs": [],
   "source": [
    "#5개의 특성은 짧은 경로로 보내고, 6개의 특성은 깊은 경로로 보낸다고 가정\n",
    "\n",
    "#input층 만들기\n",
    "input_A = keras.layers.Input(shape = [5], name = 'wide_input')\n",
    "input_B = keras.layers.Input(shape = [6], name = 'deep_input')\n",
    "\n",
    "#Dense층 만들기\n",
    "hidden1 = keras.layers.Dense(30, activation = 'relu')(input_B)\n",
    "hidden2 = keras.layers.Dense(30, activation = 'relu')(hidden1) \n",
    "\n",
    "#concatenate층 만들기\n",
    "concat = keras.layers.Concatenate()([input_A, hidden2])\n",
    "\n",
    "#output층 만들기\n",
    "output = keras.layers.Dense(1, name = 'output')(concat)\n",
    "\n",
    "#input과 output을 통해 케라스 모델 구축\n",
    "model2 = keras.Model(inputs = [input_A, input_B], outputs = [output])"
   ]
  },
  {
   "cell_type": "markdown",
   "metadata": {},
   "source": [
    "위 경우 학습할 때 튜플 형태인 x_train_A, x_train_B 이렇게 보내줘야 한다. "
   ]
  },
  {
   "cell_type": "code",
   "execution_count": 49,
   "metadata": {},
   "outputs": [
    {
     "name": "stdout",
     "output_type": "stream",
     "text": [
      "Epoch 1/30\n",
      "363/363 [==============================] - 1s 2ms/step - loss: 0.3882 - val_loss: 0.4448\n",
      "Epoch 2/30\n",
      "363/363 [==============================] - 0s 1ms/step - loss: 0.3969 - val_loss: 0.4376\n",
      "Epoch 3/30\n",
      "363/363 [==============================] - 0s 1ms/step - loss: 0.3797 - val_loss: 0.4407\n",
      "Epoch 4/30\n",
      "363/363 [==============================] - 0s 1ms/step - loss: 0.3822 - val_loss: 0.4365\n",
      "Epoch 5/30\n",
      "363/363 [==============================] - 0s 1ms/step - loss: 0.3972 - val_loss: 0.4395\n",
      "Epoch 6/30\n",
      "363/363 [==============================] - 0s 1ms/step - loss: 0.3807 - val_loss: 0.4360\n",
      "Epoch 7/30\n",
      "363/363 [==============================] - 0s 1ms/step - loss: 0.3960 - val_loss: 0.4340\n",
      "Epoch 8/30\n",
      "363/363 [==============================] - 0s 1ms/step - loss: 0.3736 - val_loss: 0.4340\n",
      "Epoch 9/30\n",
      "363/363 [==============================] - 0s 1ms/step - loss: 0.3768 - val_loss: 0.4370\n",
      "Epoch 10/30\n",
      "363/363 [==============================] - 0s 1ms/step - loss: 0.3668 - val_loss: 0.4300\n",
      "Epoch 11/30\n",
      "363/363 [==============================] - 0s 1ms/step - loss: 0.3846 - val_loss: 0.4300\n",
      "Epoch 12/30\n",
      "363/363 [==============================] - 0s 1ms/step - loss: 0.3787 - val_loss: 0.4291\n",
      "Epoch 13/30\n",
      "363/363 [==============================] - 0s 1ms/step - loss: 0.3879 - val_loss: 0.4328\n",
      "Epoch 14/30\n",
      "363/363 [==============================] - 0s 1ms/step - loss: 0.4015 - val_loss: 0.4330\n",
      "Epoch 15/30\n",
      "363/363 [==============================] - 0s 1ms/step - loss: 0.3639 - val_loss: 0.4346\n",
      "Epoch 16/30\n",
      "363/363 [==============================] - 0s 1ms/step - loss: 0.3648 - val_loss: 0.4288\n",
      "Epoch 17/30\n",
      "363/363 [==============================] - 0s 1ms/step - loss: 0.3866 - val_loss: 0.4254\n",
      "Epoch 18/30\n",
      "363/363 [==============================] - 0s 1ms/step - loss: 0.3874 - val_loss: 0.4256\n",
      "Epoch 19/30\n",
      "363/363 [==============================] - 0s 1ms/step - loss: 0.3796 - val_loss: 0.4251\n",
      "Epoch 20/30\n",
      "363/363 [==============================] - 0s 1ms/step - loss: 0.3761 - val_loss: 0.4249\n",
      "Epoch 21/30\n",
      "363/363 [==============================] - 0s 1ms/step - loss: 0.3634 - val_loss: 0.4274\n",
      "Epoch 22/30\n",
      "363/363 [==============================] - 0s 1ms/step - loss: 0.3816 - val_loss: 0.4258\n",
      "Epoch 23/30\n",
      "363/363 [==============================] - 0s 1ms/step - loss: 0.3909 - val_loss: 0.4228\n",
      "Epoch 24/30\n",
      "363/363 [==============================] - 0s 1ms/step - loss: 0.3707 - val_loss: 0.4223\n",
      "Epoch 25/30\n",
      "363/363 [==============================] - 0s 1ms/step - loss: 0.3619 - val_loss: 0.4277\n",
      "Epoch 26/30\n",
      "363/363 [==============================] - 0s 1ms/step - loss: 0.3758 - val_loss: 0.4214\n",
      "Epoch 27/30\n",
      "363/363 [==============================] - 0s 1ms/step - loss: 0.3718 - val_loss: 0.4244\n",
      "Epoch 28/30\n",
      "363/363 [==============================] - 0s 1ms/step - loss: 0.3779 - val_loss: 0.4211\n",
      "Epoch 29/30\n",
      "363/363 [==============================] - 0s 1ms/step - loss: 0.3651 - val_loss: 0.4241\n",
      "Epoch 30/30\n",
      "363/363 [==============================] - 0s 1ms/step - loss: 0.3764 - val_loss: 0.4198\n"
     ]
    }
   ],
   "source": [
    "np.random.seed(1234)\n",
    "\n",
    "#model complie - 손실함수와 옵티마이저 구축 \n",
    "model2.compile(loss = 'mse', optimizer = keras.optimizers.SGD(lr = 0.001))\n",
    "\n",
    "#train, valid, test셋 나누기\n",
    "x_train_A,  x_train_B = x_train[:,:5], x_train[:, 2:] #0에서 4번까지의 특성은 A로, 2번에서 7번까지의 특성은 B로 보낸다. 여기서 특성은 변수인 것 같다.\n",
    "x_valid_A,  x_valid_B = x_valid[:,:5], x_valid[:, 2:] \n",
    "x_test_A,  x_test_B = x_test[:,:5], x_test[:, 2:]\n",
    "x_new_A, x_new_B = x_test_A[:3], x_test_B[:3]\n",
    "\n",
    "#model fit 하기\n",
    "history2 = model2.fit((x_train_A, x_train_B), y_train, epochs = 30,\n",
    "                     validation_data = ((x_valid_A, x_valid_B), y_valid))\n"
   ]
  },
  {
   "cell_type": "code",
   "execution_count": 51,
   "metadata": {},
   "outputs": [
    {
     "name": "stdout",
     "output_type": "stream",
     "text": [
      "162/162 [==============================] - 0s 991us/step - loss: 1.0770\n"
     ]
    }
   ],
   "source": [
    "#holdout에 대한 결과!\n",
    "mse_test = model2.evaluate((x_test_A, x_test_B), y_test)\n"
   ]
  },
  {
   "cell_type": "code",
   "execution_count": 59,
   "metadata": {},
   "outputs": [
    {
     "data": {
      "text/plain": [
       "0.36043922340857254"
      ]
     },
     "execution_count": 59,
     "metadata": {},
     "output_type": "execute_result"
    }
   ],
   "source": [
    "from sklearn import metrics\n",
    "\n",
    "#새로운 데이터 예측\n",
    "y_pred = model2.predict((x_new_A, x_new_B))\n",
    "\n",
    "#예측한 데이터 평가\n",
    "metrics.mean_squared_error(y_true = y_test[:3], y_pred = y_pred)"
   ]
  },
  {
   "cell_type": "markdown",
   "metadata": {},
   "source": [
    "- 출력 여러개 만들기"
   ]
  },
  {
   "cell_type": "markdown",
   "metadata": {},
   "source": [
    "에를 들어 얼굴 사진을 분류할때 한 출력은 사라의 얼굴 표정(기쁨, 슬픔 등)을 분류하고 다른 출력은 안경을 썼는지 구별한다면, 아주 편한 모델을 구축할 수 있다"
   ]
  },
  {
   "cell_type": "code",
   "execution_count": 60,
   "metadata": {},
   "outputs": [],
   "source": [
    "#5개의 특성은 짧은 경로로 보내고, 6개의 특성은 깊은 경로로 보낸다고 가정 + 출력을 두개로 나눈다고 해보자.\n",
    "\n",
    "#input층 만들기\n",
    "input_A = keras.layers.Input(shape = [5], name = 'wide_input')\n",
    "input_B = keras.layers.Input(shape = [6], name = 'deep_input')\n",
    "\n",
    "#Dense층 만들기\n",
    "hidden1 = keras.layers.Dense(30, activation = 'relu')(input_B)\n",
    "hidden2 = keras.layers.Dense(30, activation = 'relu')(hidden1) \n",
    "\n",
    "#concatenate층 만들기\n",
    "concat = keras.layers.Concatenate()([input_A, hidden2])\n",
    "\n",
    "#이전까지는 위와 동일\n",
    "output = keras.layers.Dense(1, name = 'output')(concat)\n",
    "aux_output = keras.layers.Dense(1, name = 'aux_output')(hidden2) #hidden2만 사용해서!\n",
    "\n",
    "#모형 구축 - output을 두개 넣어주면 된다.\n",
    "model3 = keras.Model(inputs = [input_A, input_B], outputs = [output, aux_output])\n"
   ]
  },
  {
   "cell_type": "code",
   "execution_count": 62,
   "metadata": {},
   "outputs": [],
   "source": [
    "#각 출력은 자신만의 손실함수가 필요 + 각 출력에 가중치를 다르게 할당할 수 있다\n",
    "model.compile(loss = ['mse', 'mse'], loss_weights = [0.9, 0.1], optimizer = 'sgd')"
   ]
  },
  {
   "cell_type": "code",
   "execution_count": 63,
   "metadata": {},
   "outputs": [
    {
     "name": "stdout",
     "output_type": "stream",
     "text": [
      "Epoch 1/30\n",
      "363/363 [==============================] - 1s 2ms/step - loss: 1.5427 - output_loss: 1.3860 - aux_output_loss: 2.9527 - val_loss: 0.7349 - val_output_loss: 0.6756 - val_aux_output_loss: 1.2687\n",
      "Epoch 2/30\n",
      "363/363 [==============================] - 1s 1ms/step - loss: 0.6463 - output_loss: 0.5861 - aux_output_loss: 1.1875 - val_loss: 0.5611 - val_output_loss: 0.5084 - val_aux_output_loss: 1.0348\n",
      "Epoch 3/30\n",
      "363/363 [==============================] - 1s 1ms/step - loss: 0.5449 - output_loss: 0.4992 - aux_output_loss: 0.9565 - val_loss: 0.5405 - val_output_loss: 0.4987 - val_aux_output_loss: 0.9171\n",
      "Epoch 4/30\n",
      "363/363 [==============================] - 1s 1ms/step - loss: 0.5125 - output_loss: 0.4724 - aux_output_loss: 0.8728 - val_loss: 0.5208 - val_output_loss: 0.4869 - val_aux_output_loss: 0.8252\n",
      "Epoch 5/30\n",
      "363/363 [==============================] - 1s 1ms/step - loss: 0.4681 - output_loss: 0.4362 - aux_output_loss: 0.7553 - val_loss: 0.7229 - val_output_loss: 0.7122 - val_aux_output_loss: 0.8199\n",
      "Epoch 6/30\n",
      "363/363 [==============================] - 1s 1ms/step - loss: 0.4688 - output_loss: 0.4438 - aux_output_loss: 0.6932 - val_loss: 0.4920 - val_output_loss: 0.4682 - val_aux_output_loss: 0.7067\n",
      "Epoch 7/30\n",
      "363/363 [==============================] - 1s 1ms/step - loss: 0.4454 - output_loss: 0.4222 - aux_output_loss: 0.6551 - val_loss: 0.4675 - val_output_loss: 0.4457 - val_aux_output_loss: 0.6630\n",
      "Epoch 8/30\n",
      "363/363 [==============================] - 1s 1ms/step - loss: 0.4165 - output_loss: 0.3963 - aux_output_loss: 0.5985 - val_loss: 0.4683 - val_output_loss: 0.4485 - val_aux_output_loss: 0.6465\n",
      "Epoch 9/30\n",
      "363/363 [==============================] - 1s 1ms/step - loss: 0.4093 - output_loss: 0.3915 - aux_output_loss: 0.5697 - val_loss: 0.4608 - val_output_loss: 0.4421 - val_aux_output_loss: 0.6287\n",
      "Epoch 10/30\n",
      "363/363 [==============================] - 1s 1ms/step - loss: 0.4162 - output_loss: 0.4001 - aux_output_loss: 0.5611 - val_loss: 0.5339 - val_output_loss: 0.5143 - val_aux_output_loss: 0.7103\n",
      "Epoch 11/30\n",
      "363/363 [==============================] - 1s 1ms/step - loss: 0.4243 - output_loss: 0.4073 - aux_output_loss: 0.5771 - val_loss: 0.4441 - val_output_loss: 0.4273 - val_aux_output_loss: 0.5947\n",
      "Epoch 12/30\n",
      "363/363 [==============================] - 1s 1ms/step - loss: 0.3958 - output_loss: 0.3817 - aux_output_loss: 0.5228 - val_loss: 0.4403 - val_output_loss: 0.4250 - val_aux_output_loss: 0.5782\n",
      "Epoch 13/30\n",
      "363/363 [==============================] - 1s 1ms/step - loss: 0.3775 - output_loss: 0.3641 - aux_output_loss: 0.4986 - val_loss: 0.4639 - val_output_loss: 0.4516 - val_aux_output_loss: 0.5751\n",
      "Epoch 14/30\n",
      "363/363 [==============================] - 1s 1ms/step - loss: 0.3729 - output_loss: 0.3599 - aux_output_loss: 0.4892 - val_loss: 0.4343 - val_output_loss: 0.4195 - val_aux_output_loss: 0.5677\n",
      "Epoch 15/30\n",
      "363/363 [==============================] - ETA: 0s - loss: 0.3941 - output_loss: 0.3810 - aux_output_loss: 0.511 - 1s 1ms/step - loss: 0.3917 - output_loss: 0.3788 - aux_output_loss: 0.5081 - val_loss: 0.4253 - val_output_loss: 0.4114 - val_aux_output_loss: 0.5505\n",
      "Epoch 16/30\n",
      "363/363 [==============================] - 1s 1ms/step - loss: 0.3608 - output_loss: 0.3484 - aux_output_loss: 0.4729 - val_loss: 0.4331 - val_output_loss: 0.4199 - val_aux_output_loss: 0.5524\n",
      "Epoch 17/30\n",
      "363/363 [==============================] - 1s 1ms/step - loss: 0.3585 - output_loss: 0.3475 - aux_output_loss: 0.4579 - val_loss: 0.4313 - val_output_loss: 0.4172 - val_aux_output_loss: 0.5578\n",
      "Epoch 18/30\n",
      "363/363 [==============================] - 1s 1ms/step - loss: 0.3455 - output_loss: 0.3356 - aux_output_loss: 0.4355 - val_loss: 0.4162 - val_output_loss: 0.4027 - val_aux_output_loss: 0.5370\n",
      "Epoch 19/30\n",
      "363/363 [==============================] - 1s 1ms/step - loss: 0.3550 - output_loss: 0.3434 - aux_output_loss: 0.4594 - val_loss: 0.4177 - val_output_loss: 0.4042 - val_aux_output_loss: 0.5390\n",
      "Epoch 20/30\n",
      "363/363 [==============================] - 1s 1ms/step - loss: 0.3471 - output_loss: 0.3358 - aux_output_loss: 0.4491 - val_loss: 0.4193 - val_output_loss: 0.4064 - val_aux_output_loss: 0.5358\n",
      "Epoch 21/30\n",
      "363/363 [==============================] - 1s 1ms/step - loss: 0.3326 - output_loss: 0.3220 - aux_output_loss: 0.4279 - val_loss: 0.4287 - val_output_loss: 0.4161 - val_aux_output_loss: 0.5415\n",
      "Epoch 22/30\n",
      "363/363 [==============================] - 1s 2ms/step - loss: 0.3529 - output_loss: 0.3422 - aux_output_loss: 0.4493 - val_loss: 0.4108 - val_output_loss: 0.3979 - val_aux_output_loss: 0.5269\n",
      "Epoch 23/30\n",
      "363/363 [==============================] - 0s 1ms/step - loss: 0.3422 - output_loss: 0.3312 - aux_output_loss: 0.4408 - val_loss: 0.4232 - val_output_loss: 0.4111 - val_aux_output_loss: 0.5325\n",
      "Epoch 24/30\n",
      "363/363 [==============================] - 1s 1ms/step - loss: 0.3891 - output_loss: 0.3840 - aux_output_loss: 0.4355 - val_loss: 0.4248 - val_output_loss: 0.4102 - val_aux_output_loss: 0.5566\n",
      "Epoch 25/30\n",
      "363/363 [==============================] - 1s 1ms/step - loss: 0.3709 - output_loss: 0.3601 - aux_output_loss: 0.4684 - val_loss: 0.8856 - val_output_loss: 0.9228 - val_aux_output_loss: 0.5505\n",
      "Epoch 26/30\n",
      "363/363 [==============================] - 1s 1ms/step - loss: 0.4314 - output_loss: 0.4301 - aux_output_loss: 0.4428 - val_loss: 0.5253 - val_output_loss: 0.5247 - val_aux_output_loss: 0.5314\n",
      "Epoch 27/30\n",
      "363/363 [==============================] - 1s 1ms/step - loss: 0.3718 - output_loss: 0.3647 - aux_output_loss: 0.4363 - val_loss: 0.4878 - val_output_loss: 0.4821 - val_aux_output_loss: 0.5389\n",
      "Epoch 28/30\n",
      "363/363 [==============================] - 1s 1ms/step - loss: 0.3416 - output_loss: 0.3331 - aux_output_loss: 0.4180 - val_loss: 0.4024 - val_output_loss: 0.3911 - val_aux_output_loss: 0.5045\n",
      "Epoch 29/30\n",
      "363/363 [==============================] - 1s 1ms/step - loss: 0.3397 - output_loss: 0.3311 - aux_output_loss: 0.4169 - val_loss: 0.4094 - val_output_loss: 0.3976 - val_aux_output_loss: 0.5151\n",
      "Epoch 30/30\n",
      "363/363 [==============================] - 1s 1ms/step - loss: 0.3329 - output_loss: 0.3238 - aux_output_loss: 0.4143 - val_loss: 0.4046 - val_output_loss: 0.3931 - val_aux_output_loss: 0.5075\n"
     ]
    }
   ],
   "source": [
    "# 각 출력에 대한 레이블을 제공해야 한다. 여기서는 주 출력과 보조출력이 같은 것을 예측해야 하므로 동일한 레이블을 사용한다.\n",
    "\n",
    "history3 = model.fit(\n",
    "x = ([x_train_A, x_train_B]), y = ([y_train, y_train]), epochs= 30,\n",
    "    validation_data = ([x_valid_A, x_valid_B], [y_valid, y_valid])\n",
    ")"
   ]
  },
  {
   "cell_type": "code",
   "execution_count": 75,
   "metadata": {},
   "outputs": [
    {
     "data": {
      "image/png": "[encoded data removed]",
      "text/plain": [
       "<Figure size 1440x720 with 1 Axes>"
      ]
     },
     "metadata": {
      "needs_background": "light"
     },
     "output_type": "display_data"
    }
   ],
   "source": [
    "import matplotlib.pyplot as plt\n",
    "\n",
    "pd.DataFrame(history3.history).plot(figsize = (20,10))\n",
    "plt.grid(True)\n",
    "plt.show()"
   ]
  },
  {
   "cell_type": "code",
   "execution_count": 77,
   "metadata": {},
   "outputs": [
    {
     "name": "stdout",
     "output_type": "stream",
     "text": [
      "162/162 [==============================] - 0s 876us/step - loss: 3.1145 - output_loss: 2.9795 - aux_output_loss: 4.3294\n"
     ]
    }
   ],
   "source": [
    "#holdout에 대한 예측\n",
    "total_loss, main_loss, aux_loss = model.evaluate(\n",
    "    [x_test_A, x_test_B], [y_test, y_test]\n",
    ")"
   ]
  },
  {
   "cell_type": "code",
   "execution_count": 78,
   "metadata": {},
   "outputs": [
    {
     "name": "stdout",
     "output_type": "stream",
     "text": [
      "WARNING:tensorflow:5 out of the last 12 calls to <function Model.make_predict_function.<locals>.predict_function at 0x0000016533B26670> triggered tf.function retracing. Tracing is expensive and the excessive number of tracings could be due to (1) creating @tf.function repeatedly in a loop, (2) passing tensors with different shapes, (3) passing Python objects instead of tensors. For (1), please define your @tf.function outside of the loop. For (2), @tf.function has experimental_relax_shapes=True option that relaxes argument shapes that can avoid unnecessary retracing. For (3), please refer to https://www.tensorflow.org/guide/function#controlling_retracing and https://www.tensorflow.org/api_docs/python/tf/function for  more details.\n"
     ]
    }
   ],
   "source": [
    "y_pred_main, y_pred_aux = model.predict([x_new_A, x_new_B])"
   ]
  },
  {
   "cell_type": "markdown",
   "metadata": {},
   "source": [
    "함수형 API를 이용하면 상당히 유연한 모델을 구축할 수 있는 것으로 사료된다."
   ]
  },
  {
   "cell_type": "markdown",
   "metadata": {},
   "source": [
    "만약 여기에 분류 모형을 구축하려면? 당연히 output Dense에 활성화함수를 'softmax'나 'sigmoid'로 해주면 된다."
   ]
  },
  {
   "cell_type": "markdown",
   "metadata": {},
   "source": [
    "## 10.2.5 서브클래싱 API로 동적 모델 구축"
   ]
  },
  {
   "cell_type": "markdown",
   "metadata": {},
   "source": [
    "함수형 API는 먼저 연결방식을 정의한 뒤에 모델에 데이터를 주입하여 훈련이나 추론을 시작하게 된다. \n",
    "\n",
    "반복문을 포함하고 다양한 크기를 다루어야 하며, 조건문을 가지기 위해서는 동적인 구조가 필요! 이때는 서브클래싱 API를 사용해야 한다."
   ]
  },
  {
   "cell_type": "code",
   "execution_count": null,
   "metadata": {},
   "outputs": [],
   "source": [
    "class WideAndDeepModel(keras.Model) : \n",
    "    \n",
    "    def __init__(self, units, activation, **kwargs) : \n",
    "        \n",
    "        super().__init(**kwargs) #class에서 넣은 keras.Model을 상속받는다! 이 함수는 초기화를 재사용한다는 것이다!\n",
    "        \n",
    "        self.hidden1 = keras.layers.Dense(units, activation = activation) #hidden1 레이어 초기화\n",
    "        self.hidden2 = keras.layers.Dense(units, activation = activation) #hidden2 레이어 초기화\n",
    "        self.main_output = keras.layers.Dense(1) #main_output 초기화\n",
    "        self.aux_output = keras.layers.Dense(1) #보조 output 초기화\n",
    "        \n",
    "    def call(self, inputs) : \n",
    "        input_A, input_B = inputs\n",
    "        hidden1 = self.hidden(input_B)\n",
    "        hidden2 = self.hidden2(hidden1)\n",
    "        concat = keras.layers.concatenate([input_A, hidden2])\n",
    "        main_output = self.main_output(concat)\n",
    "        aux_output = self.aux_output(hidden2)\n",
    "        return main_output, aux_output\n",
    "    \n",
    "model = WideAndDeepModel()"
   ]
  },
  {
   "cell_type": "markdown",
   "metadata": {},
   "source": [
    "위 코드를 실행하지는 않겠지만 해당 방식으로 유연하게 만들 수 있다는 것 같다.\n",
    "\n",
    "call 메서드의 input 매개변수를 활용할 수 있다!\n",
    "\n",
    "call 메서드 내에서 for문 if문 등 다양한 연산을 활용할 수 있다는 것이 강점!"
   ]
  },
  {
   "cell_type": "markdown",
   "metadata": {},
   "source": [
    "## 10.2.6 모델 저장과 복원"
   ]
  },
  {
   "cell_type": "code",
   "execution_count": 86,
   "metadata": {},
   "outputs": [
    {
     "name": "stdout",
     "output_type": "stream",
     "text": [
      "Epoch 1/20\n",
      "363/363 [==============================] - 1s 2ms/step - loss: 1.2704 - output_loss: 1.1289 - aux_output_loss: 2.5438 - val_loss: 0.7758 - val_output_loss: 0.7001 - val_aux_output_loss: 1.4570\n",
      "Epoch 2/20\n",
      "363/363 [==============================] - 0s 1ms/step - loss: 0.6713 - output_loss: 0.6010 - aux_output_loss: 1.3037 - val_loss: 0.5963 - val_output_loss: 0.5252 - val_aux_output_loss: 1.2369\n",
      "Epoch 3/20\n",
      "363/363 [==============================] - 1s 1ms/step - loss: 0.5283 - output_loss: 0.4660 - aux_output_loss: 1.0892 - val_loss: 0.5540 - val_output_loss: 0.4981 - val_aux_output_loss: 1.0566\n",
      "Epoch 4/20\n",
      "363/363 [==============================] - 1s 1ms/step - loss: 0.4956 - output_loss: 0.4442 - aux_output_loss: 0.9581 - val_loss: 0.5358 - val_output_loss: 0.4908 - val_aux_output_loss: 0.9415\n",
      "Epoch 5/20\n",
      "363/363 [==============================] - 1s 1ms/step - loss: 0.4960 - output_loss: 0.4561 - aux_output_loss: 0.8551 - val_loss: 0.5122 - val_output_loss: 0.4747 - val_aux_output_loss: 0.8496\n",
      "Epoch 6/20\n",
      "363/363 [==============================] - 1s 1ms/step - loss: 0.4793 - output_loss: 0.4442 - aux_output_loss: 0.7950 - val_loss: 0.5169 - val_output_loss: 0.4847 - val_aux_output_loss: 0.8072\n",
      "Epoch 7/20\n",
      "363/363 [==============================] - 1s 1ms/step - loss: 0.5207 - output_loss: 0.4953 - aux_output_loss: 0.7497 - val_loss: 0.4907 - val_output_loss: 0.4613 - val_aux_output_loss: 0.7554\n",
      "Epoch 8/20\n",
      "363/363 [==============================] - 1s 1ms/step - loss: 0.4463 - output_loss: 0.4179 - aux_output_loss: 0.7017 - val_loss: 0.4861 - val_output_loss: 0.4597 - val_aux_output_loss: 0.7235\n",
      "Epoch 9/20\n",
      "363/363 [==============================] - 1s 1ms/step - loss: 0.4401 - output_loss: 0.4147 - aux_output_loss: 0.6693 - val_loss: 0.4767 - val_output_loss: 0.4523 - val_aux_output_loss: 0.6970\n",
      "Epoch 10/20\n",
      "363/363 [==============================] - 0s 1ms/step - loss: 0.4289 - output_loss: 0.4037 - aux_output_loss: 0.6555 - val_loss: 0.4785 - val_output_loss: 0.4558 - val_aux_output_loss: 0.6829\n",
      "Epoch 11/20\n",
      "363/363 [==============================] - 1s 1ms/step - loss: 0.4144 - output_loss: 0.3916 - aux_output_loss: 0.6200 - val_loss: 0.4627 - val_output_loss: 0.4404 - val_aux_output_loss: 0.6637\n",
      "Epoch 12/20\n",
      "363/363 [==============================] - 1s 1ms/step - loss: 0.4118 - output_loss: 0.3897 - aux_output_loss: 0.6110 - val_loss: 0.4589 - val_output_loss: 0.4375 - val_aux_output_loss: 0.6518\n",
      "Epoch 13/20\n",
      "363/363 [==============================] - 0s 1ms/step - loss: 0.4127 - output_loss: 0.3918 - aux_output_loss: 0.6012 - val_loss: 0.4577 - val_output_loss: 0.4371 - val_aux_output_loss: 0.6431\n",
      "Epoch 14/20\n",
      "363/363 [==============================] - 0s 1ms/step - loss: 0.3979 - output_loss: 0.3760 - aux_output_loss: 0.5949 - val_loss: 0.4581 - val_output_loss: 0.4377 - val_aux_output_loss: 0.6409\n",
      "Epoch 15/20\n",
      "363/363 [==============================] - 1s 1ms/step - loss: 0.3887 - output_loss: 0.3680 - aux_output_loss: 0.5747 - val_loss: 0.4513 - val_output_loss: 0.4313 - val_aux_output_loss: 0.6310\n",
      "Epoch 16/20\n",
      "363/363 [==============================] - 0s 1ms/step - loss: 0.3914 - output_loss: 0.3709 - aux_output_loss: 0.5762 - val_loss: 0.4797 - val_output_loss: 0.4614 - val_aux_output_loss: 0.6447\n",
      "Epoch 17/20\n",
      "363/363 [==============================] - 1s 1ms/step - loss: 0.3890 - output_loss: 0.3705 - aux_output_loss: 0.5547 - val_loss: 0.4470 - val_output_loss: 0.4278 - val_aux_output_loss: 0.6206\n",
      "Epoch 18/20\n",
      "363/363 [==============================] - 1s 1ms/step - loss: 0.3888 - output_loss: 0.3706 - aux_output_loss: 0.5523 - val_loss: 0.4616 - val_output_loss: 0.4431 - val_aux_output_loss: 0.6284\n",
      "Epoch 19/20\n",
      "363/363 [==============================] - 1s 1ms/step - loss: 0.3794 - output_loss: 0.3630 - aux_output_loss: 0.5266 - val_loss: 0.4449 - val_output_loss: 0.4276 - val_aux_output_loss: 0.6003\n",
      "Epoch 20/20\n",
      "363/363 [==============================] - 1s 1ms/step - loss: 0.3795 - output_loss: 0.3620 - aux_output_loss: 0.5367 - val_loss: 0.4487 - val_output_loss: 0.4317 - val_aux_output_loss: 0.6012\n"
     ]
    },
    {
     "data": {
      "text/plain": [
       "<tensorflow.python.keras.callbacks.History at 0x1653716c580>"
      ]
     },
     "execution_count": 86,
     "metadata": {},
     "output_type": "execute_result"
    }
   ],
   "source": [
    "#위에서 만들었던 2개의 input과 보조출력을 함께 출력하는 모델을 저장해보자\n",
    "#input층 만들기\n",
    "input_A = keras.layers.Input(shape = [5], name = 'wide_input')\n",
    "input_B = keras.layers.Input(shape = [6], name = 'deep_input')\n",
    "\n",
    "#Dense층 만들기\n",
    "hidden1 = keras.layers.Dense(30, activation = 'relu')(input_B)\n",
    "hidden2 = keras.layers.Dense(30, activation = 'relu')(hidden1) \n",
    "\n",
    "#concatenate층 만들기\n",
    "concat = keras.layers.Concatenate()([input_A, hidden2])\n",
    "\n",
    "#이전까지는 위와 동일\n",
    "output = keras.layers.Dense(1, name = 'output')(concat)\n",
    "aux_output = keras.layers.Dense(1, name = 'aux_output')(hidden2) #hidden2만 사용해서!\n",
    "\n",
    "#모형 구축 - output을 두개 넣어주면 된다.\n",
    "model3 = keras.Model(inputs = [input_A, input_B], outputs = [output, aux_output])\n",
    "\n",
    "#각 출력은 자신만의 손실함수가 필요 + 각 출력에 가중치를 다르게 할당할 수 있다\n",
    "model3.compile(loss = ['mse', 'mse'], loss_weights = [0.9, 0.1], optimizer = 'sgd')\n",
    "\n",
    "# 각 출력에 대한 레이블을 제공해야 한다. 여기서는 주 출력과 보조출력이 같은 것을 예측해야 하므로 동일한 레이블을 사용한다.\n",
    "model3.fit(\n",
    "x = ([x_train_A, x_train_B]), y = ([y_train, y_train]), epochs= 20,\n",
    "    validation_data = ([x_valid_A, x_valid_B], [y_valid, y_valid])\n",
    ")"
   ]
  },
  {
   "cell_type": "code",
   "execution_count": 87,
   "metadata": {},
   "outputs": [],
   "source": [
    "model3.save(\"my_keras_model.h5\")"
   ]
  },
  {
   "cell_type": "code",
   "execution_count": 88,
   "metadata": {},
   "outputs": [],
   "source": [
    "model = keras.models.load_model('my_keras_model.h5')"
   ]
  },
  {
   "cell_type": "markdown",
   "metadata": {},
   "source": [
    "## 10.2.7 콜백 사용하기"
   ]
  },
  {
   "cell_type": "code",
   "execution_count": 95,
   "metadata": {},
   "outputs": [
    {
     "name": "stdout",
     "output_type": "stream",
     "text": [
      "Epoch 1/100\n",
      "363/363 [==============================] - 1s 2ms/step - loss: 1.5600 - output_loss: 1.3806 - aux_output_loss: 3.1748 - val_loss: 0.6573 - val_output_loss: 0.5791 - val_aux_output_loss: 1.3608\n",
      "Epoch 2/100\n",
      "363/363 [==============================] - 0s 1ms/step - loss: 0.5981 - output_loss: 0.5231 - aux_output_loss: 1.2726 - val_loss: 0.5797 - val_output_loss: 0.5127 - val_aux_output_loss: 1.1828\n",
      "Epoch 3/100\n",
      "363/363 [==============================] - 1s 1ms/step - loss: 0.5434 - output_loss: 0.4807 - aux_output_loss: 1.1077 - val_loss: 0.5636 - val_output_loss: 0.5077 - val_aux_output_loss: 1.0668\n",
      "Epoch 4/100\n",
      "363/363 [==============================] - 1s 1ms/step - loss: 0.5134 - output_loss: 0.4614 - aux_output_loss: 0.9812 - val_loss: 0.7255 - val_output_loss: 0.6983 - val_aux_output_loss: 0.9704\n",
      "Epoch 5/100\n",
      "363/363 [==============================] - 1s 1ms/step - loss: 0.5558 - output_loss: 0.5194 - aux_output_loss: 0.8829 - val_loss: 0.4957 - val_output_loss: 0.4581 - val_aux_output_loss: 0.8345\n",
      "Epoch 6/100\n",
      "363/363 [==============================] - 1s 1ms/step - loss: 0.4473 - output_loss: 0.4132 - aux_output_loss: 0.7547 - val_loss: 0.4880 - val_output_loss: 0.4576 - val_aux_output_loss: 0.7612\n",
      "Epoch 7/100\n",
      "363/363 [==============================] - 1s 1ms/step - loss: 0.4533 - output_loss: 0.4213 - aux_output_loss: 0.7409 - val_loss: 0.5251 - val_output_loss: 0.5035 - val_aux_output_loss: 0.7191\n",
      "Epoch 8/100\n",
      "363/363 [==============================] - 1s 1ms/step - loss: 0.4270 - output_loss: 0.4004 - aux_output_loss: 0.6667 - val_loss: 0.4686 - val_output_loss: 0.4448 - val_aux_output_loss: 0.6821\n",
      "Epoch 9/100\n",
      "363/363 [==============================] - 1s 1ms/step - loss: 0.4143 - output_loss: 0.3905 - aux_output_loss: 0.6276 - val_loss: 0.4769 - val_output_loss: 0.4561 - val_aux_output_loss: 0.6636\n",
      "Epoch 10/100\n",
      "363/363 [==============================] - 1s 1ms/step - loss: 0.4030 - output_loss: 0.3803 - aux_output_loss: 0.6066 - val_loss: 0.4497 - val_output_loss: 0.4284 - val_aux_output_loss: 0.6418\n",
      "Epoch 11/100\n",
      "363/363 [==============================] - 1s 1ms/step - loss: 0.4059 - output_loss: 0.3869 - aux_output_loss: 0.5768 - val_loss: 0.4885 - val_output_loss: 0.4641 - val_aux_output_loss: 0.7080\n",
      "Epoch 12/100\n",
      "363/363 [==============================] - 1s 1ms/step - loss: 0.4197 - output_loss: 0.3989 - aux_output_loss: 0.6078 - val_loss: 0.4450 - val_output_loss: 0.4251 - val_aux_output_loss: 0.6242\n",
      "Epoch 13/100\n",
      "363/363 [==============================] - 1s 1ms/step - loss: 0.3848 - output_loss: 0.3683 - aux_output_loss: 0.5330 - val_loss: 0.4854 - val_output_loss: 0.4720 - val_aux_output_loss: 0.6064\n",
      "Epoch 14/100\n",
      "363/363 [==============================] - 1s 1ms/step - loss: 0.3801 - output_loss: 0.3627 - aux_output_loss: 0.5368 - val_loss: 0.4387 - val_output_loss: 0.4204 - val_aux_output_loss: 0.6036\n",
      "Epoch 15/100\n",
      "363/363 [==============================] - 1s 1ms/step - loss: 0.3709 - output_loss: 0.3554 - aux_output_loss: 0.5099 - val_loss: 0.4243 - val_output_loss: 0.4069 - val_aux_output_loss: 0.5811\n",
      "Epoch 16/100\n",
      "363/363 [==============================] - 1s 1ms/step - loss: 0.3788 - output_loss: 0.3646 - aux_output_loss: 0.5063 - val_loss: 0.4482 - val_output_loss: 0.4342 - val_aux_output_loss: 0.5746\n",
      "Epoch 17/100\n",
      "363/363 [==============================] - 1s 1ms/step - loss: 0.3734 - output_loss: 0.3587 - aux_output_loss: 0.5051 - val_loss: 0.4307 - val_output_loss: 0.4154 - val_aux_output_loss: 0.5687\n",
      "Epoch 18/100\n",
      "363/363 [==============================] - 1s 1ms/step - loss: 0.3602 - output_loss: 0.3468 - aux_output_loss: 0.4815 - val_loss: 0.4273 - val_output_loss: 0.4120 - val_aux_output_loss: 0.5649\n",
      "Epoch 19/100\n",
      "363/363 [==============================] - 1s 1ms/step - loss: 0.3618 - output_loss: 0.3478 - aux_output_loss: 0.4877 - val_loss: 0.4155 - val_output_loss: 0.4004 - val_aux_output_loss: 0.5518\n",
      "Epoch 20/100\n",
      "363/363 [==============================] - 1s 1ms/step - loss: 0.3397 - output_loss: 0.3267 - aux_output_loss: 0.4563 - val_loss: 0.4168 - val_output_loss: 0.4016 - val_aux_output_loss: 0.5533\n",
      "Epoch 21/100\n",
      "363/363 [==============================] - 1s 1ms/step - loss: 0.3374 - output_loss: 0.3252 - aux_output_loss: 0.4472 - val_loss: 0.4247 - val_output_loss: 0.4100 - val_aux_output_loss: 0.5569\n",
      "Epoch 22/100\n",
      "363/363 [==============================] - 1s 1ms/step - loss: 0.3522 - output_loss: 0.3412 - aux_output_loss: 0.4509 - val_loss: 0.4172 - val_output_loss: 0.4024 - val_aux_output_loss: 0.5505\n",
      "Epoch 23/100\n",
      "363/363 [==============================] - 1s 1ms/step - loss: 0.3398 - output_loss: 0.3269 - aux_output_loss: 0.4565 - val_loss: 0.4114 - val_output_loss: 0.3973 - val_aux_output_loss: 0.5386\n",
      "Epoch 24/100\n",
      "363/363 [==============================] - 1s 1ms/step - loss: 0.3470 - output_loss: 0.3349 - aux_output_loss: 0.4557 - val_loss: 0.4081 - val_output_loss: 0.3937 - val_aux_output_loss: 0.5369\n",
      "Epoch 25/100\n",
      "363/363 [==============================] - 0s 1ms/step - loss: 0.3451 - output_loss: 0.3326 - aux_output_loss: 0.4581 - val_loss: 0.4012 - val_output_loss: 0.3872 - val_aux_output_loss: 0.5277\n",
      "Epoch 26/100\n",
      "363/363 [==============================] - 1s 1ms/step - loss: 0.3472 - output_loss: 0.3365 - aux_output_loss: 0.4433 - val_loss: 0.4239 - val_output_loss: 0.4095 - val_aux_output_loss: 0.5526\n",
      "Epoch 27/100\n",
      "363/363 [==============================] - 1s 1ms/step - loss: 0.3397 - output_loss: 0.3286 - aux_output_loss: 0.4402 - val_loss: 0.4181 - val_output_loss: 0.4046 - val_aux_output_loss: 0.5399\n",
      "Epoch 28/100\n",
      "363/363 [==============================] - 1s 1ms/step - loss: 0.3367 - output_loss: 0.3253 - aux_output_loss: 0.4385 - val_loss: 0.4094 - val_output_loss: 0.3957 - val_aux_output_loss: 0.5325\n",
      "Epoch 29/100\n",
      "363/363 [==============================] - 1s 1ms/step - loss: 0.3375 - output_loss: 0.3278 - aux_output_loss: 0.4244 - val_loss: 0.4222 - val_output_loss: 0.4089 - val_aux_output_loss: 0.5419\n",
      "Epoch 30/100\n",
      "363/363 [==============================] - 1s 1ms/step - loss: 0.3329 - output_loss: 0.3223 - aux_output_loss: 0.4281 - val_loss: 0.4348 - val_output_loss: 0.4233 - val_aux_output_loss: 0.5376\n",
      "Epoch 31/100\n",
      "363/363 [==============================] - 0s 1ms/step - loss: 0.3400 - output_loss: 0.3303 - aux_output_loss: 0.4271 - val_loss: 0.4192 - val_output_loss: 0.4067 - val_aux_output_loss: 0.5308\n",
      "Epoch 32/100\n",
      "363/363 [==============================] - 1s 1ms/step - loss: 0.3430 - output_loss: 0.3336 - aux_output_loss: 0.4271 - val_loss: 0.3984 - val_output_loss: 0.3852 - val_aux_output_loss: 0.5172\n",
      "Epoch 33/100\n",
      "363/363 [==============================] - 1s 1ms/step - loss: 0.3274 - output_loss: 0.3174 - aux_output_loss: 0.4177 - val_loss: 0.4044 - val_output_loss: 0.3916 - val_aux_output_loss: 0.5197\n",
      "Epoch 34/100\n",
      "363/363 [==============================] - 1s 1ms/step - loss: 0.3288 - output_loss: 0.3188 - aux_output_loss: 0.4183 - val_loss: 0.4232 - val_output_loss: 0.4111 - val_aux_output_loss: 0.5326\n",
      "Epoch 35/100\n",
      "363/363 [==============================] - 1s 1ms/step - loss: 0.3223 - output_loss: 0.3132 - aux_output_loss: 0.4046 - val_loss: 0.4268 - val_output_loss: 0.4150 - val_aux_output_loss: 0.5328\n",
      "Epoch 36/100\n",
      "363/363 [==============================] - 0s 1ms/step - loss: 0.3353 - output_loss: 0.3257 - aux_output_loss: 0.4226 - val_loss: 0.4086 - val_output_loss: 0.3963 - val_aux_output_loss: 0.5195\n",
      "Epoch 37/100\n",
      "363/363 [==============================] - 1s 1ms/step - loss: 0.3208 - output_loss: 0.3121 - aux_output_loss: 0.3991 - val_loss: 0.4103 - val_output_loss: 0.3974 - val_aux_output_loss: 0.5260\n",
      "Epoch 38/100\n",
      "363/363 [==============================] - 0s 1ms/step - loss: 0.3240 - output_loss: 0.3142 - aux_output_loss: 0.4122 - val_loss: 0.4196 - val_output_loss: 0.4070 - val_aux_output_loss: 0.5334\n",
      "Epoch 39/100\n",
      "363/363 [==============================] - 1s 1ms/step - loss: 0.3137 - output_loss: 0.3043 - aux_output_loss: 0.3986 - val_loss: 0.4151 - val_output_loss: 0.4025 - val_aux_output_loss: 0.5281\n",
      "Epoch 40/100\n",
      "363/363 [==============================] - 1s 1ms/step - loss: 0.3256 - output_loss: 0.3170 - aux_output_loss: 0.4030 - val_loss: 0.4250 - val_output_loss: 0.4138 - val_aux_output_loss: 0.5258\n",
      "Epoch 41/100\n",
      "363/363 [==============================] - 1s 1ms/step - loss: 0.3220 - output_loss: 0.3135 - aux_output_loss: 0.3987 - val_loss: 0.4301 - val_output_loss: 0.4180 - val_aux_output_loss: 0.5390\n",
      "Epoch 42/100\n",
      "363/363 [==============================] - 1s 1ms/step - loss: 0.3295 - output_loss: 0.3204 - aux_output_loss: 0.4116 - val_loss: 0.4344 - val_output_loss: 0.4226 - val_aux_output_loss: 0.5411\n"
     ]
    }
   ],
   "source": [
    "#모델 만들고 컴파일 \n",
    "input_A = keras.layers.Input(shape = [5], name = 'wide_input')\n",
    "input_B = keras.layers.Input(shape = [6], name = 'deep_input')\n",
    "hidden1 = keras.layers.Dense(30, activation = 'relu')(input_B)\n",
    "hidden2 = keras.layers.Dense(30, activation = 'relu')(hidden1) \n",
    "concat = keras.layers.Concatenate()([input_A, hidden2])\n",
    "output = keras.layers.Dense(1, name = 'output')(concat)\n",
    "aux_output = keras.layers.Dense(1, name = 'aux_output')(hidden2) #hidden2만 사용해서!\n",
    "model3 = keras.Model(inputs = [input_A, input_B], outputs = [output, aux_output])\n",
    "model3.compile(loss = ['mse', 'mse'], loss_weights = [0.9, 0.1], optimizer = 'sgd')\n",
    "\n",
    "#call백으로 긴 학습시간에 갑자기 꺼지는 것을 우려하지 않아도 된다.\n",
    "checkpoint_cb = keras.callbacks.ModelCheckpoint('my_keras_model.h5', save_best_only = True) #최상의 검증세트에서만 모델을 저장함\n",
    "early_stopping_cb = keras.callbacks.EarlyStopping(patience = 10, restore_best_weights=True) #성이 향상되지 않으면 훈련을 멈추고 저장한다!\n",
    "                                                  \n",
    "                                                  \n",
    "#훈련을 진행!\n",
    "history = model3.fit(\n",
    "x = ([x_train_A, x_train_B]), y = ([y_train, y_train]), epochs= 100,\n",
    "    validation_data = ([x_valid_A, x_valid_B], [y_valid, y_valid]), callbacks = [checkpoint_cb, early_stopping_cb])"
   ]
  },
  {
   "cell_type": "code",
   "execution_count": 96,
   "metadata": {},
   "outputs": [],
   "source": [
    "model_good = keras.models.load_model('my_keras_model.h5')"
   ]
  },
  {
   "cell_type": "markdown",
   "metadata": {},
   "source": [
    "## 10.2.8 텐서보드를 활용해 시각화"
   ]
  },
  {
   "cell_type": "code",
   "execution_count": 100,
   "metadata": {},
   "outputs": [],
   "source": [
    "#텐서보드 로그를 위해 사용할 루트 로그 디렉터리를 정의\n",
    "import os\n",
    "root_logdir = os.path.join(os.curdir, 'my_logs')\n",
    "\n",
    "#실행할때마다 다른 서브디렉터리 경로를 생성하는 함수도 생성 \n",
    "def get_run_log_dir() : \n",
    "    import time\n",
    "    run_id = time.strftime('run_%Y_%m_%d-%H_%M_%S')\n",
    "    return os.path.join(root_logdir, run_id)\n",
    "\n",
    "run_logdir = get_run_log_dir()"
   ]
  },
  {
   "cell_type": "code",
   "execution_count": 101,
   "metadata": {},
   "outputs": [
    {
     "name": "stdout",
     "output_type": "stream",
     "text": [
      "Epoch 1/100\n",
      "363/363 [==============================] - 2s 3ms/step - loss: 1.3133 - output_loss: 1.1073 - aux_output_loss: 3.1674 - val_loss: 0.7192 - val_output_loss: 0.6609 - val_aux_output_loss: 1.2439\n",
      "Epoch 2/100\n",
      "363/363 [==============================] - 0s 1ms/step - loss: 0.6401 - output_loss: 0.5823 - aux_output_loss: 1.1610 - val_loss: 0.6392 - val_output_loss: 0.5879 - val_aux_output_loss: 1.1008\n",
      "Epoch 3/100\n",
      "363/363 [==============================] - 0s 1ms/step - loss: 0.5378 - output_loss: 0.4908 - aux_output_loss: 0.9610 - val_loss: 0.5203 - val_output_loss: 0.4819 - val_aux_output_loss: 0.8664\n",
      "Epoch 4/100\n",
      "363/363 [==============================] - 1s 1ms/step - loss: 0.4913 - output_loss: 0.4567 - aux_output_loss: 0.8020 - val_loss: 0.5052 - val_output_loss: 0.4753 - val_aux_output_loss: 0.7742\n",
      "Epoch 5/100\n",
      "363/363 [==============================] - 1s 1ms/step - loss: 0.4624 - output_loss: 0.4324 - aux_output_loss: 0.7323 - val_loss: 0.4920 - val_output_loss: 0.4662 - val_aux_output_loss: 0.7238\n",
      "Epoch 6/100\n",
      "363/363 [==============================] - 1s 2ms/step - loss: 0.4406 - output_loss: 0.4150 - aux_output_loss: 0.6707 - val_loss: 0.5994 - val_output_loss: 0.5760 - val_aux_output_loss: 0.8103\n",
      "Epoch 7/100\n",
      "363/363 [==============================] - 1s 1ms/step - loss: 0.4524 - output_loss: 0.4295 - aux_output_loss: 0.6584 - val_loss: 0.4745 - val_output_loss: 0.4524 - val_aux_output_loss: 0.6731\n",
      "Epoch 8/100\n",
      "363/363 [==============================] - 1s 1ms/step - loss: 0.4358 - output_loss: 0.4140 - aux_output_loss: 0.6316 - val_loss: 0.4817 - val_output_loss: 0.4618 - val_aux_output_loss: 0.6616\n",
      "Epoch 9/100\n",
      "363/363 [==============================] - 1s 1ms/step - loss: 0.4249 - output_loss: 0.4055 - aux_output_loss: 0.5989 - val_loss: 0.4650 - val_output_loss: 0.4442 - val_aux_output_loss: 0.6514\n",
      "Epoch 10/100\n",
      "363/363 [==============================] - 1s 1ms/step - loss: 0.4081 - output_loss: 0.3875 - aux_output_loss: 0.5934 - val_loss: 0.4667 - val_output_loss: 0.4475 - val_aux_output_loss: 0.6394\n",
      "Epoch 11/100\n",
      "363/363 [==============================] - 1s 1ms/step - loss: 0.4000 - output_loss: 0.3793 - aux_output_loss: 0.5862 - val_loss: 0.4581 - val_output_loss: 0.4382 - val_aux_output_loss: 0.6369\n",
      "Epoch 12/100\n",
      "363/363 [==============================] - 1s 2ms/step - loss: 0.4011 - output_loss: 0.3837 - aux_output_loss: 0.5571 - val_loss: 0.5554 - val_output_loss: 0.5467 - val_aux_output_loss: 0.6338\n",
      "Epoch 13/100\n",
      "363/363 [==============================] - 1s 1ms/step - loss: 0.5543 - output_loss: 0.5494 - aux_output_loss: 0.5984 - val_loss: 0.4563 - val_output_loss: 0.4375 - val_aux_output_loss: 0.6259\n",
      "Epoch 14/100\n",
      "363/363 [==============================] - 0s 1ms/step - loss: 0.3920 - output_loss: 0.3750 - aux_output_loss: 0.5455 - val_loss: 0.5413 - val_output_loss: 0.5335 - val_aux_output_loss: 0.6119\n",
      "Epoch 15/100\n",
      "363/363 [==============================] - 0s 1ms/step - loss: 0.3937 - output_loss: 0.3768 - aux_output_loss: 0.5458 - val_loss: 0.4468 - val_output_loss: 0.4291 - val_aux_output_loss: 0.6062\n",
      "Epoch 16/100\n",
      "363/363 [==============================] - 1s 1ms/step - loss: 0.3898 - output_loss: 0.3726 - aux_output_loss: 0.5446 - val_loss: 0.4369 - val_output_loss: 0.4191 - val_aux_output_loss: 0.5964\n",
      "Epoch 17/100\n",
      "363/363 [==============================] - 1s 1ms/step - loss: 0.4246 - output_loss: 0.4112 - aux_output_loss: 0.5452 - val_loss: 0.4481 - val_output_loss: 0.4313 - val_aux_output_loss: 0.6000\n",
      "Epoch 18/100\n",
      "363/363 [==============================] - 1s 1ms/step - loss: 0.4195 - output_loss: 0.4050 - aux_output_loss: 0.5503 - val_loss: 0.4401 - val_output_loss: 0.4241 - val_aux_output_loss: 0.5835\n",
      "Epoch 19/100\n",
      "363/363 [==============================] - 1s 1ms/step - loss: 0.3615 - output_loss: 0.3472 - aux_output_loss: 0.4904 - val_loss: 0.4342 - val_output_loss: 0.4191 - val_aux_output_loss: 0.5703\n",
      "Epoch 20/100\n",
      "363/363 [==============================] - 1s 1ms/step - loss: 0.3644 - output_loss: 0.3506 - aux_output_loss: 0.4889 - val_loss: 0.4517 - val_output_loss: 0.4387 - val_aux_output_loss: 0.5688\n",
      "Epoch 21/100\n",
      "363/363 [==============================] - 1s 1ms/step - loss: 0.3736 - output_loss: 0.3594 - aux_output_loss: 0.5015 - val_loss: 0.4244 - val_output_loss: 0.4093 - val_aux_output_loss: 0.5604\n",
      "Epoch 22/100\n",
      "363/363 [==============================] - 1s 1ms/step - loss: 0.3553 - output_loss: 0.3409 - aux_output_loss: 0.4853 - val_loss: 0.4459 - val_output_loss: 0.4344 - val_aux_output_loss: 0.5499\n",
      "Epoch 23/100\n",
      "363/363 [==============================] - 1s 1ms/step - loss: 0.3527 - output_loss: 0.3409 - aux_output_loss: 0.4596 - val_loss: 0.4256 - val_output_loss: 0.4118 - val_aux_output_loss: 0.5497\n",
      "Epoch 24/100\n",
      "363/363 [==============================] - 1s 1ms/step - loss: 0.3595 - output_loss: 0.3474 - aux_output_loss: 0.4687 - val_loss: 0.4201 - val_output_loss: 0.4076 - val_aux_output_loss: 0.5325\n",
      "Epoch 25/100\n",
      "363/363 [==============================] - 1s 1ms/step - loss: 0.3613 - output_loss: 0.3487 - aux_output_loss: 0.4750 - val_loss: 0.4211 - val_output_loss: 0.4080 - val_aux_output_loss: 0.5394\n",
      "Epoch 26/100\n",
      "363/363 [==============================] - 1s 1ms/step - loss: 0.3549 - output_loss: 0.3432 - aux_output_loss: 0.4602 - val_loss: 0.4433 - val_output_loss: 0.4311 - val_aux_output_loss: 0.5539\n",
      "Epoch 27/100\n",
      "363/363 [==============================] - 1s 1ms/step - loss: 0.3505 - output_loss: 0.3380 - aux_output_loss: 0.4628 - val_loss: 0.4040 - val_output_loss: 0.3896 - val_aux_output_loss: 0.5343\n",
      "Epoch 28/100\n",
      "363/363 [==============================] - 1s 1ms/step - loss: 0.3390 - output_loss: 0.3268 - aux_output_loss: 0.4490 - val_loss: 0.4179 - val_output_loss: 0.4052 - val_aux_output_loss: 0.5319\n",
      "Epoch 29/100\n",
      "363/363 [==============================] - 1s 1ms/step - loss: 0.3404 - output_loss: 0.3282 - aux_output_loss: 0.4494 - val_loss: 0.4107 - val_output_loss: 0.3977 - val_aux_output_loss: 0.5274\n",
      "Epoch 30/100\n",
      "363/363 [==============================] - 1s 1ms/step - loss: 0.3335 - output_loss: 0.3216 - aux_output_loss: 0.4398 - val_loss: 0.4190 - val_output_loss: 0.4057 - val_aux_output_loss: 0.5386\n",
      "Epoch 31/100\n",
      "363/363 [==============================] - 0s 1ms/step - loss: 0.3489 - output_loss: 0.3370 - aux_output_loss: 0.4556 - val_loss: 0.4223 - val_output_loss: 0.4100 - val_aux_output_loss: 0.5328\n",
      "Epoch 32/100\n",
      "363/363 [==============================] - 1s 1ms/step - loss: 0.3326 - output_loss: 0.3215 - aux_output_loss: 0.4333 - val_loss: 0.4116 - val_output_loss: 0.3985 - val_aux_output_loss: 0.5292\n",
      "Epoch 33/100\n",
      "363/363 [==============================] - 1s 1ms/step - loss: 0.3323 - output_loss: 0.3215 - aux_output_loss: 0.4295 - val_loss: 0.4241 - val_output_loss: 0.4113 - val_aux_output_loss: 0.5391\n",
      "Epoch 34/100\n",
      "363/363 [==============================] - 1s 1ms/step - loss: 0.3575 - output_loss: 0.3479 - aux_output_loss: 0.4438 - val_loss: 0.4227 - val_output_loss: 0.4099 - val_aux_output_loss: 0.5381\n",
      "Epoch 35/100\n",
      "363/363 [==============================] - 1s 1ms/step - loss: 0.3351 - output_loss: 0.3233 - aux_output_loss: 0.4408 - val_loss: 0.4228 - val_output_loss: 0.4112 - val_aux_output_loss: 0.5267\n",
      "Epoch 36/100\n",
      "363/363 [==============================] - 1s 1ms/step - loss: 0.3444 - output_loss: 0.3336 - aux_output_loss: 0.4415 - val_loss: 0.4038 - val_output_loss: 0.3919 - val_aux_output_loss: 0.5113\n",
      "Epoch 37/100\n",
      "363/363 [==============================] - 1s 1ms/step - loss: 0.3344 - output_loss: 0.3235 - aux_output_loss: 0.4323 - val_loss: 0.4098 - val_output_loss: 0.3984 - val_aux_output_loss: 0.5120\n",
      "Epoch 38/100\n",
      "363/363 [==============================] - 1s 1ms/step - loss: 0.3415 - output_loss: 0.3322 - aux_output_loss: 0.4256 - val_loss: 0.4229 - val_output_loss: 0.4115 - val_aux_output_loss: 0.5253\n",
      "Epoch 39/100\n",
      "363/363 [==============================] - 1s 1ms/step - loss: 0.3412 - output_loss: 0.3312 - aux_output_loss: 0.4314 - val_loss: 0.4078 - val_output_loss: 0.3962 - val_aux_output_loss: 0.5125\n",
      "Epoch 40/100\n",
      "363/363 [==============================] - 1s 1ms/step - loss: 0.3302 - output_loss: 0.3195 - aux_output_loss: 0.4269 - val_loss: 0.4034 - val_output_loss: 0.3915 - val_aux_output_loss: 0.5100\n",
      "Epoch 41/100\n",
      "363/363 [==============================] - 1s 1ms/step - loss: 0.3371 - output_loss: 0.3272 - aux_output_loss: 0.4263 - val_loss: 0.4131 - val_output_loss: 0.4019 - val_aux_output_loss: 0.5144\n",
      "Epoch 42/100\n",
      "363/363 [==============================] - 1s 1ms/step - loss: 0.3342 - output_loss: 0.3239 - aux_output_loss: 0.4271 - val_loss: 0.4189 - val_output_loss: 0.4079 - val_aux_output_loss: 0.5175\n",
      "Epoch 43/100\n",
      "363/363 [==============================] - 1s 1ms/step - loss: 0.3137 - output_loss: 0.3041 - aux_output_loss: 0.3993 - val_loss: 0.4242 - val_output_loss: 0.4133 - val_aux_output_loss: 0.5228\n",
      "Epoch 44/100\n",
      "363/363 [==============================] - 1s 1ms/step - loss: 0.3269 - output_loss: 0.3175 - aux_output_loss: 0.4119 - val_loss: 0.4307 - val_output_loss: 0.4204 - val_aux_output_loss: 0.5228\n",
      "Epoch 45/100\n",
      "363/363 [==============================] - 1s 1ms/step - loss: 0.3291 - output_loss: 0.3200 - aux_output_loss: 0.4107 - val_loss: 0.4252 - val_output_loss: 0.4133 - val_aux_output_loss: 0.5319\n",
      "Epoch 46/100\n",
      "363/363 [==============================] - 1s 1ms/step - loss: 0.3234 - output_loss: 0.3142 - aux_output_loss: 0.4057 - val_loss: 0.4048 - val_output_loss: 0.3938 - val_aux_output_loss: 0.5039\n",
      "Epoch 47/100\n",
      "363/363 [==============================] - 1s 1ms/step - loss: 0.3312 - output_loss: 0.3220 - aux_output_loss: 0.4134 - val_loss: 0.4050 - val_output_loss: 0.3937 - val_aux_output_loss: 0.5068\n",
      "Epoch 48/100\n",
      "363/363 [==============================] - 1s 1ms/step - loss: 0.3310 - output_loss: 0.3219 - aux_output_loss: 0.4128 - val_loss: 0.4128 - val_output_loss: 0.4016 - val_aux_output_loss: 0.5131\n",
      "Epoch 49/100\n",
      "363/363 [==============================] - 1s 1ms/step - loss: 0.3103 - output_loss: 0.3018 - aux_output_loss: 0.3865 - val_loss: 0.3971 - val_output_loss: 0.3858 - val_aux_output_loss: 0.4985\n",
      "Epoch 50/100\n",
      "363/363 [==============================] - 1s 1ms/step - loss: 0.3213 - output_loss: 0.3126 - aux_output_loss: 0.3996 - val_loss: 0.4085 - val_output_loss: 0.3976 - val_aux_output_loss: 0.5070\n",
      "Epoch 51/100\n",
      "363/363 [==============================] - 1s 1ms/step - loss: 0.3097 - output_loss: 0.3007 - aux_output_loss: 0.3902 - val_loss: 0.4147 - val_output_loss: 0.4037 - val_aux_output_loss: 0.5139\n",
      "Epoch 52/100\n",
      "363/363 [==============================] - 0s 1ms/step - loss: 0.3143 - output_loss: 0.3060 - aux_output_loss: 0.3888 - val_loss: 0.3983 - val_output_loss: 0.3870 - val_aux_output_loss: 0.4997\n",
      "Epoch 53/100\n",
      "363/363 [==============================] - 1s 1ms/step - loss: 0.3328 - output_loss: 0.3240 - aux_output_loss: 0.4113 - val_loss: 0.3992 - val_output_loss: 0.3882 - val_aux_output_loss: 0.4984\n",
      "Epoch 54/100\n",
      "363/363 [==============================] - 1s 1ms/step - loss: 0.3203 - output_loss: 0.3119 - aux_output_loss: 0.3956 - val_loss: 0.4025 - val_output_loss: 0.3917 - val_aux_output_loss: 0.4996\n",
      "Epoch 55/100\n",
      "363/363 [==============================] - 1s 1ms/step - loss: 0.3193 - output_loss: 0.3106 - aux_output_loss: 0.3973 - val_loss: 0.4104 - val_output_loss: 0.3997 - val_aux_output_loss: 0.5070\n",
      "Epoch 56/100\n",
      "363/363 [==============================] - 1s 1ms/step - loss: 0.3211 - output_loss: 0.3126 - aux_output_loss: 0.3972 - val_loss: 0.4040 - val_output_loss: 0.3926 - val_aux_output_loss: 0.5063\n",
      "Epoch 57/100\n",
      "363/363 [==============================] - 1s 1ms/step - loss: 0.3225 - output_loss: 0.3148 - aux_output_loss: 0.3913 - val_loss: 0.4107 - val_output_loss: 0.4002 - val_aux_output_loss: 0.5054\n",
      "Epoch 58/100\n",
      "363/363 [==============================] - 1s 1ms/step - loss: 0.3169 - output_loss: 0.3093 - aux_output_loss: 0.3849 - val_loss: 0.4539 - val_output_loss: 0.4447 - val_aux_output_loss: 0.5375\n",
      "Epoch 59/100\n",
      "363/363 [==============================] - 1s 1ms/step - loss: 0.3164 - output_loss: 0.3081 - aux_output_loss: 0.3913 - val_loss: 0.4403 - val_output_loss: 0.4306 - val_aux_output_loss: 0.5273\n",
      "Epoch 60/100\n",
      "363/363 [==============================] - 1s 1ms/step - loss: 0.3207 - output_loss: 0.3119 - aux_output_loss: 0.4000 - val_loss: 0.4242 - val_output_loss: 0.4136 - val_aux_output_loss: 0.5194\n",
      "Epoch 61/100\n",
      "363/363 [==============================] - 1s 1ms/step - loss: 0.3248 - output_loss: 0.3162 - aux_output_loss: 0.4022 - val_loss: 0.4181 - val_output_loss: 0.4077 - val_aux_output_loss: 0.5118\n",
      "Epoch 62/100\n",
      "363/363 [==============================] - 1s 1ms/step - loss: 0.3245 - output_loss: 0.3167 - aux_output_loss: 0.3950 - val_loss: 0.4074 - val_output_loss: 0.3967 - val_aux_output_loss: 0.5033\n",
      "Epoch 63/100\n",
      "363/363 [==============================] - 1s 1ms/step - loss: 0.3140 - output_loss: 0.3056 - aux_output_loss: 0.3898 - val_loss: 0.4206 - val_output_loss: 0.4098 - val_aux_output_loss: 0.5180\n",
      "Epoch 64/100\n",
      "363/363 [==============================] - 1s 1ms/step - loss: 0.3026 - output_loss: 0.2946 - aux_output_loss: 0.3746 - val_loss: 0.4255 - val_output_loss: 0.4160 - val_aux_output_loss: 0.5112\n",
      "Epoch 65/100\n",
      "363/363 [==============================] - 1s 1ms/step - loss: 0.3255 - output_loss: 0.3178 - aux_output_loss: 0.3943 - val_loss: 0.3955 - val_output_loss: 0.3850 - val_aux_output_loss: 0.4905\n",
      "Epoch 66/100\n",
      "363/363 [==============================] - 1s 1ms/step - loss: 0.3135 - output_loss: 0.3051 - aux_output_loss: 0.3885 - val_loss: 0.4101 - val_output_loss: 0.3996 - val_aux_output_loss: 0.5051\n",
      "Epoch 67/100\n",
      "363/363 [==============================] - 1s 1ms/step - loss: 0.3165 - output_loss: 0.3084 - aux_output_loss: 0.3887 - val_loss: 0.3977 - val_output_loss: 0.3874 - val_aux_output_loss: 0.4903\n",
      "Epoch 68/100\n",
      "363/363 [==============================] - 1s 1ms/step - loss: 0.3187 - output_loss: 0.3119 - aux_output_loss: 0.3800 - val_loss: 0.4379 - val_output_loss: 0.4269 - val_aux_output_loss: 0.5368\n",
      "Epoch 69/100\n",
      "363/363 [==============================] - 1s 1ms/step - loss: 0.3090 - output_loss: 0.3016 - aux_output_loss: 0.3759 - val_loss: 0.3951 - val_output_loss: 0.3851 - val_aux_output_loss: 0.4851\n",
      "Epoch 70/100\n",
      "363/363 [==============================] - 1s 1ms/step - loss: 0.3009 - output_loss: 0.2930 - aux_output_loss: 0.3724 - val_loss: 0.4073 - val_output_loss: 0.3963 - val_aux_output_loss: 0.5068\n",
      "Epoch 71/100\n",
      "363/363 [==============================] - 1s 1ms/step - loss: 0.3115 - output_loss: 0.3038 - aux_output_loss: 0.3805 - val_loss: 0.4174 - val_output_loss: 0.4073 - val_aux_output_loss: 0.5082\n",
      "Epoch 72/100\n",
      "363/363 [==============================] - 1s 1ms/step - loss: 0.3023 - output_loss: 0.2948 - aux_output_loss: 0.3697 - val_loss: 0.3888 - val_output_loss: 0.3779 - val_aux_output_loss: 0.4868\n",
      "Epoch 73/100\n",
      "363/363 [==============================] - 1s 1ms/step - loss: 0.3008 - output_loss: 0.2937 - aux_output_loss: 0.3648 - val_loss: 0.3928 - val_output_loss: 0.3824 - val_aux_output_loss: 0.4863\n",
      "Epoch 74/100\n",
      "363/363 [==============================] - 1s 1ms/step - loss: 0.3092 - output_loss: 0.3021 - aux_output_loss: 0.3727 - val_loss: 0.4141 - val_output_loss: 0.4038 - val_aux_output_loss: 0.5063\n",
      "Epoch 75/100\n",
      "363/363 [==============================] - 1s 1ms/step - loss: 0.3009 - output_loss: 0.2937 - aux_output_loss: 0.3663 - val_loss: 0.4017 - val_output_loss: 0.3921 - val_aux_output_loss: 0.4883\n",
      "Epoch 76/100\n",
      "363/363 [==============================] - 1s 1ms/step - loss: 0.3116 - output_loss: 0.3044 - aux_output_loss: 0.3771 - val_loss: 0.3944 - val_output_loss: 0.3845 - val_aux_output_loss: 0.4831\n",
      "Epoch 77/100\n",
      "363/363 [==============================] - 1s 1ms/step - loss: 0.2972 - output_loss: 0.2902 - aux_output_loss: 0.3604 - val_loss: 0.4009 - val_output_loss: 0.3907 - val_aux_output_loss: 0.4927\n",
      "Epoch 78/100\n",
      "363/363 [==============================] - 1s 1ms/step - loss: 0.2976 - output_loss: 0.2893 - aux_output_loss: 0.3725 - val_loss: 0.4043 - val_output_loss: 0.3949 - val_aux_output_loss: 0.4894\n",
      "Epoch 79/100\n",
      "363/363 [==============================] - 1s 1ms/step - loss: 0.2984 - output_loss: 0.2910 - aux_output_loss: 0.3653 - val_loss: 0.4385 - val_output_loss: 0.4286 - val_aux_output_loss: 0.5276\n",
      "Epoch 80/100\n",
      "363/363 [==============================] - 1s 1ms/step - loss: 0.3200 - output_loss: 0.3130 - aux_output_loss: 0.3830 - val_loss: 0.4050 - val_output_loss: 0.3951 - val_aux_output_loss: 0.4934\n",
      "Epoch 81/100\n",
      "363/363 [==============================] - 1s 1ms/step - loss: 0.3016 - output_loss: 0.2939 - aux_output_loss: 0.3708 - val_loss: 0.4151 - val_output_loss: 0.4051 - val_aux_output_loss: 0.5050\n",
      "Epoch 82/100\n",
      "363/363 [==============================] - 1s 1ms/step - loss: 0.2969 - output_loss: 0.2895 - aux_output_loss: 0.3634 - val_loss: 0.4045 - val_output_loss: 0.3944 - val_aux_output_loss: 0.4960\n",
      "Epoch 83/100\n",
      "363/363 [==============================] - 1s 1ms/step - loss: 0.2888 - output_loss: 0.2814 - aux_output_loss: 0.3550 - val_loss: 0.4228 - val_output_loss: 0.4126 - val_aux_output_loss: 0.5150\n",
      "Epoch 84/100\n",
      "363/363 [==============================] - 1s 1ms/step - loss: 0.3107 - output_loss: 0.3041 - aux_output_loss: 0.3697 - val_loss: 0.4088 - val_output_loss: 0.3991 - val_aux_output_loss: 0.4956\n",
      "Epoch 85/100\n",
      "363/363 [==============================] - 1s 1ms/step - loss: 0.3094 - output_loss: 0.3022 - aux_output_loss: 0.3737 - val_loss: 0.4312 - val_output_loss: 0.4215 - val_aux_output_loss: 0.5187\n",
      "Epoch 86/100\n",
      "363/363 [==============================] - 1s 1ms/step - loss: 0.3071 - output_loss: 0.3000 - aux_output_loss: 0.3709 - val_loss: 0.3988 - val_output_loss: 0.3888 - val_aux_output_loss: 0.4883\n",
      "Epoch 87/100\n",
      "363/363 [==============================] - 1s 1ms/step - loss: 0.3187 - output_loss: 0.3125 - aux_output_loss: 0.3736 - val_loss: 0.3888 - val_output_loss: 0.3784 - val_aux_output_loss: 0.4823\n",
      "Epoch 88/100\n",
      "363/363 [==============================] - 1s 1ms/step - loss: 0.2957 - output_loss: 0.2887 - aux_output_loss: 0.3591 - val_loss: 0.4155 - val_output_loss: 0.4058 - val_aux_output_loss: 0.5023\n",
      "Epoch 89/100\n",
      "363/363 [==============================] - 1s 1ms/step - loss: 0.3082 - output_loss: 0.3017 - aux_output_loss: 0.3668 - val_loss: 0.3996 - val_output_loss: 0.3896 - val_aux_output_loss: 0.4896\n",
      "Epoch 90/100\n",
      "363/363 [==============================] - 1s 1ms/step - loss: 0.3092 - output_loss: 0.3017 - aux_output_loss: 0.3768 - val_loss: 0.4041 - val_output_loss: 0.3941 - val_aux_output_loss: 0.4941\n",
      "Epoch 91/100\n",
      "363/363 [==============================] - 1s 1ms/step - loss: 0.2998 - output_loss: 0.2931 - aux_output_loss: 0.3601 - val_loss: 0.3957 - val_output_loss: 0.3862 - val_aux_output_loss: 0.4817\n",
      "Epoch 92/100\n",
      "363/363 [==============================] - 1s 1ms/step - loss: 0.3005 - output_loss: 0.2934 - aux_output_loss: 0.3640 - val_loss: 0.4115 - val_output_loss: 0.4011 - val_aux_output_loss: 0.5050\n",
      "Epoch 93/100\n",
      "363/363 [==============================] - 1s 1ms/step - loss: 0.3130 - output_loss: 0.3059 - aux_output_loss: 0.3767 - val_loss: 0.4119 - val_output_loss: 0.4029 - val_aux_output_loss: 0.4935\n",
      "Epoch 94/100\n",
      "363/363 [==============================] - 1s 1ms/step - loss: 0.2946 - output_loss: 0.2882 - aux_output_loss: 0.3518 - val_loss: 0.3925 - val_output_loss: 0.3827 - val_aux_output_loss: 0.4811\n",
      "Epoch 95/100\n",
      "363/363 [==============================] - 1s 1ms/step - loss: 0.2927 - output_loss: 0.2860 - aux_output_loss: 0.3526 - val_loss: 0.4213 - val_output_loss: 0.4114 - val_aux_output_loss: 0.5104\n",
      "Epoch 96/100\n",
      "363/363 [==============================] - 1s 1ms/step - loss: 0.2964 - output_loss: 0.2891 - aux_output_loss: 0.3625 - val_loss: 0.4194 - val_output_loss: 0.4098 - val_aux_output_loss: 0.5051\n",
      "Epoch 97/100\n",
      "363/363 [==============================] - 1s 1ms/step - loss: 0.2906 - output_loss: 0.2838 - aux_output_loss: 0.3516 - val_loss: 0.4001 - val_output_loss: 0.3908 - val_aux_output_loss: 0.4835\n",
      "Epoch 98/100\n",
      "363/363 [==============================] - 1s 1ms/step - loss: 0.3033 - output_loss: 0.2965 - aux_output_loss: 0.3641 - val_loss: 0.3911 - val_output_loss: 0.3814 - val_aux_output_loss: 0.4782\n",
      "Epoch 99/100\n",
      "363/363 [==============================] - 1s 1ms/step - loss: 0.2824 - output_loss: 0.2757 - aux_output_loss: 0.3428 - val_loss: 0.4025 - val_output_loss: 0.3925 - val_aux_output_loss: 0.4925\n",
      "Epoch 100/100\n",
      "363/363 [==============================] - 1s 1ms/step - loss: 0.2847 - output_loss: 0.2794 - aux_output_loss: 0.3331 - val_loss: 0.4143 - val_output_loss: 0.4045 - val_aux_output_loss: 0.5028\n"
     ]
    }
   ],
   "source": [
    "#모델 만들고 컴파일 \n",
    "input_A = keras.layers.Input(shape = [5], name = 'wide_input')\n",
    "input_B = keras.layers.Input(shape = [6], name = 'deep_input')\n",
    "hidden1 = keras.layers.Dense(30, activation = 'relu')(input_B)\n",
    "hidden2 = keras.layers.Dense(30, activation = 'relu')(hidden1) \n",
    "concat = keras.layers.Concatenate()([input_A, hidden2])\n",
    "output = keras.layers.Dense(1, name = 'output')(concat)\n",
    "aux_output = keras.layers.Dense(1, name = 'aux_output')(hidden2) #hidden2만 사용해서!\n",
    "model3 = keras.Model(inputs = [input_A, input_B], outputs = [output, aux_output])\n",
    "model3.compile(loss = ['mse', 'mse'], loss_weights = [0.9, 0.1], optimizer = 'sgd')\n",
    "\n",
    "#텐서보드 시행\n",
    "\n",
    "tensorboard_cb = keras.callbacks.TensorBoard(run_logdir)\n",
    "history = model3.fit(\n",
    "x = ([x_train_A, x_train_B]), y = ([y_train, y_train]), epochs= 100,\n",
    "    validation_data = ([x_valid_A, x_valid_B], [y_valid, y_valid]), callbacks = [tensorboard_cb])"
   ]
  },
  {
   "cell_type": "code",
   "execution_count": null,
   "metadata": {},
   "outputs": [],
   "source": []
  }
 ],
 "metadata": {
  "kernelspec": {
   "display_name": "Python 3",
   "language": "python",
   "name": "python3"
  },
  "language_info": {
   "codemirror_mode": {
    "name": "ipython",
    "version": 3
   },
   "file_extension": ".py",
   "mimetype": "text/x-python",
   "name": "python",
   "nbconvert_exporter": "python",
   "pygments_lexer": "ipython3",
   "version": "3.8.5"
  }
 },
 "nbformat": 4,
 "nbformat_minor": 4
}
